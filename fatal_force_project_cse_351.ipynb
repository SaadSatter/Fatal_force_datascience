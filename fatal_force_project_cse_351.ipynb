{
 "cells": [
  {
   "cell_type": "code",
   "execution_count": 1,
   "metadata": {
    "collapsed": true,
    "pycharm": {
     "name": "#%%\n"
    }
   },
   "outputs": [],
   "source": [
    "import itertools\n",
    "import pandas as pd\n",
    "import random\n",
    "import sklearn\n",
    "from sklearn.model_selection import train_test_split\n",
    "import datetime\n",
    "from sklearn import metrics\n",
    "from sklearn.linear_model import LinearRegression\n",
    "from sklearn.linear_model import LogisticRegression\n",
    "import matplotlib.pyplot as plt\n",
    "import numpy as np\n",
    "import seaborn as sb"
   ]
  },
  {
   "cell_type": "code",
   "execution_count": 2,
   "outputs": [
    {
     "name": "stdout",
     "output_type": "stream",
     "text": [
      "<class 'pandas.core.frame.DataFrame'>\n",
      "RangeIndex: 507 entries, 0 to 506\n",
      "Data columns (total 14 columns):\n",
      " #   Column                   Non-Null Count  Dtype  \n",
      "---  ------                   --------------  -----  \n",
      " 0   id                       507 non-null    int64  \n",
      " 1   name                     507 non-null    object \n",
      " 2   date                     507 non-null    object \n",
      " 3   manner_of_death          507 non-null    object \n",
      " 4   armed                    504 non-null    object \n",
      " 5   age                      467 non-null    float64\n",
      " 6   gender                   507 non-null    object \n",
      " 7   race                     403 non-null    object \n",
      " 8   city                     507 non-null    object \n",
      " 9   state                    507 non-null    object \n",
      " 10  signs_of_mental_illness  507 non-null    bool   \n",
      " 11  threat_level             507 non-null    object \n",
      " 12  flee                     469 non-null    object \n",
      " 13  body_camera              507 non-null    bool   \n",
      "dtypes: bool(2), float64(1), int64(1), object(10)\n",
      "memory usage: 48.6+ KB\n"
     ]
    },
    {
     "data": {
      "text/plain": "        id                   name      date   manner_of_death       armed  \\\n0        3             Tim Elliot  02/01/15              shot         gun   \n1        4       Lewis Lee Lembke  02/01/15              shot         gun   \n2        5     John Paul Quintero  03/01/15  shot and Tasered     unarmed   \n3        8        Matthew Hoffman  04/01/15              shot  toy weapon   \n4        9      Michael Rodriguez  04/01/15              shot    nail gun   \n...    ...                    ...       ...               ...         ...   \n2023  2256   Jeremy Lopez-Robledo  24/01/17              shot       knife   \n2024  2257    Jonathan David Sper  24/01/17              shot     unarmed   \n2025  2258  Jose Efrain Rodriguez  24/01/17  shot and Tasered         gun   \n2026  2259          Ramon Milanez  24/01/17              shot         gun   \n2027  2260       Micah R. Lambert  25/01/17              shot     vehicle   \n\n       age gender race             city state  signs_of_mental_illness  \\\n0     53.0      M    A          Shelton    WA                     True   \n1     47.0      M    W            Aloha    OR                    False   \n2     23.0      M    H          Wichita    KS                    False   \n3     32.0      M    W    San Francisco    CA                     True   \n4     39.0      M    H            Evans    CO                    False   \n...    ...    ...  ...              ...   ...                      ...   \n2023  29.0      M    H       Las Cruces    NM                     True   \n2024  30.0      M    W  Algoma Township    MI                     True   \n2025  18.0      M    H   Lancaster City    PA                    False   \n2026  32.0      M    H             Kuna    ID                    False   \n2027  37.0      M    W           Oxford    AL                     True   \n\n     threat_level         flee  body_camera  \n0          attack  Not fleeing        False  \n1          attack  Not fleeing        False  \n2           other  Not fleeing        False  \n3          attack  Not fleeing        False  \n4          attack  Not fleeing        False  \n...           ...          ...          ...  \n2023       attack         Foot         True  \n2024       attack  Not fleeing        False  \n2025       attack  Not fleeing        False  \n2026       attack          Car        False  \n2027       attack          Car        False  \n\n[2028 rows x 14 columns]",
      "text/html": "<div>\n<style scoped>\n    .dataframe tbody tr th:only-of-type {\n        vertical-align: middle;\n    }\n\n    .dataframe tbody tr th {\n        vertical-align: top;\n    }\n\n    .dataframe thead th {\n        text-align: right;\n    }\n</style>\n<table border=\"1\" class=\"dataframe\">\n  <thead>\n    <tr style=\"text-align: right;\">\n      <th></th>\n      <th>id</th>\n      <th>name</th>\n      <th>date</th>\n      <th>manner_of_death</th>\n      <th>armed</th>\n      <th>age</th>\n      <th>gender</th>\n      <th>race</th>\n      <th>city</th>\n      <th>state</th>\n      <th>signs_of_mental_illness</th>\n      <th>threat_level</th>\n      <th>flee</th>\n      <th>body_camera</th>\n    </tr>\n  </thead>\n  <tbody>\n    <tr>\n      <th>0</th>\n      <td>3</td>\n      <td>Tim Elliot</td>\n      <td>02/01/15</td>\n      <td>shot</td>\n      <td>gun</td>\n      <td>53.0</td>\n      <td>M</td>\n      <td>A</td>\n      <td>Shelton</td>\n      <td>WA</td>\n      <td>True</td>\n      <td>attack</td>\n      <td>Not fleeing</td>\n      <td>False</td>\n    </tr>\n    <tr>\n      <th>1</th>\n      <td>4</td>\n      <td>Lewis Lee Lembke</td>\n      <td>02/01/15</td>\n      <td>shot</td>\n      <td>gun</td>\n      <td>47.0</td>\n      <td>M</td>\n      <td>W</td>\n      <td>Aloha</td>\n      <td>OR</td>\n      <td>False</td>\n      <td>attack</td>\n      <td>Not fleeing</td>\n      <td>False</td>\n    </tr>\n    <tr>\n      <th>2</th>\n      <td>5</td>\n      <td>John Paul Quintero</td>\n      <td>03/01/15</td>\n      <td>shot and Tasered</td>\n      <td>unarmed</td>\n      <td>23.0</td>\n      <td>M</td>\n      <td>H</td>\n      <td>Wichita</td>\n      <td>KS</td>\n      <td>False</td>\n      <td>other</td>\n      <td>Not fleeing</td>\n      <td>False</td>\n    </tr>\n    <tr>\n      <th>3</th>\n      <td>8</td>\n      <td>Matthew Hoffman</td>\n      <td>04/01/15</td>\n      <td>shot</td>\n      <td>toy weapon</td>\n      <td>32.0</td>\n      <td>M</td>\n      <td>W</td>\n      <td>San Francisco</td>\n      <td>CA</td>\n      <td>True</td>\n      <td>attack</td>\n      <td>Not fleeing</td>\n      <td>False</td>\n    </tr>\n    <tr>\n      <th>4</th>\n      <td>9</td>\n      <td>Michael Rodriguez</td>\n      <td>04/01/15</td>\n      <td>shot</td>\n      <td>nail gun</td>\n      <td>39.0</td>\n      <td>M</td>\n      <td>H</td>\n      <td>Evans</td>\n      <td>CO</td>\n      <td>False</td>\n      <td>attack</td>\n      <td>Not fleeing</td>\n      <td>False</td>\n    </tr>\n    <tr>\n      <th>...</th>\n      <td>...</td>\n      <td>...</td>\n      <td>...</td>\n      <td>...</td>\n      <td>...</td>\n      <td>...</td>\n      <td>...</td>\n      <td>...</td>\n      <td>...</td>\n      <td>...</td>\n      <td>...</td>\n      <td>...</td>\n      <td>...</td>\n      <td>...</td>\n    </tr>\n    <tr>\n      <th>2023</th>\n      <td>2256</td>\n      <td>Jeremy Lopez-Robledo</td>\n      <td>24/01/17</td>\n      <td>shot</td>\n      <td>knife</td>\n      <td>29.0</td>\n      <td>M</td>\n      <td>H</td>\n      <td>Las Cruces</td>\n      <td>NM</td>\n      <td>True</td>\n      <td>attack</td>\n      <td>Foot</td>\n      <td>True</td>\n    </tr>\n    <tr>\n      <th>2024</th>\n      <td>2257</td>\n      <td>Jonathan David Sper</td>\n      <td>24/01/17</td>\n      <td>shot</td>\n      <td>unarmed</td>\n      <td>30.0</td>\n      <td>M</td>\n      <td>W</td>\n      <td>Algoma Township</td>\n      <td>MI</td>\n      <td>True</td>\n      <td>attack</td>\n      <td>Not fleeing</td>\n      <td>False</td>\n    </tr>\n    <tr>\n      <th>2025</th>\n      <td>2258</td>\n      <td>Jose Efrain Rodriguez</td>\n      <td>24/01/17</td>\n      <td>shot and Tasered</td>\n      <td>gun</td>\n      <td>18.0</td>\n      <td>M</td>\n      <td>H</td>\n      <td>Lancaster City</td>\n      <td>PA</td>\n      <td>False</td>\n      <td>attack</td>\n      <td>Not fleeing</td>\n      <td>False</td>\n    </tr>\n    <tr>\n      <th>2026</th>\n      <td>2259</td>\n      <td>Ramon Milanez</td>\n      <td>24/01/17</td>\n      <td>shot</td>\n      <td>gun</td>\n      <td>32.0</td>\n      <td>M</td>\n      <td>H</td>\n      <td>Kuna</td>\n      <td>ID</td>\n      <td>False</td>\n      <td>attack</td>\n      <td>Car</td>\n      <td>False</td>\n    </tr>\n    <tr>\n      <th>2027</th>\n      <td>2260</td>\n      <td>Micah R. Lambert</td>\n      <td>25/01/17</td>\n      <td>shot</td>\n      <td>vehicle</td>\n      <td>37.0</td>\n      <td>M</td>\n      <td>W</td>\n      <td>Oxford</td>\n      <td>AL</td>\n      <td>True</td>\n      <td>attack</td>\n      <td>Car</td>\n      <td>False</td>\n    </tr>\n  </tbody>\n</table>\n<p>2028 rows × 14 columns</p>\n</div>"
     },
     "execution_count": 2,
     "metadata": {},
     "output_type": "execute_result"
    }
   ],
   "source": [
    "\"\"\"\n",
    "Our first goal is going to be data cleaning and munging. We want to take care of all null values first.\n",
    "\"\"\"\n",
    "\n",
    "df_training = pd.read_csv('police_killings_train.csv')\n",
    "df_test = pd.read_csv('police_killings_test.csv')\n",
    "df_race_city = pd.read_csv('share_race_by_city.csv')\n",
    "df_income = pd.read_csv('income.csv', encoding=\"ANSI\")\n",
    "df_poverty = pd.read_csv('poverty.csv', encoding=\"ANSI\")\n",
    "df_education = pd.read_csv('education.csv', encoding=\"ANSI\")\n",
    "\n",
    "df_test.info()\n",
    "df_training"
   ],
   "metadata": {
    "collapsed": false,
    "pycharm": {
     "name": "#%%\n"
    }
   }
  },
  {
   "cell_type": "code",
   "execution_count": 3,
   "outputs": [
    {
     "name": "stderr",
     "output_type": "stream",
     "text": [
      "C:\\Users\\long9\\AppData\\Local\\Temp\\ipykernel_25132\\529504731.py:5: FutureWarning: The frame.append method is deprecated and will be removed from pandas in a future version. Use pandas.concat instead.\n",
      "  df_total = df_training.append(df_test, ignore_index=True)\n"
     ]
    },
    {
     "data": {
      "text/plain": "        id                name      date   manner_of_death       armed   age  \\\n0        3          Tim Elliot  02/01/15              shot         gun  53.0   \n1        4    Lewis Lee Lembke  02/01/15              shot         gun  47.0   \n2        5  John Paul Quintero  03/01/15  shot and Tasered     unarmed  23.0   \n3        8     Matthew Hoffman  04/01/15              shot  toy weapon  32.0   \n4        9   Michael Rodriguez  04/01/15              shot    nail gun  39.0   \n...    ...                 ...       ...               ...         ...   ...   \n2530  2822    Rodney E. Jacobs  28/07/17              shot         gun  31.0   \n2531  2813               TK TK  28/07/17              shot     vehicle   NaN   \n2532  2818  Dennis W. Robinson  29/07/17              shot         gun  48.0   \n2533  2817       Isaiah Tucker  31/07/17              shot     vehicle  28.0   \n2534  2815        Dwayne Jeune  31/07/17              shot       knife  32.0   \n\n     gender race           city state  signs_of_mental_illness threat_level  \\\n0         M    A        Shelton    WA                     True       attack   \n1         M    W          Aloha    OR                    False       attack   \n2         M    H        Wichita    KS                    False        other   \n3         M    W  San Francisco    CA                     True       attack   \n4         M    H          Evans    CO                    False       attack   \n...     ...  ...            ...   ...                      ...          ...   \n2530      M  NaN    Kansas City    MO                    False       attack   \n2531      M  NaN    Albuquerque    NM                    False       attack   \n2532      M  NaN          Melba    ID                    False       attack   \n2533      M    B        Oshkosh    WI                    False       attack   \n2534      M    B       Brooklyn    NY                     True       attack   \n\n             flee  body_camera  \n0     Not fleeing        False  \n1     Not fleeing        False  \n2     Not fleeing        False  \n3     Not fleeing        False  \n4     Not fleeing        False  \n...           ...          ...  \n2530  Not fleeing        False  \n2531          Car        False  \n2532          Car        False  \n2533          Car         True  \n2534  Not fleeing        False  \n\n[2535 rows x 14 columns]",
      "text/html": "<div>\n<style scoped>\n    .dataframe tbody tr th:only-of-type {\n        vertical-align: middle;\n    }\n\n    .dataframe tbody tr th {\n        vertical-align: top;\n    }\n\n    .dataframe thead th {\n        text-align: right;\n    }\n</style>\n<table border=\"1\" class=\"dataframe\">\n  <thead>\n    <tr style=\"text-align: right;\">\n      <th></th>\n      <th>id</th>\n      <th>name</th>\n      <th>date</th>\n      <th>manner_of_death</th>\n      <th>armed</th>\n      <th>age</th>\n      <th>gender</th>\n      <th>race</th>\n      <th>city</th>\n      <th>state</th>\n      <th>signs_of_mental_illness</th>\n      <th>threat_level</th>\n      <th>flee</th>\n      <th>body_camera</th>\n    </tr>\n  </thead>\n  <tbody>\n    <tr>\n      <th>0</th>\n      <td>3</td>\n      <td>Tim Elliot</td>\n      <td>02/01/15</td>\n      <td>shot</td>\n      <td>gun</td>\n      <td>53.0</td>\n      <td>M</td>\n      <td>A</td>\n      <td>Shelton</td>\n      <td>WA</td>\n      <td>True</td>\n      <td>attack</td>\n      <td>Not fleeing</td>\n      <td>False</td>\n    </tr>\n    <tr>\n      <th>1</th>\n      <td>4</td>\n      <td>Lewis Lee Lembke</td>\n      <td>02/01/15</td>\n      <td>shot</td>\n      <td>gun</td>\n      <td>47.0</td>\n      <td>M</td>\n      <td>W</td>\n      <td>Aloha</td>\n      <td>OR</td>\n      <td>False</td>\n      <td>attack</td>\n      <td>Not fleeing</td>\n      <td>False</td>\n    </tr>\n    <tr>\n      <th>2</th>\n      <td>5</td>\n      <td>John Paul Quintero</td>\n      <td>03/01/15</td>\n      <td>shot and Tasered</td>\n      <td>unarmed</td>\n      <td>23.0</td>\n      <td>M</td>\n      <td>H</td>\n      <td>Wichita</td>\n      <td>KS</td>\n      <td>False</td>\n      <td>other</td>\n      <td>Not fleeing</td>\n      <td>False</td>\n    </tr>\n    <tr>\n      <th>3</th>\n      <td>8</td>\n      <td>Matthew Hoffman</td>\n      <td>04/01/15</td>\n      <td>shot</td>\n      <td>toy weapon</td>\n      <td>32.0</td>\n      <td>M</td>\n      <td>W</td>\n      <td>San Francisco</td>\n      <td>CA</td>\n      <td>True</td>\n      <td>attack</td>\n      <td>Not fleeing</td>\n      <td>False</td>\n    </tr>\n    <tr>\n      <th>4</th>\n      <td>9</td>\n      <td>Michael Rodriguez</td>\n      <td>04/01/15</td>\n      <td>shot</td>\n      <td>nail gun</td>\n      <td>39.0</td>\n      <td>M</td>\n      <td>H</td>\n      <td>Evans</td>\n      <td>CO</td>\n      <td>False</td>\n      <td>attack</td>\n      <td>Not fleeing</td>\n      <td>False</td>\n    </tr>\n    <tr>\n      <th>...</th>\n      <td>...</td>\n      <td>...</td>\n      <td>...</td>\n      <td>...</td>\n      <td>...</td>\n      <td>...</td>\n      <td>...</td>\n      <td>...</td>\n      <td>...</td>\n      <td>...</td>\n      <td>...</td>\n      <td>...</td>\n      <td>...</td>\n      <td>...</td>\n    </tr>\n    <tr>\n      <th>2530</th>\n      <td>2822</td>\n      <td>Rodney E. Jacobs</td>\n      <td>28/07/17</td>\n      <td>shot</td>\n      <td>gun</td>\n      <td>31.0</td>\n      <td>M</td>\n      <td>NaN</td>\n      <td>Kansas City</td>\n      <td>MO</td>\n      <td>False</td>\n      <td>attack</td>\n      <td>Not fleeing</td>\n      <td>False</td>\n    </tr>\n    <tr>\n      <th>2531</th>\n      <td>2813</td>\n      <td>TK TK</td>\n      <td>28/07/17</td>\n      <td>shot</td>\n      <td>vehicle</td>\n      <td>NaN</td>\n      <td>M</td>\n      <td>NaN</td>\n      <td>Albuquerque</td>\n      <td>NM</td>\n      <td>False</td>\n      <td>attack</td>\n      <td>Car</td>\n      <td>False</td>\n    </tr>\n    <tr>\n      <th>2532</th>\n      <td>2818</td>\n      <td>Dennis W. Robinson</td>\n      <td>29/07/17</td>\n      <td>shot</td>\n      <td>gun</td>\n      <td>48.0</td>\n      <td>M</td>\n      <td>NaN</td>\n      <td>Melba</td>\n      <td>ID</td>\n      <td>False</td>\n      <td>attack</td>\n      <td>Car</td>\n      <td>False</td>\n    </tr>\n    <tr>\n      <th>2533</th>\n      <td>2817</td>\n      <td>Isaiah Tucker</td>\n      <td>31/07/17</td>\n      <td>shot</td>\n      <td>vehicle</td>\n      <td>28.0</td>\n      <td>M</td>\n      <td>B</td>\n      <td>Oshkosh</td>\n      <td>WI</td>\n      <td>False</td>\n      <td>attack</td>\n      <td>Car</td>\n      <td>True</td>\n    </tr>\n    <tr>\n      <th>2534</th>\n      <td>2815</td>\n      <td>Dwayne Jeune</td>\n      <td>31/07/17</td>\n      <td>shot</td>\n      <td>knife</td>\n      <td>32.0</td>\n      <td>M</td>\n      <td>B</td>\n      <td>Brooklyn</td>\n      <td>NY</td>\n      <td>True</td>\n      <td>attack</td>\n      <td>Not fleeing</td>\n      <td>False</td>\n    </tr>\n  </tbody>\n</table>\n<p>2535 rows × 14 columns</p>\n</div>"
     },
     "execution_count": 3,
     "metadata": {},
     "output_type": "execute_result"
    }
   ],
   "source": [
    "\"\"\"\n",
    "We will combine the training and tesing dataset to make cleaning easier and more accurate\n",
    "\"\"\"\n",
    "\n",
    "df_total = df_training.append(df_test, ignore_index=True)\n",
    "df_total"
   ],
   "metadata": {
    "collapsed": false,
    "pycharm": {
     "name": "#%%\n"
    }
   }
  },
  {
   "cell_type": "code",
   "execution_count": 4,
   "outputs": [
    {
     "name": "stdout",
     "output_type": "stream",
     "text": [
      "<class 'pandas.core.frame.DataFrame'>\n",
      "RangeIndex: 29322 entries, 0 to 29321\n",
      "Data columns (total 3 columns):\n",
      " #   Column           Non-Null Count  Dtype \n",
      "---  ------           --------------  ----- \n",
      " 0   Geographic Area  29322 non-null  object\n",
      " 1   City             29322 non-null  object\n",
      " 2   Median Income    29271 non-null  object\n",
      "dtypes: object(3)\n",
      "memory usage: 687.4+ KB\n",
      "None\n",
      "<class 'pandas.core.frame.DataFrame'>\n",
      "RangeIndex: 29268 entries, 0 to 29267\n",
      "Data columns (total 7 columns):\n",
      " #   Column                 Non-Null Count  Dtype \n",
      "---  ------                 --------------  ----- \n",
      " 0   Geographic area        29268 non-null  object\n",
      " 1   City                   29268 non-null  object\n",
      " 2   share_white            29268 non-null  object\n",
      " 3   share_black            29268 non-null  object\n",
      " 4   share_native_american  29268 non-null  object\n",
      " 5   share_asian            29268 non-null  object\n",
      " 6   share_hispanic         29268 non-null  object\n",
      "dtypes: object(7)\n",
      "memory usage: 1.6+ MB\n"
     ]
    }
   ],
   "source": [
    "print(df_income.info())\n",
    "df_race_city.info()"
   ],
   "metadata": {
    "collapsed": false,
    "pycharm": {
     "name": "#%%\n"
    }
   }
  },
  {
   "cell_type": "code",
   "execution_count": 5,
   "outputs": [
    {
     "name": "stdout",
     "output_type": "stream",
     "text": [
      "1534\n"
     ]
    },
    {
     "data": {
      "text/plain": "['OK-Norwood',\n 'MS-St. Martin',\n 'CA-Bellflower',\n 'AL-Killeen',\n 'OK-Schulter',\n 'RI-Tiverton',\n 'GA-Loganville',\n 'TX-San Antonio',\n 'FL-Vero Beach',\n 'CA-Saratoga',\n 'WA-Lynnwood',\n 'OK-Pryor',\n 'HI-Keaau',\n 'ME-Portland',\n 'HI-Kahuku',\n 'WA-Wapato',\n 'GA-East Point',\n 'NV-Pahrump',\n 'MI-Cato Township',\n 'VT-Burlington',\n 'GA-Stockbridge',\n 'AK-Big Lake',\n 'GA-Cartersville',\n 'SC-Hardeeville',\n 'CA-Orange',\n 'CO-Fort Collins',\n 'TX-Azle',\n 'TX-Reno',\n 'MN-St. Cloud',\n 'MO-Sullivan',\n 'NC-Salisbury',\n 'CO-Trinidad',\n 'FL-Pensacola',\n 'KY-Barbourville',\n 'VA-Hopewell',\n 'NY-Staten Island',\n 'CO-Colorado City',\n 'MA-Spencer',\n 'CA-Walnut Creek',\n 'WA-East Wenatchee',\n 'FL-Jacksonville',\n 'AL-Clay',\n 'SD-Mitchell',\n 'GA-Powder Springs',\n 'TX-Winnie',\n 'FL-Tallahassee',\n 'TX-Lake Jackson',\n 'RI-Pawtucket',\n 'AR-Dover',\n 'MO-Blue Springs',\n 'MN-Morris',\n 'NV-Reno',\n 'MO-Sedalia',\n 'MI-Holland Township',\n 'GA-Riverdale',\n 'NV-Boulder City',\n 'PA-Fort Littleton',\n 'GA-Tyrone',\n 'CT-Bolton',\n 'KY-Edmonton',\n 'CA-Madera',\n 'NH-Bath',\n 'WA-Thurston County',\n 'AL-Birmingham',\n 'GA-Cumming',\n 'CT-Thomaston',\n 'PA-Chester',\n 'AR-Jonesboro',\n 'WA-Fife',\n 'MD-Middle River',\n 'KY-Gunlock',\n 'VA-Herndon',\n 'MS-Petal',\n 'CA-Anderson',\n 'CA-Stockton',\n 'FL-Miami Beach',\n 'CA-Highland',\n 'OK-Muskogee',\n 'NM-Los Lunas',\n 'VA-Powhatan County',\n 'AR-Desha',\n 'CA-Carmichael',\n 'WI-Paddock Lake',\n 'CO-Park County',\n 'SC-Greenville',\n 'FL-Ocala',\n 'MA-Tewksbury',\n 'CA-Fresno',\n 'FL-Auburndale',\n 'GA-Barrow County',\n 'KS-Leavenworth',\n 'FL-Plant City',\n 'TX-Clute',\n 'OH-Hamilton',\n 'CO-Pueblo',\n 'MI-Southfield',\n 'UT-Eagle Mountain',\n 'TX-Beckville',\n 'FL-Crystal Springs',\n 'IL-Metropolis',\n 'MS-Biloxi',\n 'DE-Middletown',\n 'NJ-Toms River',\n 'TN-McLemoresville',\n 'TX-Corpus Christi',\n 'WA-Lacey',\n 'NC-Hudson',\n 'WY-Rawlins',\n 'CO-Greeley',\n 'VA-King George',\n 'CO-Brighton',\n 'MO-Jennings',\n 'CA-Encinitas',\n 'NM-Albuquerque',\n 'NY-Syracuse',\n 'MD-District Heights',\n 'OR-West Linn',\n 'MD-Landover',\n 'NC-Spring Lake',\n 'AZ-Golden Valley',\n 'PA-Allentown',\n 'AR-Austin',\n 'AL-Lawrence County',\n 'NJ-Maurice River',\n 'FL-Port St. Lucie',\n 'KY-White Plains',\n 'NM-Las Cruces',\n 'LA-Crowley',\n 'TX-Campbellton',\n 'CA-McKinneyville',\n 'AK-Houston',\n 'MS-Greenville',\n 'CA-Rancho Santa Margarita',\n 'NH-Newton',\n 'WI-Millston',\n 'TN-Lenoir City',\n 'FL-Hog Valley',\n 'CA-Cathedral City',\n 'CA-Studio City',\n 'NM-Artesia',\n 'AR-Bull Shoals',\n 'OR-Tualatin',\n 'NC-Shelby',\n 'OR-Wilderville',\n 'CT-Fairfield',\n 'MO-Franklin County',\n 'NC-Fayetteville',\n 'GA-Cobb County',\n 'LA-Chalmette',\n 'CA-Moreno Valley',\n 'WA-Everett',\n 'GA-Hampton',\n 'GA-Carrollton',\n 'TX-Midlothian',\n 'OH-Sylvania Township',\n 'SC-Seneca',\n 'PA-Huntingdon County',\n 'MT-Dillon',\n 'KS-Lehigh',\n 'CA-Emeryville',\n 'TX-Nocona',\n 'TN-Arlington',\n 'TN-Mt. Pleasant',\n 'IN-Goshen',\n 'FL-Titusville',\n 'AL-Washington County',\n 'NM-Hanover',\n 'WI-Lake Hallie',\n 'SD-Rosebud',\n 'ID-Boise',\n 'CA-Boulder Creek',\n 'TX-Seagoville',\n 'GA-Valdosta',\n 'AR-Manila',\n 'VA-Falls Church',\n 'PA-York County',\n 'CA-Jurupa Valley',\n 'AZ-Sun City',\n 'CO-Commerce City',\n 'VA-Portsmouth',\n 'AR-Perryville',\n 'MO-Poplar Bluff',\n 'HI-Hilo',\n 'UT-Logan Canyon',\n 'CO-Evans',\n 'CA-Santa Clara',\n 'OR-Gresham',\n 'GA-Lawrenceville',\n 'MT-Malta',\n 'OK-Logan County',\n 'SC-Lancaster',\n 'AL-Jackson County',\n 'NJ-Cranbury Township',\n 'OR-Medford',\n 'NC-Gastonia',\n 'TX-Euless',\n 'PA-Somerset',\n 'CA-Maywood',\n 'ID-Mountain Home',\n 'WI-Neenah',\n 'WA-Des Moines',\n 'VA-Grundy',\n 'IL-Round Lake',\n 'CA-Santa Monica',\n 'NC-Wadesboro',\n 'CA-Watsonsville',\n 'CA-Grass Valley',\n 'AZ-Phoenix',\n 'TX-Odessa',\n 'MN-Plymouth',\n 'CA-Atascadero',\n 'CA-South Los Angeles',\n 'TX-McKinney',\n 'AZ-Gilbert',\n 'OK-Okemah',\n 'CA-Montebello',\n 'NC-Peachland',\n 'NV-North Las Vegas',\n 'CA-Pico Rivera',\n 'UT-Aragonite',\n 'MD-Fort Meade',\n 'VA-Culpeper',\n 'KS-Hays',\n 'NY-Buffalo',\n 'VA-Richmond',\n 'MI-Algoma Township',\n 'AK-Spenard',\n 'MN-Alexandria',\n 'IL-North Riverside',\n 'CA-San Fernando',\n 'NC-Ronda',\n 'FL-Tampa',\n 'IL-Deerfield',\n 'ME-Orrington',\n 'CA-Modesto',\n 'OH-Findlay',\n 'OK-Oklahoma City',\n 'CA-Inyokern',\n 'CA-Lancaster',\n 'TX-Longview',\n 'GA-Atlanta',\n 'NJ-Little Egg Harbor',\n 'SC-Summerville',\n 'LA-Ouachita Parish',\n 'AL-Piedmont',\n 'OR-Dallas',\n 'SC-Moncks Corner',\n 'KY-London',\n 'MA-Lowell',\n 'LA-Raceland',\n 'CA-Coalinga',\n 'WA-Snohomish',\n 'CA-Kings County',\n 'OH-Beverly',\n 'TN-Shelbyville',\n 'FL-Putnam Hall',\n 'GA-Port Wentworth',\n 'AZ-Florence',\n 'AL-Selma',\n 'UT-Logan',\n 'OR-Salem',\n 'IL-Marion',\n 'NV-Las Vegas',\n 'LA-Pineville',\n 'VA-Woodford',\n 'TX-Mission',\n 'WI-Oshkosh',\n 'CA-Redding',\n 'MN-Eagan',\n 'CA-Douglas City',\n 'MN-Falcon Heights',\n 'WI-Sheboygan',\n 'CA-University City',\n 'NJ-Little Egg Harbor Township',\n 'CA-South El Monte',\n 'IL-Belleville',\n 'PA-Wilkinsburg',\n 'LA-Bossier City',\n 'OH-Kent',\n 'WA-Muckleshoot Indian Reservation',\n 'FL-Ft. Lauderdale',\n 'CT-Oakdale',\n 'NJ-Camden',\n 'SC-Myrtle Beach',\n 'AL-Muscle Shoals',\n 'CA-Barstow',\n 'CA-Visalia',\n 'ND-Bismarck',\n 'OK-Wagoner',\n 'FL-Bradenton',\n 'CA-Castaic',\n 'NC-Dallas',\n 'MI-Beaverton',\n 'CA-Fairfield',\n 'NE-Omaha',\n 'MS-Gautier',\n 'ME-Belgrade',\n 'WA-Wenatchee',\n 'GA-Savannah',\n 'GA-Smyrna',\n 'PA-Hummelstown',\n 'OK-Bunch',\n 'FL-Lake Wales',\n 'ID-Jefferson County',\n 'NC-Pinnacle',\n 'WV-Fairmont',\n 'KY-Elizabethtown',\n 'CA-Temecula',\n 'IN-Shelbyville',\n 'MD-Essex',\n 'GA-Douglasville',\n 'MD-Salisbury',\n 'TX-El Paso',\n 'CO-Colorado Springs',\n 'MO-Lampe',\n 'OR-Wolf Creek',\n 'ME-Madison',\n 'NM-Carlsbad',\n 'OK-Bartlesville',\n 'OK-Ardmore',\n 'TN-Alamo',\n 'NY-Rochester',\n 'FL-Orange Park',\n 'FL-Lealman',\n 'ID-Rexburg',\n 'NY-Constantia',\n 'OR-Burns',\n 'OH-Tiffin',\n 'TX-Splendora',\n 'CA-Palm Springs',\n 'OH-Mt. Auburn',\n 'PA-York',\n 'NC-Lawndale',\n 'CA-Concord',\n 'AL-Baldwin County',\n 'OH-Jasper',\n 'MI-St. Joseph',\n 'TX-Port Arthur',\n 'MD-Baltimore',\n 'FL-Cape Canaveral',\n 'LA-Winnsboro',\n 'TN-Spring Hill',\n 'PA-Canaan Township',\n 'TX-Tahoka',\n 'TX-Edinburg',\n 'PA-Avella',\n 'CA-Gilroy',\n 'TN-Oneida',\n 'MS-Barton',\n 'AL-Clanton',\n 'FL-Palm Bay',\n 'CA-Eureka',\n 'MI-Brighton Township',\n 'TN-Humboldt',\n 'SC-Pelzer',\n 'CA-Yreka',\n 'CA-Solvang',\n 'GA-Woodstock',\n 'KS-McPherson',\n 'UT-Roy',\n 'NC-Greenville',\n 'AK-Fairbanks',\n 'WV-Meadow Bridge',\n 'GA-Jackson',\n 'KS-Wichita',\n 'FL-Fort Lauderdale',\n 'NC-Archdale',\n 'GA-Rossville',\n 'NM-Rowe',\n 'OR-Oregon City',\n 'NY-Berne',\n 'WV-Augusta',\n 'IA-North English',\n 'KS-Hutchinson',\n 'OR-Springfield',\n 'SC-Irmo',\n 'WA-Cle Elum',\n 'FL-DeLand',\n 'TX-Ellis County',\n 'FL-Miami',\n 'WI-West Allis',\n 'WI-Kenosha',\n 'OH-Canton',\n 'CA-Weitchpec',\n 'NM-Crownpoint',\n 'MS-Southaven',\n 'TX-Plano',\n 'AZ-Somerton',\n 'HI-Maui',\n 'ND-Grand Forks',\n 'WV-Braxton County',\n 'GA-White',\n 'WV-Hensley',\n 'KY-Fulton',\n 'TX-Austin',\n 'TX-Wink',\n 'AZ-Apache Junction',\n 'PA-Pittston',\n 'HI-Papaaloa',\n 'WI-Geneva',\n 'CA-City Terrace',\n 'GA-Albany',\n 'OK-Rufe',\n 'TX-Bellville',\n 'IN-Lafayette',\n 'NC-Rutherfordton',\n 'VA-Grayson County',\n 'CA-Sunnyvale',\n 'OH-Perry Township',\n 'OH-Fairborn',\n 'AZ-Bisbee',\n 'NC-Greensboro',\n 'TN-East Ridge',\n 'PA-Upper Darby',\n 'MO-Affton',\n 'WA-Shelton',\n 'OH-Englewood',\n 'IL-Lawndale',\n 'NJ-Ventnor',\n 'MO-Lakeshire',\n 'MT-Huntley',\n 'KY-Berea',\n 'AZ-Chandler',\n 'AR-Farmington',\n 'TX-Leon County',\n 'FL-Carollwood',\n 'TX-Temple',\n 'MO-Neosho',\n 'WY-Laramie',\n 'IN-Gary',\n 'GA-Marietta',\n 'IN-Fishers',\n 'CA-Hawaiian Gardens',\n 'FL-Middleburg',\n 'TN-Jackson',\n 'TX-West Odessa',\n 'CA-Antelope',\n 'PA-Straban Township',\n 'TN-Soddy-Daisy',\n 'KY-Lawrenceburg',\n 'NM-Santa Fe',\n 'OK-Burns Flat',\n 'TX-Conroe',\n 'ID-Idaho Falls',\n 'OK-Eufaula',\n 'AZ-Kingman',\n 'TN-Elizabethton',\n 'TX-Fort Worth',\n 'SC-Lake View',\n 'WV-Fort Ashby',\n 'NM-Carrizozo',\n 'AZ-Eagar',\n 'NY-New York',\n 'FL-Hallandale Beach',\n 'PA-Bloomsburg',\n 'CA-Siskiyou County',\n 'FL-Fort Walton Beach',\n 'NM-Ruidoso',\n 'NC-Maiden',\n 'FL-Deland',\n 'OH-Dayton',\n 'MI-Wyoming',\n 'IN-Avon',\n 'KY-Ludlow',\n 'NM-Laguna Pueblo',\n 'FL-Milton',\n 'MD-Overlea',\n 'CA-Yorba Linda',\n 'NY-Coney Island',\n 'CO-Englewood',\n 'TN-West Knox',\n 'IN-French Lick',\n 'NC-Durham',\n 'KY-Simpsonsville',\n 'KY-Paris',\n 'FL-Orange City',\n 'OK-Cushing',\n 'MI-Columbia Township',\n 'CA-Rocklin',\n 'LA-Alexandria',\n 'CA-Highgrove',\n 'PA-Pittsburgh',\n 'MO-Republic',\n 'MA-Boston',\n 'MA-Braintree',\n 'TX-Fort Stockton',\n 'CA-Meadow Vista',\n 'OK-Ponca City',\n 'CA-Inglewood',\n 'LA-New Iberia',\n 'NC-Franklin',\n 'CA-Anaheim',\n 'GA-Rockville',\n 'WI-Ashwaubenon',\n 'GA-Lizella',\n 'NC-Newton Grove',\n 'FL-Jupiter',\n 'TN-Dickson',\n 'IL-Lansing',\n 'AL-Eufaula',\n 'CA-Van Nuys',\n 'KY-Lancaster',\n 'FL-Clermont',\n 'TX-Pharr',\n 'VA-Alexandria',\n 'WV-Grafton',\n 'MS-Iuka',\n 'CA-Seaside',\n 'ID-Melba',\n 'TN-Monteagle',\n 'TX-Palestine',\n 'MI-Bloomfield Township',\n 'CA-Oakland',\n 'OK-Bethany',\n 'OK-Anadarko',\n 'TX-Wood County',\n 'IN-Brookville',\n 'AZ-Yuma',\n 'TX-Baytown',\n 'AK-Barrow',\n 'FL-Barberville',\n 'CA-Santa Paula',\n 'AR-Benton',\n 'CA-San Diego County',\n 'LA-Breaux Bridge',\n 'MO-Columbia',\n 'NY-Yonkers',\n 'LA-Harvey',\n 'WA-Yakima',\n 'OH-Cincinnati',\n 'NJ-Hackensack',\n 'WI-Jackson',\n 'LA-Shreveport',\n 'NC-Asheville',\n 'MI-Benton Harbor',\n 'IA-Sioux City',\n 'OH-Twinsburg',\n 'VA-Pearisburg',\n 'TX-Katy',\n 'WA-Kelso',\n 'WV-Clendenin',\n 'TX-DeSoto',\n 'MN-Hutchinson',\n 'AL-Dadeville',\n 'MI-Marion',\n 'OK-Midwest City',\n 'NY-Cheektowaga',\n 'MI-Grand Rapids',\n 'TN-Knoxville',\n 'AZ-Glendale',\n 'FL-Palm Harbor',\n 'MS-Ruth',\n 'OH-North Royalton',\n 'CA-La Quinta',\n 'TN-Memphis',\n 'CA-Dunsmuir',\n 'OK-Byars',\n 'NY-Glenville',\n 'CA-Downey',\n 'LA-Kenner',\n 'LA-Homer',\n 'OK-Wetumka',\n 'NY-Mount Vernon',\n 'OR-Aloha',\n 'MA-Everett',\n 'MO-Cape Girardeau',\n 'CT-Suffield',\n 'NM-Edgewood',\n 'VA-Scott County',\n 'TX-Paris',\n 'IL-Harvey',\n 'CA-Winchester',\n 'WI-Weston',\n 'TX-Addison',\n 'OH-Willoughby',\n 'NY-Islip',\n 'MA-Lynn',\n 'MO-Florissant',\n 'MS-Walls',\n 'NM-Deming',\n 'CO-Loveland',\n 'FL-Orlando',\n 'GA-Acworth',\n 'CA-Boyle Heights',\n 'NC-Leland',\n 'OH-Medina',\n 'OR-Seaside',\n 'CO-Eldorado Springs',\n 'DE-Smyrna',\n 'CA-South Gate',\n 'WI-Eau Claire',\n 'CA-Turlock',\n 'CA-Selma',\n 'CA-Bell',\n 'UT-Provo',\n 'IL-Lyons',\n 'CA-Hesperia',\n 'KY-Princeton',\n 'NY-Schenectady',\n 'PA-Johnstown',\n 'TX-Mesquite',\n 'GA-Fort Valley',\n 'LA-Gretna',\n 'GA-Moultrie',\n 'MS-Hattiesburg',\n 'CA-Gardena',\n 'TX-Del Rio',\n 'WY-Casper',\n 'AZ-Bullhead City',\n 'AL-Monroeville',\n 'CA-Pomona',\n 'SD-Rapid City',\n 'SC-Landrum',\n 'CA-Irvine',\n 'NJ-Lyndhurst',\n 'CA-Lynwood',\n 'MO-Sugar Creek',\n 'OH-Southington',\n 'CA-San Bernardino',\n 'MO-McDowell',\n 'CA-El Monte',\n 'MN-Fridley',\n 'AR-Marion',\n 'WV-Gerrardstown',\n 'KY-Phelps',\n 'WA-Olympia',\n 'TN-Somerville',\n 'OH-Westerville',\n 'NM-Roswell',\n 'MN-North Branch',\n 'WA-Kirkland',\n 'WA-Federal Way',\n 'MD-Montgomery Village',\n 'TN-Sparta',\n 'IL-Antioch',\n 'OH-Rome',\n 'FL-Navarre',\n 'TX-Brownsville',\n 'CA-Antioch',\n 'IL-Clinton',\n 'SC-Sumter',\n 'CA-Delhi',\n 'NC-Hickory',\n 'TX-Dallas',\n 'CA-Santa Maria',\n 'NC-Granite Falls',\n 'CA-Corning',\n 'KS-Gardner',\n 'LA-Mamou',\n 'OK-Coal County',\n 'KY-Trosper',\n 'CA-Fair Oaks',\n 'AL-Tuscaloosa',\n 'MO-Jackson',\n 'GA-Talking Rock',\n 'CA-Union City',\n 'WA-Spanaway',\n 'OH-Westlake',\n 'UT-Spanish Fork',\n 'KS-Kansas City',\n 'GA-Mableton',\n 'IL-River Forest',\n 'OK-Hominy',\n 'IN-Harmony',\n 'NJ-Manchester',\n 'OR-McMinnville',\n 'CA-Aguanga',\n 'PA-Lower Mount Bethel',\n 'CA-Monterey',\n 'CA-Santee',\n 'LA-Covington',\n 'SC-Cayce',\n 'AL-Bay Minette',\n 'CA-Happy Valley',\n 'KY-Richmond',\n 'CA-Salinas',\n 'IL-Jerseyville',\n 'CA-Lemoore',\n 'AZ-Surprise',\n 'DC-Washington',\n 'WI-Rib Mountain',\n 'CA-Valinda',\n 'TX-Sunset',\n 'CA-Alpine',\n 'GA-Peachtree City',\n 'SC-Lake City',\n 'MS-Brookhaven',\n 'NJ-Newark',\n 'IN-Beech Grove',\n 'FL-Palm Beach Gardens',\n 'KY-Hiseville',\n 'ME-Waldoboro',\n 'TX-Waco',\n 'WA-Pasco',\n 'AZ-Buckeye',\n 'KS-Olathe',\n 'SD-Rapid Valley',\n 'OH-Euclid',\n 'CA-Byron',\n 'NC-Rowland',\n 'PA-West Chester',\n 'PA-Lancaster',\n 'VA-Suffolk',\n 'OK-Guthrie',\n 'MI-Dearborn',\n 'CA-Tehachapi',\n 'TN-Hendersonville',\n 'SD-Lead',\n 'NH-Merrimack',\n 'NM-Pueblo of Laguna',\n 'NC-Anson County',\n 'FL-Callahan',\n 'TN-Gray',\n 'TX-Onalaska',\n 'NH-Peterborough',\n 'CA-Santa Barbara',\n 'ME-Smyrna',\n 'VA-York County',\n 'AK-Wasilla',\n 'IL-Arcola',\n 'WV-Petroleum',\n 'MT-Superior',\n 'AL-Phenix City',\n 'SC-Chesterfield County',\n 'CO-Boulder',\n 'KY-Russellville',\n 'TX-Myra',\n 'WV-Nitro',\n 'NC-Iredell County',\n 'AZ-Show Low',\n 'ID-Kuna',\n 'CA-Calimesa',\n 'OH-Howland Township',\n 'UT-Ogden',\n 'FL-Mascotte',\n 'SC-Aiken',\n 'OK-Stillwater',\n 'WI-East Troy',\n 'GA-Arlington',\n 'MA-Weymouth',\n 'TX-Harker Heights',\n 'NC-Raleigh',\n 'MD-Bel Air',\n 'AL-Homewood',\n 'MO-Ozark',\n 'ND-Mandan',\n 'TX-Rosenberg',\n 'TN-Lewisburg',\n 'MI-Saginaw',\n 'CA-Colton',\n 'MN-Aitkin',\n 'CA-Hemet',\n 'OK-Fairfax',\n 'MO-Maysville',\n 'PA-Germantown',\n 'PA-Stewartstown',\n 'IN-Greenwood',\n 'GA-Clarkesville',\n 'AL-Mobile',\n 'WV-Bluefield',\n 'CA-Sylmar',\n 'ID-Council',\n 'VT-Winooski',\n 'NJ-Ideal Beach',\n 'ID-Garden City',\n 'CA-Clearlake Park',\n 'TX-Arlington',\n 'TN-Lakeland',\n 'CO-Montrose County',\n 'CA-Rosemead',\n 'LA-East Baton Rouge',\n 'ME-Arundel',\n 'TX-Panhandle',\n 'OH-Ashtabula',\n 'WA-Graham',\n 'TX-Carrollton',\n 'DE-Wilmington',\n 'AL-Arab',\n 'LA-Baton Rouge',\n 'OR-Florence',\n 'CA-Newark',\n 'FL-Opa-Locka',\n 'MD-Frederick',\n 'CA-Atwater',\n 'MO-Springfield',\n 'NC-Lumberton',\n 'FL-Yulee',\n 'NJ-New Brunswick',\n 'WA-Lake Stevens',\n 'PA-Forks Township',\n 'CA-La Mirada',\n 'CA-Vacaville',\n 'AL-Sylacauga',\n 'GA-Sylvester',\n 'FL-Riverview',\n 'NM-San Rafael',\n 'OH-Oak Hill',\n 'LA-Port Barre',\n 'CA-Fountain Valley',\n 'CO-Broomfield',\n 'NM-Truth or Consequences',\n 'GA-Brooklet',\n 'TN-Franklin',\n 'VA-Norman',\n 'IN-Muncie',\n 'IA-Urbandale',\n 'AZ-Prescott',\n 'CA-Fremont',\n 'KS-Medicine Lodge',\n 'IA-Boone',\n 'OH-Montpelier',\n 'NY-Bronx',\n 'TX-Irving',\n 'IL-Springfield',\n 'TX-Saginaw',\n 'FL-Wellington',\n 'KY-Pine Top',\n 'MA-Webster',\n 'VA-Pulaski',\n 'WV-Elkins',\n 'NJ-Bridgeton',\n 'WV-Spencer',\n 'NC-Cary',\n 'TN-Whitehaven',\n 'LA-Franklin',\n 'AL-Ashville',\n 'WI-Wauwatosa',\n 'WI-Greenfield',\n 'TX-Midland',\n 'ID-Hammett',\n 'NV-Gardnerville Ranchos',\n 'OK-Millerton',\n 'GA-Macon',\n 'CA-Lodi',\n 'KY-Leitchfield',\n 'OK-Leedey',\n 'NY-Malone',\n 'CA-San Francisco',\n 'TX-Ponder',\n 'TX-Sierra Blanca',\n 'IL-Rockford',\n 'CO-Northglenn',\n 'IA-Fort Madison',\n 'CO-Parker',\n 'UT-West Jordan',\n 'AZ-Parker',\n 'MO-St. Joseph',\n 'AL-Tuscumbia',\n 'TX-Laredo',\n 'FL-North Port',\n 'AL-Opelika',\n 'WA-Bellingham',\n 'MD-Reisterstown',\n 'TN-Bristol',\n 'KY-Elsmere',\n 'AZ-La Paz County',\n 'TX-Allen',\n 'WA-Bainbridge Island',\n 'PA-Reading',\n 'AZ-Sierra Vista',\n 'VA-Arlington',\n 'TX-Fuqua',\n 'FL-Belle Glade',\n 'CA-South Lake Tahoe',\n 'TN-Reagan',\n 'UT-Parowan',\n 'FL-Thonotosassa',\n 'NC-Salemburg',\n 'OK-Tahlequah',\n 'MI-Berrien County',\n 'AR-Sims',\n 'UT-Centerville',\n 'MT-Three Forks',\n 'CA-Oxnard',\n 'WV-Hometown',\n 'MT-Butte',\n 'FL-St. Petersburg',\n 'FL-Naples',\n 'FL-Oakland Park',\n 'TX-Houston',\n 'CO-Ca\\x96on City',\n 'MI-Ishpeming Township',\n 'FL-Largo',\n 'CA-Marina',\n 'FL-Deltona',\n 'GA-Elberton',\n 'CA-Sacramento',\n 'CA-Tustin',\n 'TX-Grand Prarie',\n 'CA-Avenal',\n 'WY-Douglas',\n 'CA-Chico',\n 'CA-Vista',\n 'AZ-San Manuel',\n 'AZ-Cottonwood',\n 'TX-Balch Springs',\n 'CA-Long Beach',\n 'MI-Manistee',\n 'MS-Gulfport',\n 'AL-Opp',\n 'IL-East St. Louis',\n 'MI-Warren',\n 'GA-Commerce',\n 'NJ-Old Bridge',\n 'FL-Pompano Beach',\n 'CA-Porterville',\n 'CA-Hollywood',\n 'PA-East Stroudsburg',\n 'CA-Napa',\n 'FL-Panama City Beach',\n 'MO-Nevada',\n 'CA-Hacienda Heights',\n 'MT-Livingston',\n 'CA-Riverside',\n 'WI-New London',\n 'CA-North Hills',\n 'CA-Needles',\n 'CA-Newport Beach',\n 'GA-Eden',\n \"MO-Lee's Summit\",\n 'CA-El Cajon',\n 'OK-Tom',\n 'CA-Hayward',\n 'AZ-Casa Grande',\n 'FL-Floral City',\n 'CA-Compton',\n 'WI-Fond du Lac',\n 'MT-Billings',\n 'LA-Mandeville',\n 'OR-Josephine County',\n 'OR-Eugene',\n 'MA-West Springfield',\n 'IN-English',\n 'OK-Edmond',\n 'TN-Gibson County',\n 'WA-Grapeview',\n 'IN-Monon',\n 'MD-Chestertown',\n 'TX-Tomball',\n 'PA-Campbelltown',\n 'CO-Dinosaur',\n 'NC-Dublin',\n 'MI-Detroit',\n 'CA-Cerritos',\n 'NC-Statesville',\n 'MO-Odessa',\n 'CA-Cottonwood',\n 'NC-Gaston County',\n 'FL-Brooksville',\n 'CA-Vallejo',\n 'IN-Elkhart',\n 'TN-Counce',\n 'CA-Del Mar',\n 'MI-Roxand Township',\n 'ID-Middleton',\n 'IA-Des Moines',\n 'CA-Cabazon',\n 'KS-Colby',\n 'MS-Lucedale',\n 'MD-Greenbelt',\n 'AR-West Memphis',\n 'TX-Springtown',\n 'LA-Evangeline Parish',\n 'CO-Strasburg',\n 'CA-Merced',\n 'WA-Seattle',\n 'VA-Roanoke',\n 'OK-Rush Springs',\n 'SC-Campobello',\n 'CA-Santa Ana',\n 'NY-Queens',\n 'AR-England',\n 'MN-Roseville',\n 'MO-Buffalo',\n 'WI-Milwaukee',\n 'CO-Fountain',\n 'CA-Ontario',\n 'NY-New City',\n 'MN-Mora',\n 'CA-West Covina',\n 'VA-Arvonia',\n 'CA-Panorama City',\n 'MN-Austin',\n 'WV-Brandywine',\n 'WI-Beaver Dam',\n 'CT-Old Saybrook',\n 'DE-Claymont',\n 'FL-Jacksonsville',\n 'CA-Indio',\n 'CO-Thornton',\n 'TX-Hurst',\n 'IL-Villa Park',\n 'CA-Calexico',\n 'TX-Henderson County',\n 'FL-Pinellas Park',\n 'OH-Akron',\n 'OR-Beaverton',\n 'GA-Jesup',\n 'WV-Beckley',\n 'WA-Kent',\n ...]"
     },
     "execution_count": 5,
     "metadata": {},
     "output_type": "execute_result"
    }
   ],
   "source": [
    "\"\"\"\n",
    "Race is one of the fields that have missing fields, we will use the df_race_city dataset to help\n",
    "get an insight into which race to impute.\n",
    "\n",
    "In order to determine the race to impute we must:\n",
    "1. At each missing race, determine the most frequent race of that specific city (mode).\n",
    "2. If the mode returns more than 1 race, use the race with the highest percentage distribution in that city. Otherwise, use the returned race.\n",
    "3. Impute the race into the missing data cell.\n",
    "i.e.: City 'Zion' returns a mode of ['W', 'B'] which indicates we have as many 'W' White and 'B' Black people datapoints for the city of 'Zion'. Using the supporting dataframe from df_race_city, 'Zion' has a distribution of 'W' as 0.6, 'B' as 0.\n",
    "\n",
    "\"\"\"\n",
    "#make a list of unique cities, and include the state so we don't deal with same city names of different states\n",
    "df_total['city'] = df_total[['state', 'city']].apply(\"-\".join,axis=1)\n",
    "cities = df_total['city'].tolist()\n",
    "cities =list(set(cities))\n",
    "print(len(cities))\n",
    "cities"
   ],
   "metadata": {
    "collapsed": false,
    "pycharm": {
     "name": "#%%\n"
    }
   }
  },
  {
   "cell_type": "code",
   "execution_count": 6,
   "outputs": [
    {
     "name": "stdout",
     "output_type": "stream",
     "text": [
      "5\n",
      "5\n",
      "5\n",
      "5\n",
      "5\n",
      "5\n",
      "5\n",
      "5\n",
      "5\n",
      "5\n",
      "5\n",
      "5\n",
      "5\n",
      "5\n",
      "5\n",
      "5\n",
      "5\n",
      "5\n",
      "5\n",
      "5\n",
      "total cities with bad points =  20\n"
     ]
    }
   ],
   "source": [
    "\"\"\"\n",
    "Let's try cleaning the the race of city dataset now viewing the missing datapoints which are denoted at (X).\n",
    "\"\"\"\n",
    "df_race_city['city'] = df_race_city[['Geographic area', 'City']].apply(\"-\".join,axis=1)\n",
    "list_race_df = df_race_city.values.tolist()\n",
    "j = 0\n",
    "list_bad_cities = []\n",
    "for i in list_race_df:\n",
    "    #we can see it is only null when all races are missing\n",
    "    if(i.count('(X)') > 0):\n",
    "        j+=1\n",
    "        list_bad_cities.append(i[1])\n",
    "        print(i.count('(X)'))\n",
    "print(\"total cities with bad points = \", j)\n"
   ],
   "metadata": {
    "collapsed": false,
    "pycharm": {
     "name": "#%%\n"
    }
   }
  },
  {
   "cell_type": "code",
   "execution_count": 7,
   "outputs": [
    {
     "name": "stdout",
     "output_type": "stream",
     "text": [
      "<class 'pandas.core.frame.DataFrame'>\n",
      "Int64Index: 29248 entries, 0 to 29267\n",
      "Data columns (total 8 columns):\n",
      " #   Column                 Non-Null Count  Dtype \n",
      "---  ------                 --------------  ----- \n",
      " 0   Geographic area        29248 non-null  object\n",
      " 1   City                   29248 non-null  object\n",
      " 2   share_white            29248 non-null  object\n",
      " 3   share_black            29248 non-null  object\n",
      " 4   share_native_american  29248 non-null  object\n",
      " 5   share_asian            29248 non-null  object\n",
      " 6   share_hispanic         29248 non-null  object\n",
      " 7   city                   29248 non-null  object\n",
      "dtypes: object(8)\n",
      "memory usage: 2.0+ MB\n",
      "None\n",
      "<class 'pandas.core.frame.DataFrame'>\n",
      "RangeIndex: 29268 entries, 0 to 29267\n",
      "Data columns (total 8 columns):\n",
      " #   Column                 Non-Null Count  Dtype \n",
      "---  ------                 --------------  ----- \n",
      " 0   Geographic area        29268 non-null  object\n",
      " 1   City                   29268 non-null  object\n",
      " 2   share_white            29268 non-null  object\n",
      " 3   share_black            29268 non-null  object\n",
      " 4   share_native_american  29268 non-null  object\n",
      " 5   share_asian            29268 non-null  object\n",
      " 6   share_hispanic         29268 non-null  object\n",
      " 7   city                   29268 non-null  object\n",
      "dtypes: object(8)\n",
      "memory usage: 1.8+ MB\n"
     ]
    }
   ],
   "source": [
    "\"\"\"With only 20/29260 holding a row of null values, we shall drop these cities\"\"\"\n",
    "tempDf_race = df_race_city[df_race_city.share_white != '(X)'].copy()\n",
    "print(tempDf_race.info())\n",
    "df_race_city.info()"
   ],
   "metadata": {
    "collapsed": false,
    "pycharm": {
     "name": "#%%\n"
    }
   }
  },
  {
   "cell_type": "code",
   "execution_count": 8,
   "outputs": [
    {
     "data": {
      "text/plain": "['share_white',\n 'share_black',\n 'share_native_american',\n 'share_asian',\n 'share_hispanic']"
     },
     "execution_count": 8,
     "metadata": {},
     "output_type": "execute_result"
    }
   ],
   "source": [
    "list_total_races = []\n",
    "columns_race = tempDf_race.columns.values.tolist()\n",
    "s = 'share'\n",
    "columns_race = [string for string in columns_race if(s in string)]\n",
    "columns_race"
   ],
   "metadata": {
    "collapsed": false,
    "pycharm": {
     "name": "#%%\n"
    }
   }
  },
  {
   "cell_type": "code",
   "execution_count": 9,
   "outputs": [
    {
     "name": "stdout",
     "output_type": "stream",
     "text": [
      "4\n",
      "29248\n",
      "29248\n",
      "29248\n",
      "29248\n",
      "29248\n"
     ]
    },
    {
     "data": {
      "text/plain": "2433809.0"
     },
     "execution_count": 9,
     "metadata": {},
     "output_type": "execute_result"
    }
   ],
   "source": [
    "temp = [\"ok\", \"o\", \"ok\", \" sdos\", 2, 3, 4, 5, 6, 6]\n",
    "j = 0\n",
    "for i in temp:\n",
    "    if(isinstance(i,str)):\n",
    "        j+=1\n",
    "print( j )\n",
    "for i in columns_race:\n",
    "    j = 0\n",
    "    for k in tempDf_race[i].values.tolist():\n",
    "        if(isinstance(k,str)):\n",
    "            j+=1\n",
    "    print(j)\n",
    "    tempDf_race[i] = tempDf_race[i].astype(float)\n",
    "\n",
    "    list_total_races.append(tempDf_race[i].sum().astype(float))\n",
    "list_total_races[0]"
   ],
   "metadata": {
    "collapsed": false,
    "pycharm": {
     "name": "#%%\n"
    }
   }
  },
  {
   "cell_type": "code",
   "execution_count": 10,
   "outputs": [
    {
     "name": "stdout",
     "output_type": "stream",
     "text": [
      "OK-Norwood\n"
     ]
    },
    {
     "ename": "ValueError",
     "evalue": "'OK-Norwood' is not in list",
     "output_type": "error",
     "traceback": [
      "\u001B[1;31m---------------------------------------------------------------------------\u001B[0m",
      "\u001B[1;31mValueError\u001B[0m                                Traceback (most recent call last)",
      "Input \u001B[1;32mIn [10]\u001B[0m, in \u001B[0;36m<cell line: 5>\u001B[1;34m()\u001B[0m\n\u001B[0;32m     12\u001B[0m     \u001B[38;5;28;01melse\u001B[39;00m:\n\u001B[0;32m     13\u001B[0m         \u001B[38;5;28mprint\u001B[39m(i)\n\u001B[1;32m---> 14\u001B[0m         \u001B[38;5;28mprint\u001B[39m(\u001B[43mcities2\u001B[49m\u001B[38;5;241;43m.\u001B[39;49m\u001B[43mindex\u001B[49m\u001B[43m(\u001B[49m\u001B[43mi\u001B[49m\u001B[43m[\u001B[49m\u001B[38;5;241;43m0\u001B[39;49m\u001B[43m:\u001B[49m\u001B[43m:\u001B[49m\u001B[38;5;241;43m1\u001B[39;49m\u001B[43m]\u001B[49m\u001B[43m)\u001B[49m)\n\u001B[0;32m     16\u001B[0m \u001B[38;5;28mprint\u001B[39m(j)\n\u001B[0;32m     17\u001B[0m \u001B[38;5;28mprint\u001B[39m(list_bad_cities)\n",
      "\u001B[1;31mValueError\u001B[0m: 'OK-Norwood' is not in list"
     ]
    }
   ],
   "source": [
    "#we can check that all the cities in the total data set is still in the race_city dataset\n",
    "cities2 = tempDf_race['city'].tolist()\n",
    "cities2 =list(set(cities2))\n",
    "j = 0\n",
    "for i in cities:\n",
    "    # print(i in cities2)\n",
    "    # print(i)\n",
    "    # print(cities2.index(i[0::1]))\n",
    "    if(any(i in string for string in cities2)):\n",
    "        #print(i)\n",
    "        j+=1\n",
    "    else:\n",
    "        print(i)\n",
    "        print(cities2.index(i[0::1]))\n",
    "\n",
    "print(j)\n",
    "print(list_bad_cities)"
   ],
   "metadata": {
    "collapsed": false,
    "pycharm": {
     "name": "#%%\n"
    }
   }
  },
  {
   "cell_type": "code",
   "execution_count": null,
   "outputs": [],
   "source": [
    "#make a list of df fT-oubaor each city\n",
    "list_df_cities = []\n",
    "for i in cities:\n",
    "    list_df_cities.append(df_total.loc[df_total['city'] == i])"
   ],
   "metadata": {
    "collapsed": false,
    "pycharm": {
     "name": "#%%\n"
    }
   }
  },
  {
   "cell_type": "code",
   "execution_count": null,
   "outputs": [],
   "source": [
    "#make a list of race\n",
    "races = df_total['race'].tolist()\n",
    "races =list(set(races))\n",
    "races = races[1::]\n",
    "races"
   ],
   "metadata": {
    "collapsed": false,
    "pycharm": {
     "name": "#%%\n"
    }
   }
  },
  {
   "cell_type": "code",
   "execution_count": null,
   "outputs": [],
   "source": [
    "mode_total = df_total['race'].mode(dropna=True).tolist()\n",
    "print(mode_total)\n",
    "for i in list_df_cities:\n",
    "    mode = i['race'].mode(dropna=True)\n",
    "    if(len(mode) == 0):\n",
    "        i[['race']] = i[['race']].fillna(mode_total[0])\n",
    "        if(i['race'].isnull().sum() != 0):\n",
    "            print(\"null val\")\n",
    "    elif(isinstance(mode, type(i['race']))):\n",
    "        mode.dropna()\n",
    "        mode = mode.tolist()\n",
    "        #if the mode has more than one value then take a random choice between the values\n",
    "        i[['race']] = i[['race']].fillna(random.choice(tuple(mode)))\n",
    "\n",
    "\n",
    "\n",
    "    df_total.loc[df_total['city'] ==  i.at[i.first_valid_index(),'city']] = i\n",
    "df_total.info()"
   ],
   "metadata": {
    "collapsed": false,
    "pycharm": {
     "name": "#%%\n"
    }
   }
  },
  {
   "cell_type": "code",
   "execution_count": null,
   "outputs": [],
   "source": [
    " # removed all data wiht NaN in race Column...df_training[df_training['race'].isnull()]\n",
    "df_total"
   ],
   "metadata": {
    "collapsed": false,
    "pycharm": {
     "name": "#%%\n"
    }
   }
  },
  {
   "cell_type": "code",
   "execution_count": null,
   "outputs": [],
   "source": [
    "\"\"\"\n",
    "We noticed that some of the 'age' data is missing.\n",
    "So we imputed the average age of the people in each city and imputed the average age for the missing ages based on their city.\n",
    "1. We calculate the total mean age of our total data sample.\n",
    "2. We group by city, then calculate the mean Age at each city.\n",
    "3. For each NaN age, we impute the mean age of that city. If that city was not calcuated (meaning this data is the only one from that city), we will use the total mean age.\n",
    "\"\"\"\n",
    "age_fix = df_total[['id','age','city']].copy()\n",
    "age_fix = age_fix[age_fix['age'].isnull()].copy()\n",
    "# 1. Calculate Total Mean Age\n",
    "total_mean_age = df_total['age'].mean()\n",
    "\n",
    "# 2. Calculate Mean of Each City\n",
    "city_mean_ages = df_total.groupby('city')['age'].mean()\n",
    "\n",
    "#3. Impute Age by the city. If City data does not exist, use Total Mean Age.\n",
    "for i in age_fix.index:\n",
    "    city = age_fix['city'][i]\n",
    "    if city in city_mean_ages and not np.isnan(city_mean_ages[city]):\n",
    "        age_fix['age'][i] = city_mean_ages[city]\n",
    "    else:\n",
    "        age_fix['age'][i] = total_mean_age\n",
    "\n",
    "\n",
    "# update total list\n",
    "df_total.update(age_fix)\n",
    "\n",
    "df_total.info()"
   ],
   "metadata": {
    "collapsed": false,
    "pycharm": {
     "name": "#%%\n"
    }
   }
  },
  {
   "cell_type": "code",
   "execution_count": null,
   "outputs": [],
   "source": [
    "\"\"\"\n",
    "Fix the 'race' column\n",
    "We want to impute the NaN in the 'race' column with the most frequent race that is reported in the same city.\n",
    "First get a list of cities,\n",
    "second, get the mode for each city.\n",
    "\"\"\"\n",
    "training_race_noNaN = df_training[df_training['race'].notnull()].copy()\n",
    "\n",
    "training_cities = training_race_noNaN['city'].unique()\n",
    "\n",
    "training_race_noNaN"
   ],
   "metadata": {
    "collapsed": false,
    "pycharm": {
     "name": "#%%\n"
    }
   }
  },
  {
   "cell_type": "code",
   "execution_count": null,
   "outputs": [],
   "source": [
    "training_race_noNaN.groupby('city')['race'].agg(pd.Series.mode).to_frame()"
   ],
   "metadata": {
    "collapsed": false,
    "pycharm": {
     "name": "#%%\n"
    }
   }
  },
  {
   "cell_type": "code",
   "execution_count": null,
   "outputs": [],
   "source": [],
   "metadata": {
    "collapsed": false,
    "pycharm": {
     "name": "#%%\n"
    }
   }
  },
  {
   "cell_type": "code",
   "execution_count": null,
   "outputs": [],
   "source": [
    "training_race_noNaN.groupby('city')['race'].agg(pd.Series.mode).to_frame()"
   ],
   "metadata": {
    "collapsed": false,
    "pycharm": {
     "name": "#%%\n"
    }
   }
  },
  {
   "cell_type": "code",
   "execution_count": null,
   "outputs": [],
   "source": [],
   "metadata": {
    "collapsed": false,
    "pycharm": {
     "name": "#%%\n"
    }
   }
  }
 ],
 "metadata": {
  "kernelspec": {
   "display_name": "Python 3",
   "language": "python",
   "name": "python3"
  },
  "language_info": {
   "codemirror_mode": {
    "name": "ipython",
    "version": 2
   },
   "file_extension": ".py",
   "mimetype": "text/x-python",
   "name": "python",
   "nbconvert_exporter": "python",
   "pygments_lexer": "ipython2",
   "version": "2.7.6"
  }
 },
 "nbformat": 4,
 "nbformat_minor": 0
}