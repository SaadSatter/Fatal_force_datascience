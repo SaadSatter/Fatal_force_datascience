{
 "cells": [
  {
   "cell_type": "code",
   "execution_count": 224,
   "metadata": {
    "collapsed": true,
    "pycharm": {
     "name": "#%%\n"
    }
   },
   "outputs": [],
   "source": [
    "import itertools\n",
    "import pandas as pd\n",
    "import random\n",
    "import sklearn\n",
    "from sklearn.model_selection import train_test_split\n",
    "import datetime\n",
    "from sklearn import metrics\n",
    "from sklearn.linear_model import LinearRegression\n",
    "from sklearn.linear_model import LogisticRegression\n",
    "import matplotlib.pyplot as plt\n",
    "import numpy as np\n",
    "import seaborn as sb"
   ]
  },
  {
   "cell_type": "code",
   "execution_count": 225,
   "outputs": [
    {
     "name": "stdout",
     "output_type": "stream",
     "text": [
      "<class 'pandas.core.frame.DataFrame'>\n",
      "RangeIndex: 507 entries, 0 to 506\n",
      "Data columns (total 14 columns):\n",
      " #   Column                   Non-Null Count  Dtype  \n",
      "---  ------                   --------------  -----  \n",
      " 0   id                       507 non-null    int64  \n",
      " 1   name                     507 non-null    object \n",
      " 2   date                     507 non-null    object \n",
      " 3   manner_of_death          507 non-null    object \n",
      " 4   armed                    504 non-null    object \n",
      " 5   age                      467 non-null    float64\n",
      " 6   gender                   507 non-null    object \n",
      " 7   race                     403 non-null    object \n",
      " 8   city                     507 non-null    object \n",
      " 9   state                    507 non-null    object \n",
      " 10  signs_of_mental_illness  507 non-null    bool   \n",
      " 11  threat_level             507 non-null    object \n",
      " 12  flee                     469 non-null    object \n",
      " 13  body_camera              507 non-null    bool   \n",
      "dtypes: bool(2), float64(1), int64(1), object(10)\n",
      "memory usage: 48.6+ KB\n"
     ]
    },
    {
     "data": {
      "text/plain": "        id                   name      date   manner_of_death       armed  \\\n0        3             Tim Elliot  02/01/15              shot         gun   \n1        4       Lewis Lee Lembke  02/01/15              shot         gun   \n2        5     John Paul Quintero  03/01/15  shot and Tasered     unarmed   \n3        8        Matthew Hoffman  04/01/15              shot  toy weapon   \n4        9      Michael Rodriguez  04/01/15              shot    nail gun   \n...    ...                    ...       ...               ...         ...   \n2023  2256   Jeremy Lopez-Robledo  24/01/17              shot       knife   \n2024  2257    Jonathan David Sper  24/01/17              shot     unarmed   \n2025  2258  Jose Efrain Rodriguez  24/01/17  shot and Tasered         gun   \n2026  2259          Ramon Milanez  24/01/17              shot         gun   \n2027  2260       Micah R. Lambert  25/01/17              shot     vehicle   \n\n       age gender race             city state  signs_of_mental_illness  \\\n0     53.0      M    A          Shelton    WA                     True   \n1     47.0      M    W            Aloha    OR                    False   \n2     23.0      M    H          Wichita    KS                    False   \n3     32.0      M    W    San Francisco    CA                     True   \n4     39.0      M    H            Evans    CO                    False   \n...    ...    ...  ...              ...   ...                      ...   \n2023  29.0      M    H       Las Cruces    NM                     True   \n2024  30.0      M    W  Algoma Township    MI                     True   \n2025  18.0      M    H   Lancaster City    PA                    False   \n2026  32.0      M    H             Kuna    ID                    False   \n2027  37.0      M    W           Oxford    AL                     True   \n\n     threat_level         flee  body_camera  \n0          attack  Not fleeing        False  \n1          attack  Not fleeing        False  \n2           other  Not fleeing        False  \n3          attack  Not fleeing        False  \n4          attack  Not fleeing        False  \n...           ...          ...          ...  \n2023       attack         Foot         True  \n2024       attack  Not fleeing        False  \n2025       attack  Not fleeing        False  \n2026       attack          Car        False  \n2027       attack          Car        False  \n\n[2028 rows x 14 columns]",
      "text/html": "<div>\n<style scoped>\n    .dataframe tbody tr th:only-of-type {\n        vertical-align: middle;\n    }\n\n    .dataframe tbody tr th {\n        vertical-align: top;\n    }\n\n    .dataframe thead th {\n        text-align: right;\n    }\n</style>\n<table border=\"1\" class=\"dataframe\">\n  <thead>\n    <tr style=\"text-align: right;\">\n      <th></th>\n      <th>id</th>\n      <th>name</th>\n      <th>date</th>\n      <th>manner_of_death</th>\n      <th>armed</th>\n      <th>age</th>\n      <th>gender</th>\n      <th>race</th>\n      <th>city</th>\n      <th>state</th>\n      <th>signs_of_mental_illness</th>\n      <th>threat_level</th>\n      <th>flee</th>\n      <th>body_camera</th>\n    </tr>\n  </thead>\n  <tbody>\n    <tr>\n      <th>0</th>\n      <td>3</td>\n      <td>Tim Elliot</td>\n      <td>02/01/15</td>\n      <td>shot</td>\n      <td>gun</td>\n      <td>53.0</td>\n      <td>M</td>\n      <td>A</td>\n      <td>Shelton</td>\n      <td>WA</td>\n      <td>True</td>\n      <td>attack</td>\n      <td>Not fleeing</td>\n      <td>False</td>\n    </tr>\n    <tr>\n      <th>1</th>\n      <td>4</td>\n      <td>Lewis Lee Lembke</td>\n      <td>02/01/15</td>\n      <td>shot</td>\n      <td>gun</td>\n      <td>47.0</td>\n      <td>M</td>\n      <td>W</td>\n      <td>Aloha</td>\n      <td>OR</td>\n      <td>False</td>\n      <td>attack</td>\n      <td>Not fleeing</td>\n      <td>False</td>\n    </tr>\n    <tr>\n      <th>2</th>\n      <td>5</td>\n      <td>John Paul Quintero</td>\n      <td>03/01/15</td>\n      <td>shot and Tasered</td>\n      <td>unarmed</td>\n      <td>23.0</td>\n      <td>M</td>\n      <td>H</td>\n      <td>Wichita</td>\n      <td>KS</td>\n      <td>False</td>\n      <td>other</td>\n      <td>Not fleeing</td>\n      <td>False</td>\n    </tr>\n    <tr>\n      <th>3</th>\n      <td>8</td>\n      <td>Matthew Hoffman</td>\n      <td>04/01/15</td>\n      <td>shot</td>\n      <td>toy weapon</td>\n      <td>32.0</td>\n      <td>M</td>\n      <td>W</td>\n      <td>San Francisco</td>\n      <td>CA</td>\n      <td>True</td>\n      <td>attack</td>\n      <td>Not fleeing</td>\n      <td>False</td>\n    </tr>\n    <tr>\n      <th>4</th>\n      <td>9</td>\n      <td>Michael Rodriguez</td>\n      <td>04/01/15</td>\n      <td>shot</td>\n      <td>nail gun</td>\n      <td>39.0</td>\n      <td>M</td>\n      <td>H</td>\n      <td>Evans</td>\n      <td>CO</td>\n      <td>False</td>\n      <td>attack</td>\n      <td>Not fleeing</td>\n      <td>False</td>\n    </tr>\n    <tr>\n      <th>...</th>\n      <td>...</td>\n      <td>...</td>\n      <td>...</td>\n      <td>...</td>\n      <td>...</td>\n      <td>...</td>\n      <td>...</td>\n      <td>...</td>\n      <td>...</td>\n      <td>...</td>\n      <td>...</td>\n      <td>...</td>\n      <td>...</td>\n      <td>...</td>\n    </tr>\n    <tr>\n      <th>2023</th>\n      <td>2256</td>\n      <td>Jeremy Lopez-Robledo</td>\n      <td>24/01/17</td>\n      <td>shot</td>\n      <td>knife</td>\n      <td>29.0</td>\n      <td>M</td>\n      <td>H</td>\n      <td>Las Cruces</td>\n      <td>NM</td>\n      <td>True</td>\n      <td>attack</td>\n      <td>Foot</td>\n      <td>True</td>\n    </tr>\n    <tr>\n      <th>2024</th>\n      <td>2257</td>\n      <td>Jonathan David Sper</td>\n      <td>24/01/17</td>\n      <td>shot</td>\n      <td>unarmed</td>\n      <td>30.0</td>\n      <td>M</td>\n      <td>W</td>\n      <td>Algoma Township</td>\n      <td>MI</td>\n      <td>True</td>\n      <td>attack</td>\n      <td>Not fleeing</td>\n      <td>False</td>\n    </tr>\n    <tr>\n      <th>2025</th>\n      <td>2258</td>\n      <td>Jose Efrain Rodriguez</td>\n      <td>24/01/17</td>\n      <td>shot and Tasered</td>\n      <td>gun</td>\n      <td>18.0</td>\n      <td>M</td>\n      <td>H</td>\n      <td>Lancaster City</td>\n      <td>PA</td>\n      <td>False</td>\n      <td>attack</td>\n      <td>Not fleeing</td>\n      <td>False</td>\n    </tr>\n    <tr>\n      <th>2026</th>\n      <td>2259</td>\n      <td>Ramon Milanez</td>\n      <td>24/01/17</td>\n      <td>shot</td>\n      <td>gun</td>\n      <td>32.0</td>\n      <td>M</td>\n      <td>H</td>\n      <td>Kuna</td>\n      <td>ID</td>\n      <td>False</td>\n      <td>attack</td>\n      <td>Car</td>\n      <td>False</td>\n    </tr>\n    <tr>\n      <th>2027</th>\n      <td>2260</td>\n      <td>Micah R. Lambert</td>\n      <td>25/01/17</td>\n      <td>shot</td>\n      <td>vehicle</td>\n      <td>37.0</td>\n      <td>M</td>\n      <td>W</td>\n      <td>Oxford</td>\n      <td>AL</td>\n      <td>True</td>\n      <td>attack</td>\n      <td>Car</td>\n      <td>False</td>\n    </tr>\n  </tbody>\n</table>\n<p>2028 rows × 14 columns</p>\n</div>"
     },
     "execution_count": 225,
     "metadata": {},
     "output_type": "execute_result"
    }
   ],
   "source": [
    "\"\"\"\n",
    "Our first goal is going to be data cleaning and munging. We want to take care of all null values\n",
    "first.\n",
    "\"\"\"\n",
    "\n",
    "df_training = pd.read_csv('police_killings_train.csv')\n",
    "df_test = pd.read_csv('police_killings_test.csv')\n",
    "df_race_city = pd.read_csv('share_race_by_city.csv')\n",
    "df_income = pd.read_csv('income.csv', encoding=\"ANSI\")\n",
    "df_poverty = pd.read_csv('poverty.csv', encoding=\"ANSI\")\n",
    "df_education = pd.read_csv('education.csv', encoding=\"ANSI\")\n",
    "\n",
    "df_test.info()\n",
    "df_training"
   ],
   "metadata": {
    "collapsed": false,
    "pycharm": {
     "name": "#%%\n"
    }
   }
  },
  {
   "cell_type": "code",
   "execution_count": 226,
   "outputs": [
    {
     "data": {
      "text/plain": "        id                name      date   manner_of_death       armed   age  \\\n0        3          Tim Elliot  02/01/15              shot         gun  53.0   \n1        4    Lewis Lee Lembke  02/01/15              shot         gun  47.0   \n2        5  John Paul Quintero  03/01/15  shot and Tasered     unarmed  23.0   \n3        8     Matthew Hoffman  04/01/15              shot  toy weapon  32.0   \n4        9   Michael Rodriguez  04/01/15              shot    nail gun  39.0   \n...    ...                 ...       ...               ...         ...   ...   \n2530  2822    Rodney E. Jacobs  28/07/17              shot         gun  31.0   \n2531  2813               TK TK  28/07/17              shot     vehicle   NaN   \n2532  2818  Dennis W. Robinson  29/07/17              shot         gun  48.0   \n2533  2817       Isaiah Tucker  31/07/17              shot     vehicle  28.0   \n2534  2815        Dwayne Jeune  31/07/17              shot       knife  32.0   \n\n     gender race           city state  signs_of_mental_illness threat_level  \\\n0         M    A        Shelton    WA                     True       attack   \n1         M    W          Aloha    OR                    False       attack   \n2         M    H        Wichita    KS                    False        other   \n3         M    W  San Francisco    CA                     True       attack   \n4         M    H          Evans    CO                    False       attack   \n...     ...  ...            ...   ...                      ...          ...   \n2530      M  NaN    Kansas City    MO                    False       attack   \n2531      M  NaN    Albuquerque    NM                    False       attack   \n2532      M  NaN          Melba    ID                    False       attack   \n2533      M    B        Oshkosh    WI                    False       attack   \n2534      M    B       Brooklyn    NY                     True       attack   \n\n             flee  body_camera  \n0     Not fleeing        False  \n1     Not fleeing        False  \n2     Not fleeing        False  \n3     Not fleeing        False  \n4     Not fleeing        False  \n...           ...          ...  \n2530  Not fleeing        False  \n2531          Car        False  \n2532          Car        False  \n2533          Car         True  \n2534  Not fleeing        False  \n\n[2535 rows x 14 columns]",
      "text/html": "<div>\n<style scoped>\n    .dataframe tbody tr th:only-of-type {\n        vertical-align: middle;\n    }\n\n    .dataframe tbody tr th {\n        vertical-align: top;\n    }\n\n    .dataframe thead th {\n        text-align: right;\n    }\n</style>\n<table border=\"1\" class=\"dataframe\">\n  <thead>\n    <tr style=\"text-align: right;\">\n      <th></th>\n      <th>id</th>\n      <th>name</th>\n      <th>date</th>\n      <th>manner_of_death</th>\n      <th>armed</th>\n      <th>age</th>\n      <th>gender</th>\n      <th>race</th>\n      <th>city</th>\n      <th>state</th>\n      <th>signs_of_mental_illness</th>\n      <th>threat_level</th>\n      <th>flee</th>\n      <th>body_camera</th>\n    </tr>\n  </thead>\n  <tbody>\n    <tr>\n      <th>0</th>\n      <td>3</td>\n      <td>Tim Elliot</td>\n      <td>02/01/15</td>\n      <td>shot</td>\n      <td>gun</td>\n      <td>53.0</td>\n      <td>M</td>\n      <td>A</td>\n      <td>Shelton</td>\n      <td>WA</td>\n      <td>True</td>\n      <td>attack</td>\n      <td>Not fleeing</td>\n      <td>False</td>\n    </tr>\n    <tr>\n      <th>1</th>\n      <td>4</td>\n      <td>Lewis Lee Lembke</td>\n      <td>02/01/15</td>\n      <td>shot</td>\n      <td>gun</td>\n      <td>47.0</td>\n      <td>M</td>\n      <td>W</td>\n      <td>Aloha</td>\n      <td>OR</td>\n      <td>False</td>\n      <td>attack</td>\n      <td>Not fleeing</td>\n      <td>False</td>\n    </tr>\n    <tr>\n      <th>2</th>\n      <td>5</td>\n      <td>John Paul Quintero</td>\n      <td>03/01/15</td>\n      <td>shot and Tasered</td>\n      <td>unarmed</td>\n      <td>23.0</td>\n      <td>M</td>\n      <td>H</td>\n      <td>Wichita</td>\n      <td>KS</td>\n      <td>False</td>\n      <td>other</td>\n      <td>Not fleeing</td>\n      <td>False</td>\n    </tr>\n    <tr>\n      <th>3</th>\n      <td>8</td>\n      <td>Matthew Hoffman</td>\n      <td>04/01/15</td>\n      <td>shot</td>\n      <td>toy weapon</td>\n      <td>32.0</td>\n      <td>M</td>\n      <td>W</td>\n      <td>San Francisco</td>\n      <td>CA</td>\n      <td>True</td>\n      <td>attack</td>\n      <td>Not fleeing</td>\n      <td>False</td>\n    </tr>\n    <tr>\n      <th>4</th>\n      <td>9</td>\n      <td>Michael Rodriguez</td>\n      <td>04/01/15</td>\n      <td>shot</td>\n      <td>nail gun</td>\n      <td>39.0</td>\n      <td>M</td>\n      <td>H</td>\n      <td>Evans</td>\n      <td>CO</td>\n      <td>False</td>\n      <td>attack</td>\n      <td>Not fleeing</td>\n      <td>False</td>\n    </tr>\n    <tr>\n      <th>...</th>\n      <td>...</td>\n      <td>...</td>\n      <td>...</td>\n      <td>...</td>\n      <td>...</td>\n      <td>...</td>\n      <td>...</td>\n      <td>...</td>\n      <td>...</td>\n      <td>...</td>\n      <td>...</td>\n      <td>...</td>\n      <td>...</td>\n      <td>...</td>\n    </tr>\n    <tr>\n      <th>2530</th>\n      <td>2822</td>\n      <td>Rodney E. Jacobs</td>\n      <td>28/07/17</td>\n      <td>shot</td>\n      <td>gun</td>\n      <td>31.0</td>\n      <td>M</td>\n      <td>NaN</td>\n      <td>Kansas City</td>\n      <td>MO</td>\n      <td>False</td>\n      <td>attack</td>\n      <td>Not fleeing</td>\n      <td>False</td>\n    </tr>\n    <tr>\n      <th>2531</th>\n      <td>2813</td>\n      <td>TK TK</td>\n      <td>28/07/17</td>\n      <td>shot</td>\n      <td>vehicle</td>\n      <td>NaN</td>\n      <td>M</td>\n      <td>NaN</td>\n      <td>Albuquerque</td>\n      <td>NM</td>\n      <td>False</td>\n      <td>attack</td>\n      <td>Car</td>\n      <td>False</td>\n    </tr>\n    <tr>\n      <th>2532</th>\n      <td>2818</td>\n      <td>Dennis W. Robinson</td>\n      <td>29/07/17</td>\n      <td>shot</td>\n      <td>gun</td>\n      <td>48.0</td>\n      <td>M</td>\n      <td>NaN</td>\n      <td>Melba</td>\n      <td>ID</td>\n      <td>False</td>\n      <td>attack</td>\n      <td>Car</td>\n      <td>False</td>\n    </tr>\n    <tr>\n      <th>2533</th>\n      <td>2817</td>\n      <td>Isaiah Tucker</td>\n      <td>31/07/17</td>\n      <td>shot</td>\n      <td>vehicle</td>\n      <td>28.0</td>\n      <td>M</td>\n      <td>B</td>\n      <td>Oshkosh</td>\n      <td>WI</td>\n      <td>False</td>\n      <td>attack</td>\n      <td>Car</td>\n      <td>True</td>\n    </tr>\n    <tr>\n      <th>2534</th>\n      <td>2815</td>\n      <td>Dwayne Jeune</td>\n      <td>31/07/17</td>\n      <td>shot</td>\n      <td>knife</td>\n      <td>32.0</td>\n      <td>M</td>\n      <td>B</td>\n      <td>Brooklyn</td>\n      <td>NY</td>\n      <td>True</td>\n      <td>attack</td>\n      <td>Not fleeing</td>\n      <td>False</td>\n    </tr>\n  </tbody>\n</table>\n<p>2535 rows × 14 columns</p>\n</div>"
     },
     "execution_count": 226,
     "metadata": {},
     "output_type": "execute_result"
    }
   ],
   "source": [
    "\"\"\"\n",
    "We will combine the training and tesing dataset to make cleaning easier and more accurate\n",
    "\"\"\"\n",
    "\n",
    "df_total = df_training.append(df_test, ignore_index=True)\n",
    "df_total"
   ],
   "metadata": {
    "collapsed": false,
    "pycharm": {
     "name": "#%%\n"
    }
   }
  },
  {
   "cell_type": "code",
   "execution_count": 227,
   "outputs": [
    {
     "name": "stdout",
     "output_type": "stream",
     "text": [
      "<class 'pandas.core.frame.DataFrame'>\n",
      "RangeIndex: 29322 entries, 0 to 29321\n",
      "Data columns (total 3 columns):\n",
      " #   Column           Non-Null Count  Dtype \n",
      "---  ------           --------------  ----- \n",
      " 0   Geographic Area  29322 non-null  object\n",
      " 1   City             29322 non-null  object\n",
      " 2   Median Income    29271 non-null  object\n",
      "dtypes: object(3)\n",
      "memory usage: 687.4+ KB\n",
      "None\n",
      "<class 'pandas.core.frame.DataFrame'>\n",
      "RangeIndex: 29268 entries, 0 to 29267\n",
      "Data columns (total 7 columns):\n",
      " #   Column                 Non-Null Count  Dtype \n",
      "---  ------                 --------------  ----- \n",
      " 0   Geographic area        29268 non-null  object\n",
      " 1   City                   29268 non-null  object\n",
      " 2   share_white            29268 non-null  object\n",
      " 3   share_black            29268 non-null  object\n",
      " 4   share_native_american  29268 non-null  object\n",
      " 5   share_asian            29268 non-null  object\n",
      " 6   share_hispanic         29268 non-null  object\n",
      "dtypes: object(7)\n",
      "memory usage: 1.6+ MB\n"
     ]
    }
   ],
   "source": [
    "print(df_income.info())\n",
    "df_race_city.info()"
   ],
   "metadata": {
    "collapsed": false,
    "pycharm": {
     "name": "#%%\n"
    }
   }
  },
  {
   "cell_type": "code",
   "execution_count": 228,
   "outputs": [
    {
     "name": "stdout",
     "output_type": "stream",
     "text": [
      "1534\n"
     ]
    },
    {
     "data": {
      "text/plain": "['TN-Columbia',\n 'GA-Sylvester',\n 'IL-Metropolis',\n 'AL-Selma',\n 'SC-Johnsonville',\n 'AL-Lawrence County',\n 'TN-Gibson County',\n 'NC-Wilkesboro',\n 'VA-Stafford',\n 'CA-Riverside',\n 'PA-Lewistown',\n 'FL-Homestead',\n 'TN-Bristol',\n 'AZ-Surprise',\n 'HI-Keaau',\n 'AZ-Red Valley',\n 'IL-Springfield',\n 'OH-Cincinnati',\n 'MO-Poplar Bluff',\n 'CA-Shafter',\n 'PA-Bloomsburg',\n 'DE-Middletown',\n 'SC-Lexington',\n 'TX-Sunset',\n 'MN-Columbia Heights',\n 'TN-Raleigh',\n 'TX-Mesquite',\n 'MI-Berrien County',\n 'IN-Indianapolis',\n 'AL-Brooksville',\n 'AL-Muscle Shoals',\n 'WI-Monroe',\n 'KY-Booneville',\n 'NE-Sidney',\n 'OH-Kent',\n 'CO-Aurora',\n 'WI-Millston',\n 'UT-Provo',\n 'GA-East Point',\n 'TX-Rosenberg',\n 'MI-Manistee',\n 'NM-Alamogordo',\n 'AL-Eufaula',\n 'CA-Turlock',\n 'SD-Rapid City',\n 'CA-Desert Edge',\n 'IA-Urbandale',\n 'MA-Roslindale',\n 'NY-Schenectady',\n 'MO-Buffalo',\n 'CA-Bell',\n 'CA-Delhi',\n 'KY-Daviess County',\n 'CA-Burbank',\n 'AR-Bull Shoals',\n 'CA-Oxnard',\n 'RI-Pawtucket',\n 'AL-Phenix City',\n 'GA-Commerce',\n 'CA-Yuba City',\n 'TX-Kerrville',\n 'VA-Harrisonburg',\n 'WA-Cle Elum',\n 'TN-Johnson City',\n 'AK-Fairbanks',\n 'OH-Hudson',\n 'TX-San Angelo',\n 'CA-Lodi',\n 'MS-St. Martin',\n 'SC-Chesterfield County',\n 'GA-Rockville',\n 'PA-Penn Township',\n 'MI-Lansing',\n 'ND-Mandan',\n 'OR-Eugene',\n 'KS-Lehigh',\n 'WV-Elkins',\n 'UT-Ogden',\n 'AR-Sims',\n 'CA-Bellflower',\n 'OH-Howland Township',\n 'TX-El Paso',\n 'WV-Montcalm',\n 'MA-Beverly',\n 'IL-Hurst',\n 'TN-Counce',\n 'OR-Medford',\n 'FL-Cantonment',\n 'CO-Fountain',\n 'CA-Hawaiian Gardens',\n 'NC-Statesville',\n 'MN-Alexandria',\n 'KY-Lancaster',\n 'AL-Washington County',\n 'AL-Saraland',\n 'OK-Healdton',\n 'WA-Wapato',\n 'UT-Logan Canyon',\n 'LA-Mamou',\n 'CA-Cottonwood',\n 'KS-Hutchinson',\n 'WI-Fond du Lac',\n 'NM-Pueblo of Laguna',\n 'GA-Douglas',\n 'IL-Chicago',\n 'WY-Laramie',\n 'TN-Clarksville',\n 'NE-Omaha',\n 'FL-Opa-Locka',\n 'TX-Gladewater',\n 'NC-Lawndale',\n 'OH-Uniontown',\n 'OK-Colbert',\n 'OR-Tualatin',\n 'TN-McLemoresville',\n 'PA-Pittsburgh',\n 'WV-Hometown',\n 'KY-London',\n 'CA-El Monte',\n 'LA-Bossier City',\n 'MN-Vadnais Heights',\n 'GA-Savannah',\n 'CA-Vista',\n 'MO-Odessa',\n 'GA-Ludowici',\n 'CA-Wilmington',\n 'OR-Gresham',\n 'MN-Morris',\n 'GA-Brooklet',\n 'OK-Schulter',\n 'CA-Redlands',\n 'AZ-Parker',\n 'SC-Pelzer',\n 'TX-Hutchins',\n 'FL-Niceville',\n 'MN-Hutchinson',\n 'CA-Clearlake Park',\n 'CA-El Cajon',\n 'WI-Green Bay',\n 'FL-Sneads',\n 'CA-Palm Springs',\n 'CO-Commerce City',\n 'CA-Elk Grove',\n 'GA-Smyrna',\n 'TX-Panhandle',\n 'FL-Oakland Park',\n 'WI-Beaver Dam',\n 'TX-Fritch',\n 'VA-Emporia',\n 'MI-Romulus',\n 'WA-Vancouver',\n 'MO-Columbia',\n 'ME-Waldoboro',\n 'PA-Avella',\n 'OH-Akron',\n 'WV-Weirton',\n 'IN-Kokomo',\n 'VA-Hopewell',\n 'AR-Farmington',\n 'AR-Marion',\n 'SC-Lake View',\n 'MO-Affton',\n 'NJ-Hackensack',\n 'CA-Coalinga',\n 'FL-Delray Beach',\n 'OK-Broken Bow',\n 'CA-South Gate',\n 'WI-Greenfield',\n 'MI-Marion',\n 'NM-Taos',\n 'NC-Efland',\n 'AL-Sylacauga',\n 'MD-North East',\n 'CO-Parker',\n 'WA-Bellingham',\n 'LA-New Iberia',\n 'CA-Fullerton',\n 'HI-Kahuku',\n 'NH-Claremont',\n 'NC-Spring Lake',\n 'SC-Goose Creek',\n 'WV-Morgantown',\n 'OK-McAlester',\n 'CA-Brawley',\n 'CA-San Ysidro',\n 'WY-Casper',\n 'FL-Orange County',\n 'NC-Hudson',\n 'VA-Alexandria',\n 'TX-Tahoka',\n 'CA-Hawthorne',\n 'CA-La Quinta',\n 'WA-Wenatchee',\n 'FL-Hog Valley',\n 'SC-Little Mountain',\n 'FL-Navarre',\n 'LA-Franklin',\n 'NM-Rowe',\n 'CA-Kings County',\n 'CO-Montrose County',\n 'KY-Lawrenceburg',\n 'KY-Pine Top',\n 'MD-Randallstown',\n 'OK-Rush Springs',\n 'FL-Jacksonville',\n 'WA-Muckleshoot Indian Reservation',\n 'PA-Union Township',\n 'MI-Columbia Township',\n 'MT-Huntley',\n 'WA-Kirkland',\n 'NV-Boulder City',\n 'FL-Englewood',\n 'NY-New Paltz',\n 'MN-Vineland',\n 'NC-Stoneville',\n 'CA-Hayward',\n 'CA-Anaheim',\n 'FL-Fort Lauderdale',\n 'CA-Whittier',\n 'OK-Bethany',\n 'OK-Burns Flat',\n 'OK-Cushing',\n 'TN-Morristown',\n 'MS-Ruth',\n 'OH-Dayton',\n 'CA-Hollywood',\n 'CA-Antelope',\n 'MO-McDowell',\n 'MN-Fridley',\n 'FL-Tampa',\n 'CA-Escondido',\n 'OK-Kellyville',\n 'TN-Elizabethton',\n 'NC-Rutherfordton',\n 'AK-Wasilla',\n 'NY-Troy',\n 'SC-Myrtle Beach',\n 'MI-Hessel',\n 'OH-Cleveland',\n 'FL-Orlando',\n 'CA-Santa Maria',\n 'CA-Merced',\n 'OK-Sand Springs',\n 'MD-Fort Meade',\n 'CT-Oakdale',\n 'CA-Hemet',\n 'PA-Chester',\n 'WV-Bluefield',\n 'AL-Arab',\n 'VA-Grayson County',\n 'CA-Madera',\n 'WI-Geneva',\n 'TN-West Knox',\n 'ME-Madison',\n 'TX-Reno',\n 'MD-Mt Airy',\n 'NC-Clinton',\n 'NC-Durham',\n 'PA-Somerset',\n 'TX-Corpus Christi',\n 'CA-Downey',\n 'IA-Burlington',\n 'CA-Barona Indian Reservation',\n 'CA-Camarillo',\n 'WA-Lynnwood',\n 'TX-Fort Stockton',\n 'MN-Mankato',\n 'UT-Aragonite',\n 'MO-North St. Louis',\n 'CA-Twentynine Palms',\n 'VA-Chesapeake',\n 'CA-Studio City',\n 'KY-Phelps',\n 'CA-Seaside',\n 'OK-Wewoka',\n 'NC-Franklin',\n 'CT-Fairfield',\n 'AZ-Golden Valley',\n 'MO-Blue Springs',\n 'CA-Palo Alto',\n 'CA-Clovis',\n 'IA-Boone',\n 'CA-Norwalk',\n 'FL-DeLand',\n 'CA-Valinda',\n 'KS-Topeka',\n 'CA-Moreno Valley',\n 'PA-Canaan Township',\n 'PA-East Stroudsburg',\n 'IN-French Lick',\n 'FL-Pompano Beach',\n 'LA-New Orleans',\n 'LA-Mandeville',\n 'KS-McPherson',\n 'MO-Sullivan',\n 'KY-Fisty',\n 'VA-Woodford',\n 'CA-City Terrace',\n 'ID-Melba',\n 'OH-Colebrook Township',\n 'TX-Lockhart',\n 'ID-Idaho Falls',\n 'VA-Pulaski',\n 'IL-Round Lake',\n 'OK-Lawton',\n 'FL-Naples',\n 'AZ-Maricopa',\n 'GA-Mableton',\n 'IN-English',\n 'MI-Grand Rapids',\n 'TX-Oak Cliff',\n 'CO-Fort Collins',\n 'AL-Deer Park',\n 'OK-Millerton',\n 'CA-Happy Valley',\n 'AZ-Buckeye',\n 'MS-Water Valley',\n 'KS-Colby',\n 'AL-Eastaboga',\n 'MS-Tupelo',\n 'TX-Terrell',\n 'WV-Mount Hope',\n 'MO-Big Bear',\n 'CT-Mashantucket',\n 'CA-Calexico',\n 'AZ-Marana',\n 'GA-Stone Mountain',\n 'NY-New City',\n 'IN-Hanover',\n 'CA-Ripon',\n 'CT-Bolton',\n 'OH-Fairborn',\n 'WA-Ridgefield',\n 'WV-Princeton',\n 'MO-Sedalia',\n 'WA-Graham',\n 'NC-Dublin',\n 'FL-Pinellas Park',\n 'CA-La Mirada',\n 'DE-Claymont',\n 'AZ-Morenci',\n 'NE-Louisville',\n 'WI-Wausau',\n 'AZ-Pima',\n 'AZ-Winslow',\n 'CA-Poway',\n 'IL-Lawndale',\n 'OH-Rome',\n 'AR-Little Rock',\n 'FL-Cape Canaveral',\n 'NY-Cheektowaga',\n 'WY-Cheyenne',\n 'WI-Weston',\n 'MO-Cape Girardeau',\n 'CA-Yorba Linda',\n 'IL-Shawnee National Forest',\n 'CA-Concord',\n 'AR-Mountain Pine',\n 'CA-Sunnyvale',\n 'WA-Bainbridge Island',\n 'TN-Chattanooga',\n 'ID-Kuna',\n 'AK-Big Lake',\n 'SD-Kyle',\n 'MD-Elkton',\n 'SC-Boiling Springs',\n 'NY-Beacon',\n 'MN-Falcon Heights',\n 'CA-Van Nuys',\n 'FL-Thonotosassa',\n 'FL-Fort Pierce',\n 'NY-Staten Island',\n 'PA-Philadelphia',\n 'IN-Beech Grove',\n 'DE-Frederica',\n 'CT-Thomaston',\n 'NC-Ronda',\n 'TX-McKinney',\n 'WV-Augusta',\n 'VA-Pearisburg',\n 'PA-Straban Township',\n 'MI-Belleville',\n 'FL-Crystal Springs',\n 'DE-Smyrna',\n 'NC-Iredell County',\n 'UT-Syracuse',\n 'CA-Needles',\n 'CO-New Castle',\n 'TX-Austin',\n 'TN-Shelbyville',\n 'VA-Fredericksburg',\n 'NJ-Toms River',\n 'AL-Homewood',\n 'KY-Elizabethtown',\n 'SC-Irmo',\n 'AL-Rainbow City',\n 'GA-Port Wentworth',\n 'FL-Plantation',\n 'AZ-Chandler',\n 'GA-Rossville',\n 'CA-Douglas City',\n 'AZ-Florence',\n 'GA-Jesup',\n 'CO-Grand Junction',\n 'GA-Fort Valley',\n 'FL-Milton',\n 'OH-Mansfield',\n 'CA-Dunsmuir',\n 'FL-Deltona',\n 'MO-Ozark',\n 'WA-Yakima',\n 'CA-Rancho Santa Margarita',\n 'AL-Gadsden',\n 'CA-San Francisco',\n 'CA-Jurupa Valley',\n 'KS-Wichita',\n 'TX-Abilene',\n 'CA-Atascadero',\n 'OK-Hominy',\n 'FL-Jupiter',\n 'VA-Aldie',\n 'TN-Nashville',\n 'MD-Middle River',\n 'CO-Pueblo',\n 'SC-Piedmont',\n 'MI-Dearborn',\n 'OK-Wetumka',\n 'GA-Bonaire',\n 'AL-Killeen',\n 'OK-Anadarko',\n 'ID-Hammett',\n 'FL-Yulee',\n 'MS-Hattiesburg',\n 'ME-Arundel',\n 'FL-Orange City',\n 'IA-Cedar Rapids',\n 'CA-Boulder Creek',\n 'LA-Evangeline Parish',\n 'ID-Sandpoint',\n 'TX-Del Rio',\n 'WA-Federal Way',\n 'TX-Beaumont',\n 'CA-Olympic Valley',\n 'OK-Rufe',\n 'TN-Humboldt',\n 'AZ-Bisbee',\n 'IN-Knox',\n 'MI-Wyoming',\n 'FL-Gainesville',\n 'OH-Zanesville',\n 'NM-Hobbs',\n 'WI-Rib Mountain',\n 'CA-Tehachapi',\n 'KY-Bowling Green',\n 'FL-Miami',\n 'TN-Soddy-Daisy',\n 'TX-Fort Worth',\n 'CA-Maywood',\n 'LA-Livingston Parish',\n 'TX-Groveton',\n 'IA-Wellman',\n 'TX-Bellville',\n 'WA-Spanaway',\n 'WI-Appleton',\n 'PA-Chambersburg',\n 'KY-Owensboro',\n 'LA-Crowley',\n 'FL-Lakeland',\n 'FL-Loxahatchee',\n 'TX-Dallas',\n 'TX-Amarillo',\n 'MI-Bay City',\n 'MT-Superior',\n 'CT-Suffield',\n 'KY-Fulton',\n 'IL-Dolton',\n 'PA-Sharon',\n 'NJ-Ideal Beach',\n 'CA-Orange',\n 'TX-Irving',\n 'MT-Livingston',\n 'CA-Point Loma',\n 'UT-West Jordan',\n 'NC-Rowland',\n 'GA-Eden',\n 'OK-Guthrie',\n 'CO-Brighton',\n 'CA-Montclair',\n 'KS-Rosalia',\n 'MT-Malta',\n 'GA-Barrow County',\n 'AR-Dover',\n 'GA-Cochran',\n 'FL-Bradenton',\n 'NM-Roswell',\n 'CO-Federal Heights',\n 'IN-Goshen',\n 'DC-Washington',\n 'OK-Midwest City',\n 'MN-Eagan',\n 'NJ-Maurice River',\n 'PA-Pittston',\n 'NC-Greenville',\n 'KY-Russellville',\n 'CA-Delano',\n 'WI-Lake Hallie',\n 'CA-Santa Monica',\n 'TX-Houston',\n 'CA-Eureka',\n 'VA-Roanoke',\n 'AL-Jackson County',\n 'TX-Arlington',\n 'MO-Springfield',\n 'OH-Southington',\n 'AL-Monroeville',\n 'CA-Winchester',\n 'CO-Park County',\n 'NY-Islip',\n 'IL-East St. Louis',\n 'NM-Jal',\n 'CA-Lake Elsinore',\n 'IL-Marion',\n 'AZ-San Manuel',\n 'MI-Southfield',\n 'SC-Aiken',\n 'TN-Lewisburg',\n 'CA-San Bernardino',\n 'CA-Montebello',\n 'SC-Campobello',\n 'CA-San Mateo',\n 'AL-Meridianville',\n 'WY-Douglas',\n 'NC-East Flat Rock',\n 'CA-Sylmar',\n 'ID-Council',\n 'OK-Pryor',\n 'AR-England',\n 'MN-Minneapolis',\n 'LA-Raceland',\n 'TX-Port Arthur',\n 'OH-Northwood',\n 'IL-Rantoul',\n 'MO-Jackson',\n 'MA-Everett',\n 'SD-Rosebud',\n 'MI-Bloomfield Township',\n 'OR-Bend',\n 'TX-Midland',\n 'AZ-Flagstaff',\n 'WA-East Wenatchee',\n 'MN-Peterson',\n 'CA-Fairfield',\n 'CA-San Diego County',\n 'CA-Byron',\n 'LA-Cade',\n 'NV-Pahrump',\n 'OR-Josephine County',\n 'OR-King City',\n 'CA-Lancaster',\n 'OR-Salem',\n 'UT-Roy',\n 'CA-Sacramento',\n 'PA-Wilkinsburg',\n 'CA-Carson',\n 'WI-Corning',\n 'AZ-La Paz County',\n 'IL-Forest Park',\n 'CA-Watsonville',\n 'OR-Colton',\n 'TX-Victoria',\n 'LA-Pride',\n 'AZ-Phoenix',\n 'OR-Oregon City',\n 'SD-Rapid Valley',\n 'MI-St. Joseph',\n 'CA-Cabazon',\n 'KS-Hays',\n 'SC-Lake City',\n 'MS-Southaven',\n 'AR-West Memphis',\n 'PA-West Chester',\n 'NY-Clarendon',\n 'OR-McMinnville',\n 'NY-Coney Island',\n 'CA-Marina',\n 'CA-Fair Oaks',\n 'MA-Lynn',\n 'MD-Columbia',\n 'IL-Jerseyville',\n 'CA-Venice',\n 'TX-Fulshear',\n 'NY-Greece',\n 'IN-Muncie',\n 'MN-Burnsville',\n 'MO-Nevada',\n 'SC-Taylors',\n 'KY-Morehead',\n 'MN-Bloomington',\n 'ME-Belgrade',\n 'CA-Long Beach',\n 'FL-Deland',\n 'OK-Ardmore',\n 'OH-North Royalton',\n 'TX-Harker Heights',\n 'TN-Hohenwald',\n 'CA-North Hills',\n 'TX-Waco',\n 'AL-Bay Minette',\n 'WV-Meadow Bridge',\n 'OK-Muskogee',\n 'CA-Castaic',\n 'OK-Fairfax',\n 'IN-Harmony',\n 'FL-Jacksonsville',\n 'NM-Eldorado',\n 'NJ-Paterson',\n 'FL-Wellington',\n 'UT-Draper',\n 'CA-Azusa',\n 'CA-Highgrove',\n 'ME-Presque Isle',\n 'VA-Winchester',\n 'OH-Twinsburg',\n 'MI-Brighton Township',\n 'NC-Gastonia',\n 'CA-Cerritos',\n 'FL-Pensacola',\n 'ID-Middleton',\n 'NJ-Lyndhurst',\n 'KY-Richmond',\n 'MD-Montgomery Village',\n 'MS-Barton',\n 'NC-Asheville',\n 'MS-Columbus',\n 'WA-Everett',\n 'WV-Clendenin',\n 'IL-Rock Island',\n 'TX-Splendora',\n 'OH-Geneva Township',\n 'CA-Visalia',\n 'WA-Fife',\n 'WV-Nitro',\n 'ID-Jefferson County',\n 'OR-Wilderville',\n 'WI-Sheboygan',\n 'KY-Louisville',\n 'NJ-Newark',\n 'NC-Fayetteville',\n 'CA-Glendale',\n 'TX-Katy',\n 'TX-Euless',\n 'NV-Gardnerville Ranchos',\n 'WA-Pasco',\n 'CA-Aguanga',\n 'IL-Stockton',\n 'MI-Warren',\n 'CO-Northglenn',\n 'TX-Azle',\n 'NJ-Vineland',\n 'NY-Buffalo',\n 'NC-Archdale',\n 'FL-Palm Harbor',\n 'AL-Tuscumbia',\n 'WA-Hunters',\n 'NC-Granite Falls',\n 'NM-Ruidoso',\n 'FL-Manatee',\n 'NC-Canton',\n 'LA-Converse',\n 'GA-Marietta',\n 'FL-Largo',\n 'OK-Byng',\n 'CA-Redding',\n 'TX-Edinburg',\n 'TN-Alamo',\n 'IL-Arcola',\n 'TX-Palestine',\n 'TN-Reagan',\n 'NM-Socorro',\n 'FL-Miami Beach',\n 'CA-Chula Vista',\n 'IN-Terre Haute',\n 'MS-Gulfport',\n 'IA-Des Moines',\n 'CA-Irvine',\n 'GA-Elberton',\n 'NV-North Las Vegas',\n 'WI-Antigo',\n 'CA-Santa Ana',\n 'OH-Findlay',\n 'AR-Perryville',\n 'PA-Harrisburg',\n 'GA-Moultrie',\n 'NM-Los Lunas',\n 'SC-Hardeeville',\n 'PA-Johnstown',\n 'FL-Middleburg',\n 'OR-Wolf Creek',\n 'TX-Jourdanton',\n 'FL-North Port',\n 'MN-Cohasset',\n 'NJ-Woodbridge',\n 'CA-Boyle Heights',\n 'KY-Simpsonsville',\n 'SC-Summerville',\n 'AL-Birmingham',\n 'AL-Clanton',\n 'MO-Harrisonville',\n 'CA-Hesperia',\n 'MA-West Springfield',\n 'TX-Winnie',\n 'VA-Arlington',\n 'CA-Inyokern',\n 'WV-Petroleum',\n 'TX-Lake Jackson',\n 'NC-Ashe County',\n 'KS-Kansas City',\n 'NC-Greensboro',\n 'CA-Wasco',\n 'WI-Oshkosh',\n 'CA-West Covina',\n 'TX-Onalaska',\n 'LA-Alexandria',\n 'TX-Plano',\n 'NC-Wake Forest',\n 'WI-Neenah',\n 'FL-Weeki Wachi',\n 'TX-San Antonio',\n 'CO-Bailey',\n 'WI-Pembine',\n 'AZ-Cottonwood',\n 'GA-Valdosta',\n 'IL-Rockford',\n 'TX-Ellis County',\n 'IL-River Forest',\n 'TX-Carrollton',\n 'AL-Opp',\n 'OK-Logan County',\n 'FL-Belle Glade',\n 'KY-Chavies',\n 'IN-Elkhart',\n 'WA-Thurston County',\n 'TX-Rosser',\n 'SC-North Charleston',\n 'CA-Olivehurst',\n 'GA-Peachtree City',\n 'SC-Pendleton',\n 'CA-Lakewood',\n 'CA-San Fernando',\n 'WV-Beckley',\n 'TX-Pearland',\n 'CA-Barstow',\n 'NJ-Bridgeton',\n 'MN-Plymouth',\n 'KY-White Plains',\n 'NV-Sparks',\n 'NY-Glenville',\n 'NH-Peterborough',\n 'TX-Nocona',\n 'NJ-Little Egg Harbor',\n 'CA-South Los Angeles',\n 'NC-Maiden',\n 'WI-Ashwaubenon',\n 'NY-Mount Vernon',\n 'TX-Seagoville',\n 'SC-Seneca',\n 'NJ-Trenton',\n 'CA-Grover Beach',\n 'TN-Gray',\n 'MS-Petal',\n 'OK-Cache',\n 'AZ-Bullhead City',\n 'CT-Bridgeport',\n 'AL-Tuscaloosa',\n 'VA-Scott County',\n 'PA-Hummelstown',\n 'MT-Three Forks',\n 'FL-Orange Park',\n 'SC-Iva',\n 'CA-Gardena',\n 'OH-Westlake',\n 'WA-Beaver',\n 'WA-Tukwila',\n 'CA-Rosemead',\n 'OR-Clackamas County',\n 'CA-Chino',\n 'AZ-Kearny',\n 'HI-Honolulu',\n 'MA-Taunton',\n 'CA-Oakland',\n 'KY-Trosper',\n 'OH-Sylvania Township',\n 'MD-Landover',\n 'PA-Upper Darby',\n 'GA-White',\n 'ID-Garden City',\n 'KS-Olathe',\n 'FL-Panama City Beach',\n 'GA-Augusta',\n 'CA-Windsor',\n 'CA-Yreka',\n 'TN-Lakeland',\n 'TX-Killeen',\n 'CA-Cathedral City',\n 'OH-Columbus',\n 'CA-Monterey',\n 'MI-Kentwood',\n 'CA-Compton',\n 'TX-Spring',\n 'CA-Fremont',\n 'HI-Hilo',\n 'GA-Loganville',\n 'TX-Allen',\n 'OH-Mt. Auburn',\n 'CA-Siskiyou County',\n 'UT-Centerville',\n 'OH-Vandalia',\n 'MN-Austin',\n 'CA-Campo',\n 'MD-District Heights',\n 'TX-Clute',\n 'AK-Kenai Peninsula',\n 'CA-Del Mar',\n 'TX-Bexar County',\n 'RI-Tiverton',\n 'CA-Lompoc',\n 'MN-New Hope',\n 'FL-Palm Beach Gardens',\n 'AR-Cabot',\n 'OR-Beaverton',\n 'VA-Norman',\n 'TX-Ponder',\n 'CA-Temecula',\n 'VA-York County',\n 'TN-Oneida',\n 'CA-Colton',\n 'TX-Temple',\n 'MI-Benton Harbor',\n 'FL-Palm Bay',\n 'CA-Vallejo',\n 'OH-Circleville',\n 'MD-Owings Mills',\n 'TX-Baytown',\n 'MN-St. Cloud',\n 'CA-Selma',\n 'TX-Llano',\n 'OR-Portland',\n 'LA-Ouachita Parish',\n 'MI-Beaverton',\n 'FL-Lealman',\n 'GA-Tyrone',\n 'CO-Englewood',\n 'TX-Mission',\n 'IL-Markham',\n 'IL-Benton',\n 'UT-Clearfield',\n 'NJ-Manchester',\n 'MA-Boston',\n 'FL-St. Petersburg',\n 'PA-Lancaster City',\n 'GA-Covington',\n 'WI-Kenosha',\n 'WA-Richland',\n 'AL-Macon County',\n 'CA-Rancho Cordova',\n 'ME-Vassalboro',\n 'GA-Stockbridge',\n 'NM-Artesia',\n 'PA-Mount Washington',\n 'KY-Brodhead',\n 'HI-Papaaloa',\n 'IL-Zion',\n 'CA-Santa Cruz',\n 'LA-Houma',\n 'PA-York',\n 'IL-Joilet',\n 'AZ-Tempe',\n 'OK-Oklahoma City',\n 'AR-Jonesboro',\n 'NC-Pinnacle',\n 'FL-Plant City',\n 'IL-Clinton',\n 'OK-Leedey',\n 'NY-Bronx',\n 'MD-Dundalk',\n 'WA-Kelso',\n 'NC-Lumberton',\n 'ID-Mountain Home',\n 'NC-Gaston County',\n 'PA-Lancaster',\n 'CA-East Hollywood',\n 'KS-Udall',\n 'TN-East Ridge',\n 'LA-Slidell',\n 'WA-Spokane',\n 'TX-Wink',\n 'TX-Weatherford',\n 'AK-Barrow',\n 'NY-Berne',\n 'HI-Aiea',\n 'FL-West Palm Beach',\n 'MD-Rising Sun',\n 'LA-Lakes Charles',\n 'FL-Miami Gardens',\n 'CA-Pico Rivera',\n 'KY-Ludlow',\n 'MT-Billings',\n 'OK-Wagoner',\n 'GA-Woodstock',\n 'AR-Sheridan',\n 'CA-Hollywood Hills',\n 'TN-Decatur County',\n 'NE-Lincoln',\n 'OR-Burns',\n 'FL-Port St. Lucie',\n 'NJ-Atlantic City',\n 'FL-Hallandale Beach',\n 'CA-Hacienda Heights',\n 'WI-Eau Claire',\n 'WA-Sumas',\n 'MD-Salisbury',\n 'AZ-Sun City',\n 'OH-Richmond Heights',\n 'NC-Brevard',\n 'GA-Acworth',\n 'TN-Estill Springs',\n 'TX-Campbellton',\n 'TX-North Laredo',\n 'CO-Strasburg',\n 'CO-Eldorado Springs',\n 'WV-Hensley',\n 'GA-Cedartown',\n 'OH-Celina',\n 'NH-Merrimack',\n 'MN-Aitkin',\n 'NM-San Rafael',\n 'LA-Winnsboro',\n 'OR-West Linn',\n 'KS-Newton',\n 'IL-Alton',\n 'WV-Brandywine',\n 'TX-Longview',\n 'CA-Union City',\n 'CA-Chowchilla',\n 'IN-Fishers',\n 'TX-Beckville',\n 'AZ-Somerton',\n 'FL-Lake Asbury',\n 'NM-Crownpoint',\n 'VA-Falls Church',\n 'MD-Greenbelt',\n 'MO-Sugar Creek',\n 'IL-Deerfield',\n 'GA-Douglasville',\n 'NC-Dallas',\n 'GA-Newnan',\n 'UT-Salt Lake City',\n 'CA-Ontario',\n 'CO-Greeley',\n 'NJ-Byram',\n 'DE-New Castle',\n 'TX-Levelland',\n 'MI-Ishpeming Township',\n 'PA-Allentown',\n 'GA-Riverdale',\n 'TN-Lenoir City',\n 'MO-Maysville',\n 'LA-Homer',\n 'AL-Mobile',\n 'KY-Princeton',\n 'MA-Webster',\n 'ND-Grand Forks',\n 'WI-New London',\n 'WV-Braxton County',\n 'IL-Lyons',\n 'AZ-Golden Shores',\n 'TX-Odessa',\n 'LA-Kenner',\n 'GA-Lawrenceville',\n 'OH-Springfield',\n 'WA-Grapeview',\n 'CA-Smartsville',\n 'SD-Sioux Falls',\n 'GA-Austell',\n 'LA-Gretna',\n 'NY-Brooklyn',\n 'WI-Madison',\n 'OH-Englewood',\n 'OH-Perry Township',\n 'VA-Richmond',\n 'NM-Santa Fe',\n 'IL-Villa Park',\n 'CA-San Marcos',\n 'NM-Laguna Pueblo',\n 'CA-Pinion Hills',\n 'AL-Montgomery',\n 'TX-Kingsbury',\n 'SC-Edmund',\n 'WA-Auburn',\n 'AR-Manila',\n ...]"
     },
     "execution_count": 228,
     "metadata": {},
     "output_type": "execute_result"
    }
   ],
   "source": [
    "\"\"\"\n",
    "Race is one of the fields that have missing fields, we will use the race_city dataset to help\n",
    "get an insight into which race to pick. First we ant to get the mode of the race's by city and impute\n",
    "it directly in. Then we want to get the mode of the race and place it in, if there is more than one\n",
    "mode then use race_city and take the race of highest population\n",
    "\"\"\"\n",
    "#make a list of unique cities, and include the state so we don't deal with same city names of different states\n",
    "df_total['city'] = df_total[['state', 'city']].apply(\"-\".join,axis=1)\n",
    "cities = df_total['city'].tolist()\n",
    "cities =list(set(cities))\n",
    "print(len(cities))\n",
    "cities"
   ],
   "metadata": {
    "collapsed": false,
    "pycharm": {
     "name": "#%%\n"
    }
   }
  },
  {
   "cell_type": "code",
   "execution_count": 229,
   "outputs": [
    {
     "name": "stdout",
     "output_type": "stream",
     "text": [
      "5\n",
      "5\n",
      "5\n",
      "5\n",
      "5\n",
      "5\n",
      "5\n",
      "5\n",
      "5\n",
      "5\n",
      "5\n",
      "5\n",
      "5\n",
      "5\n",
      "5\n",
      "5\n",
      "5\n",
      "5\n",
      "5\n",
      "5\n",
      "total cities with bad points =  20\n"
     ]
    }
   ],
   "source": [
    "\"\"\"\n",
    "Let's try cleaning the the race of city dataset now viewing the missing datapoints which are denoted at (X).\n",
    "\"\"\"\n",
    "df_race_city['city'] = df_race_city[['Geographic area', 'City']].apply(\"-\".join,axis=1)\n",
    "list_race_df = df_race_city.values.tolist()\n",
    "j = 0\n",
    "list_bad_cities = []\n",
    "for i in list_race_df:\n",
    "    #we can see it is only null when all races are missing\n",
    "    if(i.count('(X)') > 0):\n",
    "        j+=1\n",
    "        list_bad_cities.append(i[1])\n",
    "        print(i.count('(X)'))\n",
    "print(\"total cities with bad points = \", j)\n"
   ],
   "metadata": {
    "collapsed": false,
    "pycharm": {
     "name": "#%%\n"
    }
   }
  },
  {
   "cell_type": "code",
   "execution_count": 230,
   "outputs": [
    {
     "name": "stdout",
     "output_type": "stream",
     "text": [
      "<class 'pandas.core.frame.DataFrame'>\n",
      "Int64Index: 29248 entries, 0 to 29267\n",
      "Data columns (total 8 columns):\n",
      " #   Column                 Non-Null Count  Dtype \n",
      "---  ------                 --------------  ----- \n",
      " 0   Geographic area        29248 non-null  object\n",
      " 1   City                   29248 non-null  object\n",
      " 2   share_white            29248 non-null  object\n",
      " 3   share_black            29248 non-null  object\n",
      " 4   share_native_american  29248 non-null  object\n",
      " 5   share_asian            29248 non-null  object\n",
      " 6   share_hispanic         29248 non-null  object\n",
      " 7   city                   29248 non-null  object\n",
      "dtypes: object(8)\n",
      "memory usage: 2.0+ MB\n",
      "None\n",
      "<class 'pandas.core.frame.DataFrame'>\n",
      "RangeIndex: 29268 entries, 0 to 29267\n",
      "Data columns (total 8 columns):\n",
      " #   Column                 Non-Null Count  Dtype \n",
      "---  ------                 --------------  ----- \n",
      " 0   Geographic area        29268 non-null  object\n",
      " 1   City                   29268 non-null  object\n",
      " 2   share_white            29268 non-null  object\n",
      " 3   share_black            29268 non-null  object\n",
      " 4   share_native_american  29268 non-null  object\n",
      " 5   share_asian            29268 non-null  object\n",
      " 6   share_hispanic         29268 non-null  object\n",
      " 7   city                   29268 non-null  object\n",
      "dtypes: object(8)\n",
      "memory usage: 1.8+ MB\n"
     ]
    }
   ],
   "source": [
    "\"\"\"With only 20/29260 holding a row of null values, we shall drop these cities\"\"\"\n",
    "tempDf_race = df_race_city[df_race_city.share_white != '(X)'].copy()\n",
    "print(tempDf_race.info())\n",
    "df_race_city.info()"
   ],
   "metadata": {
    "collapsed": false,
    "pycharm": {
     "name": "#%%\n"
    }
   }
  },
  {
   "cell_type": "code",
   "execution_count": 231,
   "outputs": [
    {
     "data": {
      "text/plain": "['share_white',\n 'share_black',\n 'share_native_american',\n 'share_asian',\n 'share_hispanic']"
     },
     "execution_count": 231,
     "metadata": {},
     "output_type": "execute_result"
    }
   ],
   "source": [
    "list_total_races = []\n",
    "columns_race = tempDf_race.columns.values.tolist()\n",
    "s = 'share'\n",
    "columns_race = [string for string in columns_race if(s in string)]\n",
    "columns_race"
   ],
   "metadata": {
    "collapsed": false,
    "pycharm": {
     "name": "#%%\n"
    }
   }
  },
  {
   "cell_type": "code",
   "execution_count": 236,
   "outputs": [
    {
     "name": "stdout",
     "output_type": "stream",
     "text": [
      "4\n",
      "0\n",
      "0\n",
      "0\n",
      "0\n",
      "0\n"
     ]
    },
    {
     "data": {
      "text/plain": "2433809.0"
     },
     "execution_count": 236,
     "metadata": {},
     "output_type": "execute_result"
    }
   ],
   "source": [
    "temp = [\"ok\", \"o\", \"ok\", \" sdos\", 2, 3, 4, 5, 6, 6]\n",
    "j = 0\n",
    "for i in temp:\n",
    "    if(isinstance(i,str)):\n",
    "        j+=1\n",
    "print( j )\n",
    "for i in columns_race:\n",
    "    j = 0\n",
    "    for k in tempDf_race[i].values.tolist():\n",
    "        if(isinstance(k,str)):\n",
    "            j+=1\n",
    "    print(j)\n",
    "    tempDf_race[i] = tempDf_race[i].astype(float)\n",
    "\n",
    "    list_total_races.append(tempDf_race[i].sum().astype(float))\n",
    "list_total_races[0]"
   ],
   "metadata": {
    "collapsed": false,
    "pycharm": {
     "name": "#%%\n"
    }
   }
  },
  {
   "cell_type": "code",
   "execution_count": 145,
   "outputs": [
    {
     "name": "stdout",
     "output_type": "stream",
     "text": [
      "AL-Lawrence County\n"
     ]
    },
    {
     "ename": "ValueError",
     "evalue": "'AL-Lawrence County' is not in list",
     "output_type": "error",
     "traceback": [
      "\u001B[1;31m---------------------------------------------------------------------------\u001B[0m",
      "\u001B[1;31mValueError\u001B[0m                                Traceback (most recent call last)",
      "\u001B[1;32mC:\\Users\\saads\\AppData\\Local\\Temp\\ipykernel_18776\\779600988.py\u001B[0m in \u001B[0;36m<module>\u001B[1;34m\u001B[0m\n\u001B[0;32m     13\u001B[0m     \u001B[1;32melse\u001B[0m\u001B[1;33m:\u001B[0m\u001B[1;33m\u001B[0m\u001B[1;33m\u001B[0m\u001B[0m\n\u001B[0;32m     14\u001B[0m         \u001B[0mprint\u001B[0m\u001B[1;33m(\u001B[0m\u001B[0mi\u001B[0m\u001B[1;33m)\u001B[0m\u001B[1;33m\u001B[0m\u001B[1;33m\u001B[0m\u001B[0m\n\u001B[1;32m---> 15\u001B[1;33m         \u001B[0mprint\u001B[0m\u001B[1;33m(\u001B[0m\u001B[0mcities2\u001B[0m\u001B[1;33m.\u001B[0m\u001B[0mindex\u001B[0m\u001B[1;33m(\u001B[0m\u001B[0mi\u001B[0m\u001B[1;33m[\u001B[0m\u001B[1;36m0\u001B[0m\u001B[1;33m:\u001B[0m\u001B[1;33m:\u001B[0m\u001B[1;36m1\u001B[0m\u001B[1;33m]\u001B[0m\u001B[1;33m)\u001B[0m\u001B[1;33m)\u001B[0m\u001B[1;33m\u001B[0m\u001B[1;33m\u001B[0m\u001B[0m\n\u001B[0m\u001B[0;32m     16\u001B[0m \u001B[1;33m\u001B[0m\u001B[0m\n\u001B[0;32m     17\u001B[0m \u001B[0mprint\u001B[0m\u001B[1;33m(\u001B[0m\u001B[0mj\u001B[0m\u001B[1;33m)\u001B[0m\u001B[1;33m\u001B[0m\u001B[1;33m\u001B[0m\u001B[0m\n",
      "\u001B[1;31mValueError\u001B[0m: 'AL-Lawrence County' is not in list"
     ]
    }
   ],
   "source": [
    "#we can check that all the cities in the total data set is still in the race_city dataset\n",
    "cities2 = tempDf_race['city'].tolist()\n",
    "cities2 =list(set(cities2))\n",
    "j = 0\n",
    "for i in cities:\n",
    "    # print(i in cities2)\n",
    "    # print(i)\n",
    "    # print(cities2.index(i[0::1]))\n",
    "    if(any(i in string for string in cities2)):\n",
    "        #print(i)\n",
    "        j+=1\n",
    "    else:\n",
    "        print(i)\n",
    "        print(cities2.index(i[0::1]))\n",
    "\n",
    "print(j)\n",
    "print(list_bad_cities)"
   ],
   "metadata": {
    "collapsed": false,
    "pycharm": {
     "name": "#%%\n"
    }
   }
  },
  {
   "cell_type": "code",
   "execution_count": null,
   "outputs": [],
   "source": [
    "#make a list of df fT-oubaor each city\n",
    "list_df_cities = []\n",
    "for i in cities:\n",
    "    list_df_cities.append(df_total.loc[df_total['city'] == i])"
   ],
   "metadata": {
    "collapsed": false,
    "pycharm": {
     "name": "#%%\n"
    }
   }
  },
  {
   "cell_type": "code",
   "execution_count": null,
   "outputs": [],
   "source": [
    "#make a list of race\n",
    "races = df_total['race'].tolist()\n",
    "races =list(set(races))\n",
    "races = races[1::]\n",
    "races"
   ],
   "metadata": {
    "collapsed": false,
    "pycharm": {
     "name": "#%%\n"
    }
   }
  },
  {
   "cell_type": "code",
   "execution_count": null,
   "outputs": [],
   "source": [
    "mode_total = df_total['race'].mode(dropna=True).tolist()\n",
    "print(mode_total)\n",
    "for i in list_df_cities:\n",
    "    mode = i['race'].mode(dropna=True)\n",
    "    if(len(mode) == 0):\n",
    "        i[['race']] = i[['race']].fillna(mode_total[0])\n",
    "        if(i['race'].isnull().sum() != 0):\n",
    "            print(\"null val\")\n",
    "    elif(isinstance(mode, type(i['race']))):\n",
    "        mode.dropna()\n",
    "        mode = mode.tolist()\n",
    "        #if the mode has more than one value then take a random choice between the values\n",
    "        i[['race']] = i[['race']].fillna(random.choice(tuple(mode)))\n",
    "\n",
    "\n",
    "\n",
    "    df_total.loc[df_total['city'] ==  i.at[i.first_valid_index(),'city']] = i\n",
    "df_total.info()"
   ],
   "metadata": {
    "collapsed": false,
    "pycharm": {
     "name": "#%%\n"
    }
   }
  },
  {
   "cell_type": "code",
   "execution_count": null,
   "outputs": [],
   "source": [
    " # removed all data wiht NaN in race Column...df_training[df_training['race'].isnull()]\n",
    "df_total"
   ],
   "metadata": {
    "collapsed": false,
    "pycharm": {
     "name": "#%%\n"
    }
   }
  },
  {
   "cell_type": "code",
   "execution_count": null,
   "outputs": [],
   "source": [
    "\"\"\"\n",
    "We noticed that some of the 'age' data is missing.\n",
    "So we imputed the average age of the people in each city and imputed the average age for the missing ages based on their city.\n",
    "1. We calculate the total mean age of our total data sample.\n",
    "2. We group by city, then calculate the mean Age at each city.\n",
    "3. For each NaN age, we impute the mean age of that city. If that city was not calcuated (meaning this data is the only one from that city), we will use the total mean age.\n",
    "\"\"\"\n",
    "age_fix = df_total[['id','age','city']].copy()\n",
    "age_fix = age_fix[age_fix['age'].isnull()].copy()\n",
    "# 1. Calculate Total Mean Age\n",
    "total_mean_age = df_total['age'].mean()\n",
    "\n",
    "# 2. Calculate Mean of Each City\n",
    "city_mean_ages = df_total.groupby('city')['age'].mean()\n",
    "\n",
    "#3. Impute Age by the city. If City data does not exist, use Total Mean Age.\n",
    "for i in age_fix.index:\n",
    "    city = age_fix['city'][i]\n",
    "    if city in city_mean_ages and not np.isnan(city_mean_ages[city]):\n",
    "        age_fix['age'][i] = city_mean_ages[city]\n",
    "    else:\n",
    "        age_fix['age'][i] = total_mean_age\n",
    "\n",
    "\n",
    "# update total list\n",
    "df_total.update(age_fix)\n",
    "\n",
    "df_total.info()"
   ],
   "metadata": {
    "collapsed": false,
    "pycharm": {
     "name": "#%%\n"
    }
   }
  },
  {
   "cell_type": "code",
   "execution_count": null,
   "outputs": [],
   "source": [
    "\"\"\"\n",
    "Fix the 'race' column\n",
    "We want to impute the NaN in the 'race' column with the most frequent race that is reported in the same city.\n",
    "First get a list of cities,\n",
    "second, get the mode for each city.\n",
    "\"\"\"\n",
    "training_race_noNaN = df_training[df_training['race'].notnull()].copy()\n",
    "\n",
    "training_cities = training_race_noNaN['city'].unique()\n",
    "\n",
    "training_race_noNaN"
   ],
   "metadata": {
    "collapsed": false,
    "pycharm": {
     "name": "#%%\n"
    }
   }
  },
  {
   "cell_type": "code",
   "execution_count": null,
   "outputs": [],
   "source": [
    "training_race_noNaN.groupby('city')['race'].agg(pd.Series.mode).to_frame()"
   ],
   "metadata": {
    "collapsed": false,
    "pycharm": {
     "name": "#%%\n"
    }
   }
  },
  {
   "cell_type": "code",
   "execution_count": null,
   "outputs": [],
   "source": [],
   "metadata": {
    "collapsed": false,
    "pycharm": {
     "name": "#%%\n"
    }
   }
  },
  {
   "cell_type": "code",
   "execution_count": null,
   "outputs": [],
   "source": [
    "training_race_noNaN.groupby('city')['race'].agg(pd.Series.mode).to_frame()"
   ],
   "metadata": {
    "collapsed": false,
    "pycharm": {
     "name": "#%%\n"
    }
   }
  },
  {
   "cell_type": "code",
   "execution_count": null,
   "outputs": [],
   "source": [],
   "metadata": {
    "collapsed": false,
    "pycharm": {
     "name": "#%%\n"
    }
   }
  }
 ],
 "metadata": {
  "kernelspec": {
   "display_name": "Python 3",
   "language": "python",
   "name": "python3"
  },
  "language_info": {
   "codemirror_mode": {
    "name": "ipython",
    "version": 2
   },
   "file_extension": ".py",
   "mimetype": "text/x-python",
   "name": "python",
   "nbconvert_exporter": "python",
   "pygments_lexer": "ipython2",
   "version": "2.7.6"
  }
 },
 "nbformat": 4,
 "nbformat_minor": 0
}