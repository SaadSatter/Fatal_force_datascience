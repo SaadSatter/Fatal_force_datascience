{
 "cells": [
  {
   "cell_type": "code",
   "execution_count": 19,
   "metadata": {
    "collapsed": true
   },
   "outputs": [],
   "source": [
    "import itertools\n",
    "import pandas as pd\n",
    "import sklearn\n",
    "from sklearn.model_selection import train_test_split\n",
    "import datetime\n",
    "from sklearn import metrics\n",
    "from sklearn.linear_model import LinearRegression\n",
    "from sklearn.linear_model import LogisticRegression\n",
    "import matplotlib.pyplot as plt\n",
    "import numpy as np\n",
    "import seaborn as sb"
   ]
  },
  {
   "cell_type": "code",
   "execution_count": 20,
   "outputs": [
    {
     "name": "stdout",
     "output_type": "stream",
     "text": [
      "<class 'pandas.core.frame.DataFrame'>\n",
      "RangeIndex: 507 entries, 0 to 506\n",
      "Data columns (total 14 columns):\n",
      " #   Column                   Non-Null Count  Dtype  \n",
      "---  ------                   --------------  -----  \n",
      " 0   id                       507 non-null    int64  \n",
      " 1   name                     507 non-null    object \n",
      " 2   date                     507 non-null    object \n",
      " 3   manner_of_death          507 non-null    object \n",
      " 4   armed                    504 non-null    object \n",
      " 5   age                      467 non-null    float64\n",
      " 6   gender                   507 non-null    object \n",
      " 7   race                     403 non-null    object \n",
      " 8   city                     507 non-null    object \n",
      " 9   state                    507 non-null    object \n",
      " 10  signs_of_mental_illness  507 non-null    bool   \n",
      " 11  threat_level             507 non-null    object \n",
      " 12  flee                     469 non-null    object \n",
      " 13  body_camera              507 non-null    bool   \n",
      "dtypes: bool(2), float64(1), int64(1), object(10)\n",
      "memory usage: 48.6+ KB\n"
     ]
    },
    {
     "data": {
      "text/plain": "      Geographic area                    City share_white share_black  \\\n0                  AL              Abanda CDP        67.2        30.2   \n1                  AL          Abbeville city        54.4        41.4   \n2                  AL         Adamsville city        52.3        44.9   \n3                  AL            Addison town        99.1         0.1   \n4                  AL              Akron town        13.2        86.5   \n...               ...                     ...         ...         ...   \n29263              WY  Woods Landing-Jelm CDP        95.9           0   \n29264              WY            Worland city        89.9         0.3   \n29265              WY             Wright town        94.5         0.1   \n29266              WY              Yoder town        97.4           0   \n29267              WY           Y-O Ranch CDP        92.8         1.5   \n\n      share_native_american share_asian share_hispanic  \n0                         0           0            1.6  \n1                       0.1           1            3.1  \n2                       0.5         0.3            2.3  \n3                         0         0.1            0.4  \n4                         0           0            0.3  \n...                     ...         ...            ...  \n29263                     0         2.1              0  \n29264                   1.3         0.6           16.6  \n29265                   1.4         0.2            6.2  \n29266                     0           0              4  \n29267                   2.6           0           11.8  \n\n[29268 rows x 7 columns]",
      "text/html": "<div>\n<style scoped>\n    .dataframe tbody tr th:only-of-type {\n        vertical-align: middle;\n    }\n\n    .dataframe tbody tr th {\n        vertical-align: top;\n    }\n\n    .dataframe thead th {\n        text-align: right;\n    }\n</style>\n<table border=\"1\" class=\"dataframe\">\n  <thead>\n    <tr style=\"text-align: right;\">\n      <th></th>\n      <th>Geographic area</th>\n      <th>City</th>\n      <th>share_white</th>\n      <th>share_black</th>\n      <th>share_native_american</th>\n      <th>share_asian</th>\n      <th>share_hispanic</th>\n    </tr>\n  </thead>\n  <tbody>\n    <tr>\n      <th>0</th>\n      <td>AL</td>\n      <td>Abanda CDP</td>\n      <td>67.2</td>\n      <td>30.2</td>\n      <td>0</td>\n      <td>0</td>\n      <td>1.6</td>\n    </tr>\n    <tr>\n      <th>1</th>\n      <td>AL</td>\n      <td>Abbeville city</td>\n      <td>54.4</td>\n      <td>41.4</td>\n      <td>0.1</td>\n      <td>1</td>\n      <td>3.1</td>\n    </tr>\n    <tr>\n      <th>2</th>\n      <td>AL</td>\n      <td>Adamsville city</td>\n      <td>52.3</td>\n      <td>44.9</td>\n      <td>0.5</td>\n      <td>0.3</td>\n      <td>2.3</td>\n    </tr>\n    <tr>\n      <th>3</th>\n      <td>AL</td>\n      <td>Addison town</td>\n      <td>99.1</td>\n      <td>0.1</td>\n      <td>0</td>\n      <td>0.1</td>\n      <td>0.4</td>\n    </tr>\n    <tr>\n      <th>4</th>\n      <td>AL</td>\n      <td>Akron town</td>\n      <td>13.2</td>\n      <td>86.5</td>\n      <td>0</td>\n      <td>0</td>\n      <td>0.3</td>\n    </tr>\n    <tr>\n      <th>...</th>\n      <td>...</td>\n      <td>...</td>\n      <td>...</td>\n      <td>...</td>\n      <td>...</td>\n      <td>...</td>\n      <td>...</td>\n    </tr>\n    <tr>\n      <th>29263</th>\n      <td>WY</td>\n      <td>Woods Landing-Jelm CDP</td>\n      <td>95.9</td>\n      <td>0</td>\n      <td>0</td>\n      <td>2.1</td>\n      <td>0</td>\n    </tr>\n    <tr>\n      <th>29264</th>\n      <td>WY</td>\n      <td>Worland city</td>\n      <td>89.9</td>\n      <td>0.3</td>\n      <td>1.3</td>\n      <td>0.6</td>\n      <td>16.6</td>\n    </tr>\n    <tr>\n      <th>29265</th>\n      <td>WY</td>\n      <td>Wright town</td>\n      <td>94.5</td>\n      <td>0.1</td>\n      <td>1.4</td>\n      <td>0.2</td>\n      <td>6.2</td>\n    </tr>\n    <tr>\n      <th>29266</th>\n      <td>WY</td>\n      <td>Yoder town</td>\n      <td>97.4</td>\n      <td>0</td>\n      <td>0</td>\n      <td>0</td>\n      <td>4</td>\n    </tr>\n    <tr>\n      <th>29267</th>\n      <td>WY</td>\n      <td>Y-O Ranch CDP</td>\n      <td>92.8</td>\n      <td>1.5</td>\n      <td>2.6</td>\n      <td>0</td>\n      <td>11.8</td>\n    </tr>\n  </tbody>\n</table>\n<p>29268 rows × 7 columns</p>\n</div>"
     },
     "execution_count": 20,
     "metadata": {},
     "output_type": "execute_result"
    }
   ],
   "source": [
    "df_training = pd.read_csv('police_killings_train.csv')\n",
    "df_test = pd.read_csv('police_killings_test.csv')\n",
    "df_race_city = pd.read_csv('share_race_by_city.csv')\n",
    "df_income = pd.read_csv('income.csv', encoding=\"ANSI\")\n",
    "df_poverty = pd.read_csv('poverty.csv', encoding=\"ANSI\")\n",
    "df_education = pd.read_csv('education.csv', encoding=\"ANSI\")\n",
    "\n",
    "df_test.info()\n",
    "df_race_city"
   ],
   "metadata": {
    "collapsed": false,
    "pycharm": {
     "name": "#%%\n"
    }
   }
  },
  {
   "cell_type": "code",
   "execution_count": 21,
   "outputs": [],
   "source": [
    "#do correlation matrix to fix missing Race\n",
    "\n"
   ],
   "metadata": {
    "collapsed": false,
    "pycharm": {
     "name": "#%%\n"
    }
   }
  },
  {
   "cell_type": "code",
   "execution_count": null,
   "outputs": [],
   "source": [
    "#do correlation matrix to fix missing Race\n",
    "\n"
   ],
   "metadata": {
    "collapsed": false,
    "pycharm": {
     "name": "#%%\n"
    }
   }
  }
 ],
 "metadata": {
  "kernelspec": {
   "display_name": "Python 3",
   "language": "python",
   "name": "python3"
  },
  "language_info": {
   "codemirror_mode": {
    "name": "ipython",
    "version": 2
   },
   "file_extension": ".py",
   "mimetype": "text/x-python",
   "name": "python",
   "nbconvert_exporter": "python",
   "pygments_lexer": "ipython2",
   "version": "2.7.6"
  }
 },
 "nbformat": 4,
 "nbformat_minor": 0
}