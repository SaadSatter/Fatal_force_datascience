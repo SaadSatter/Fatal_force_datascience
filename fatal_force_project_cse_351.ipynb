{
 "cells": [
  {
   "cell_type": "code",
   "execution_count": 262,
   "metadata": {
    "collapsed": true,
    "pycharm": {
     "name": "#%%\n"
    }
   },
   "outputs": [],
   "source": [
    "import itertools\n",
    "import pandas as pd\n",
    "import random\n",
    "import sklearn\n",
    "from sklearn.model_selection import train_test_split\n",
    "import datetime\n",
    "from sklearn import metrics\n",
    "from sklearn.linear_model import LinearRegression\n",
    "from sklearn.linear_model import LogisticRegression\n",
    "import matplotlib.pyplot as plt\n",
    "import numpy as np\n",
    "import seaborn as sb"
   ]
  },
  {
   "cell_type": "code",
   "execution_count": 263,
   "outputs": [
    {
     "name": "stdout",
     "output_type": "stream",
     "text": [
      "<class 'pandas.core.frame.DataFrame'>\n",
      "RangeIndex: 507 entries, 0 to 506\n",
      "Data columns (total 14 columns):\n",
      " #   Column                   Non-Null Count  Dtype  \n",
      "---  ------                   --------------  -----  \n",
      " 0   id                       507 non-null    int64  \n",
      " 1   name                     507 non-null    object \n",
      " 2   date                     507 non-null    object \n",
      " 3   manner_of_death          507 non-null    object \n",
      " 4   armed                    504 non-null    object \n",
      " 5   age                      467 non-null    float64\n",
      " 6   gender                   507 non-null    object \n",
      " 7   race                     403 non-null    object \n",
      " 8   city                     507 non-null    object \n",
      " 9   state                    507 non-null    object \n",
      " 10  signs_of_mental_illness  507 non-null    bool   \n",
      " 11  threat_level             507 non-null    object \n",
      " 12  flee                     469 non-null    object \n",
      " 13  body_camera              507 non-null    bool   \n",
      "dtypes: bool(2), float64(1), int64(1), object(10)\n",
      "memory usage: 48.6+ KB\n"
     ]
    },
    {
     "data": {
      "text/plain": "        id                   name      date   manner_of_death       armed  \\\n0        3             Tim Elliot  02/01/15              shot         gun   \n1        4       Lewis Lee Lembke  02/01/15              shot         gun   \n2        5     John Paul Quintero  03/01/15  shot and Tasered     unarmed   \n3        8        Matthew Hoffman  04/01/15              shot  toy weapon   \n4        9      Michael Rodriguez  04/01/15              shot    nail gun   \n...    ...                    ...       ...               ...         ...   \n2023  2256   Jeremy Lopez-Robledo  24/01/17              shot       knife   \n2024  2257    Jonathan David Sper  24/01/17              shot     unarmed   \n2025  2258  Jose Efrain Rodriguez  24/01/17  shot and Tasered         gun   \n2026  2259          Ramon Milanez  24/01/17              shot         gun   \n2027  2260       Micah R. Lambert  25/01/17              shot     vehicle   \n\n       age gender race             city state  signs_of_mental_illness  \\\n0     53.0      M    A          Shelton    WA                     True   \n1     47.0      M    W            Aloha    OR                    False   \n2     23.0      M    H          Wichita    KS                    False   \n3     32.0      M    W    San Francisco    CA                     True   \n4     39.0      M    H            Evans    CO                    False   \n...    ...    ...  ...              ...   ...                      ...   \n2023  29.0      M    H       Las Cruces    NM                     True   \n2024  30.0      M    W  Algoma Township    MI                     True   \n2025  18.0      M    H   Lancaster City    PA                    False   \n2026  32.0      M    H             Kuna    ID                    False   \n2027  37.0      M    W           Oxford    AL                     True   \n\n     threat_level         flee  body_camera  \n0          attack  Not fleeing        False  \n1          attack  Not fleeing        False  \n2           other  Not fleeing        False  \n3          attack  Not fleeing        False  \n4          attack  Not fleeing        False  \n...           ...          ...          ...  \n2023       attack         Foot         True  \n2024       attack  Not fleeing        False  \n2025       attack  Not fleeing        False  \n2026       attack          Car        False  \n2027       attack          Car        False  \n\n[2028 rows x 14 columns]",
      "text/html": "<div>\n<style scoped>\n    .dataframe tbody tr th:only-of-type {\n        vertical-align: middle;\n    }\n\n    .dataframe tbody tr th {\n        vertical-align: top;\n    }\n\n    .dataframe thead th {\n        text-align: right;\n    }\n</style>\n<table border=\"1\" class=\"dataframe\">\n  <thead>\n    <tr style=\"text-align: right;\">\n      <th></th>\n      <th>id</th>\n      <th>name</th>\n      <th>date</th>\n      <th>manner_of_death</th>\n      <th>armed</th>\n      <th>age</th>\n      <th>gender</th>\n      <th>race</th>\n      <th>city</th>\n      <th>state</th>\n      <th>signs_of_mental_illness</th>\n      <th>threat_level</th>\n      <th>flee</th>\n      <th>body_camera</th>\n    </tr>\n  </thead>\n  <tbody>\n    <tr>\n      <th>0</th>\n      <td>3</td>\n      <td>Tim Elliot</td>\n      <td>02/01/15</td>\n      <td>shot</td>\n      <td>gun</td>\n      <td>53.0</td>\n      <td>M</td>\n      <td>A</td>\n      <td>Shelton</td>\n      <td>WA</td>\n      <td>True</td>\n      <td>attack</td>\n      <td>Not fleeing</td>\n      <td>False</td>\n    </tr>\n    <tr>\n      <th>1</th>\n      <td>4</td>\n      <td>Lewis Lee Lembke</td>\n      <td>02/01/15</td>\n      <td>shot</td>\n      <td>gun</td>\n      <td>47.0</td>\n      <td>M</td>\n      <td>W</td>\n      <td>Aloha</td>\n      <td>OR</td>\n      <td>False</td>\n      <td>attack</td>\n      <td>Not fleeing</td>\n      <td>False</td>\n    </tr>\n    <tr>\n      <th>2</th>\n      <td>5</td>\n      <td>John Paul Quintero</td>\n      <td>03/01/15</td>\n      <td>shot and Tasered</td>\n      <td>unarmed</td>\n      <td>23.0</td>\n      <td>M</td>\n      <td>H</td>\n      <td>Wichita</td>\n      <td>KS</td>\n      <td>False</td>\n      <td>other</td>\n      <td>Not fleeing</td>\n      <td>False</td>\n    </tr>\n    <tr>\n      <th>3</th>\n      <td>8</td>\n      <td>Matthew Hoffman</td>\n      <td>04/01/15</td>\n      <td>shot</td>\n      <td>toy weapon</td>\n      <td>32.0</td>\n      <td>M</td>\n      <td>W</td>\n      <td>San Francisco</td>\n      <td>CA</td>\n      <td>True</td>\n      <td>attack</td>\n      <td>Not fleeing</td>\n      <td>False</td>\n    </tr>\n    <tr>\n      <th>4</th>\n      <td>9</td>\n      <td>Michael Rodriguez</td>\n      <td>04/01/15</td>\n      <td>shot</td>\n      <td>nail gun</td>\n      <td>39.0</td>\n      <td>M</td>\n      <td>H</td>\n      <td>Evans</td>\n      <td>CO</td>\n      <td>False</td>\n      <td>attack</td>\n      <td>Not fleeing</td>\n      <td>False</td>\n    </tr>\n    <tr>\n      <th>...</th>\n      <td>...</td>\n      <td>...</td>\n      <td>...</td>\n      <td>...</td>\n      <td>...</td>\n      <td>...</td>\n      <td>...</td>\n      <td>...</td>\n      <td>...</td>\n      <td>...</td>\n      <td>...</td>\n      <td>...</td>\n      <td>...</td>\n      <td>...</td>\n    </tr>\n    <tr>\n      <th>2023</th>\n      <td>2256</td>\n      <td>Jeremy Lopez-Robledo</td>\n      <td>24/01/17</td>\n      <td>shot</td>\n      <td>knife</td>\n      <td>29.0</td>\n      <td>M</td>\n      <td>H</td>\n      <td>Las Cruces</td>\n      <td>NM</td>\n      <td>True</td>\n      <td>attack</td>\n      <td>Foot</td>\n      <td>True</td>\n    </tr>\n    <tr>\n      <th>2024</th>\n      <td>2257</td>\n      <td>Jonathan David Sper</td>\n      <td>24/01/17</td>\n      <td>shot</td>\n      <td>unarmed</td>\n      <td>30.0</td>\n      <td>M</td>\n      <td>W</td>\n      <td>Algoma Township</td>\n      <td>MI</td>\n      <td>True</td>\n      <td>attack</td>\n      <td>Not fleeing</td>\n      <td>False</td>\n    </tr>\n    <tr>\n      <th>2025</th>\n      <td>2258</td>\n      <td>Jose Efrain Rodriguez</td>\n      <td>24/01/17</td>\n      <td>shot and Tasered</td>\n      <td>gun</td>\n      <td>18.0</td>\n      <td>M</td>\n      <td>H</td>\n      <td>Lancaster City</td>\n      <td>PA</td>\n      <td>False</td>\n      <td>attack</td>\n      <td>Not fleeing</td>\n      <td>False</td>\n    </tr>\n    <tr>\n      <th>2026</th>\n      <td>2259</td>\n      <td>Ramon Milanez</td>\n      <td>24/01/17</td>\n      <td>shot</td>\n      <td>gun</td>\n      <td>32.0</td>\n      <td>M</td>\n      <td>H</td>\n      <td>Kuna</td>\n      <td>ID</td>\n      <td>False</td>\n      <td>attack</td>\n      <td>Car</td>\n      <td>False</td>\n    </tr>\n    <tr>\n      <th>2027</th>\n      <td>2260</td>\n      <td>Micah R. Lambert</td>\n      <td>25/01/17</td>\n      <td>shot</td>\n      <td>vehicle</td>\n      <td>37.0</td>\n      <td>M</td>\n      <td>W</td>\n      <td>Oxford</td>\n      <td>AL</td>\n      <td>True</td>\n      <td>attack</td>\n      <td>Car</td>\n      <td>False</td>\n    </tr>\n  </tbody>\n</table>\n<p>2028 rows × 14 columns</p>\n</div>"
     },
     "execution_count": 263,
     "metadata": {},
     "output_type": "execute_result"
    }
   ],
   "source": [
    "\"\"\"\n",
    "Our first goal is going to be data cleaning and munging. We want to take care of all null values\n",
    "first.\n",
    "\"\"\"\n",
    "\n",
    "df_training = pd.read_csv('police_killings_train.csv')\n",
    "df_test = pd.read_csv('police_killings_test.csv')\n",
    "df_race_city = pd.read_csv('share_race_by_city.csv')\n",
    "df_income = pd.read_csv('income.csv', encoding=\"ANSI\")\n",
    "df_poverty = pd.read_csv('poverty.csv', encoding=\"ANSI\")\n",
    "df_education = pd.read_csv('education.csv', encoding=\"ANSI\")\n",
    "\n",
    "df_test.info()\n",
    "df_training"
   ],
   "metadata": {
    "collapsed": false,
    "pycharm": {
     "name": "#%%\n"
    }
   }
  },
  {
   "cell_type": "code",
   "execution_count": 264,
   "outputs": [
    {
     "data": {
      "text/plain": "        id                name      date   manner_of_death       armed   age  \\\n0        3          Tim Elliot  02/01/15              shot         gun  53.0   \n1        4    Lewis Lee Lembke  02/01/15              shot         gun  47.0   \n2        5  John Paul Quintero  03/01/15  shot and Tasered     unarmed  23.0   \n3        8     Matthew Hoffman  04/01/15              shot  toy weapon  32.0   \n4        9   Michael Rodriguez  04/01/15              shot    nail gun  39.0   \n...    ...                 ...       ...               ...         ...   ...   \n2530  2822    Rodney E. Jacobs  28/07/17              shot         gun  31.0   \n2531  2813               TK TK  28/07/17              shot     vehicle   NaN   \n2532  2818  Dennis W. Robinson  29/07/17              shot         gun  48.0   \n2533  2817       Isaiah Tucker  31/07/17              shot     vehicle  28.0   \n2534  2815        Dwayne Jeune  31/07/17              shot       knife  32.0   \n\n     gender race           city state  signs_of_mental_illness threat_level  \\\n0         M    A        Shelton    WA                     True       attack   \n1         M    W          Aloha    OR                    False       attack   \n2         M    H        Wichita    KS                    False        other   \n3         M    W  San Francisco    CA                     True       attack   \n4         M    H          Evans    CO                    False       attack   \n...     ...  ...            ...   ...                      ...          ...   \n2530      M  NaN    Kansas City    MO                    False       attack   \n2531      M  NaN    Albuquerque    NM                    False       attack   \n2532      M  NaN          Melba    ID                    False       attack   \n2533      M    B        Oshkosh    WI                    False       attack   \n2534      M    B       Brooklyn    NY                     True       attack   \n\n             flee  body_camera  \n0     Not fleeing        False  \n1     Not fleeing        False  \n2     Not fleeing        False  \n3     Not fleeing        False  \n4     Not fleeing        False  \n...           ...          ...  \n2530  Not fleeing        False  \n2531          Car        False  \n2532          Car        False  \n2533          Car         True  \n2534  Not fleeing        False  \n\n[2535 rows x 14 columns]",
      "text/html": "<div>\n<style scoped>\n    .dataframe tbody tr th:only-of-type {\n        vertical-align: middle;\n    }\n\n    .dataframe tbody tr th {\n        vertical-align: top;\n    }\n\n    .dataframe thead th {\n        text-align: right;\n    }\n</style>\n<table border=\"1\" class=\"dataframe\">\n  <thead>\n    <tr style=\"text-align: right;\">\n      <th></th>\n      <th>id</th>\n      <th>name</th>\n      <th>date</th>\n      <th>manner_of_death</th>\n      <th>armed</th>\n      <th>age</th>\n      <th>gender</th>\n      <th>race</th>\n      <th>city</th>\n      <th>state</th>\n      <th>signs_of_mental_illness</th>\n      <th>threat_level</th>\n      <th>flee</th>\n      <th>body_camera</th>\n    </tr>\n  </thead>\n  <tbody>\n    <tr>\n      <th>0</th>\n      <td>3</td>\n      <td>Tim Elliot</td>\n      <td>02/01/15</td>\n      <td>shot</td>\n      <td>gun</td>\n      <td>53.0</td>\n      <td>M</td>\n      <td>A</td>\n      <td>Shelton</td>\n      <td>WA</td>\n      <td>True</td>\n      <td>attack</td>\n      <td>Not fleeing</td>\n      <td>False</td>\n    </tr>\n    <tr>\n      <th>1</th>\n      <td>4</td>\n      <td>Lewis Lee Lembke</td>\n      <td>02/01/15</td>\n      <td>shot</td>\n      <td>gun</td>\n      <td>47.0</td>\n      <td>M</td>\n      <td>W</td>\n      <td>Aloha</td>\n      <td>OR</td>\n      <td>False</td>\n      <td>attack</td>\n      <td>Not fleeing</td>\n      <td>False</td>\n    </tr>\n    <tr>\n      <th>2</th>\n      <td>5</td>\n      <td>John Paul Quintero</td>\n      <td>03/01/15</td>\n      <td>shot and Tasered</td>\n      <td>unarmed</td>\n      <td>23.0</td>\n      <td>M</td>\n      <td>H</td>\n      <td>Wichita</td>\n      <td>KS</td>\n      <td>False</td>\n      <td>other</td>\n      <td>Not fleeing</td>\n      <td>False</td>\n    </tr>\n    <tr>\n      <th>3</th>\n      <td>8</td>\n      <td>Matthew Hoffman</td>\n      <td>04/01/15</td>\n      <td>shot</td>\n      <td>toy weapon</td>\n      <td>32.0</td>\n      <td>M</td>\n      <td>W</td>\n      <td>San Francisco</td>\n      <td>CA</td>\n      <td>True</td>\n      <td>attack</td>\n      <td>Not fleeing</td>\n      <td>False</td>\n    </tr>\n    <tr>\n      <th>4</th>\n      <td>9</td>\n      <td>Michael Rodriguez</td>\n      <td>04/01/15</td>\n      <td>shot</td>\n      <td>nail gun</td>\n      <td>39.0</td>\n      <td>M</td>\n      <td>H</td>\n      <td>Evans</td>\n      <td>CO</td>\n      <td>False</td>\n      <td>attack</td>\n      <td>Not fleeing</td>\n      <td>False</td>\n    </tr>\n    <tr>\n      <th>...</th>\n      <td>...</td>\n      <td>...</td>\n      <td>...</td>\n      <td>...</td>\n      <td>...</td>\n      <td>...</td>\n      <td>...</td>\n      <td>...</td>\n      <td>...</td>\n      <td>...</td>\n      <td>...</td>\n      <td>...</td>\n      <td>...</td>\n      <td>...</td>\n    </tr>\n    <tr>\n      <th>2530</th>\n      <td>2822</td>\n      <td>Rodney E. Jacobs</td>\n      <td>28/07/17</td>\n      <td>shot</td>\n      <td>gun</td>\n      <td>31.0</td>\n      <td>M</td>\n      <td>NaN</td>\n      <td>Kansas City</td>\n      <td>MO</td>\n      <td>False</td>\n      <td>attack</td>\n      <td>Not fleeing</td>\n      <td>False</td>\n    </tr>\n    <tr>\n      <th>2531</th>\n      <td>2813</td>\n      <td>TK TK</td>\n      <td>28/07/17</td>\n      <td>shot</td>\n      <td>vehicle</td>\n      <td>NaN</td>\n      <td>M</td>\n      <td>NaN</td>\n      <td>Albuquerque</td>\n      <td>NM</td>\n      <td>False</td>\n      <td>attack</td>\n      <td>Car</td>\n      <td>False</td>\n    </tr>\n    <tr>\n      <th>2532</th>\n      <td>2818</td>\n      <td>Dennis W. Robinson</td>\n      <td>29/07/17</td>\n      <td>shot</td>\n      <td>gun</td>\n      <td>48.0</td>\n      <td>M</td>\n      <td>NaN</td>\n      <td>Melba</td>\n      <td>ID</td>\n      <td>False</td>\n      <td>attack</td>\n      <td>Car</td>\n      <td>False</td>\n    </tr>\n    <tr>\n      <th>2533</th>\n      <td>2817</td>\n      <td>Isaiah Tucker</td>\n      <td>31/07/17</td>\n      <td>shot</td>\n      <td>vehicle</td>\n      <td>28.0</td>\n      <td>M</td>\n      <td>B</td>\n      <td>Oshkosh</td>\n      <td>WI</td>\n      <td>False</td>\n      <td>attack</td>\n      <td>Car</td>\n      <td>True</td>\n    </tr>\n    <tr>\n      <th>2534</th>\n      <td>2815</td>\n      <td>Dwayne Jeune</td>\n      <td>31/07/17</td>\n      <td>shot</td>\n      <td>knife</td>\n      <td>32.0</td>\n      <td>M</td>\n      <td>B</td>\n      <td>Brooklyn</td>\n      <td>NY</td>\n      <td>True</td>\n      <td>attack</td>\n      <td>Not fleeing</td>\n      <td>False</td>\n    </tr>\n  </tbody>\n</table>\n<p>2535 rows × 14 columns</p>\n</div>"
     },
     "execution_count": 264,
     "metadata": {},
     "output_type": "execute_result"
    }
   ],
   "source": [
    "\"\"\"\n",
    "We will combine the training and tesing dataset to make cleaning easier and more accurate\n",
    "\"\"\"\n",
    "\n",
    "df_total = df_training.append(df_test, ignore_index=True)\n",
    "df_total"
   ],
   "metadata": {
    "collapsed": false,
    "pycharm": {
     "name": "#%%\n"
    }
   }
  },
  {
   "cell_type": "code",
   "execution_count": 265,
   "outputs": [
    {
     "data": {
      "text/plain": "['Lewisburg',\n 'Clarksville',\n 'Lisle',\n 'Plantation',\n 'Los Angeles',\n 'Oxford',\n 'Richland',\n 'Mascotte',\n 'Ladera Heights',\n 'Las Vegas',\n 'North Las Vegas',\n 'Friendswood',\n 'Moultrie',\n 'Fairfield',\n 'Montgomery',\n 'Draper',\n 'Tarboro',\n 'Pacific Beach',\n 'Eau Claire',\n 'Douglas City',\n 'Concord',\n 'Milcreek',\n 'Norwalk',\n 'Germantown',\n 'Elkins',\n 'Visalia',\n 'St. Paul',\n 'Meadow Bridge',\n 'Lafayette',\n 'Crescent City',\n 'Somerton',\n 'Brick Township',\n 'Jonesboro',\n 'Belle Glade',\n 'Ideal Beach',\n 'Mankato',\n 'Wilderville',\n 'Deerfield',\n 'Sumas',\n 'Marana',\n 'Neenah',\n 'Sidney',\n 'Huntley',\n 'Nacogdoches',\n 'Cedartown',\n 'Mashantucket',\n 'Boulder City',\n 'Denham Springs',\n 'Lovington',\n 'Kokomo',\n 'Bellville',\n 'Brookhaven',\n 'Sumter',\n 'Ventnor',\n 'New York',\n 'Lompoc',\n 'Cape Canaveral',\n 'Wilkesboro',\n 'San Ysidro',\n 'Naples',\n 'Osteen',\n 'Wood County',\n 'Memphis',\n 'Freeport',\n 'Old Saybrook',\n 'Rotterdam',\n 'Englewood',\n 'Orrington',\n 'Edgewood',\n 'Tyrone',\n 'Midland',\n 'Sand Springs',\n 'Irving',\n 'Longview',\n 'Laredo',\n 'Philadelphia',\n 'Cobb County',\n 'Southington',\n 'Montpelier',\n 'Bend',\n 'Chester',\n 'Redlands',\n 'Salt Lake City',\n 'Henderson',\n 'Evansville',\n 'Laguna Pueblo',\n 'Panhandle',\n 'Beckville',\n 'Rome',\n 'Siskiyou County',\n 'Vassalboro',\n 'Savannah',\n 'Herndon',\n 'New Castle',\n 'Lake Jackson',\n 'Pima',\n 'Garland',\n 'Hampton',\n 'Wauwatosa',\n 'Forks Township',\n 'Raleigh',\n 'Kingsbury',\n 'Show Low',\n 'Iredell County',\n 'Circleville',\n 'Fontana',\n 'La Quinta',\n 'Pinnacle',\n 'Shreveport',\n 'Sylvania Township',\n 'Stillwater',\n 'Palo Alto',\n 'Antigo',\n 'Port Barre',\n 'Watts',\n 'Sandpoint',\n 'Paddock Lake',\n 'Auburn',\n 'Olympia',\n 'Asheville',\n 'Montrose County',\n 'Fort Walton Beach',\n 'Crowley',\n 'Gunlock',\n 'Chicago',\n 'Hutchins',\n 'Santa Monica',\n 'Hemet',\n 'Lacey',\n 'Prescott',\n 'Douglasville',\n 'Cache',\n 'Santee',\n 'Newton Grove',\n 'Grand Prarie',\n 'Aiea',\n 'Brandywine',\n 'Converse',\n 'Slidell',\n 'Maurice River',\n 'Moreno Valley',\n 'Lehigh',\n 'Ragley',\n 'Aitkin',\n 'Bellflower',\n 'New Brunswick',\n 'Byars',\n 'Apple Valley',\n 'Tustin',\n 'Grover Beach',\n 'Pearland',\n 'Des Moines',\n 'Kuna',\n 'Waldoboro',\n 'Pittsburgh',\n 'East Troy',\n 'Weirton',\n 'Cisco',\n 'Callahan',\n 'Rancho Cordova',\n 'Lewistown',\n 'Rocklin',\n 'Bisbee',\n 'Durham',\n 'Muskogee',\n 'Harmony',\n 'McKinneyville',\n 'Lemoore',\n 'Somerset',\n 'Ponca City',\n 'Chino',\n 'Toms River',\n 'Loveland',\n 'Lake Asbury',\n 'Kingman',\n 'Spanish Fork',\n 'Edmund',\n 'Pharr',\n 'Boston',\n 'Bossier City',\n 'Bailey',\n 'Cincinnati',\n 'Jurupa Valley',\n 'Wetumka',\n 'Bloomfield Township',\n 'Morris',\n 'Whitfield County',\n 'Lynwood',\n 'Montebello',\n 'Wasco',\n 'Taylors',\n 'Alton',\n 'Roland',\n 'Farmington',\n 'Clendenin',\n 'Sneads',\n 'Ceres',\n 'Pinion Hills',\n 'Emeryville',\n 'Maeystown',\n 'Euclid',\n 'Colorado Springs',\n 'Hayward',\n 'Milton',\n 'Plant City',\n 'Olivehurst',\n 'Birmingham',\n 'Mt. Pleasant',\n 'Sioux Falls',\n 'Lancaster',\n 'Hohenwald',\n 'Atlantic City',\n 'Woodlawn',\n 'Mountain Home',\n 'Lorena',\n 'Middletown',\n 'Bardstown',\n 'Kenner',\n 'Ashtabula',\n 'Elkhart',\n 'Eagar',\n 'South Lake Tahoe',\n 'Pine Top',\n 'Appleton',\n 'Salemburg',\n 'Eldorado Springs',\n 'Oakland Park',\n 'London',\n 'Valinda',\n 'Carson',\n 'Mount Vernon',\n 'Gray',\n 'Jal',\n 'Colorado City',\n 'Jesup',\n 'New London',\n 'Morristown',\n 'Aloha',\n 'Mesa',\n 'Olympic Valley',\n 'Burkesville',\n 'Eagle Mountain',\n 'Alhambra',\n 'Udall',\n 'Ca\\x96on City',\n 'Florence',\n 'Yuma',\n 'Eureka',\n 'Aldie',\n 'Wapato',\n 'Madera',\n 'Elkton',\n 'Avon',\n 'Hobbs',\n 'Riverdale',\n 'Gillette',\n 'Carson City',\n 'Douglas',\n 'Bradenton',\n 'Middle River',\n 'Summerville',\n 'Coalinga',\n 'Greenwood',\n 'Mandan',\n 'Marion',\n 'Barrow County',\n 'Fremont',\n 'Panama City Beach',\n 'Tiffin',\n 'Pico Rivera',\n 'Georgetown',\n 'Albuquerque',\n 'San Fernando',\n 'Bay Minette',\n 'Rexburg',\n 'McAlester',\n 'Ashville',\n 'Muncie',\n 'Pendleton',\n 'La Mirada',\n 'Brooklyn',\n 'Geneva Township',\n 'Hamilton',\n 'Boulder Creek',\n 'Islip',\n 'Avenal',\n 'Azle',\n 'Taos',\n 'Van Nuys',\n 'Homer',\n 'Antioch',\n 'Malone',\n 'Richmond',\n 'Ozark',\n 'Bismarck',\n 'Villa Park',\n 'San Rafael',\n 'St. Joseph',\n 'Lumberton',\n 'Broomfield',\n 'Greece',\n 'Antelope',\n 'White Plains',\n 'Gainesville',\n 'Laramie',\n 'Fort Littleton',\n 'Fort Meade',\n 'Eastaboga',\n 'Waukesha',\n 'Acworth',\n 'Plaquemine',\n 'Archdale',\n 'Rawlins',\n 'Forest Park',\n 'Metropolis',\n 'Kearny',\n 'Chesterfield County',\n 'Vandalia',\n 'Urbandale',\n 'Piedmont',\n 'Boerne',\n 'Palm Harbor',\n 'Noma',\n 'Fountain Inn',\n 'Roosevelt',\n 'Frederica',\n 'Mitchell',\n 'El Cajon',\n 'Millbrook',\n 'Cumming',\n 'Titusville',\n 'Sierra Vista',\n 'North Hills',\n 'Dearborn',\n 'Rosalia',\n 'Woodstock',\n 'Leitchfield',\n 'Amarillo',\n 'South Gate',\n 'Riverside',\n 'Sheboygan',\n 'North Royalton',\n 'Grass Valley',\n 'Maricopa',\n 'Trenton',\n 'Edinburg',\n 'Park County',\n 'Solvang',\n 'Cle Elum',\n 'Seattle',\n 'Seagoville',\n 'Fond du Lac',\n 'East Ridge',\n 'Harrisonville',\n 'Highgrove',\n 'Tuscumbia',\n 'Mobile',\n 'Spanaway',\n 'Petal',\n 'Clarendon',\n 'Cape Girardeau',\n 'Avella',\n 'Scott County',\n 'Barona Indian Reservation',\n 'Guthrie',\n 'West Springfield',\n 'Akron',\n 'Lockhart',\n 'Micanopy',\n 'Hardeeville',\n 'English',\n 'Ishpeming Township',\n 'Brookshire',\n 'Blue Springs',\n 'West Linn',\n 'DeLand',\n 'Brodhead',\n 'Medina',\n 'East St. Louis',\n 'Palmdale',\n 'Onalaska',\n 'Harrisonburg',\n 'Gallup',\n 'Lawndale',\n 'Efland',\n 'Austell',\n 'Kansas City',\n 'Benton',\n 'Cantonment',\n 'Orange',\n 'Calexico',\n 'Humboldt',\n 'Ontario',\n 'White',\n 'San Jose',\n 'Tupelo',\n 'Huntington Beach',\n 'Lakeland',\n 'West Covina',\n 'Orange County',\n 'Keaau',\n 'Kirkland',\n 'Downey',\n \"Lee's Summit\",\n 'Dayton',\n 'Fridley',\n 'Hacienda Heights',\n 'Pomona',\n 'Pueblo',\n 'Lawrence County',\n 'Splendora',\n 'Hudson',\n 'Beaver',\n 'Clarkesville',\n 'Columbia Heights',\n 'Schenectady',\n 'Winchester',\n 'Green',\n 'Arcola',\n 'Iuka',\n 'East Baton Rouge',\n 'Wilhoit',\n 'Soddy-Daisy',\n 'Chickasha',\n 'Mt Airy',\n 'Columbus',\n 'Louisville',\n 'Rosser',\n 'Yreka',\n 'Wilmore',\n 'King George',\n 'Buckhannon',\n 'Brighton',\n 'Long Beach',\n 'Sierra Blanca',\n 'Josephine County',\n 'Springdale',\n 'Byram',\n 'Benton Harbor',\n 'Logan Canyon',\n 'Katy',\n 'Federal Heights',\n 'Stamford',\n 'Ogden',\n 'Roseville',\n 'Gresham',\n 'Kyle',\n 'Romulus',\n 'Grundy',\n 'Rochester',\n 'Fort Worth',\n 'Three Forks',\n 'Corning',\n 'Tualatin',\n 'Strong',\n 'Melba',\n 'Northglenn',\n 'Bristol',\n 'Weymouth',\n 'Bonaire',\n 'Hominy',\n 'Gilmer',\n 'Carmichael',\n 'Stockbridge',\n 'Wilmington',\n 'Lake View',\n 'Somerville',\n 'Grand Rapids',\n 'Booneville',\n 'Canton',\n 'Allentown',\n 'Leland',\n 'Twentynine Palms',\n 'North Port',\n 'Derry',\n 'Grapeview',\n 'Morgantown',\n 'Bolton',\n 'Lakes Charles',\n 'Potsdam',\n 'Mamou',\n 'Casa Grande',\n 'Coney Island',\n 'Baytown',\n 'Santa Ana',\n 'Marksville',\n 'Dolton',\n 'Peachtree City',\n 'Niceville',\n 'Lynnwood',\n 'Queens',\n 'Temple',\n 'McLemoresville',\n 'New Orleans',\n 'Stafford',\n 'Spokane',\n 'Monterey',\n 'Westminster',\n 'Montcalm',\n 'Manila',\n 'Gardner',\n 'Covington',\n 'Tomball',\n 'Hammett',\n 'Morenci',\n 'Red Valley',\n 'Aiken',\n 'St. Clair Township',\n 'Madison',\n 'Twinsburg',\n 'Wellington',\n 'Madison Township',\n 'Salinas',\n 'Santa Barbara',\n 'Bartlesville',\n 'Wolf Creek',\n 'Hog Valley',\n 'Woodland',\n 'Saratoga',\n 'North Riverside',\n 'Gladewater',\n 'Goose Creek',\n 'Bloomington',\n 'Homewood',\n 'Dinosaur',\n 'Hopewell',\n 'Ardmore',\n 'Beacon',\n 'Houma',\n 'Orange City',\n 'Upper Darby',\n 'Killeen',\n 'Rosemead',\n 'Mountain Pine',\n 'Smartsville',\n 'Bakersfield',\n 'Fuqua',\n 'Graham',\n 'Kennewick',\n 'Landover',\n 'Winslow',\n 'Aguanga',\n 'Knox',\n 'Lealman',\n 'Hutchinson',\n 'Westlake',\n 'Gallatin',\n 'Kentwood',\n 'Newport Beach',\n 'Gibson County',\n 'Truth or Consequences',\n 'Phoenix',\n 'Happy Valley',\n 'Crystal Springs',\n 'Estill Springs',\n 'Wyoming',\n 'Pikesville',\n 'West Memphis',\n 'Burnsville',\n 'Palestine',\n 'Mansfield',\n 'Vadnais Heights',\n 'Yulee',\n 'Zion',\n 'Tampa',\n 'Fulshear',\n 'Sun City',\n 'San Angelo',\n 'Independence',\n 'Shelby',\n 'Vancouver',\n 'Indio',\n 'Peterson',\n 'Leedey',\n 'Montclair',\n 'Alamogordo',\n 'Mountain View',\n 'Elberton',\n 'Norfolk',\n 'Clackamas County',\n 'Springtown',\n 'Miami Gardens',\n 'Falcon Heights',\n 'Chavies',\n 'Grand Junction',\n 'Irmo',\n 'Culpeper',\n 'Barbourville',\n 'Lodi',\n 'Burns',\n 'Union Grove',\n 'Glendale',\n 'Jacksonville',\n 'Rib Mountain',\n 'Largo',\n 'Bell',\n 'Greensboro',\n 'Suffolk',\n 'Rialto',\n 'Monroe',\n 'Yuba City',\n 'Port Wentworth',\n 'Medicine Lodge',\n 'Owings Mills',\n 'Holiday',\n 'Escondido',\n 'Opelika',\n 'Joilet',\n 'Kiowa',\n 'Middleburg',\n 'Rockford',\n 'Fairfax',\n 'Balch Springs',\n 'University City',\n 'Honolulu',\n 'New Iberia',\n 'Woodford',\n 'Edmonton',\n 'Snohomish',\n 'Sims',\n 'Assaria',\n 'Kerrville',\n 'Bloomsburg',\n 'Vero Beach',\n 'East Wenatchee',\n 'Southfield',\n 'Carlsbad',\n 'Zanesville',\n 'Johnsonville',\n 'Hilo',\n 'Grafton',\n 'Everett',\n 'Winooski',\n 'Scottsdale',\n 'St Louis',\n 'Iva',\n 'Thonotosassa',\n 'Lumpkin',\n 'Rapid Valley',\n 'Delhi',\n 'McPherson',\n 'Wichita Falls',\n 'Walnut Creek',\n 'St. Cloud',\n 'Fresno',\n 'Gilroy',\n 'Parowan',\n 'Weeki Wachi',\n 'West Chester',\n 'Lead',\n 'Maryneal',\n 'Howland Township',\n 'Centerville',\n 'Colby',\n 'Ashe County',\n 'Encinitas',\n 'Reading',\n 'Saraland',\n 'Floral City',\n 'Fountain',\n 'Camarillo',\n 'Bridgeport',\n 'Desert Edge',\n 'Thornton',\n 'Milwaukee',\n 'Lenoir',\n 'Beaverton',\n 'Spring Lake',\n 'Counce',\n 'Levelland',\n 'Midlothian',\n 'Kenai Peninsula',\n 'Buckeye',\n 'Lancaster City',\n 'Cape Coral',\n 'Schulter',\n 'Big Lake',\n 'Southaven',\n 'Lawton',\n 'Tallahassee',\n 'Lake Wales',\n 'Lyndhurst',\n 'Riverview',\n 'Charleston',\n 'Perry Township',\n 'Bunch',\n 'Oxnard',\n 'Manatee',\n 'Homestead',\n 'Cartersville',\n 'South Greensburg',\n 'Carollwood',\n 'Johnson City',\n 'Montgomery Village',\n 'Hays',\n 'Fort Ashby',\n 'McKinney',\n 'Parma',\n 'Millston',\n 'Campobello',\n 'Ouachita Parish',\n 'Pulaski',\n 'Okemah',\n 'Sunset',\n 'Knoxville',\n 'Syracuse',\n 'Coal County',\n 'Lawrenceville',\n 'North East',\n 'Constantia',\n 'Tulsa',\n 'Florissant',\n 'Jupiter',\n 'Wilkinsburg',\n 'Socorro',\n 'Roxand Township',\n 'Studio City',\n 'Centennial',\n 'Stone Mountain',\n 'Kent',\n 'Santa Nella',\n 'Nashville',\n 'East Stroudsburg',\n 'Hollywood Hills',\n 'Hawaiian Gardens',\n 'Fort Valley',\n 'Fort Stockton',\n 'Jefferson County',\n 'Thurston County',\n 'Pine River',\n 'North Branch',\n 'Abingdon',\n 'Burns Flat',\n 'River Forest',\n 'Burbank',\n 'Mount Washington',\n 'Eaton Rapids Township',\n 'Chattanooga',\n 'Ludowici',\n 'Ripon',\n 'Washington',\n 'Princeton',\n 'Golden Valley',\n 'Algoma Township',\n 'Jackson',\n 'Medford',\n 'Round Lake',\n 'Clearlake Park',\n 'Lake Havasu City',\n 'Campo',\n 'Panorama City',\n 'Springfield',\n 'Fair Oaks',\n 'Arvonia',\n 'Ludlow',\n 'Atascadero',\n 'Gerrardstown',\n 'Highland',\n 'Anaheim',\n 'Powhatan County',\n 'Fruitland Park',\n 'Pearisburg',\n 'Loganville',\n 'Hometown',\n 'Allen',\n 'Winnie',\n 'Delray Beach',\n 'Nocona',\n 'Camden',\n 'Needles',\n 'Arlington',\n 'Sparks',\n 'Deltona',\n 'Nitro',\n 'Chula Vista',\n 'Vista',\n 'Lake Stevens',\n 'Capitol Heights',\n 'Sugar Creek',\n 'Tehachapi',\n 'Berne',\n 'Fountain Valley',\n 'Pottawatomie County',\n 'Carrollton',\n 'El Monte',\n 'Braintree',\n 'Cohasset',\n 'Northwood',\n 'Hickory',\n 'Clovis',\n 'Union Township',\n 'Cottonwood',\n 'Bellingham',\n 'Smithville',\n 'Brownsville',\n 'Landrum',\n 'Little Egg Harbor',\n 'Gary',\n 'Breaux Bridge',\n 'Terrell',\n 'Sylmar',\n 'Calimesa',\n 'Uniontown',\n 'La Paz County',\n 'Sallisaw',\n 'Alexandria',\n 'St. Louis',\n 'Rapid City',\n 'Cochran',\n 'Mandeville',\n 'Burien',\n 'Myra',\n 'Pompano Beach',\n 'Modesto',\n 'San Diego',\n 'Nevada',\n 'Fort Lauderdale',\n 'Bronx',\n 'Goshen',\n 'Broken Bow',\n 'Gulfport',\n 'Palm Beach Gardens',\n 'Affton',\n 'Las Cruces',\n 'Surprise',\n 'West Knox',\n 'Big Springs',\n 'Green Bay',\n 'Butte',\n 'Greenbelt',\n 'Kings County',\n 'Tucson',\n 'Merrimack',\n 'York County',\n 'Peachland',\n 'Commerce',\n 'Middleton',\n 'Bethany',\n 'Aragonite',\n 'Bainbridge Island',\n 'Apache Junction',\n 'Fort Pierce',\n 'Stewartstown',\n 'Colbert',\n 'Poplar Bluff',\n 'Redding',\n 'Chesapeake',\n 'Hattiesburg',\n 'Rowe',\n 'Raceland',\n 'Meadow Vista',\n 'Reisterstown',\n 'Little Rock',\n 'Castaic',\n 'Harrisburg',\n 'French Lick',\n 'Federal Way',\n 'Norman',\n 'Oak Cliff',\n 'Wood Lake',\n 'Desha',\n 'Delano',\n 'Rancho Santa Margarita',\n 'South El Monte',\n 'Newton',\n 'Parker',\n 'Palm Springs',\n 'Port Arthur',\n 'Warren',\n 'Avondale',\n 'Billings',\n 'Napa',\n 'Baton Rouge',\n 'Walls',\n 'Newark',\n 'Gardena',\n 'Llano',\n 'Tewksbury',\n 'Myrtle Beach',\n 'Fisty',\n 'Rufe',\n 'Ft. Lauderdale',\n 'Pryor',\n 'Norwood',\n 'Latta',\n 'Atlanta',\n 'Clearfield',\n 'Putnam Hall',\n 'Celina',\n 'Rutherfordton',\n 'Brighton Township',\n 'Hummelstown',\n 'Fort Wayne',\n 'Temecula',\n 'Portsmouth',\n 'Lufkin',\n 'Macon',\n 'Monteagle',\n 'Jennings',\n 'Lansing',\n 'Fairborn',\n 'Dinuba',\n 'Overlea',\n 'Roy',\n 'Whittier',\n 'Manistee',\n 'Metairie',\n 'New Paltz',\n 'Roslindale',\n 'Lincoln',\n 'Lexington',\n 'Watsonsville',\n 'Russellville',\n 'Lake Hallie',\n 'Phelps',\n 'Bowling Green',\n 'Boone',\n 'Berea',\n 'Pahrump',\n 'St. Petersburg',\n 'Gadsden',\n 'Seneca',\n 'Henderson County',\n 'Cade',\n 'Powder Springs',\n 'Water Valley',\n 'Campbelltown',\n 'Bullhead City',\n 'Idaho Falls',\n 'St. Augustine',\n 'Oklahoma City',\n 'Austin',\n 'Stockton',\n 'Vincennes',\n 'Lizella',\n 'Alamo',\n 'Aurora',\n 'Macon County',\n 'Republic',\n 'Harvey',\n 'Hurst',\n 'Columbia Township',\n 'Leon County',\n 'Azusa',\n 'Paris',\n 'Essex',\n 'Sylacauga',\n 'Topeka',\n 'Buffalo',\n 'East Flat Rock',\n 'Campbellton',\n 'Santa Fe',\n 'Monon',\n 'Millerton',\n 'Carrizozo',\n 'Spring Hill',\n 'Clay',\n 'Barrow',\n 'Sharon',\n 'Burlington',\n 'Golden Shores',\n 'Grand Forks',\n 'Seaside',\n 'Santa Cruz',\n 'Colebrook Township',\n 'Byng',\n 'Rainbow City',\n 'Papaaloa',\n 'Ronda',\n 'Sand City',\n 'Lynn',\n 'Addison',\n 'Tom',\n 'Wadesboro',\n 'Beckley',\n 'Dunsmuir',\n 'Shelbyville',\n 'Brooklet',\n 'Evangeline Parish',\n 'Mt. Auburn',\n 'Newport News',\n 'Washington Park',\n 'Shafter',\n 'East Point',\n 'Clinton',\n 'Emporia',\n 'Franklin County',\n 'Palm Bay',\n 'Muscle Shoals',\n 'Yonkers',\n 'Torrance',\n 'Spring',\n 'Findlay',\n 'Wellman',\n 'Frederick',\n 'Biloxi',\n 'Spartanburg',\n 'Barstow',\n 'Yakima',\n 'Cocoa',\n ...]"
     },
     "execution_count": 265,
     "metadata": {},
     "output_type": "execute_result"
    }
   ],
   "source": [
    "\"\"\"\n",
    "Race is one of the fields that have missing fields, we will use the race_city dataset to help\n",
    "get an insight into which race to pick. First we ant to get the mode of the race's by city and impute\n",
    "it directly in. Then we want to get the mode of the race and place it in, if there is more than one\n",
    "mode then use race_city and take the race of highest population\n",
    "\"\"\"\n",
    "#make a list of unique cities\n",
    "cities = df_total['city'].tolist()\n",
    "cities =list(set(cities))\n",
    "cities"
   ],
   "metadata": {
    "collapsed": false,
    "pycharm": {
     "name": "#%%\n"
    }
   }
  },
  {
   "cell_type": "code",
   "execution_count": 266,
   "outputs": [
    {
     "name": "stdout",
     "output_type": "stream",
     "text": [
      "5\n",
      "5\n",
      "5\n",
      "5\n",
      "5\n",
      "5\n",
      "5\n",
      "5\n",
      "5\n",
      "5\n",
      "5\n",
      "5\n",
      "5\n",
      "5\n",
      "5\n",
      "5\n",
      "5\n",
      "5\n",
      "5\n",
      "5\n",
      "total cities with bad points =  20\n"
     ]
    }
   ],
   "source": [
    "\"\"\"\n",
    "Let's try cleaning the the race of city dataset now viewing the missing datapoints which are denoted at (X).\n",
    "\"\"\"\n",
    "list_race_df = df_race_city.values.tolist()\n",
    "j = 0\n",
    "list_bad_cities = []\n",
    "for i in list_race_df:\n",
    "    #we can see it is only null when all races are missing\n",
    "    if(i.count('(X)') > 0):\n",
    "        j+=1\n",
    "        list_bad_cities.append(i[1])\n",
    "        print(i.count('(X)'))\n",
    "print(\"total cities with bad points = \", j)\n"
   ],
   "metadata": {
    "collapsed": false,
    "pycharm": {
     "name": "#%%\n"
    }
   }
  },
  {
   "cell_type": "code",
   "execution_count": 267,
   "outputs": [
    {
     "name": "stdout",
     "output_type": "stream",
     "text": [
      "<class 'pandas.core.frame.DataFrame'>\n",
      "Int64Index: 29248 entries, 0 to 29267\n",
      "Data columns (total 7 columns):\n",
      " #   Column                 Non-Null Count  Dtype \n",
      "---  ------                 --------------  ----- \n",
      " 0   Geographic area        29248 non-null  object\n",
      " 1   City                   29248 non-null  object\n",
      " 2   share_white            29248 non-null  object\n",
      " 3   share_black            29248 non-null  object\n",
      " 4   share_native_american  29248 non-null  object\n",
      " 5   share_asian            29248 non-null  object\n",
      " 6   share_hispanic         29248 non-null  object\n",
      "dtypes: object(7)\n",
      "memory usage: 1.8+ MB\n",
      "None\n",
      "<class 'pandas.core.frame.DataFrame'>\n",
      "RangeIndex: 29268 entries, 0 to 29267\n",
      "Data columns (total 7 columns):\n",
      " #   Column                 Non-Null Count  Dtype \n",
      "---  ------                 --------------  ----- \n",
      " 0   Geographic area        29268 non-null  object\n",
      " 1   City                   29268 non-null  object\n",
      " 2   share_white            29268 non-null  object\n",
      " 3   share_black            29268 non-null  object\n",
      " 4   share_native_american  29268 non-null  object\n",
      " 5   share_asian            29268 non-null  object\n",
      " 6   share_hispanic         29268 non-null  object\n",
      "dtypes: object(7)\n",
      "memory usage: 1.6+ MB\n"
     ]
    }
   ],
   "source": [
    "\"\"\"With only 20/29260 holding a row of null values, we shall drop these cities\"\"\"\n",
    "tempDf_race = df_race_city[df_race_city.share_white != '(X)'].copy()\n",
    "print(tempDf_race.info())\n",
    "df_race_city.info()"
   ],
   "metadata": {
    "collapsed": false,
    "pycharm": {
     "name": "#%%\n"
    }
   }
  },
  {
   "cell_type": "code",
   "execution_count": 268,
   "outputs": [
    {
     "name": "stdout",
     "output_type": "stream",
     "text": [
      "Carson City\n",
      "1\n",
      "['Chisana CDP', 'Flat CDP', 'Mertarvik CDP', 'Almanor CDP', 'Caribou CDP', 'Cedar Slope CDP', 'Silver City CDP', 'Sugarloaf Mountain Park CDP', 'University of California Merced CDP', 'Valley Wells CDP', 'Southfield CDP', 'Florida village', 'Goss town', 'Lakeside city', 'Greenhorn city', 'Laredo Ranchettes West CDP', 'Pueblo East CDP', 'Valle Hermoso CDP', 'Valle Verde CDP', 'Table Rock CDP']\n"
     ]
    }
   ],
   "source": [
    "#we can check that all the cities in the total data set is still in the race_city dataset\n",
    "\n",
    "cities2 = tempDf_race['City'].tolist()\n",
    "cities2 =list(set(cities2))\n",
    "j = 0\n",
    "for i in cities:\n",
    "    if(i in cities2):\n",
    "        print(i)\n",
    "        j+=1\n",
    "print(j)\n",
    "print(list_bad_cities)"
   ],
   "metadata": {
    "collapsed": false,
    "pycharm": {
     "name": "#%%\n"
    }
   }
  },
  {
   "cell_type": "code",
   "execution_count": 269,
   "outputs": [],
   "source": [
    "#make a list of df for each city\n",
    "list_df_cities = []\n",
    "for i in cities:\n",
    "    list_df_cities.append(df_total.loc[df_total['city'] == i])"
   ],
   "metadata": {
    "collapsed": false,
    "pycharm": {
     "name": "#%%\n"
    }
   }
  },
  {
   "cell_type": "code",
   "execution_count": 270,
   "outputs": [
    {
     "data": {
      "text/plain": "['W', 'O', 'H', 'N', 'B', 'A']"
     },
     "execution_count": 270,
     "metadata": {},
     "output_type": "execute_result"
    }
   ],
   "source": [
    "#make a list of race\n",
    "races = df_total['race'].tolist()\n",
    "races =list(set(races))\n",
    "races = races[1::]\n",
    "races"
   ],
   "metadata": {
    "collapsed": false,
    "pycharm": {
     "name": "#%%\n"
    }
   }
  },
  {
   "cell_type": "code",
   "execution_count": 271,
   "outputs": [
    {
     "name": "stdout",
     "output_type": "stream",
     "text": [
      "['W']\n"
     ]
    },
    {
     "name": "stderr",
     "output_type": "stream",
     "text": [
      "C:\\Users\\saads\\CSE 351\\CSE 351 Proj\\venv\\lib\\site-packages\\pandas\\core\\frame.py:3641: SettingWithCopyWarning: \n",
      "A value is trying to be set on a copy of a slice from a DataFrame.\n",
      "Try using .loc[row_indexer,col_indexer] = value instead\n",
      "\n",
      "See the caveats in the documentation: https://pandas.pydata.org/pandas-docs/stable/user_guide/indexing.html#returning-a-view-versus-a-copy\n",
      "  self[k1] = value[k2]\n"
     ]
    },
    {
     "name": "stdout",
     "output_type": "stream",
     "text": [
      "<class 'pandas.core.frame.DataFrame'>\n",
      "RangeIndex: 2535 entries, 0 to 2534\n",
      "Data columns (total 14 columns):\n",
      " #   Column                   Non-Null Count  Dtype  \n",
      "---  ------                   --------------  -----  \n",
      " 0   id                       2535 non-null   int64  \n",
      " 1   name                     2535 non-null   object \n",
      " 2   date                     2535 non-null   object \n",
      " 3   manner_of_death          2535 non-null   object \n",
      " 4   armed                    2526 non-null   object \n",
      " 5   age                      2458 non-null   float64\n",
      " 6   gender                   2535 non-null   object \n",
      " 7   race                     2535 non-null   object \n",
      " 8   city                     2535 non-null   object \n",
      " 9   state                    2535 non-null   object \n",
      " 10  signs_of_mental_illness  2535 non-null   bool   \n",
      " 11  threat_level             2535 non-null   object \n",
      " 12  flee                     2470 non-null   object \n",
      " 13  body_camera              2535 non-null   bool   \n",
      "dtypes: bool(2), float64(1), int64(1), object(10)\n",
      "memory usage: 242.7+ KB\n"
     ]
    }
   ],
   "source": [
    "mode_total = df_total['race'].mode(dropna=True).tolist()\n",
    "print(mode_total)\n",
    "for i in list_df_cities:\n",
    "    mode = i['race'].mode(dropna=True)\n",
    "    if(len(mode) == 0):\n",
    "        i[['race']] = i[['race']].fillna(mode_total[0])\n",
    "        if(i['race'].isnull().sum() != 0):\n",
    "            print(\"null val\")\n",
    "    elif(isinstance(mode, type(i['race']))):\n",
    "        mode.dropna()\n",
    "        mode = mode.tolist()\n",
    "        #if the mode has more than one value then take a random choice between the values\n",
    "        i[['race']] = i[['race']].fillna(random.choice(tuple(mode)))\n",
    "\n",
    "\n",
    "\n",
    "    df_total.loc[df_total['city'] ==  i.at[i.first_valid_index(),'city']] = i\n",
    "df_total.info()"
   ],
   "metadata": {
    "collapsed": false,
    "pycharm": {
     "name": "#%%\n"
    }
   }
  },
  {
   "cell_type": "code",
   "execution_count": 272,
   "outputs": [
    {
     "data": {
      "text/plain": "        id                name      date   manner_of_death       armed   age  \\\n0        3          Tim Elliot  02/01/15              shot         gun  53.0   \n1        4    Lewis Lee Lembke  02/01/15              shot         gun  47.0   \n2        5  John Paul Quintero  03/01/15  shot and Tasered     unarmed  23.0   \n3        8     Matthew Hoffman  04/01/15              shot  toy weapon  32.0   \n4        9   Michael Rodriguez  04/01/15              shot    nail gun  39.0   \n...    ...                 ...       ...               ...         ...   ...   \n2530  2822    Rodney E. Jacobs  28/07/17              shot         gun  31.0   \n2531  2813               TK TK  28/07/17              shot     vehicle   NaN   \n2532  2818  Dennis W. Robinson  29/07/17              shot         gun  48.0   \n2533  2817       Isaiah Tucker  31/07/17              shot     vehicle  28.0   \n2534  2815        Dwayne Jeune  31/07/17              shot       knife  32.0   \n\n     gender race           city state  signs_of_mental_illness threat_level  \\\n0         M    A        Shelton    WA                     True       attack   \n1         M    W          Aloha    OR                    False       attack   \n2         M    H        Wichita    KS                    False        other   \n3         M    W  San Francisco    CA                     True       attack   \n4         M    H          Evans    CO                    False       attack   \n...     ...  ...            ...   ...                      ...          ...   \n2530      M    B    Kansas City    MO                    False       attack   \n2531      M    H    Albuquerque    NM                    False       attack   \n2532      M    W          Melba    ID                    False       attack   \n2533      M    B        Oshkosh    WI                    False       attack   \n2534      M    B       Brooklyn    NY                     True       attack   \n\n             flee  body_camera  \n0     Not fleeing        False  \n1     Not fleeing        False  \n2     Not fleeing        False  \n3     Not fleeing        False  \n4     Not fleeing        False  \n...           ...          ...  \n2530  Not fleeing        False  \n2531          Car        False  \n2532          Car        False  \n2533          Car         True  \n2534  Not fleeing        False  \n\n[2535 rows x 14 columns]",
      "text/html": "<div>\n<style scoped>\n    .dataframe tbody tr th:only-of-type {\n        vertical-align: middle;\n    }\n\n    .dataframe tbody tr th {\n        vertical-align: top;\n    }\n\n    .dataframe thead th {\n        text-align: right;\n    }\n</style>\n<table border=\"1\" class=\"dataframe\">\n  <thead>\n    <tr style=\"text-align: right;\">\n      <th></th>\n      <th>id</th>\n      <th>name</th>\n      <th>date</th>\n      <th>manner_of_death</th>\n      <th>armed</th>\n      <th>age</th>\n      <th>gender</th>\n      <th>race</th>\n      <th>city</th>\n      <th>state</th>\n      <th>signs_of_mental_illness</th>\n      <th>threat_level</th>\n      <th>flee</th>\n      <th>body_camera</th>\n    </tr>\n  </thead>\n  <tbody>\n    <tr>\n      <th>0</th>\n      <td>3</td>\n      <td>Tim Elliot</td>\n      <td>02/01/15</td>\n      <td>shot</td>\n      <td>gun</td>\n      <td>53.0</td>\n      <td>M</td>\n      <td>A</td>\n      <td>Shelton</td>\n      <td>WA</td>\n      <td>True</td>\n      <td>attack</td>\n      <td>Not fleeing</td>\n      <td>False</td>\n    </tr>\n    <tr>\n      <th>1</th>\n      <td>4</td>\n      <td>Lewis Lee Lembke</td>\n      <td>02/01/15</td>\n      <td>shot</td>\n      <td>gun</td>\n      <td>47.0</td>\n      <td>M</td>\n      <td>W</td>\n      <td>Aloha</td>\n      <td>OR</td>\n      <td>False</td>\n      <td>attack</td>\n      <td>Not fleeing</td>\n      <td>False</td>\n    </tr>\n    <tr>\n      <th>2</th>\n      <td>5</td>\n      <td>John Paul Quintero</td>\n      <td>03/01/15</td>\n      <td>shot and Tasered</td>\n      <td>unarmed</td>\n      <td>23.0</td>\n      <td>M</td>\n      <td>H</td>\n      <td>Wichita</td>\n      <td>KS</td>\n      <td>False</td>\n      <td>other</td>\n      <td>Not fleeing</td>\n      <td>False</td>\n    </tr>\n    <tr>\n      <th>3</th>\n      <td>8</td>\n      <td>Matthew Hoffman</td>\n      <td>04/01/15</td>\n      <td>shot</td>\n      <td>toy weapon</td>\n      <td>32.0</td>\n      <td>M</td>\n      <td>W</td>\n      <td>San Francisco</td>\n      <td>CA</td>\n      <td>True</td>\n      <td>attack</td>\n      <td>Not fleeing</td>\n      <td>False</td>\n    </tr>\n    <tr>\n      <th>4</th>\n      <td>9</td>\n      <td>Michael Rodriguez</td>\n      <td>04/01/15</td>\n      <td>shot</td>\n      <td>nail gun</td>\n      <td>39.0</td>\n      <td>M</td>\n      <td>H</td>\n      <td>Evans</td>\n      <td>CO</td>\n      <td>False</td>\n      <td>attack</td>\n      <td>Not fleeing</td>\n      <td>False</td>\n    </tr>\n    <tr>\n      <th>...</th>\n      <td>...</td>\n      <td>...</td>\n      <td>...</td>\n      <td>...</td>\n      <td>...</td>\n      <td>...</td>\n      <td>...</td>\n      <td>...</td>\n      <td>...</td>\n      <td>...</td>\n      <td>...</td>\n      <td>...</td>\n      <td>...</td>\n      <td>...</td>\n    </tr>\n    <tr>\n      <th>2530</th>\n      <td>2822</td>\n      <td>Rodney E. Jacobs</td>\n      <td>28/07/17</td>\n      <td>shot</td>\n      <td>gun</td>\n      <td>31.0</td>\n      <td>M</td>\n      <td>B</td>\n      <td>Kansas City</td>\n      <td>MO</td>\n      <td>False</td>\n      <td>attack</td>\n      <td>Not fleeing</td>\n      <td>False</td>\n    </tr>\n    <tr>\n      <th>2531</th>\n      <td>2813</td>\n      <td>TK TK</td>\n      <td>28/07/17</td>\n      <td>shot</td>\n      <td>vehicle</td>\n      <td>NaN</td>\n      <td>M</td>\n      <td>H</td>\n      <td>Albuquerque</td>\n      <td>NM</td>\n      <td>False</td>\n      <td>attack</td>\n      <td>Car</td>\n      <td>False</td>\n    </tr>\n    <tr>\n      <th>2532</th>\n      <td>2818</td>\n      <td>Dennis W. Robinson</td>\n      <td>29/07/17</td>\n      <td>shot</td>\n      <td>gun</td>\n      <td>48.0</td>\n      <td>M</td>\n      <td>W</td>\n      <td>Melba</td>\n      <td>ID</td>\n      <td>False</td>\n      <td>attack</td>\n      <td>Car</td>\n      <td>False</td>\n    </tr>\n    <tr>\n      <th>2533</th>\n      <td>2817</td>\n      <td>Isaiah Tucker</td>\n      <td>31/07/17</td>\n      <td>shot</td>\n      <td>vehicle</td>\n      <td>28.0</td>\n      <td>M</td>\n      <td>B</td>\n      <td>Oshkosh</td>\n      <td>WI</td>\n      <td>False</td>\n      <td>attack</td>\n      <td>Car</td>\n      <td>True</td>\n    </tr>\n    <tr>\n      <th>2534</th>\n      <td>2815</td>\n      <td>Dwayne Jeune</td>\n      <td>31/07/17</td>\n      <td>shot</td>\n      <td>knife</td>\n      <td>32.0</td>\n      <td>M</td>\n      <td>B</td>\n      <td>Brooklyn</td>\n      <td>NY</td>\n      <td>True</td>\n      <td>attack</td>\n      <td>Not fleeing</td>\n      <td>False</td>\n    </tr>\n  </tbody>\n</table>\n<p>2535 rows × 14 columns</p>\n</div>"
     },
     "execution_count": 272,
     "metadata": {},
     "output_type": "execute_result"
    }
   ],
   "source": [
    " # removed all data wiht NaN in race Column...df_training[df_training['race'].isnull()]\n",
    "df_total"
   ],
   "metadata": {
    "collapsed": false,
    "pycharm": {
     "name": "#%%\n"
    }
   }
  },
  {
   "cell_type": "code",
   "execution_count": 273,
   "outputs": [
    {
     "data": {
      "text/plain": "        id                   name      date   manner_of_death       armed  \\\n0        3             Tim Elliot  02/01/15              shot         gun   \n1        4       Lewis Lee Lembke  02/01/15              shot         gun   \n2        5     John Paul Quintero  03/01/15  shot and Tasered     unarmed   \n3        8        Matthew Hoffman  04/01/15              shot  toy weapon   \n4        9      Michael Rodriguez  04/01/15              shot    nail gun   \n...    ...                    ...       ...               ...         ...   \n2023  2256   Jeremy Lopez-Robledo  24/01/17              shot       knife   \n2024  2257    Jonathan David Sper  24/01/17              shot     unarmed   \n2025  2258  Jose Efrain Rodriguez  24/01/17  shot and Tasered         gun   \n2026  2259          Ramon Milanez  24/01/17              shot         gun   \n2027  2260       Micah R. Lambert  25/01/17              shot     vehicle   \n\n       age gender race             city state  signs_of_mental_illness  \\\n0     53.0      M    A          Shelton    WA                     True   \n1     47.0      M    W            Aloha    OR                    False   \n2     23.0      M    H          Wichita    KS                    False   \n3     32.0      M    W    San Francisco    CA                     True   \n4     39.0      M    H            Evans    CO                    False   \n...    ...    ...  ...              ...   ...                      ...   \n2023  29.0      M    H       Las Cruces    NM                     True   \n2024  30.0      M    W  Algoma Township    MI                     True   \n2025  18.0      M    H   Lancaster City    PA                    False   \n2026  32.0      M    H             Kuna    ID                    False   \n2027  37.0      M    W           Oxford    AL                     True   \n\n     threat_level         flee  body_camera  \n0          attack  Not fleeing        False  \n1          attack  Not fleeing        False  \n2           other  Not fleeing        False  \n3          attack  Not fleeing        False  \n4          attack  Not fleeing        False  \n...           ...          ...          ...  \n2023       attack         Foot         True  \n2024       attack  Not fleeing        False  \n2025       attack  Not fleeing        False  \n2026       attack          Car        False  \n2027       attack          Car        False  \n\n[1937 rows x 14 columns]",
      "text/html": "<div>\n<style scoped>\n    .dataframe tbody tr th:only-of-type {\n        vertical-align: middle;\n    }\n\n    .dataframe tbody tr th {\n        vertical-align: top;\n    }\n\n    .dataframe thead th {\n        text-align: right;\n    }\n</style>\n<table border=\"1\" class=\"dataframe\">\n  <thead>\n    <tr style=\"text-align: right;\">\n      <th></th>\n      <th>id</th>\n      <th>name</th>\n      <th>date</th>\n      <th>manner_of_death</th>\n      <th>armed</th>\n      <th>age</th>\n      <th>gender</th>\n      <th>race</th>\n      <th>city</th>\n      <th>state</th>\n      <th>signs_of_mental_illness</th>\n      <th>threat_level</th>\n      <th>flee</th>\n      <th>body_camera</th>\n    </tr>\n  </thead>\n  <tbody>\n    <tr>\n      <th>0</th>\n      <td>3</td>\n      <td>Tim Elliot</td>\n      <td>02/01/15</td>\n      <td>shot</td>\n      <td>gun</td>\n      <td>53.0</td>\n      <td>M</td>\n      <td>A</td>\n      <td>Shelton</td>\n      <td>WA</td>\n      <td>True</td>\n      <td>attack</td>\n      <td>Not fleeing</td>\n      <td>False</td>\n    </tr>\n    <tr>\n      <th>1</th>\n      <td>4</td>\n      <td>Lewis Lee Lembke</td>\n      <td>02/01/15</td>\n      <td>shot</td>\n      <td>gun</td>\n      <td>47.0</td>\n      <td>M</td>\n      <td>W</td>\n      <td>Aloha</td>\n      <td>OR</td>\n      <td>False</td>\n      <td>attack</td>\n      <td>Not fleeing</td>\n      <td>False</td>\n    </tr>\n    <tr>\n      <th>2</th>\n      <td>5</td>\n      <td>John Paul Quintero</td>\n      <td>03/01/15</td>\n      <td>shot and Tasered</td>\n      <td>unarmed</td>\n      <td>23.0</td>\n      <td>M</td>\n      <td>H</td>\n      <td>Wichita</td>\n      <td>KS</td>\n      <td>False</td>\n      <td>other</td>\n      <td>Not fleeing</td>\n      <td>False</td>\n    </tr>\n    <tr>\n      <th>3</th>\n      <td>8</td>\n      <td>Matthew Hoffman</td>\n      <td>04/01/15</td>\n      <td>shot</td>\n      <td>toy weapon</td>\n      <td>32.0</td>\n      <td>M</td>\n      <td>W</td>\n      <td>San Francisco</td>\n      <td>CA</td>\n      <td>True</td>\n      <td>attack</td>\n      <td>Not fleeing</td>\n      <td>False</td>\n    </tr>\n    <tr>\n      <th>4</th>\n      <td>9</td>\n      <td>Michael Rodriguez</td>\n      <td>04/01/15</td>\n      <td>shot</td>\n      <td>nail gun</td>\n      <td>39.0</td>\n      <td>M</td>\n      <td>H</td>\n      <td>Evans</td>\n      <td>CO</td>\n      <td>False</td>\n      <td>attack</td>\n      <td>Not fleeing</td>\n      <td>False</td>\n    </tr>\n    <tr>\n      <th>...</th>\n      <td>...</td>\n      <td>...</td>\n      <td>...</td>\n      <td>...</td>\n      <td>...</td>\n      <td>...</td>\n      <td>...</td>\n      <td>...</td>\n      <td>...</td>\n      <td>...</td>\n      <td>...</td>\n      <td>...</td>\n      <td>...</td>\n      <td>...</td>\n    </tr>\n    <tr>\n      <th>2023</th>\n      <td>2256</td>\n      <td>Jeremy Lopez-Robledo</td>\n      <td>24/01/17</td>\n      <td>shot</td>\n      <td>knife</td>\n      <td>29.0</td>\n      <td>M</td>\n      <td>H</td>\n      <td>Las Cruces</td>\n      <td>NM</td>\n      <td>True</td>\n      <td>attack</td>\n      <td>Foot</td>\n      <td>True</td>\n    </tr>\n    <tr>\n      <th>2024</th>\n      <td>2257</td>\n      <td>Jonathan David Sper</td>\n      <td>24/01/17</td>\n      <td>shot</td>\n      <td>unarmed</td>\n      <td>30.0</td>\n      <td>M</td>\n      <td>W</td>\n      <td>Algoma Township</td>\n      <td>MI</td>\n      <td>True</td>\n      <td>attack</td>\n      <td>Not fleeing</td>\n      <td>False</td>\n    </tr>\n    <tr>\n      <th>2025</th>\n      <td>2258</td>\n      <td>Jose Efrain Rodriguez</td>\n      <td>24/01/17</td>\n      <td>shot and Tasered</td>\n      <td>gun</td>\n      <td>18.0</td>\n      <td>M</td>\n      <td>H</td>\n      <td>Lancaster City</td>\n      <td>PA</td>\n      <td>False</td>\n      <td>attack</td>\n      <td>Not fleeing</td>\n      <td>False</td>\n    </tr>\n    <tr>\n      <th>2026</th>\n      <td>2259</td>\n      <td>Ramon Milanez</td>\n      <td>24/01/17</td>\n      <td>shot</td>\n      <td>gun</td>\n      <td>32.0</td>\n      <td>M</td>\n      <td>H</td>\n      <td>Kuna</td>\n      <td>ID</td>\n      <td>False</td>\n      <td>attack</td>\n      <td>Car</td>\n      <td>False</td>\n    </tr>\n    <tr>\n      <th>2027</th>\n      <td>2260</td>\n      <td>Micah R. Lambert</td>\n      <td>25/01/17</td>\n      <td>shot</td>\n      <td>vehicle</td>\n      <td>37.0</td>\n      <td>M</td>\n      <td>W</td>\n      <td>Oxford</td>\n      <td>AL</td>\n      <td>True</td>\n      <td>attack</td>\n      <td>Car</td>\n      <td>False</td>\n    </tr>\n  </tbody>\n</table>\n<p>1937 rows × 14 columns</p>\n</div>"
     },
     "execution_count": 273,
     "metadata": {},
     "output_type": "execute_result"
    }
   ],
   "source": [
    "\"\"\"\n",
    "Fix the 'race' column\n",
    "We want to impute the NaN in the 'race' column with the most frequent race that is reported in the same city.\n",
    "First get a list of cities,\n",
    "second, get the mode for each city.\n",
    "\"\"\"\n",
    "training_race_noNaN = df_training[df_training['race'].notnull()].copy()\n",
    "\n",
    "training_cities = training_race_noNaN['city'].unique()\n",
    "\n",
    "training_race_noNaN"
   ],
   "metadata": {
    "collapsed": false,
    "pycharm": {
     "name": "#%%\n"
    }
   }
  },
  {
   "cell_type": "code",
   "execution_count": 274,
   "outputs": [
    {
     "data": {
      "text/plain": "               race\ncity               \nAbingdon          W\nAcworth           W\nAddison           H\nAiken             W\nAitkin            W\n...             ...\nYork              W\nYork County       B\nYuma              H\nZanesville        W\nZion         [B, W]\n\n[1140 rows x 1 columns]",
      "text/html": "<div>\n<style scoped>\n    .dataframe tbody tr th:only-of-type {\n        vertical-align: middle;\n    }\n\n    .dataframe tbody tr th {\n        vertical-align: top;\n    }\n\n    .dataframe thead th {\n        text-align: right;\n    }\n</style>\n<table border=\"1\" class=\"dataframe\">\n  <thead>\n    <tr style=\"text-align: right;\">\n      <th></th>\n      <th>race</th>\n    </tr>\n    <tr>\n      <th>city</th>\n      <th></th>\n    </tr>\n  </thead>\n  <tbody>\n    <tr>\n      <th>Abingdon</th>\n      <td>W</td>\n    </tr>\n    <tr>\n      <th>Acworth</th>\n      <td>W</td>\n    </tr>\n    <tr>\n      <th>Addison</th>\n      <td>H</td>\n    </tr>\n    <tr>\n      <th>Aiken</th>\n      <td>W</td>\n    </tr>\n    <tr>\n      <th>Aitkin</th>\n      <td>W</td>\n    </tr>\n    <tr>\n      <th>...</th>\n      <td>...</td>\n    </tr>\n    <tr>\n      <th>York</th>\n      <td>W</td>\n    </tr>\n    <tr>\n      <th>York County</th>\n      <td>B</td>\n    </tr>\n    <tr>\n      <th>Yuma</th>\n      <td>H</td>\n    </tr>\n    <tr>\n      <th>Zanesville</th>\n      <td>W</td>\n    </tr>\n    <tr>\n      <th>Zion</th>\n      <td>[B, W]</td>\n    </tr>\n  </tbody>\n</table>\n<p>1140 rows × 1 columns</p>\n</div>"
     },
     "execution_count": 274,
     "metadata": {},
     "output_type": "execute_result"
    }
   ],
   "source": [
    "training_race_noNaN.groupby('city')['race'].agg(pd.Series.mode).to_frame()"
   ],
   "metadata": {
    "collapsed": false,
    "pycharm": {
     "name": "#%%\n"
    }
   }
  },
  {
   "cell_type": "code",
   "execution_count": 274,
   "outputs": [],
   "source": [],
   "metadata": {
    "collapsed": false,
    "pycharm": {
     "name": "#%%\n"
    }
   }
  },
  {
   "cell_type": "code",
   "execution_count": 48,
   "outputs": [
    {
     "data": {
      "text/plain": "               race\ncity               \nAbingdon          W\nAcworth           W\nAddison           H\nAiken             W\nAitkin            W\n...             ...\nYork              W\nYork County       B\nYuma              H\nZanesville        W\nZion         [B, W]\n\n[1140 rows x 1 columns]",
      "text/html": "<div>\n<style scoped>\n    .dataframe tbody tr th:only-of-type {\n        vertical-align: middle;\n    }\n\n    .dataframe tbody tr th {\n        vertical-align: top;\n    }\n\n    .dataframe thead th {\n        text-align: right;\n    }\n</style>\n<table border=\"1\" class=\"dataframe\">\n  <thead>\n    <tr style=\"text-align: right;\">\n      <th></th>\n      <th>race</th>\n    </tr>\n    <tr>\n      <th>city</th>\n      <th></th>\n    </tr>\n  </thead>\n  <tbody>\n    <tr>\n      <th>Abingdon</th>\n      <td>W</td>\n    </tr>\n    <tr>\n      <th>Acworth</th>\n      <td>W</td>\n    </tr>\n    <tr>\n      <th>Addison</th>\n      <td>H</td>\n    </tr>\n    <tr>\n      <th>Aiken</th>\n      <td>W</td>\n    </tr>\n    <tr>\n      <th>Aitkin</th>\n      <td>W</td>\n    </tr>\n    <tr>\n      <th>...</th>\n      <td>...</td>\n    </tr>\n    <tr>\n      <th>York</th>\n      <td>W</td>\n    </tr>\n    <tr>\n      <th>York County</th>\n      <td>B</td>\n    </tr>\n    <tr>\n      <th>Yuma</th>\n      <td>H</td>\n    </tr>\n    <tr>\n      <th>Zanesville</th>\n      <td>W</td>\n    </tr>\n    <tr>\n      <th>Zion</th>\n      <td>[B, W]</td>\n    </tr>\n  </tbody>\n</table>\n<p>1140 rows × 1 columns</p>\n</div>"
     },
     "execution_count": 48,
     "metadata": {},
     "output_type": "execute_result"
    }
   ],
   "source": [
    "training_race_noNaN.groupby('city')['race'].agg(pd.Series.mode).to_frame()"
   ],
   "metadata": {
    "collapsed": false,
    "pycharm": {
     "name": "#%%\n"
    }
   }
  },
  {
   "cell_type": "code",
   "execution_count": null,
   "outputs": [],
   "source": [],
   "metadata": {
    "collapsed": false,
    "pycharm": {
     "name": "#%%\n"
    }
   }
  }
 ],
 "metadata": {
  "kernelspec": {
   "display_name": "Python 3",
   "language": "python",
   "name": "python3"
  },
  "language_info": {
   "codemirror_mode": {
    "name": "ipython",
    "version": 2
   },
   "file_extension": ".py",
   "mimetype": "text/x-python",
   "name": "python",
   "nbconvert_exporter": "python",
   "pygments_lexer": "ipython2",
   "version": "2.7.6"
  }
 },
 "nbformat": 4,
 "nbformat_minor": 0
}