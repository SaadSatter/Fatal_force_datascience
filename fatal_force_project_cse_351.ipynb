{
 "cells": [
  {
   "cell_type": "code",
   "execution_count": 717,
   "metadata": {
    "collapsed": true,
    "pycharm": {
     "name": "#%%\n"
    }
   },
   "outputs": [],
   "source": [
    "import itertools\n",
    "\n",
    "import numpy\n",
    "import pandas as pd\n",
    "import random\n",
    "import sklearn\n",
    "from sklearn.model_selection import train_test_split\n",
    "import datetime\n",
    "from sklearn import metrics\n",
    "from sklearn.linear_model import LinearRegression\n",
    "from sklearn.linear_model import LogisticRegression\n",
    "import matplotlib.pyplot as plt\n",
    "import numpy as np\n",
    "import seaborn as sb"
   ]
  },
  {
   "cell_type": "code",
   "execution_count": 718,
   "outputs": [
    {
     "name": "stdout",
     "output_type": "stream",
     "text": [
      "<class 'pandas.core.frame.DataFrame'>\n",
      "RangeIndex: 507 entries, 0 to 506\n",
      "Data columns (total 14 columns):\n",
      " #   Column                   Non-Null Count  Dtype  \n",
      "---  ------                   --------------  -----  \n",
      " 0   id                       507 non-null    int64  \n",
      " 1   name                     507 non-null    object \n",
      " 2   date                     507 non-null    object \n",
      " 3   manner_of_death          507 non-null    object \n",
      " 4   armed                    504 non-null    object \n",
      " 5   age                      467 non-null    float64\n",
      " 6   gender                   507 non-null    object \n",
      " 7   race                     403 non-null    object \n",
      " 8   city                     507 non-null    object \n",
      " 9   state                    507 non-null    object \n",
      " 10  signs_of_mental_illness  507 non-null    bool   \n",
      " 11  threat_level             507 non-null    object \n",
      " 12  flee                     469 non-null    object \n",
      " 13  body_camera              507 non-null    bool   \n",
      "dtypes: bool(2), float64(1), int64(1), object(10)\n",
      "memory usage: 48.6+ KB\n"
     ]
    },
    {
     "data": {
      "text/plain": "        id                   name      date   manner_of_death       armed  \\\n0        3             Tim Elliot  02/01/15              shot         gun   \n1        4       Lewis Lee Lembke  02/01/15              shot         gun   \n2        5     John Paul Quintero  03/01/15  shot and Tasered     unarmed   \n3        8        Matthew Hoffman  04/01/15              shot  toy weapon   \n4        9      Michael Rodriguez  04/01/15              shot    nail gun   \n...    ...                    ...       ...               ...         ...   \n2023  2256   Jeremy Lopez-Robledo  24/01/17              shot       knife   \n2024  2257    Jonathan David Sper  24/01/17              shot     unarmed   \n2025  2258  Jose Efrain Rodriguez  24/01/17  shot and Tasered         gun   \n2026  2259          Ramon Milanez  24/01/17              shot         gun   \n2027  2260       Micah R. Lambert  25/01/17              shot     vehicle   \n\n       age gender race             city state  signs_of_mental_illness  \\\n0     53.0      M    A          Shelton    WA                     True   \n1     47.0      M    W            Aloha    OR                    False   \n2     23.0      M    H          Wichita    KS                    False   \n3     32.0      M    W    San Francisco    CA                     True   \n4     39.0      M    H            Evans    CO                    False   \n...    ...    ...  ...              ...   ...                      ...   \n2023  29.0      M    H       Las Cruces    NM                     True   \n2024  30.0      M    W  Algoma Township    MI                     True   \n2025  18.0      M    H   Lancaster City    PA                    False   \n2026  32.0      M    H             Kuna    ID                    False   \n2027  37.0      M    W           Oxford    AL                     True   \n\n     threat_level         flee  body_camera  \n0          attack  Not fleeing        False  \n1          attack  Not fleeing        False  \n2           other  Not fleeing        False  \n3          attack  Not fleeing        False  \n4          attack  Not fleeing        False  \n...           ...          ...          ...  \n2023       attack         Foot         True  \n2024       attack  Not fleeing        False  \n2025       attack  Not fleeing        False  \n2026       attack          Car        False  \n2027       attack          Car        False  \n\n[2028 rows x 14 columns]",
      "text/html": "<div>\n<style scoped>\n    .dataframe tbody tr th:only-of-type {\n        vertical-align: middle;\n    }\n\n    .dataframe tbody tr th {\n        vertical-align: top;\n    }\n\n    .dataframe thead th {\n        text-align: right;\n    }\n</style>\n<table border=\"1\" class=\"dataframe\">\n  <thead>\n    <tr style=\"text-align: right;\">\n      <th></th>\n      <th>id</th>\n      <th>name</th>\n      <th>date</th>\n      <th>manner_of_death</th>\n      <th>armed</th>\n      <th>age</th>\n      <th>gender</th>\n      <th>race</th>\n      <th>city</th>\n      <th>state</th>\n      <th>signs_of_mental_illness</th>\n      <th>threat_level</th>\n      <th>flee</th>\n      <th>body_camera</th>\n    </tr>\n  </thead>\n  <tbody>\n    <tr>\n      <th>0</th>\n      <td>3</td>\n      <td>Tim Elliot</td>\n      <td>02/01/15</td>\n      <td>shot</td>\n      <td>gun</td>\n      <td>53.0</td>\n      <td>M</td>\n      <td>A</td>\n      <td>Shelton</td>\n      <td>WA</td>\n      <td>True</td>\n      <td>attack</td>\n      <td>Not fleeing</td>\n      <td>False</td>\n    </tr>\n    <tr>\n      <th>1</th>\n      <td>4</td>\n      <td>Lewis Lee Lembke</td>\n      <td>02/01/15</td>\n      <td>shot</td>\n      <td>gun</td>\n      <td>47.0</td>\n      <td>M</td>\n      <td>W</td>\n      <td>Aloha</td>\n      <td>OR</td>\n      <td>False</td>\n      <td>attack</td>\n      <td>Not fleeing</td>\n      <td>False</td>\n    </tr>\n    <tr>\n      <th>2</th>\n      <td>5</td>\n      <td>John Paul Quintero</td>\n      <td>03/01/15</td>\n      <td>shot and Tasered</td>\n      <td>unarmed</td>\n      <td>23.0</td>\n      <td>M</td>\n      <td>H</td>\n      <td>Wichita</td>\n      <td>KS</td>\n      <td>False</td>\n      <td>other</td>\n      <td>Not fleeing</td>\n      <td>False</td>\n    </tr>\n    <tr>\n      <th>3</th>\n      <td>8</td>\n      <td>Matthew Hoffman</td>\n      <td>04/01/15</td>\n      <td>shot</td>\n      <td>toy weapon</td>\n      <td>32.0</td>\n      <td>M</td>\n      <td>W</td>\n      <td>San Francisco</td>\n      <td>CA</td>\n      <td>True</td>\n      <td>attack</td>\n      <td>Not fleeing</td>\n      <td>False</td>\n    </tr>\n    <tr>\n      <th>4</th>\n      <td>9</td>\n      <td>Michael Rodriguez</td>\n      <td>04/01/15</td>\n      <td>shot</td>\n      <td>nail gun</td>\n      <td>39.0</td>\n      <td>M</td>\n      <td>H</td>\n      <td>Evans</td>\n      <td>CO</td>\n      <td>False</td>\n      <td>attack</td>\n      <td>Not fleeing</td>\n      <td>False</td>\n    </tr>\n    <tr>\n      <th>...</th>\n      <td>...</td>\n      <td>...</td>\n      <td>...</td>\n      <td>...</td>\n      <td>...</td>\n      <td>...</td>\n      <td>...</td>\n      <td>...</td>\n      <td>...</td>\n      <td>...</td>\n      <td>...</td>\n      <td>...</td>\n      <td>...</td>\n      <td>...</td>\n    </tr>\n    <tr>\n      <th>2023</th>\n      <td>2256</td>\n      <td>Jeremy Lopez-Robledo</td>\n      <td>24/01/17</td>\n      <td>shot</td>\n      <td>knife</td>\n      <td>29.0</td>\n      <td>M</td>\n      <td>H</td>\n      <td>Las Cruces</td>\n      <td>NM</td>\n      <td>True</td>\n      <td>attack</td>\n      <td>Foot</td>\n      <td>True</td>\n    </tr>\n    <tr>\n      <th>2024</th>\n      <td>2257</td>\n      <td>Jonathan David Sper</td>\n      <td>24/01/17</td>\n      <td>shot</td>\n      <td>unarmed</td>\n      <td>30.0</td>\n      <td>M</td>\n      <td>W</td>\n      <td>Algoma Township</td>\n      <td>MI</td>\n      <td>True</td>\n      <td>attack</td>\n      <td>Not fleeing</td>\n      <td>False</td>\n    </tr>\n    <tr>\n      <th>2025</th>\n      <td>2258</td>\n      <td>Jose Efrain Rodriguez</td>\n      <td>24/01/17</td>\n      <td>shot and Tasered</td>\n      <td>gun</td>\n      <td>18.0</td>\n      <td>M</td>\n      <td>H</td>\n      <td>Lancaster City</td>\n      <td>PA</td>\n      <td>False</td>\n      <td>attack</td>\n      <td>Not fleeing</td>\n      <td>False</td>\n    </tr>\n    <tr>\n      <th>2026</th>\n      <td>2259</td>\n      <td>Ramon Milanez</td>\n      <td>24/01/17</td>\n      <td>shot</td>\n      <td>gun</td>\n      <td>32.0</td>\n      <td>M</td>\n      <td>H</td>\n      <td>Kuna</td>\n      <td>ID</td>\n      <td>False</td>\n      <td>attack</td>\n      <td>Car</td>\n      <td>False</td>\n    </tr>\n    <tr>\n      <th>2027</th>\n      <td>2260</td>\n      <td>Micah R. Lambert</td>\n      <td>25/01/17</td>\n      <td>shot</td>\n      <td>vehicle</td>\n      <td>37.0</td>\n      <td>M</td>\n      <td>W</td>\n      <td>Oxford</td>\n      <td>AL</td>\n      <td>True</td>\n      <td>attack</td>\n      <td>Car</td>\n      <td>False</td>\n    </tr>\n  </tbody>\n</table>\n<p>2028 rows × 14 columns</p>\n</div>"
     },
     "execution_count": 718,
     "metadata": {},
     "output_type": "execute_result"
    }
   ],
   "source": [
    "\"\"\"\n",
    "Our first goal is going to be data cleaning and munging. We want to take care of all null values\n",
    "first.\n",
    "\"\"\"\n",
    "\n",
    "df_training = pd.read_csv('police_killings_train.csv')\n",
    "df_test = pd.read_csv('police_killings_test.csv')\n",
    "df_race_city = pd.read_csv('share_race_by_city.csv')\n",
    "df_income = pd.read_csv('income.csv', encoding=\"ANSI\")\n",
    "df_poverty = pd.read_csv('poverty.csv', encoding=\"ANSI\")\n",
    "df_education = pd.read_csv('education.csv', encoding=\"ANSI\")\n",
    "\n",
    "df_test.info()\n",
    "df_training"
   ],
   "metadata": {
    "collapsed": false,
    "pycharm": {
     "name": "#%%\n"
    }
   }
  },
  {
   "cell_type": "code",
   "execution_count": 719,
   "outputs": [
    {
     "data": {
      "text/plain": "        id                name      date   manner_of_death       armed   age  \\\n0        3          Tim Elliot  02/01/15              shot         gun  53.0   \n1        4    Lewis Lee Lembke  02/01/15              shot         gun  47.0   \n2        5  John Paul Quintero  03/01/15  shot and Tasered     unarmed  23.0   \n3        8     Matthew Hoffman  04/01/15              shot  toy weapon  32.0   \n4        9   Michael Rodriguez  04/01/15              shot    nail gun  39.0   \n...    ...                 ...       ...               ...         ...   ...   \n2530  2822    Rodney E. Jacobs  28/07/17              shot         gun  31.0   \n2531  2813               TK TK  28/07/17              shot     vehicle   NaN   \n2532  2818  Dennis W. Robinson  29/07/17              shot         gun  48.0   \n2533  2817       Isaiah Tucker  31/07/17              shot     vehicle  28.0   \n2534  2815        Dwayne Jeune  31/07/17              shot       knife  32.0   \n\n     gender race           city state  signs_of_mental_illness threat_level  \\\n0         M    A        Shelton    WA                     True       attack   \n1         M    W          Aloha    OR                    False       attack   \n2         M    H        Wichita    KS                    False        other   \n3         M    W  San Francisco    CA                     True       attack   \n4         M    H          Evans    CO                    False       attack   \n...     ...  ...            ...   ...                      ...          ...   \n2530      M  NaN    Kansas City    MO                    False       attack   \n2531      M  NaN    Albuquerque    NM                    False       attack   \n2532      M  NaN          Melba    ID                    False       attack   \n2533      M    B        Oshkosh    WI                    False       attack   \n2534      M    B       Brooklyn    NY                     True       attack   \n\n             flee  body_camera  \n0     Not fleeing        False  \n1     Not fleeing        False  \n2     Not fleeing        False  \n3     Not fleeing        False  \n4     Not fleeing        False  \n...           ...          ...  \n2530  Not fleeing        False  \n2531          Car        False  \n2532          Car        False  \n2533          Car         True  \n2534  Not fleeing        False  \n\n[2535 rows x 14 columns]",
      "text/html": "<div>\n<style scoped>\n    .dataframe tbody tr th:only-of-type {\n        vertical-align: middle;\n    }\n\n    .dataframe tbody tr th {\n        vertical-align: top;\n    }\n\n    .dataframe thead th {\n        text-align: right;\n    }\n</style>\n<table border=\"1\" class=\"dataframe\">\n  <thead>\n    <tr style=\"text-align: right;\">\n      <th></th>\n      <th>id</th>\n      <th>name</th>\n      <th>date</th>\n      <th>manner_of_death</th>\n      <th>armed</th>\n      <th>age</th>\n      <th>gender</th>\n      <th>race</th>\n      <th>city</th>\n      <th>state</th>\n      <th>signs_of_mental_illness</th>\n      <th>threat_level</th>\n      <th>flee</th>\n      <th>body_camera</th>\n    </tr>\n  </thead>\n  <tbody>\n    <tr>\n      <th>0</th>\n      <td>3</td>\n      <td>Tim Elliot</td>\n      <td>02/01/15</td>\n      <td>shot</td>\n      <td>gun</td>\n      <td>53.0</td>\n      <td>M</td>\n      <td>A</td>\n      <td>Shelton</td>\n      <td>WA</td>\n      <td>True</td>\n      <td>attack</td>\n      <td>Not fleeing</td>\n      <td>False</td>\n    </tr>\n    <tr>\n      <th>1</th>\n      <td>4</td>\n      <td>Lewis Lee Lembke</td>\n      <td>02/01/15</td>\n      <td>shot</td>\n      <td>gun</td>\n      <td>47.0</td>\n      <td>M</td>\n      <td>W</td>\n      <td>Aloha</td>\n      <td>OR</td>\n      <td>False</td>\n      <td>attack</td>\n      <td>Not fleeing</td>\n      <td>False</td>\n    </tr>\n    <tr>\n      <th>2</th>\n      <td>5</td>\n      <td>John Paul Quintero</td>\n      <td>03/01/15</td>\n      <td>shot and Tasered</td>\n      <td>unarmed</td>\n      <td>23.0</td>\n      <td>M</td>\n      <td>H</td>\n      <td>Wichita</td>\n      <td>KS</td>\n      <td>False</td>\n      <td>other</td>\n      <td>Not fleeing</td>\n      <td>False</td>\n    </tr>\n    <tr>\n      <th>3</th>\n      <td>8</td>\n      <td>Matthew Hoffman</td>\n      <td>04/01/15</td>\n      <td>shot</td>\n      <td>toy weapon</td>\n      <td>32.0</td>\n      <td>M</td>\n      <td>W</td>\n      <td>San Francisco</td>\n      <td>CA</td>\n      <td>True</td>\n      <td>attack</td>\n      <td>Not fleeing</td>\n      <td>False</td>\n    </tr>\n    <tr>\n      <th>4</th>\n      <td>9</td>\n      <td>Michael Rodriguez</td>\n      <td>04/01/15</td>\n      <td>shot</td>\n      <td>nail gun</td>\n      <td>39.0</td>\n      <td>M</td>\n      <td>H</td>\n      <td>Evans</td>\n      <td>CO</td>\n      <td>False</td>\n      <td>attack</td>\n      <td>Not fleeing</td>\n      <td>False</td>\n    </tr>\n    <tr>\n      <th>...</th>\n      <td>...</td>\n      <td>...</td>\n      <td>...</td>\n      <td>...</td>\n      <td>...</td>\n      <td>...</td>\n      <td>...</td>\n      <td>...</td>\n      <td>...</td>\n      <td>...</td>\n      <td>...</td>\n      <td>...</td>\n      <td>...</td>\n      <td>...</td>\n    </tr>\n    <tr>\n      <th>2530</th>\n      <td>2822</td>\n      <td>Rodney E. Jacobs</td>\n      <td>28/07/17</td>\n      <td>shot</td>\n      <td>gun</td>\n      <td>31.0</td>\n      <td>M</td>\n      <td>NaN</td>\n      <td>Kansas City</td>\n      <td>MO</td>\n      <td>False</td>\n      <td>attack</td>\n      <td>Not fleeing</td>\n      <td>False</td>\n    </tr>\n    <tr>\n      <th>2531</th>\n      <td>2813</td>\n      <td>TK TK</td>\n      <td>28/07/17</td>\n      <td>shot</td>\n      <td>vehicle</td>\n      <td>NaN</td>\n      <td>M</td>\n      <td>NaN</td>\n      <td>Albuquerque</td>\n      <td>NM</td>\n      <td>False</td>\n      <td>attack</td>\n      <td>Car</td>\n      <td>False</td>\n    </tr>\n    <tr>\n      <th>2532</th>\n      <td>2818</td>\n      <td>Dennis W. Robinson</td>\n      <td>29/07/17</td>\n      <td>shot</td>\n      <td>gun</td>\n      <td>48.0</td>\n      <td>M</td>\n      <td>NaN</td>\n      <td>Melba</td>\n      <td>ID</td>\n      <td>False</td>\n      <td>attack</td>\n      <td>Car</td>\n      <td>False</td>\n    </tr>\n    <tr>\n      <th>2533</th>\n      <td>2817</td>\n      <td>Isaiah Tucker</td>\n      <td>31/07/17</td>\n      <td>shot</td>\n      <td>vehicle</td>\n      <td>28.0</td>\n      <td>M</td>\n      <td>B</td>\n      <td>Oshkosh</td>\n      <td>WI</td>\n      <td>False</td>\n      <td>attack</td>\n      <td>Car</td>\n      <td>True</td>\n    </tr>\n    <tr>\n      <th>2534</th>\n      <td>2815</td>\n      <td>Dwayne Jeune</td>\n      <td>31/07/17</td>\n      <td>shot</td>\n      <td>knife</td>\n      <td>32.0</td>\n      <td>M</td>\n      <td>B</td>\n      <td>Brooklyn</td>\n      <td>NY</td>\n      <td>True</td>\n      <td>attack</td>\n      <td>Not fleeing</td>\n      <td>False</td>\n    </tr>\n  </tbody>\n</table>\n<p>2535 rows × 14 columns</p>\n</div>"
     },
     "execution_count": 719,
     "metadata": {},
     "output_type": "execute_result"
    }
   ],
   "source": [
    "\"\"\"\n",
    "We will combine the training and tesing dataset to make cleaning easier and more accurate\n",
    "\"\"\"\n",
    "\n",
    "df_total = df_training.append(df_test, ignore_index=True)\n",
    "df_total"
   ],
   "metadata": {
    "collapsed": false,
    "pycharm": {
     "name": "#%%\n"
    }
   }
  },
  {
   "cell_type": "code",
   "execution_count": 720,
   "outputs": [
    {
     "name": "stdout",
     "output_type": "stream",
     "text": [
      "<class 'pandas.core.frame.DataFrame'>\n",
      "RangeIndex: 29322 entries, 0 to 29321\n",
      "Data columns (total 3 columns):\n",
      " #   Column           Non-Null Count  Dtype \n",
      "---  ------           --------------  ----- \n",
      " 0   Geographic Area  29322 non-null  object\n",
      " 1   City             29322 non-null  object\n",
      " 2   Median Income    29271 non-null  object\n",
      "dtypes: object(3)\n",
      "memory usage: 687.4+ KB\n",
      "None\n",
      "<class 'pandas.core.frame.DataFrame'>\n",
      "RangeIndex: 29268 entries, 0 to 29267\n",
      "Data columns (total 7 columns):\n",
      " #   Column                 Non-Null Count  Dtype \n",
      "---  ------                 --------------  ----- \n",
      " 0   Geographic area        29268 non-null  object\n",
      " 1   City                   29268 non-null  object\n",
      " 2   share_white            29268 non-null  object\n",
      " 3   share_black            29268 non-null  object\n",
      " 4   share_native_american  29268 non-null  object\n",
      " 5   share_asian            29268 non-null  object\n",
      " 6   share_hispanic         29268 non-null  object\n",
      "dtypes: object(7)\n",
      "memory usage: 1.6+ MB\n"
     ]
    }
   ],
   "source": [
    "print(df_income.info())\n",
    "df_race_city.info()"
   ],
   "metadata": {
    "collapsed": false,
    "pycharm": {
     "name": "#%%\n"
    }
   }
  },
  {
   "cell_type": "code",
   "execution_count": 721,
   "outputs": [
    {
     "name": "stdout",
     "output_type": "stream",
     "text": [
      "1534\n"
     ]
    },
    {
     "data": {
      "text/plain": "['TN-Columbia',\n 'GA-Sylvester',\n 'IL-Metropolis',\n 'AL-Selma',\n 'SC-Johnsonville',\n 'AL-Lawrence County',\n 'TN-Gibson County',\n 'NC-Wilkesboro',\n 'VA-Stafford',\n 'CA-Riverside',\n 'PA-Lewistown',\n 'FL-Homestead',\n 'TN-Bristol',\n 'AZ-Surprise',\n 'HI-Keaau',\n 'AZ-Red Valley',\n 'IL-Springfield',\n 'OH-Cincinnati',\n 'MO-Poplar Bluff',\n 'CA-Shafter',\n 'PA-Bloomsburg',\n 'DE-Middletown',\n 'SC-Lexington',\n 'TX-Sunset',\n 'MN-Columbia Heights',\n 'TN-Raleigh',\n 'TX-Mesquite',\n 'MI-Berrien County',\n 'IN-Indianapolis',\n 'AL-Brooksville',\n 'AL-Muscle Shoals',\n 'WI-Monroe',\n 'KY-Booneville',\n 'NE-Sidney',\n 'OH-Kent',\n 'CO-Aurora',\n 'WI-Millston',\n 'UT-Provo',\n 'GA-East Point',\n 'TX-Rosenberg',\n 'MI-Manistee',\n 'NM-Alamogordo',\n 'AL-Eufaula',\n 'CA-Turlock',\n 'SD-Rapid City',\n 'CA-Desert Edge',\n 'IA-Urbandale',\n 'MA-Roslindale',\n 'NY-Schenectady',\n 'MO-Buffalo',\n 'CA-Bell',\n 'CA-Delhi',\n 'KY-Daviess County',\n 'CA-Burbank',\n 'AR-Bull Shoals',\n 'CA-Oxnard',\n 'RI-Pawtucket',\n 'AL-Phenix City',\n 'GA-Commerce',\n 'CA-Yuba City',\n 'TX-Kerrville',\n 'VA-Harrisonburg',\n 'WA-Cle Elum',\n 'TN-Johnson City',\n 'AK-Fairbanks',\n 'OH-Hudson',\n 'TX-San Angelo',\n 'CA-Lodi',\n 'MS-St. Martin',\n 'SC-Chesterfield County',\n 'GA-Rockville',\n 'PA-Penn Township',\n 'MI-Lansing',\n 'ND-Mandan',\n 'OR-Eugene',\n 'KS-Lehigh',\n 'WV-Elkins',\n 'UT-Ogden',\n 'AR-Sims',\n 'CA-Bellflower',\n 'OH-Howland Township',\n 'TX-El Paso',\n 'WV-Montcalm',\n 'MA-Beverly',\n 'IL-Hurst',\n 'TN-Counce',\n 'OR-Medford',\n 'FL-Cantonment',\n 'CO-Fountain',\n 'CA-Hawaiian Gardens',\n 'NC-Statesville',\n 'MN-Alexandria',\n 'KY-Lancaster',\n 'AL-Washington County',\n 'AL-Saraland',\n 'OK-Healdton',\n 'WA-Wapato',\n 'UT-Logan Canyon',\n 'LA-Mamou',\n 'CA-Cottonwood',\n 'KS-Hutchinson',\n 'WI-Fond du Lac',\n 'NM-Pueblo of Laguna',\n 'GA-Douglas',\n 'IL-Chicago',\n 'WY-Laramie',\n 'TN-Clarksville',\n 'NE-Omaha',\n 'FL-Opa-Locka',\n 'TX-Gladewater',\n 'NC-Lawndale',\n 'OH-Uniontown',\n 'OK-Colbert',\n 'OR-Tualatin',\n 'TN-McLemoresville',\n 'PA-Pittsburgh',\n 'WV-Hometown',\n 'KY-London',\n 'CA-El Monte',\n 'LA-Bossier City',\n 'MN-Vadnais Heights',\n 'GA-Savannah',\n 'CA-Vista',\n 'MO-Odessa',\n 'GA-Ludowici',\n 'CA-Wilmington',\n 'OR-Gresham',\n 'MN-Morris',\n 'GA-Brooklet',\n 'OK-Schulter',\n 'CA-Redlands',\n 'AZ-Parker',\n 'SC-Pelzer',\n 'TX-Hutchins',\n 'FL-Niceville',\n 'MN-Hutchinson',\n 'CA-Clearlake Park',\n 'CA-El Cajon',\n 'WI-Green Bay',\n 'FL-Sneads',\n 'CA-Palm Springs',\n 'CO-Commerce City',\n 'CA-Elk Grove',\n 'GA-Smyrna',\n 'TX-Panhandle',\n 'FL-Oakland Park',\n 'WI-Beaver Dam',\n 'TX-Fritch',\n 'VA-Emporia',\n 'MI-Romulus',\n 'WA-Vancouver',\n 'MO-Columbia',\n 'ME-Waldoboro',\n 'PA-Avella',\n 'OH-Akron',\n 'WV-Weirton',\n 'IN-Kokomo',\n 'VA-Hopewell',\n 'AR-Farmington',\n 'AR-Marion',\n 'SC-Lake View',\n 'MO-Affton',\n 'NJ-Hackensack',\n 'CA-Coalinga',\n 'FL-Delray Beach',\n 'OK-Broken Bow',\n 'CA-South Gate',\n 'WI-Greenfield',\n 'MI-Marion',\n 'NM-Taos',\n 'NC-Efland',\n 'AL-Sylacauga',\n 'MD-North East',\n 'CO-Parker',\n 'WA-Bellingham',\n 'LA-New Iberia',\n 'CA-Fullerton',\n 'HI-Kahuku',\n 'NH-Claremont',\n 'NC-Spring Lake',\n 'SC-Goose Creek',\n 'WV-Morgantown',\n 'OK-McAlester',\n 'CA-Brawley',\n 'CA-San Ysidro',\n 'WY-Casper',\n 'FL-Orange County',\n 'NC-Hudson',\n 'VA-Alexandria',\n 'TX-Tahoka',\n 'CA-Hawthorne',\n 'CA-La Quinta',\n 'WA-Wenatchee',\n 'FL-Hog Valley',\n 'SC-Little Mountain',\n 'FL-Navarre',\n 'LA-Franklin',\n 'NM-Rowe',\n 'CA-Kings County',\n 'CO-Montrose County',\n 'KY-Lawrenceburg',\n 'KY-Pine Top',\n 'MD-Randallstown',\n 'OK-Rush Springs',\n 'FL-Jacksonville',\n 'WA-Muckleshoot Indian Reservation',\n 'PA-Union Township',\n 'MI-Columbia Township',\n 'MT-Huntley',\n 'WA-Kirkland',\n 'NV-Boulder City',\n 'FL-Englewood',\n 'NY-New Paltz',\n 'MN-Vineland',\n 'NC-Stoneville',\n 'CA-Hayward',\n 'CA-Anaheim',\n 'FL-Fort Lauderdale',\n 'CA-Whittier',\n 'OK-Bethany',\n 'OK-Burns Flat',\n 'OK-Cushing',\n 'TN-Morristown',\n 'MS-Ruth',\n 'OH-Dayton',\n 'CA-Hollywood',\n 'CA-Antelope',\n 'MO-McDowell',\n 'MN-Fridley',\n 'FL-Tampa',\n 'CA-Escondido',\n 'OK-Kellyville',\n 'TN-Elizabethton',\n 'NC-Rutherfordton',\n 'AK-Wasilla',\n 'NY-Troy',\n 'SC-Myrtle Beach',\n 'MI-Hessel',\n 'OH-Cleveland',\n 'FL-Orlando',\n 'CA-Santa Maria',\n 'CA-Merced',\n 'OK-Sand Springs',\n 'MD-Fort Meade',\n 'CT-Oakdale',\n 'CA-Hemet',\n 'PA-Chester',\n 'WV-Bluefield',\n 'AL-Arab',\n 'VA-Grayson County',\n 'CA-Madera',\n 'WI-Geneva',\n 'TN-West Knox',\n 'ME-Madison',\n 'TX-Reno',\n 'MD-Mt Airy',\n 'NC-Clinton',\n 'NC-Durham',\n 'PA-Somerset',\n 'TX-Corpus Christi',\n 'CA-Downey',\n 'IA-Burlington',\n 'CA-Barona Indian Reservation',\n 'CA-Camarillo',\n 'WA-Lynnwood',\n 'TX-Fort Stockton',\n 'MN-Mankato',\n 'UT-Aragonite',\n 'MO-North St. Louis',\n 'CA-Twentynine Palms',\n 'VA-Chesapeake',\n 'CA-Studio City',\n 'KY-Phelps',\n 'CA-Seaside',\n 'OK-Wewoka',\n 'NC-Franklin',\n 'CT-Fairfield',\n 'AZ-Golden Valley',\n 'MO-Blue Springs',\n 'CA-Palo Alto',\n 'CA-Clovis',\n 'IA-Boone',\n 'CA-Norwalk',\n 'FL-DeLand',\n 'CA-Valinda',\n 'KS-Topeka',\n 'CA-Moreno Valley',\n 'PA-Canaan Township',\n 'PA-East Stroudsburg',\n 'IN-French Lick',\n 'FL-Pompano Beach',\n 'LA-New Orleans',\n 'LA-Mandeville',\n 'KS-McPherson',\n 'MO-Sullivan',\n 'KY-Fisty',\n 'VA-Woodford',\n 'CA-City Terrace',\n 'ID-Melba',\n 'OH-Colebrook Township',\n 'TX-Lockhart',\n 'ID-Idaho Falls',\n 'VA-Pulaski',\n 'IL-Round Lake',\n 'OK-Lawton',\n 'FL-Naples',\n 'AZ-Maricopa',\n 'GA-Mableton',\n 'IN-English',\n 'MI-Grand Rapids',\n 'TX-Oak Cliff',\n 'CO-Fort Collins',\n 'AL-Deer Park',\n 'OK-Millerton',\n 'CA-Happy Valley',\n 'AZ-Buckeye',\n 'MS-Water Valley',\n 'KS-Colby',\n 'AL-Eastaboga',\n 'MS-Tupelo',\n 'TX-Terrell',\n 'WV-Mount Hope',\n 'MO-Big Bear',\n 'CT-Mashantucket',\n 'CA-Calexico',\n 'AZ-Marana',\n 'GA-Stone Mountain',\n 'NY-New City',\n 'IN-Hanover',\n 'CA-Ripon',\n 'CT-Bolton',\n 'OH-Fairborn',\n 'WA-Ridgefield',\n 'WV-Princeton',\n 'MO-Sedalia',\n 'WA-Graham',\n 'NC-Dublin',\n 'FL-Pinellas Park',\n 'CA-La Mirada',\n 'DE-Claymont',\n 'AZ-Morenci',\n 'NE-Louisville',\n 'WI-Wausau',\n 'AZ-Pima',\n 'AZ-Winslow',\n 'CA-Poway',\n 'IL-Lawndale',\n 'OH-Rome',\n 'AR-Little Rock',\n 'FL-Cape Canaveral',\n 'NY-Cheektowaga',\n 'WY-Cheyenne',\n 'WI-Weston',\n 'MO-Cape Girardeau',\n 'CA-Yorba Linda',\n 'IL-Shawnee National Forest',\n 'CA-Concord',\n 'AR-Mountain Pine',\n 'CA-Sunnyvale',\n 'WA-Bainbridge Island',\n 'TN-Chattanooga',\n 'ID-Kuna',\n 'AK-Big Lake',\n 'SD-Kyle',\n 'MD-Elkton',\n 'SC-Boiling Springs',\n 'NY-Beacon',\n 'MN-Falcon Heights',\n 'CA-Van Nuys',\n 'FL-Thonotosassa',\n 'FL-Fort Pierce',\n 'NY-Staten Island',\n 'PA-Philadelphia',\n 'IN-Beech Grove',\n 'DE-Frederica',\n 'CT-Thomaston',\n 'NC-Ronda',\n 'TX-McKinney',\n 'WV-Augusta',\n 'VA-Pearisburg',\n 'PA-Straban Township',\n 'MI-Belleville',\n 'FL-Crystal Springs',\n 'DE-Smyrna',\n 'NC-Iredell County',\n 'UT-Syracuse',\n 'CA-Needles',\n 'CO-New Castle',\n 'TX-Austin',\n 'TN-Shelbyville',\n 'VA-Fredericksburg',\n 'NJ-Toms River',\n 'AL-Homewood',\n 'KY-Elizabethtown',\n 'SC-Irmo',\n 'AL-Rainbow City',\n 'GA-Port Wentworth',\n 'FL-Plantation',\n 'AZ-Chandler',\n 'GA-Rossville',\n 'CA-Douglas City',\n 'AZ-Florence',\n 'GA-Jesup',\n 'CO-Grand Junction',\n 'GA-Fort Valley',\n 'FL-Milton',\n 'OH-Mansfield',\n 'CA-Dunsmuir',\n 'FL-Deltona',\n 'MO-Ozark',\n 'WA-Yakima',\n 'CA-Rancho Santa Margarita',\n 'AL-Gadsden',\n 'CA-San Francisco',\n 'CA-Jurupa Valley',\n 'KS-Wichita',\n 'TX-Abilene',\n 'CA-Atascadero',\n 'OK-Hominy',\n 'FL-Jupiter',\n 'VA-Aldie',\n 'TN-Nashville',\n 'MD-Middle River',\n 'CO-Pueblo',\n 'SC-Piedmont',\n 'MI-Dearborn',\n 'OK-Wetumka',\n 'GA-Bonaire',\n 'AL-Killeen',\n 'OK-Anadarko',\n 'ID-Hammett',\n 'FL-Yulee',\n 'MS-Hattiesburg',\n 'ME-Arundel',\n 'FL-Orange City',\n 'IA-Cedar Rapids',\n 'CA-Boulder Creek',\n 'LA-Evangeline Parish',\n 'ID-Sandpoint',\n 'TX-Del Rio',\n 'WA-Federal Way',\n 'TX-Beaumont',\n 'CA-Olympic Valley',\n 'OK-Rufe',\n 'TN-Humboldt',\n 'AZ-Bisbee',\n 'IN-Knox',\n 'MI-Wyoming',\n 'FL-Gainesville',\n 'OH-Zanesville',\n 'NM-Hobbs',\n 'WI-Rib Mountain',\n 'CA-Tehachapi',\n 'KY-Bowling Green',\n 'FL-Miami',\n 'TN-Soddy-Daisy',\n 'TX-Fort Worth',\n 'CA-Maywood',\n 'LA-Livingston Parish',\n 'TX-Groveton',\n 'IA-Wellman',\n 'TX-Bellville',\n 'WA-Spanaway',\n 'WI-Appleton',\n 'PA-Chambersburg',\n 'KY-Owensboro',\n 'LA-Crowley',\n 'FL-Lakeland',\n 'FL-Loxahatchee',\n 'TX-Dallas',\n 'TX-Amarillo',\n 'MI-Bay City',\n 'MT-Superior',\n 'CT-Suffield',\n 'KY-Fulton',\n 'IL-Dolton',\n 'PA-Sharon',\n 'NJ-Ideal Beach',\n 'CA-Orange',\n 'TX-Irving',\n 'MT-Livingston',\n 'CA-Point Loma',\n 'UT-West Jordan',\n 'NC-Rowland',\n 'GA-Eden',\n 'OK-Guthrie',\n 'CO-Brighton',\n 'CA-Montclair',\n 'KS-Rosalia',\n 'MT-Malta',\n 'GA-Barrow County',\n 'AR-Dover',\n 'GA-Cochran',\n 'FL-Bradenton',\n 'NM-Roswell',\n 'CO-Federal Heights',\n 'IN-Goshen',\n 'DC-Washington',\n 'OK-Midwest City',\n 'MN-Eagan',\n 'NJ-Maurice River',\n 'PA-Pittston',\n 'NC-Greenville',\n 'KY-Russellville',\n 'CA-Delano',\n 'WI-Lake Hallie',\n 'CA-Santa Monica',\n 'TX-Houston',\n 'CA-Eureka',\n 'VA-Roanoke',\n 'AL-Jackson County',\n 'TX-Arlington',\n 'MO-Springfield',\n 'OH-Southington',\n 'AL-Monroeville',\n 'CA-Winchester',\n 'CO-Park County',\n 'NY-Islip',\n 'IL-East St. Louis',\n 'NM-Jal',\n 'CA-Lake Elsinore',\n 'IL-Marion',\n 'AZ-San Manuel',\n 'MI-Southfield',\n 'SC-Aiken',\n 'TN-Lewisburg',\n 'CA-San Bernardino',\n 'CA-Montebello',\n 'SC-Campobello',\n 'CA-San Mateo',\n 'AL-Meridianville',\n 'WY-Douglas',\n 'NC-East Flat Rock',\n 'CA-Sylmar',\n 'ID-Council',\n 'OK-Pryor',\n 'AR-England',\n 'MN-Minneapolis',\n 'LA-Raceland',\n 'TX-Port Arthur',\n 'OH-Northwood',\n 'IL-Rantoul',\n 'MO-Jackson',\n 'MA-Everett',\n 'SD-Rosebud',\n 'MI-Bloomfield Township',\n 'OR-Bend',\n 'TX-Midland',\n 'AZ-Flagstaff',\n 'WA-East Wenatchee',\n 'MN-Peterson',\n 'CA-Fairfield',\n 'CA-San Diego County',\n 'CA-Byron',\n 'LA-Cade',\n 'NV-Pahrump',\n 'OR-Josephine County',\n 'OR-King City',\n 'CA-Lancaster',\n 'OR-Salem',\n 'UT-Roy',\n 'CA-Sacramento',\n 'PA-Wilkinsburg',\n 'CA-Carson',\n 'WI-Corning',\n 'AZ-La Paz County',\n 'IL-Forest Park',\n 'CA-Watsonville',\n 'OR-Colton',\n 'TX-Victoria',\n 'LA-Pride',\n 'AZ-Phoenix',\n 'OR-Oregon City',\n 'SD-Rapid Valley',\n 'MI-St. Joseph',\n 'CA-Cabazon',\n 'KS-Hays',\n 'SC-Lake City',\n 'MS-Southaven',\n 'AR-West Memphis',\n 'PA-West Chester',\n 'NY-Clarendon',\n 'OR-McMinnville',\n 'NY-Coney Island',\n 'CA-Marina',\n 'CA-Fair Oaks',\n 'MA-Lynn',\n 'MD-Columbia',\n 'IL-Jerseyville',\n 'CA-Venice',\n 'TX-Fulshear',\n 'NY-Greece',\n 'IN-Muncie',\n 'MN-Burnsville',\n 'MO-Nevada',\n 'SC-Taylors',\n 'KY-Morehead',\n 'MN-Bloomington',\n 'ME-Belgrade',\n 'CA-Long Beach',\n 'FL-Deland',\n 'OK-Ardmore',\n 'OH-North Royalton',\n 'TX-Harker Heights',\n 'TN-Hohenwald',\n 'CA-North Hills',\n 'TX-Waco',\n 'AL-Bay Minette',\n 'WV-Meadow Bridge',\n 'OK-Muskogee',\n 'CA-Castaic',\n 'OK-Fairfax',\n 'IN-Harmony',\n 'FL-Jacksonsville',\n 'NM-Eldorado',\n 'NJ-Paterson',\n 'FL-Wellington',\n 'UT-Draper',\n 'CA-Azusa',\n 'CA-Highgrove',\n 'ME-Presque Isle',\n 'VA-Winchester',\n 'OH-Twinsburg',\n 'MI-Brighton Township',\n 'NC-Gastonia',\n 'CA-Cerritos',\n 'FL-Pensacola',\n 'ID-Middleton',\n 'NJ-Lyndhurst',\n 'KY-Richmond',\n 'MD-Montgomery Village',\n 'MS-Barton',\n 'NC-Asheville',\n 'MS-Columbus',\n 'WA-Everett',\n 'WV-Clendenin',\n 'IL-Rock Island',\n 'TX-Splendora',\n 'OH-Geneva Township',\n 'CA-Visalia',\n 'WA-Fife',\n 'WV-Nitro',\n 'ID-Jefferson County',\n 'OR-Wilderville',\n 'WI-Sheboygan',\n 'KY-Louisville',\n 'NJ-Newark',\n 'NC-Fayetteville',\n 'CA-Glendale',\n 'TX-Katy',\n 'TX-Euless',\n 'NV-Gardnerville Ranchos',\n 'WA-Pasco',\n 'CA-Aguanga',\n 'IL-Stockton',\n 'MI-Warren',\n 'CO-Northglenn',\n 'TX-Azle',\n 'NJ-Vineland',\n 'NY-Buffalo',\n 'NC-Archdale',\n 'FL-Palm Harbor',\n 'AL-Tuscumbia',\n 'WA-Hunters',\n 'NC-Granite Falls',\n 'NM-Ruidoso',\n 'FL-Manatee',\n 'NC-Canton',\n 'LA-Converse',\n 'GA-Marietta',\n 'FL-Largo',\n 'OK-Byng',\n 'CA-Redding',\n 'TX-Edinburg',\n 'TN-Alamo',\n 'IL-Arcola',\n 'TX-Palestine',\n 'TN-Reagan',\n 'NM-Socorro',\n 'FL-Miami Beach',\n 'CA-Chula Vista',\n 'IN-Terre Haute',\n 'MS-Gulfport',\n 'IA-Des Moines',\n 'CA-Irvine',\n 'GA-Elberton',\n 'NV-North Las Vegas',\n 'WI-Antigo',\n 'CA-Santa Ana',\n 'OH-Findlay',\n 'AR-Perryville',\n 'PA-Harrisburg',\n 'GA-Moultrie',\n 'NM-Los Lunas',\n 'SC-Hardeeville',\n 'PA-Johnstown',\n 'FL-Middleburg',\n 'OR-Wolf Creek',\n 'TX-Jourdanton',\n 'FL-North Port',\n 'MN-Cohasset',\n 'NJ-Woodbridge',\n 'CA-Boyle Heights',\n 'KY-Simpsonsville',\n 'SC-Summerville',\n 'AL-Birmingham',\n 'AL-Clanton',\n 'MO-Harrisonville',\n 'CA-Hesperia',\n 'MA-West Springfield',\n 'TX-Winnie',\n 'VA-Arlington',\n 'CA-Inyokern',\n 'WV-Petroleum',\n 'TX-Lake Jackson',\n 'NC-Ashe County',\n 'KS-Kansas City',\n 'NC-Greensboro',\n 'CA-Wasco',\n 'WI-Oshkosh',\n 'CA-West Covina',\n 'TX-Onalaska',\n 'LA-Alexandria',\n 'TX-Plano',\n 'NC-Wake Forest',\n 'WI-Neenah',\n 'FL-Weeki Wachi',\n 'TX-San Antonio',\n 'CO-Bailey',\n 'WI-Pembine',\n 'AZ-Cottonwood',\n 'GA-Valdosta',\n 'IL-Rockford',\n 'TX-Ellis County',\n 'IL-River Forest',\n 'TX-Carrollton',\n 'AL-Opp',\n 'OK-Logan County',\n 'FL-Belle Glade',\n 'KY-Chavies',\n 'IN-Elkhart',\n 'WA-Thurston County',\n 'TX-Rosser',\n 'SC-North Charleston',\n 'CA-Olivehurst',\n 'GA-Peachtree City',\n 'SC-Pendleton',\n 'CA-Lakewood',\n 'CA-San Fernando',\n 'WV-Beckley',\n 'TX-Pearland',\n 'CA-Barstow',\n 'NJ-Bridgeton',\n 'MN-Plymouth',\n 'KY-White Plains',\n 'NV-Sparks',\n 'NY-Glenville',\n 'NH-Peterborough',\n 'TX-Nocona',\n 'NJ-Little Egg Harbor',\n 'CA-South Los Angeles',\n 'NC-Maiden',\n 'WI-Ashwaubenon',\n 'NY-Mount Vernon',\n 'TX-Seagoville',\n 'SC-Seneca',\n 'NJ-Trenton',\n 'CA-Grover Beach',\n 'TN-Gray',\n 'MS-Petal',\n 'OK-Cache',\n 'AZ-Bullhead City',\n 'CT-Bridgeport',\n 'AL-Tuscaloosa',\n 'VA-Scott County',\n 'PA-Hummelstown',\n 'MT-Three Forks',\n 'FL-Orange Park',\n 'SC-Iva',\n 'CA-Gardena',\n 'OH-Westlake',\n 'WA-Beaver',\n 'WA-Tukwila',\n 'CA-Rosemead',\n 'OR-Clackamas County',\n 'CA-Chino',\n 'AZ-Kearny',\n 'HI-Honolulu',\n 'MA-Taunton',\n 'CA-Oakland',\n 'KY-Trosper',\n 'OH-Sylvania Township',\n 'MD-Landover',\n 'PA-Upper Darby',\n 'GA-White',\n 'ID-Garden City',\n 'KS-Olathe',\n 'FL-Panama City Beach',\n 'GA-Augusta',\n 'CA-Windsor',\n 'CA-Yreka',\n 'TN-Lakeland',\n 'TX-Killeen',\n 'CA-Cathedral City',\n 'OH-Columbus',\n 'CA-Monterey',\n 'MI-Kentwood',\n 'CA-Compton',\n 'TX-Spring',\n 'CA-Fremont',\n 'HI-Hilo',\n 'GA-Loganville',\n 'TX-Allen',\n 'OH-Mt. Auburn',\n 'CA-Siskiyou County',\n 'UT-Centerville',\n 'OH-Vandalia',\n 'MN-Austin',\n 'CA-Campo',\n 'MD-District Heights',\n 'TX-Clute',\n 'AK-Kenai Peninsula',\n 'CA-Del Mar',\n 'TX-Bexar County',\n 'RI-Tiverton',\n 'CA-Lompoc',\n 'MN-New Hope',\n 'FL-Palm Beach Gardens',\n 'AR-Cabot',\n 'OR-Beaverton',\n 'VA-Norman',\n 'TX-Ponder',\n 'CA-Temecula',\n 'VA-York County',\n 'TN-Oneida',\n 'CA-Colton',\n 'TX-Temple',\n 'MI-Benton Harbor',\n 'FL-Palm Bay',\n 'CA-Vallejo',\n 'OH-Circleville',\n 'MD-Owings Mills',\n 'TX-Baytown',\n 'MN-St. Cloud',\n 'CA-Selma',\n 'TX-Llano',\n 'OR-Portland',\n 'LA-Ouachita Parish',\n 'MI-Beaverton',\n 'FL-Lealman',\n 'GA-Tyrone',\n 'CO-Englewood',\n 'TX-Mission',\n 'IL-Markham',\n 'IL-Benton',\n 'UT-Clearfield',\n 'NJ-Manchester',\n 'MA-Boston',\n 'FL-St. Petersburg',\n 'PA-Lancaster City',\n 'GA-Covington',\n 'WI-Kenosha',\n 'WA-Richland',\n 'AL-Macon County',\n 'CA-Rancho Cordova',\n 'ME-Vassalboro',\n 'GA-Stockbridge',\n 'NM-Artesia',\n 'PA-Mount Washington',\n 'KY-Brodhead',\n 'HI-Papaaloa',\n 'IL-Zion',\n 'CA-Santa Cruz',\n 'LA-Houma',\n 'PA-York',\n 'IL-Joilet',\n 'AZ-Tempe',\n 'OK-Oklahoma City',\n 'AR-Jonesboro',\n 'NC-Pinnacle',\n 'FL-Plant City',\n 'IL-Clinton',\n 'OK-Leedey',\n 'NY-Bronx',\n 'MD-Dundalk',\n 'WA-Kelso',\n 'NC-Lumberton',\n 'ID-Mountain Home',\n 'NC-Gaston County',\n 'PA-Lancaster',\n 'CA-East Hollywood',\n 'KS-Udall',\n 'TN-East Ridge',\n 'LA-Slidell',\n 'WA-Spokane',\n 'TX-Wink',\n 'TX-Weatherford',\n 'AK-Barrow',\n 'NY-Berne',\n 'HI-Aiea',\n 'FL-West Palm Beach',\n 'MD-Rising Sun',\n 'LA-Lakes Charles',\n 'FL-Miami Gardens',\n 'CA-Pico Rivera',\n 'KY-Ludlow',\n 'MT-Billings',\n 'OK-Wagoner',\n 'GA-Woodstock',\n 'AR-Sheridan',\n 'CA-Hollywood Hills',\n 'TN-Decatur County',\n 'NE-Lincoln',\n 'OR-Burns',\n 'FL-Port St. Lucie',\n 'NJ-Atlantic City',\n 'FL-Hallandale Beach',\n 'CA-Hacienda Heights',\n 'WI-Eau Claire',\n 'WA-Sumas',\n 'MD-Salisbury',\n 'AZ-Sun City',\n 'OH-Richmond Heights',\n 'NC-Brevard',\n 'GA-Acworth',\n 'TN-Estill Springs',\n 'TX-Campbellton',\n 'TX-North Laredo',\n 'CO-Strasburg',\n 'CO-Eldorado Springs',\n 'WV-Hensley',\n 'GA-Cedartown',\n 'OH-Celina',\n 'NH-Merrimack',\n 'MN-Aitkin',\n 'NM-San Rafael',\n 'LA-Winnsboro',\n 'OR-West Linn',\n 'KS-Newton',\n 'IL-Alton',\n 'WV-Brandywine',\n 'TX-Longview',\n 'CA-Union City',\n 'CA-Chowchilla',\n 'IN-Fishers',\n 'TX-Beckville',\n 'AZ-Somerton',\n 'FL-Lake Asbury',\n 'NM-Crownpoint',\n 'VA-Falls Church',\n 'MD-Greenbelt',\n 'MO-Sugar Creek',\n 'IL-Deerfield',\n 'GA-Douglasville',\n 'NC-Dallas',\n 'GA-Newnan',\n 'UT-Salt Lake City',\n 'CA-Ontario',\n 'CO-Greeley',\n 'NJ-Byram',\n 'DE-New Castle',\n 'TX-Levelland',\n 'MI-Ishpeming Township',\n 'PA-Allentown',\n 'GA-Riverdale',\n 'TN-Lenoir City',\n 'MO-Maysville',\n 'LA-Homer',\n 'AL-Mobile',\n 'KY-Princeton',\n 'MA-Webster',\n 'ND-Grand Forks',\n 'WI-New London',\n 'WV-Braxton County',\n 'IL-Lyons',\n 'AZ-Golden Shores',\n 'TX-Odessa',\n 'LA-Kenner',\n 'GA-Lawrenceville',\n 'OH-Springfield',\n 'WA-Grapeview',\n 'CA-Smartsville',\n 'SD-Sioux Falls',\n 'GA-Austell',\n 'LA-Gretna',\n 'NY-Brooklyn',\n 'WI-Madison',\n 'OH-Englewood',\n 'OH-Perry Township',\n 'VA-Richmond',\n 'NM-Santa Fe',\n 'IL-Villa Park',\n 'CA-San Marcos',\n 'NM-Laguna Pueblo',\n 'CA-Pinion Hills',\n 'AL-Montgomery',\n 'TX-Kingsbury',\n 'SC-Edmund',\n 'WA-Auburn',\n 'AR-Manila',\n ...]"
     },
     "execution_count": 721,
     "metadata": {},
     "output_type": "execute_result"
    }
   ],
   "source": [
    "\"\"\"\n",
    "There are many missing fields across all the supporting/optional datasets, in order to resolve this we need\n",
    "to merge these datasets and then make the necessary imputation.\n",
    "1. All data sets have a state and city type columns, merge those columns such that they can all have a column\n",
    "to for indexing.\n",
    "2. Get the list of cities within the mandatory dataset, we need to confirm that the supporting dataset\n",
    "has these cities and if not then we need to impute.\n",
    "\"\"\"\n",
    "#make a list of unique cities, and include the state so we don't deal with same city names of different states\n",
    "df_total['city'] = df_total[['state', 'city']].apply(\"-\".join,axis=1)\n",
    "df_race_city['city'] = df_race_city[['Geographic area', 'City']].apply(\"-\".join,axis=1)\n",
    "df_income['city'] = df_income[['Geographic Area', 'City']].apply(\"-\".join,axis=1)\n",
    "df_poverty['city'] = df_poverty[['Geographic Area', 'City']].apply(\"-\".join,axis=1)\n",
    "df_education['city'] = df_education[['Geographic Area', 'City']].apply(\"-\".join,axis=1)\n",
    "df_income = df_income.drop(['Geographic Area', 'City'], axis=1)\n",
    "df_poverty = df_poverty.drop(columns=['Geographic Area', 'City'])\n",
    "df_education = df_education.drop(columns=['Geographic Area', 'City'])\n",
    "cities = df_total['city'].tolist()\n",
    "cities =list(set(cities))\n",
    "print(len(cities))\n",
    "cities"
   ],
   "metadata": {
    "collapsed": false,
    "pycharm": {
     "name": "#%%\n"
    }
   }
  },
  {
   "cell_type": "code",
   "execution_count": 722,
   "outputs": [
    {
     "name": "stdout",
     "output_type": "stream",
     "text": [
      "<class 'pandas.core.frame.DataFrame'>\n",
      "RangeIndex: 29268 entries, 0 to 29267\n",
      "Data columns (total 8 columns):\n",
      " #   Column                 Non-Null Count  Dtype \n",
      "---  ------                 --------------  ----- \n",
      " 0   Geographic area        29268 non-null  object\n",
      " 1   City                   29268 non-null  object\n",
      " 2   share_white            29268 non-null  object\n",
      " 3   share_black            29268 non-null  object\n",
      " 4   share_native_american  29268 non-null  object\n",
      " 5   share_asian            29268 non-null  object\n",
      " 6   share_hispanic         29268 non-null  object\n",
      " 7   city                   29268 non-null  object\n",
      "dtypes: object(8)\n",
      "memory usage: 1.8+ MB\n",
      "None\n",
      "<class 'pandas.core.frame.DataFrame'>\n",
      "Int64Index: 29477 entries, 0 to 29476\n",
      "Data columns (total 11 columns):\n",
      " #   Column                 Non-Null Count  Dtype \n",
      "---  ------                 --------------  ----- \n",
      " 0   Geographic area        29268 non-null  object\n",
      " 1   City                   29268 non-null  object\n",
      " 2   share_white            29248 non-null  object\n",
      " 3   share_black            29248 non-null  object\n",
      " 4   share_native_american  29248 non-null  object\n",
      " 5   share_asian            29248 non-null  object\n",
      " 6   share_hispanic         29248 non-null  object\n",
      " 7   city                   29477 non-null  object\n",
      " 8   Median Income          27418 non-null  object\n",
      " 9   poverty_rate           29128 non-null  object\n",
      " 10  percent_completed_hs   29132 non-null  object\n",
      "dtypes: object(11)\n",
      "memory usage: 2.7+ MB\n",
      "None\n"
     ]
    },
    {
     "data": {
      "text/plain": "      Geographic area                    City share_white share_black  \\\n0                  AK               Adak city        19.6           4   \n1                  AK             Akhiok city         8.5         1.4   \n2                  AK            Akiachak CDP         3.5         0.2   \n3                  AK              Akiak city         5.2           0   \n4                  AK             Akutan city        23.3        17.9   \n...               ...                     ...         ...         ...   \n29472              WY  Woods Landing-Jelm CDP        95.9           0   \n29473              WY            Worland city        89.9         0.3   \n29474              WY             Wright town        94.5         0.1   \n29475              WY           Y-O Ranch CDP        92.8         1.5   \n29476              WY              Yoder town        97.4           0   \n\n      share_native_american share_asian share_hispanic  \\\n0                       5.5        52.5            8.9   \n1                      50.7         1.4           11.3   \n2                      95.1         0.2            0.2   \n3                      92.8           0            0.3   \n4                       5.5        43.3           20.8   \n...                     ...         ...            ...   \n29472                     0         2.1              0   \n29473                   1.3         0.6           16.6   \n29474                   1.4         0.2            6.2   \n29475                   2.6           0           11.8   \n29476                     0           0              4   \n\n                            city Median Income poverty_rate  \\\n0                   AK-Adak city         78500         39.3   \n1                 AK-Akhiok city         26250         40.5   \n2                AK-Akiachak CDP         38750         26.1   \n3                  AK-Akiak city         42000         31.3   \n4                 AK-Akutan city         24750         16.1   \n...                          ...           ...          ...   \n29472  WY-Woods Landing-Jelm CDP           NaN         18.6   \n29473            WY-Worland city         41523         15.3   \n29474             WY-Wright town         77114          5.9   \n29475           WY-Y-O Ranch CDP           NaN            0   \n29476              WY-Yoder town         37500          5.4   \n\n      percent_completed_hs  \n0                     93.4  \n1                     62.5  \n2                     76.7  \n3                     81.3  \n4                       73  \n...                    ...  \n29472                  100  \n29473                 85.6  \n29474                 89.2  \n29475                  100  \n29476                 79.4  \n\n[29477 rows x 11 columns]",
      "text/html": "<div>\n<style scoped>\n    .dataframe tbody tr th:only-of-type {\n        vertical-align: middle;\n    }\n\n    .dataframe tbody tr th {\n        vertical-align: top;\n    }\n\n    .dataframe thead th {\n        text-align: right;\n    }\n</style>\n<table border=\"1\" class=\"dataframe\">\n  <thead>\n    <tr style=\"text-align: right;\">\n      <th></th>\n      <th>Geographic area</th>\n      <th>City</th>\n      <th>share_white</th>\n      <th>share_black</th>\n      <th>share_native_american</th>\n      <th>share_asian</th>\n      <th>share_hispanic</th>\n      <th>city</th>\n      <th>Median Income</th>\n      <th>poverty_rate</th>\n      <th>percent_completed_hs</th>\n    </tr>\n  </thead>\n  <tbody>\n    <tr>\n      <th>0</th>\n      <td>AK</td>\n      <td>Adak city</td>\n      <td>19.6</td>\n      <td>4</td>\n      <td>5.5</td>\n      <td>52.5</td>\n      <td>8.9</td>\n      <td>AK-Adak city</td>\n      <td>78500</td>\n      <td>39.3</td>\n      <td>93.4</td>\n    </tr>\n    <tr>\n      <th>1</th>\n      <td>AK</td>\n      <td>Akhiok city</td>\n      <td>8.5</td>\n      <td>1.4</td>\n      <td>50.7</td>\n      <td>1.4</td>\n      <td>11.3</td>\n      <td>AK-Akhiok city</td>\n      <td>26250</td>\n      <td>40.5</td>\n      <td>62.5</td>\n    </tr>\n    <tr>\n      <th>2</th>\n      <td>AK</td>\n      <td>Akiachak CDP</td>\n      <td>3.5</td>\n      <td>0.2</td>\n      <td>95.1</td>\n      <td>0.2</td>\n      <td>0.2</td>\n      <td>AK-Akiachak CDP</td>\n      <td>38750</td>\n      <td>26.1</td>\n      <td>76.7</td>\n    </tr>\n    <tr>\n      <th>3</th>\n      <td>AK</td>\n      <td>Akiak city</td>\n      <td>5.2</td>\n      <td>0</td>\n      <td>92.8</td>\n      <td>0</td>\n      <td>0.3</td>\n      <td>AK-Akiak city</td>\n      <td>42000</td>\n      <td>31.3</td>\n      <td>81.3</td>\n    </tr>\n    <tr>\n      <th>4</th>\n      <td>AK</td>\n      <td>Akutan city</td>\n      <td>23.3</td>\n      <td>17.9</td>\n      <td>5.5</td>\n      <td>43.3</td>\n      <td>20.8</td>\n      <td>AK-Akutan city</td>\n      <td>24750</td>\n      <td>16.1</td>\n      <td>73</td>\n    </tr>\n    <tr>\n      <th>...</th>\n      <td>...</td>\n      <td>...</td>\n      <td>...</td>\n      <td>...</td>\n      <td>...</td>\n      <td>...</td>\n      <td>...</td>\n      <td>...</td>\n      <td>...</td>\n      <td>...</td>\n      <td>...</td>\n    </tr>\n    <tr>\n      <th>29472</th>\n      <td>WY</td>\n      <td>Woods Landing-Jelm CDP</td>\n      <td>95.9</td>\n      <td>0</td>\n      <td>0</td>\n      <td>2.1</td>\n      <td>0</td>\n      <td>WY-Woods Landing-Jelm CDP</td>\n      <td>NaN</td>\n      <td>18.6</td>\n      <td>100</td>\n    </tr>\n    <tr>\n      <th>29473</th>\n      <td>WY</td>\n      <td>Worland city</td>\n      <td>89.9</td>\n      <td>0.3</td>\n      <td>1.3</td>\n      <td>0.6</td>\n      <td>16.6</td>\n      <td>WY-Worland city</td>\n      <td>41523</td>\n      <td>15.3</td>\n      <td>85.6</td>\n    </tr>\n    <tr>\n      <th>29474</th>\n      <td>WY</td>\n      <td>Wright town</td>\n      <td>94.5</td>\n      <td>0.1</td>\n      <td>1.4</td>\n      <td>0.2</td>\n      <td>6.2</td>\n      <td>WY-Wright town</td>\n      <td>77114</td>\n      <td>5.9</td>\n      <td>89.2</td>\n    </tr>\n    <tr>\n      <th>29475</th>\n      <td>WY</td>\n      <td>Y-O Ranch CDP</td>\n      <td>92.8</td>\n      <td>1.5</td>\n      <td>2.6</td>\n      <td>0</td>\n      <td>11.8</td>\n      <td>WY-Y-O Ranch CDP</td>\n      <td>NaN</td>\n      <td>0</td>\n      <td>100</td>\n    </tr>\n    <tr>\n      <th>29476</th>\n      <td>WY</td>\n      <td>Yoder town</td>\n      <td>97.4</td>\n      <td>0</td>\n      <td>0</td>\n      <td>0</td>\n      <td>4</td>\n      <td>WY-Yoder town</td>\n      <td>37500</td>\n      <td>5.4</td>\n      <td>79.4</td>\n    </tr>\n  </tbody>\n</table>\n<p>29477 rows × 11 columns</p>\n</div>"
     },
     "execution_count": 722,
     "metadata": {},
     "output_type": "execute_result"
    }
   ],
   "source": [
    "\"\"\"\n",
    "First lets merge each of the supporting datasets into df_temp.\n",
    "We noticed that the missing values aren't consistent in the supporting datasets. So we need to change all types of\n",
    "missing values to NAN such that we can impute using fillna().\n",
    "\"\"\"\n",
    "print(df_race_city.info())\n",
    "df_temp = pd.merge(df_race_city, df_income, on='city', how='outer', sort=True)\n",
    "df_temp = pd.merge(df_temp, df_poverty, on='city', how='outer', sort=True)\n",
    "df_temp = pd.merge(df_temp, df_education, on='city', how='outer', sort=True)\n",
    "columns_supp = df_temp.columns.values.tolist()\n",
    "for i in columns_supp:\n",
    "    df_temp[i] = df_temp[i].replace('-', '(X)')\n",
    "    df_temp[i] = df_temp[i].replace('(X)', numpy.NAN)\n",
    "print(df_temp.info())\n",
    "df_temp"
   ],
   "metadata": {
    "collapsed": false,
    "pycharm": {
     "name": "#%%\n"
    }
   }
  },
  {
   "cell_type": "code",
   "execution_count": 723,
   "outputs": [
    {
     "data": {
      "text/plain": "\"\\nLet's try cleaning the the race of city dataset now viewing the missing datapoints which are denoted at (X).\\n\""
     },
     "execution_count": 723,
     "metadata": {},
     "output_type": "execute_result"
    }
   ],
   "source": [
    "\"\"\"\n",
    "Let's try cleaning the the race of city dataset now viewing the missing datapoints which are denoted at (X).\n",
    "\"\"\"\n",
    "# df_temp['city'] = df_temp[['Geographic area', 'City']].apply(\"-\".join,axis=1)\n",
    "# list_race_df = df_temp.values.tolist()\n",
    "# j = 0\n",
    "# list_bad_cities = []\n",
    "# for i in list_race_df:\n",
    "#     #we can see it is only null when all races are missing\n",
    "#     if(i.count('(X)') > 0):\n",
    "#         j+=1\n",
    "#         list_bad_cities.append(i[1])\n",
    "#         print(i.count('(X)') )\n",
    "# print(\"total cities with bad points = \", j)\n"
   ],
   "metadata": {
    "collapsed": false,
    "pycharm": {
     "name": "#%%\n"
    }
   }
  },
  {
   "cell_type": "code",
   "execution_count": 724,
   "outputs": [
    {
     "data": {
      "text/plain": "'With only 20/29260 holding a row of null values, we shall drop these cities'"
     },
     "execution_count": 724,
     "metadata": {},
     "output_type": "execute_result"
    }
   ],
   "source": [
    "\"\"\"With only 20/29260 holding a row of null values, we shall drop these cities\"\"\"\n",
    "# tempDf_race = df_temp[df_race_city.share_white != '(X)'].copy()\n",
    "# print(tempDf_race.info())\n",
    "# df_race_city.info()"
   ],
   "metadata": {
    "collapsed": false,
    "pycharm": {
     "name": "#%%\n"
    }
   }
  },
  {
   "cell_type": "code",
   "execution_count": 725,
   "outputs": [
    {
     "name": "stdout",
     "output_type": "stream",
     "text": [
      "      Geographic area                    City share_white share_black  \\\n",
      "0                  AK               Adak city        19.6           4   \n",
      "1                  AK             Akhiok city         8.5         1.4   \n",
      "2                  AK            Akiachak CDP         3.5         0.2   \n",
      "3                  AK              Akiak city         5.2           0   \n",
      "4                  AK             Akutan city        23.3        17.9   \n",
      "...               ...                     ...         ...         ...   \n",
      "29472              WY  Woods Landing-Jelm CDP        95.9           0   \n",
      "29473              WY            Worland city        89.9         0.3   \n",
      "29474              WY             Wright town        94.5         0.1   \n",
      "29475              WY           Y-O Ranch CDP        92.8         1.5   \n",
      "29476              WY              Yoder town        97.4           0   \n",
      "\n",
      "      share_native_american share_asian share_hispanic  \\\n",
      "0                       5.5        52.5            8.9   \n",
      "1                      50.7         1.4           11.3   \n",
      "2                      95.1         0.2            0.2   \n",
      "3                      92.8           0            0.3   \n",
      "4                       5.5        43.3           20.8   \n",
      "...                     ...         ...            ...   \n",
      "29472                     0         2.1              0   \n",
      "29473                   1.3         0.6           16.6   \n",
      "29474                   1.4         0.2            6.2   \n",
      "29475                   2.6           0           11.8   \n",
      "29476                     0           0              4   \n",
      "\n",
      "                            city Median Income poverty_rate  \\\n",
      "0                   AK-Adak city         78500         39.3   \n",
      "1                 AK-Akhiok city         26250         40.5   \n",
      "2                AK-Akiachak CDP         38750         26.1   \n",
      "3                  AK-Akiak city         42000         31.3   \n",
      "4                 AK-Akutan city         24750         16.1   \n",
      "...                          ...           ...          ...   \n",
      "29472  WY-Woods Landing-Jelm CDP           NaN         18.6   \n",
      "29473            WY-Worland city         41523         15.3   \n",
      "29474             WY-Wright town         77114          5.9   \n",
      "29475           WY-Y-O Ranch CDP           NaN            0   \n",
      "29476              WY-Yoder town         37500          5.4   \n",
      "\n",
      "      percent_completed_hs  \n",
      "0                     93.4  \n",
      "1                     62.5  \n",
      "2                     76.7  \n",
      "3                     81.3  \n",
      "4                       73  \n",
      "...                    ...  \n",
      "29472                  100  \n",
      "29473                 85.6  \n",
      "29474                 89.2  \n",
      "29475                  100  \n",
      "29476                 79.4  \n",
      "\n",
      "[29477 rows x 11 columns]\n",
      "51\n"
     ]
    },
    {
     "data": {
      "text/plain": "['share_white',\n 'share_black',\n 'share_native_american',\n 'share_asian',\n 'share_hispanic']"
     },
     "execution_count": 725,
     "metadata": {},
     "output_type": "execute_result"
    }
   ],
   "source": [
    "\"\"\"\n",
    "We want to impute the city and our state/Geographic area such that we have a full comprehensive list of both\n",
    "separately after the merge.\n",
    "Then we want to get a list of race names within the df_race_city.\n",
    "\"\"\"\n",
    "\n",
    "df_temp['Geographic area'] = [i[0:2] for i in df_temp['city']]\n",
    "df_temp['City'] = [i[3:] for i in df_temp['city']]\n",
    "print(df_temp)\n",
    "list_states = df_temp['Geographic area'].values.tolist()\n",
    "list_states = list(set(list_states))\n",
    "#we expect to see 51 including DC as a state\n",
    "print(len(list_states))\n",
    "columns_race = df_temp.columns.values.tolist()\n",
    "s = 'share'\n",
    "columns_race = [string for string in columns_race if(s in string)]\n",
    "columns_race"
   ],
   "metadata": {
    "collapsed": false,
    "pycharm": {
     "name": "#%%\n"
    }
   }
  },
  {
   "cell_type": "code",
   "execution_count": 726,
   "outputs": [
    {
     "name": "stdout",
     "output_type": "stream",
     "text": [
      "97576.2\n",
      "568.5999999999999\n",
      "273.8\n",
      "404.40000000000003\n",
      "2844.4\n",
      "[0.959758978787694, 0.005592746544123288, 0.0026930953284927126, 0.0039776762265977105, 0.0279775031130923]  sum=  1.0\n",
      "123518.1\n",
      "6430.8\n",
      "357.9\n",
      "1828.3\n",
      "7068.1\n",
      "[0.8873222742005931, 0.046197213857152704, 0.002571061584791154, 0.013134037148571295, 0.05077541320889175]  sum=  1.0\n",
      "53454.6\n",
      "2474.8\n",
      "10542.1\n",
      "312.6\n",
      "4175.5\n",
      "[0.7533103343310841, 0.03487618306754829, 0.14856481716356912, 0.0044053235925794396, 0.058843341845218965]  sum=  0.9999999999999998\n",
      "30833.699999999997\n",
      "82.7\n",
      "4332.9\n",
      "116.4\n",
      "800.1\n",
      "[0.8525651305929912, 0.0022866907409762817, 0.11980655757649493, 0.0032185103053160727, 0.02212311078422156]  sum=  1.0\n",
      "52850.7\n",
      "15077.300000000001\n",
      "1321.4\n",
      "684.5\n",
      "4739.1\n",
      "[0.7077618416295046, 0.20191099862065273, 0.017695820443801642, 0.009166633187363571, 0.06346470611867744]  sum=  1.0\n",
      "10620.1\n",
      "202.2\n",
      "719.4000000000001\n",
      "258.90000000000003\n",
      "1699.3999999999999\n",
      "[0.7866740740740741, 0.014977777777777777, 0.05328888888888889, 0.01917777777777778, 0.12588148148148148]  sum=  1.0\n",
      "48419.100000000006\n",
      "2321.1\n",
      "110.30000000000001\n",
      "373.29999999999995\n",
      "1168.3999999999999\n",
      "[0.9241661926775359, 0.04430239615820675, 0.0021052752127225043, 0.007125106408969272, 0.02230102954256549]  sum=  0.9999999999999999\n"
     ]
    },
    {
     "name": "stderr",
     "output_type": "stream",
     "text": [
      "C:\\Users\\saads\\CSE 351\\CSE 351 Proj\\venv\\lib\\site-packages\\ipykernel_launcher.py:6: SettingWithCopyWarning: \n",
      "A value is trying to be set on a copy of a slice from a DataFrame.\n",
      "Try using .loc[row_indexer,col_indexer] = value instead\n",
      "\n",
      "See the caveats in the documentation: https://pandas.pydata.org/pandas-docs/stable/user_guide/indexing.html#returning-a-view-versus-a-copy\n",
      "  \n",
      "C:\\Users\\saads\\CSE 351\\CSE 351 Proj\\venv\\lib\\site-packages\\ipykernel_launcher.py:15: SettingWithCopyWarning: \n",
      "A value is trying to be set on a copy of a slice from a DataFrame.\n",
      "Try using .loc[row_indexer,col_indexer] = value instead\n",
      "\n",
      "See the caveats in the documentation: https://pandas.pydata.org/pandas-docs/stable/user_guide/indexing.html#returning-a-view-versus-a-copy\n",
      "  from ipykernel import kernelapp as app\n"
     ]
    },
    {
     "name": "stdout",
     "output_type": "stream",
     "text": [
      "42441.2\n",
      "8816.599999999999\n",
      "411.1\n",
      "258.1\n",
      "2311.7\n",
      "[0.7824892558265594, 0.1625518310726474, 0.007579458947209282, 0.004758594877827088, 0.042620859275756984]  sum=  1.0\n",
      "38158.3\n",
      "3132.8999999999996\n",
      "135.8\n",
      "273.4\n",
      "1225.3000000000002\n",
      "[0.888938328320796, 0.072984249528837, 0.0031636059516792965, 0.006369144824662147, 0.028544671374025346]  sum=  0.9999999999999998\n",
      "21790.299999999996\n",
      "680.9000000000001\n",
      "64.7\n",
      "693.4000000000001\n",
      "1201.8999999999999\n",
      "[0.8919046137725529, 0.027870100527194738, 0.002648253053472609, 0.028381741379874918, 0.049195291266904605]  sum=  0.9999999999999998\n",
      "29158.5\n",
      "125.5\n",
      "1261.7\n",
      "251.29999999999998\n",
      "2498.2000000000003\n",
      "[0.8757568658545377, 0.0037693120930344316, 0.03789435113770154, 0.007547634493860977, 0.07503183642086549]  sum=  1.0000000000000002\n",
      "41909.2\n",
      "13480.3\n",
      "381.1\n",
      "277.3\n",
      "1722.5\n",
      "[0.725444172101976, 0.23334268068076383, 0.006596803899574869, 0.0048000360045975105, 0.02981630731308767]  sum=  0.9999999999999999\n",
      "38.5\n",
      "50.7\n",
      "0.3\n",
      "3.5\n",
      "9.1\n",
      "[0.3770812928501469, 0.4965719882468169, 0.002938295788442703, 0.03428011753183154, 0.089128305582762]  sum=  1.0000000000000002\n",
      "5794.700000000001\n",
      "1169.8999999999999\n",
      "39.800000000000004\n",
      "152.0\n",
      "563.7000000000002\n",
      "[0.7505990855040738, 0.1515394878304685, 0.005155373635056541, 0.019688864133884276, 0.0730171888965169]  sum=  1.0000000000000002\n",
      "62377.9\n",
      "644.5\n",
      "1256.9\n",
      "286.1\n",
      "3403.1\n",
      "[0.9177471917138086, 0.009482333728124057, 0.01849238985706614, 0.00420930283881504, 0.050068781862186156]  sum=  0.9999999999999999\n",
      "62744.7\n",
      "2854.0\n",
      "745.3000000000001\n",
      "660.3\n",
      "2446.5\n",
      "[0.9034409970799472, 0.041093839091846315, 0.010731337867958326, 0.009507449878187147, 0.035226376082060966]  sum=  0.9999999999999999\n",
      "164498.69999999998\n",
      "5768.699999999999\n",
      "285.0\n",
      "1744.6\n",
      "4820.200000000001\n",
      "[0.9287562133999406, 0.03256995932636694, 0.00160910402829313, 0.009849975044772613, 0.02721474820062648]  sum=  0.9999999999999999\n",
      "71858.5\n",
      "724.5\n",
      "2025.5\n",
      "611.3\n",
      "2568.8999999999996\n",
      "[0.923765276961821, 0.009313692091524862, 0.026038486309708224, 0.007858467875154103, 0.03302407676179188]  sum=  1.0\n",
      "32947.2\n",
      "199.10000000000002\n",
      "973.3\n",
      "519.8\n",
      "3676.0999999999995\n",
      "[0.8598922107241194, 0.005196330466782373, 0.025402252352181232, 0.01356631128394514, 0.09594289517297176]  sum=  0.9999999999999998\n",
      "33078.9\n",
      "113.1\n",
      "4690.400000000001\n",
      "124.0\n",
      "794.4000000000001\n",
      "[0.852531391105338, 0.002914888352817467, 0.1208841054823612, 0.003195810395661945, 0.020473804663821364]  sum=  1.0\n",
      "30657.3\n",
      "14556.8\n",
      "452.8\n",
      "372.0\n",
      "1407.9\n",
      "[0.6461405194870886, 0.30680256624261276, 0.00954332009745652, 0.007840360150737247, 0.02967323402210476]  sum=  0.9999999999999999\n",
      "40197.899999999994\n",
      "420.3\n",
      "744.2\n",
      "528.9\n",
      "8197.6\n",
      "[0.802531099704725, 0.00839108065858903, 0.014857583217040105, 0.010559225696711248, 0.16366101072293465]  sum=  1.0\n",
      "37356.3\n",
      "10082.3\n",
      "176.6\n",
      "1543.7\n",
      "3072.5\n",
      "[0.7152077103045295, 0.1930313949080438, 0.0033811079159279667, 0.02955501862864101, 0.05882476824285774]  sum=  0.9999999999999999\n",
      "83171.0\n",
      "906.7\n",
      "3047.0000000000005\n",
      "929.3\n",
      "2857.4000000000005\n",
      "[0.9148577626128297, 0.00997344667445447, 0.033516148689823284, 0.010222040360174852, 0.03143060166271777]  sum=  1.0\n",
      "44084.799999999996\n",
      "3801.3999999999996\n",
      "140.10000000000002\n",
      "3239.9\n",
      "6062.0\n",
      "[0.7689897816432402, 0.06630942537878391, 0.0024438234586119925, 0.05651494377985006, 0.1057420257395139]  sum=  1.0\n",
      "38109.2\n",
      "1169.0\n",
      "80.30000000000001\n",
      "136.8\n",
      "362.6\n",
      "[0.9561266398882027, 0.02932919195441807, 0.00201465706923847, 0.0034321928651534577, 0.009097318222987162]  sum=  0.9999999999999999\n",
      "144370.7\n",
      "10277.8\n",
      "1151.6999999999998\n",
      "1773.8000000000002\n",
      "68809.79999999999\n",
      "[0.6377254026127313, 0.04539989168836286, 0.00508737816045141, 0.00783536631154703, 0.30395196122690754]  sum=  1.0000000000000002\n",
      "108949.29999999999\n",
      "4081.1\n",
      "2612.2\n",
      "8441.4\n",
      "44949.2\n",
      "[0.644543793763592, 0.024143777672078624, 0.015453768845410252, 0.049939301864959075, 0.26591935785396004]  sum=  1.0\n",
      "39182.3\n",
      "19176.600000000002\n",
      "188.0\n",
      "933.7\n",
      "4015.8999999999996\n",
      "[0.6170781066672966, 0.30201034702700147, 0.0029607931145811182, 0.014704747505768034, 0.06324600568535273]  sum=  0.9999999999999999\n",
      "20161.600000000002\n",
      "67.0\n",
      "573.1\n",
      "110.7\n",
      "2427.8\n",
      "[0.8638143632016865, 0.002870583799624682, 0.02455420262037172, 0.004742889949529139, 0.10401796042878811]  sum=  1.0\n",
      "64669.90000000001\n",
      "1151.4\n",
      "188.1\n",
      "400.20000000000005\n",
      "2263.0\n",
      "[0.94171328885174, 0.01676651240815114, 0.0027390837102425126, 0.00582765178542825, 0.0329534632444381]  sum=  1.0\n",
      "24480.4\n",
      "12969.6\n",
      "182.8\n",
      "292.3\n",
      "1767.8000000000002\n",
      "[0.616745060199683, 0.3267486124722557, 0.004605357633229116, 0.007364037397116359, 0.04453693229771571]  sum=  0.9999999999999999\n",
      "44086.90000000001\n",
      "9757.900000000001\n",
      "202.3\n",
      "2168.4\n",
      "3636.3999999999996\n",
      "[0.7365998406065638, 0.16303408914336887, 0.0033800096571704485, 0.03622942630058527, 0.0607566342923115]  sum=  0.9999999999999999\n",
      "111736.1\n",
      "4767.799999999999\n",
      "258.9\n",
      "904.8\n",
      "2565.0\n",
      "[0.9293328099034704, 0.039654802441268004, 0.002153326136172718, 0.007525413240668503, 0.02133364827842033]  sum=  0.9999999999999999\n",
      "93066.79999999999\n",
      "6049.9\n",
      "560.1\n",
      "565.8\n",
      "2433.4\n",
      "[0.9064124040671627, 0.058922240835248746, 0.00545502356928591, 0.005510538003038685, 0.02369979352526394]  sum=  1.0\n",
      "12313.1\n",
      "713.9\n",
      "93.9\n",
      "427.5\n",
      "1140.5\n",
      "[0.838258821286822, 0.04860132480989046, 0.0063925821538712915, 0.02910360884749709, 0.07764366290191914]  sum=  1.0\n",
      "5038.799999999999\n",
      "161.7\n",
      "58.60000000000001\n",
      "3873.9\n",
      "1564.1\n",
      "[0.471043553860392, 0.01511624645932075, 0.0054781202381953996, 0.3621448803881426, 0.1462171990539492]  sum=  0.9999999999999998\n",
      "9185.400000000001\n",
      "68.7\n",
      "27.6\n",
      "128.9\n",
      "167.5\n",
      "[0.9590002192501643, 0.007172612522316533, 0.0028815735897516205, 0.013457783902861734, 0.017487810734905667]  sum=  0.9999999999999999\n",
      "18659.5\n",
      "80.69999999999999\n",
      "625.2\n",
      "78.7\n",
      "1215.6\n",
      "[0.903183492499891, 0.003906155462083185, 0.030261814063127734, 0.003809348635265759, 0.058839189339632225]  sum=  1.0\n",
      "16068.799999999997\n",
      "199.70000000000002\n",
      "16144.4\n",
      "488.69999999999993\n",
      "756.5\n",
      "[0.47741256933695003, 0.0059331929015601, 0.4796586854278762, 0.014519536159200904, 0.022476016174412698]  sum=  1.0\n",
      "19475.6\n",
      "15143.9\n",
      "584.4999999999999\n",
      "197.7\n",
      "840.5\n",
      "[0.5373735590002815, 0.41785266898808576, 0.016127608147408268, 0.005454966861835098, 0.02319119700238948]  sum=  1.0\n",
      "51732.1\n",
      "895.9000000000001\n",
      "2355.2000000000003\n",
      "1930.8000000000002\n",
      "6662.1\n",
      "[0.8137035772876915, 0.014091773480914999, 0.037045367677476286, 0.030369903155431054, 0.10478937839848623]  sum=  1.0\n",
      "105676.3\n",
      "4765.2\n",
      "429.6\n",
      "3233.3\n",
      "7882.1\n",
      "[0.8662950408446836, 0.03906333897603423, 0.0035217011718509834, 0.026505391990097264, 0.06461452701733388]  sum=  0.9999999999999999\n",
      "54936.2\n",
      "243.89999999999998\n",
      "904.7\n",
      "169.3\n",
      "2360.7\n",
      "[0.9372411063417431, 0.004161065123484171, 0.015434668377269907, 0.002888349017654245, 0.04027481113984864]  sum=  1.0\n",
      "28980.4\n",
      "295.5\n",
      "6795.799999999999\n",
      "218.8\n",
      "20127.5\n",
      "[0.5136729412598816, 0.005237690098904605, 0.12045446488709276, 0.003878194902336134, 0.3567567088517849]  sum=  1.0\n",
      "11408.099999999999\n",
      "91.70000000000002\n",
      "44.0\n",
      "108.30000000000003\n",
      "164.20000000000002\n",
      "[0.9654544992933489, 0.00776046647427706, 0.003723669845890846, 0.009165305552499517, 0.013896058833983567]  sum=  1.0\n",
      "37009.8\n",
      "143.29999999999998\n",
      "2137.3\n",
      "117.7\n",
      "731.0\n",
      "[0.9220386107311822, 0.0035700850293105715, 0.053247332401573526, 0.0029323029166074973, 0.018211668921326085]  sum=  0.9999999999999999\n",
      "72378.70000000001\n",
      "12301.2\n",
      "419.0\n",
      "1487.4\n",
      "15206.8\n",
      "[0.7110373885852774, 0.12084512604488909, 0.004116192551361536, 0.01461199236490489, 0.14938930045356708]  sum=  1.0\n",
      "27028.0\n",
      "430.5\n",
      "12894.0\n",
      "327.70000000000005\n",
      "9085.199999999999\n",
      "[0.5431082639745688, 0.008650588561530703, 0.2590956769160903, 0.00658489633359724, 0.1825605742142131]  sum=  1.0000000000000002\n",
      "3033.6999999999994\n",
      "101.60000000000002\n",
      "22.8\n",
      "57.4\n",
      "226.69999999999996\n",
      "[0.8813258962291558, 0.029516007204694685, 0.006623670908140145, 0.016675382023124748, 0.06585904363488466]  sum=  1.0\n",
      "12534.900000000001\n",
      "107.4\n",
      "71.4\n",
      "135.2\n",
      "172.0\n",
      "[0.9626753911019975, 0.008248277768817824, 0.005483491924521347, 0.01038330683746899, 0.013209532367194278]  sum=  1.0\n",
      "<class 'pandas.core.frame.DataFrame'>\n",
      "Int64Index: 29477 entries, 0 to 29476\n",
      "Data columns (total 11 columns):\n",
      " #   Column                 Non-Null Count  Dtype \n",
      "---  ------                 --------------  ----- \n",
      " 0   Geographic area        29477 non-null  object\n",
      " 1   City                   29477 non-null  object\n",
      " 2   share_white            29477 non-null  object\n",
      " 3   share_black            29477 non-null  object\n",
      " 4   share_native_american  29477 non-null  object\n",
      " 5   share_asian            29477 non-null  object\n",
      " 6   share_hispanic         29477 non-null  object\n",
      " 7   city                   29477 non-null  object\n",
      " 8   Median Income          27418 non-null  object\n",
      " 9   poverty_rate           29128 non-null  object\n",
      " 10  percent_completed_hs   29132 non-null  object\n",
      "dtypes: object(11)\n",
      "memory usage: 2.7+ MB\n",
      "None\n"
     ]
    },
    {
     "data": {
      "text/plain": "      Geographic area                    City share_white share_black  \\\n0                  AK               Adak city        19.6         4.0   \n1                  AK             Akhiok city         8.5         1.4   \n2                  AK            Akiachak CDP         3.5         0.2   \n3                  AK              Akiak city         5.2         0.0   \n4                  AK             Akutan city        23.3        17.9   \n...               ...                     ...         ...         ...   \n29472              WY  Woods Landing-Jelm CDP        95.9         0.0   \n29473              WY            Worland city        89.9         0.3   \n29474              WY             Wright town        94.5         0.1   \n29475              WY           Y-O Ranch CDP        92.8         1.5   \n29476              WY              Yoder town        97.4         0.0   \n\n      share_native_american share_asian share_hispanic  \\\n0                       5.5        52.5            8.9   \n1                      50.7         1.4           11.3   \n2                      95.1         0.2            0.2   \n3                      92.8         0.0            0.3   \n4                       5.5        43.3           20.8   \n...                     ...         ...            ...   \n29472                   0.0         2.1            0.0   \n29473                   1.3         0.6           16.6   \n29474                   1.4         0.2            6.2   \n29475                   2.6         0.0           11.8   \n29476                   0.0         0.0            4.0   \n\n                            city Median Income poverty_rate  \\\n0                   AK-Adak city         78500         39.3   \n1                 AK-Akhiok city         26250         40.5   \n2                AK-Akiachak CDP         38750         26.1   \n3                  AK-Akiak city         42000         31.3   \n4                 AK-Akutan city         24750         16.1   \n...                          ...           ...          ...   \n29472  WY-Woods Landing-Jelm CDP           NaN         18.6   \n29473            WY-Worland city         41523         15.3   \n29474             WY-Wright town         77114          5.9   \n29475           WY-Y-O Ranch CDP           NaN            0   \n29476              WY-Yoder town         37500          5.4   \n\n      percent_completed_hs  \n0                     93.4  \n1                     62.5  \n2                     76.7  \n3                     81.3  \n4                       73  \n...                    ...  \n29472                  100  \n29473                 85.6  \n29474                 89.2  \n29475                  100  \n29476                 79.4  \n\n[29477 rows x 11 columns]",
      "text/html": "<div>\n<style scoped>\n    .dataframe tbody tr th:only-of-type {\n        vertical-align: middle;\n    }\n\n    .dataframe tbody tr th {\n        vertical-align: top;\n    }\n\n    .dataframe thead th {\n        text-align: right;\n    }\n</style>\n<table border=\"1\" class=\"dataframe\">\n  <thead>\n    <tr style=\"text-align: right;\">\n      <th></th>\n      <th>Geographic area</th>\n      <th>City</th>\n      <th>share_white</th>\n      <th>share_black</th>\n      <th>share_native_american</th>\n      <th>share_asian</th>\n      <th>share_hispanic</th>\n      <th>city</th>\n      <th>Median Income</th>\n      <th>poverty_rate</th>\n      <th>percent_completed_hs</th>\n    </tr>\n  </thead>\n  <tbody>\n    <tr>\n      <th>0</th>\n      <td>AK</td>\n      <td>Adak city</td>\n      <td>19.6</td>\n      <td>4.0</td>\n      <td>5.5</td>\n      <td>52.5</td>\n      <td>8.9</td>\n      <td>AK-Adak city</td>\n      <td>78500</td>\n      <td>39.3</td>\n      <td>93.4</td>\n    </tr>\n    <tr>\n      <th>1</th>\n      <td>AK</td>\n      <td>Akhiok city</td>\n      <td>8.5</td>\n      <td>1.4</td>\n      <td>50.7</td>\n      <td>1.4</td>\n      <td>11.3</td>\n      <td>AK-Akhiok city</td>\n      <td>26250</td>\n      <td>40.5</td>\n      <td>62.5</td>\n    </tr>\n    <tr>\n      <th>2</th>\n      <td>AK</td>\n      <td>Akiachak CDP</td>\n      <td>3.5</td>\n      <td>0.2</td>\n      <td>95.1</td>\n      <td>0.2</td>\n      <td>0.2</td>\n      <td>AK-Akiachak CDP</td>\n      <td>38750</td>\n      <td>26.1</td>\n      <td>76.7</td>\n    </tr>\n    <tr>\n      <th>3</th>\n      <td>AK</td>\n      <td>Akiak city</td>\n      <td>5.2</td>\n      <td>0.0</td>\n      <td>92.8</td>\n      <td>0.0</td>\n      <td>0.3</td>\n      <td>AK-Akiak city</td>\n      <td>42000</td>\n      <td>31.3</td>\n      <td>81.3</td>\n    </tr>\n    <tr>\n      <th>4</th>\n      <td>AK</td>\n      <td>Akutan city</td>\n      <td>23.3</td>\n      <td>17.9</td>\n      <td>5.5</td>\n      <td>43.3</td>\n      <td>20.8</td>\n      <td>AK-Akutan city</td>\n      <td>24750</td>\n      <td>16.1</td>\n      <td>73</td>\n    </tr>\n    <tr>\n      <th>...</th>\n      <td>...</td>\n      <td>...</td>\n      <td>...</td>\n      <td>...</td>\n      <td>...</td>\n      <td>...</td>\n      <td>...</td>\n      <td>...</td>\n      <td>...</td>\n      <td>...</td>\n      <td>...</td>\n    </tr>\n    <tr>\n      <th>29472</th>\n      <td>WY</td>\n      <td>Woods Landing-Jelm CDP</td>\n      <td>95.9</td>\n      <td>0.0</td>\n      <td>0.0</td>\n      <td>2.1</td>\n      <td>0.0</td>\n      <td>WY-Woods Landing-Jelm CDP</td>\n      <td>NaN</td>\n      <td>18.6</td>\n      <td>100</td>\n    </tr>\n    <tr>\n      <th>29473</th>\n      <td>WY</td>\n      <td>Worland city</td>\n      <td>89.9</td>\n      <td>0.3</td>\n      <td>1.3</td>\n      <td>0.6</td>\n      <td>16.6</td>\n      <td>WY-Worland city</td>\n      <td>41523</td>\n      <td>15.3</td>\n      <td>85.6</td>\n    </tr>\n    <tr>\n      <th>29474</th>\n      <td>WY</td>\n      <td>Wright town</td>\n      <td>94.5</td>\n      <td>0.1</td>\n      <td>1.4</td>\n      <td>0.2</td>\n      <td>6.2</td>\n      <td>WY-Wright town</td>\n      <td>77114</td>\n      <td>5.9</td>\n      <td>89.2</td>\n    </tr>\n    <tr>\n      <th>29475</th>\n      <td>WY</td>\n      <td>Y-O Ranch CDP</td>\n      <td>92.8</td>\n      <td>1.5</td>\n      <td>2.6</td>\n      <td>0.0</td>\n      <td>11.8</td>\n      <td>WY-Y-O Ranch CDP</td>\n      <td>NaN</td>\n      <td>0</td>\n      <td>100</td>\n    </tr>\n    <tr>\n      <th>29476</th>\n      <td>WY</td>\n      <td>Yoder town</td>\n      <td>97.4</td>\n      <td>0.0</td>\n      <td>0.0</td>\n      <td>0.0</td>\n      <td>4.0</td>\n      <td>WY-Yoder town</td>\n      <td>37500</td>\n      <td>5.4</td>\n      <td>79.4</td>\n    </tr>\n  </tbody>\n</table>\n<p>29477 rows × 11 columns</p>\n</div>"
     },
     "execution_count": 726,
     "metadata": {},
     "output_type": "execute_result"
    }
   ],
   "source": [
    "\"\"\"\n",
    "Now we can impute the porportion of missing cities based on the state's porportions\n",
    "\"\"\"\n",
    "for state in list_states:\n",
    "    j=0\n",
    "    list_total_races = []\n",
    "    state_df = df_temp.loc[df_temp['Geographic area'] == state]\n",
    "    for i in columns_race:\n",
    "        state_df[i] = state_df[i].astype(float)\n",
    "        list_total_races.append(state_df[i].sum())\n",
    "        print(list_total_races[j])\n",
    "        j+=1\n",
    "    sum_all_races = sum(list_total_races)\n",
    "    porportional_share = [i/sum_all_races for i in list_total_races]\n",
    "    #print(porportional_share, \" sum= \", sum(porportional_share))\n",
    "    j=0\n",
    "    for i in columns_race:\n",
    "        state_df[i] = state_df[i].fillna(porportional_share[j])\n",
    "        j+=1\n",
    "    df_temp.loc[df_temp['Geographic area'] == state] = state_df\n",
    "print(df_temp.info())\n",
    "df_temp\n",
    "\n"
   ],
   "metadata": {
    "collapsed": false,
    "pycharm": {
     "name": "#%%\n"
    }
   }
  },
  {
   "cell_type": "code",
   "execution_count": 626,
   "outputs": [
    {
     "name": "stdout",
     "output_type": "stream",
     "text": [
      "<class 'pandas.core.frame.DataFrame'>\n",
      "Int64Index: 29477 entries, 0 to 29476\n",
      "Data columns (total 11 columns):\n",
      " #   Column                 Non-Null Count  Dtype  \n",
      "---  ------                 --------------  -----  \n",
      " 0   Geographic area        29268 non-null  object \n",
      " 1   City                   29268 non-null  object \n",
      " 2   share_white            29477 non-null  float64\n",
      " 3   share_black            29477 non-null  float64\n",
      " 4   share_native_american  29477 non-null  float64\n",
      " 5   share_asian            29477 non-null  float64\n",
      " 6   share_hispanic         29477 non-null  float64\n",
      " 7   city                   29477 non-null  object \n",
      " 8   Median Income          29477 non-null  float64\n",
      " 9   poverty_rate           29128 non-null  object \n",
      " 10  percent_completed_hs   29132 non-null  object \n",
      "dtypes: float64(6), object(5)\n",
      "memory usage: 2.7+ MB\n",
      "None\n",
      "<class 'pandas.core.frame.DataFrame'>\n",
      "Int64Index: 29477 entries, 0 to 29476\n",
      "Data columns (total 11 columns):\n",
      " #   Column                 Non-Null Count  Dtype  \n",
      "---  ------                 --------------  -----  \n",
      " 0   Geographic area        29268 non-null  object \n",
      " 1   City                   29268 non-null  object \n",
      " 2   share_white            29477 non-null  float64\n",
      " 3   share_black            29477 non-null  float64\n",
      " 4   share_native_american  29477 non-null  float64\n",
      " 5   share_asian            29477 non-null  float64\n",
      " 6   share_hispanic         29477 non-null  float64\n",
      " 7   city                   29477 non-null  object \n",
      " 8   Median Income          29477 non-null  float64\n",
      " 9   poverty_rate           29477 non-null  float64\n",
      " 10  percent_completed_hs   29132 non-null  object \n",
      "dtypes: float64(7), object(4)\n",
      "memory usage: 2.7+ MB\n",
      "None\n",
      "<class 'pandas.core.frame.DataFrame'>\n",
      "Int64Index: 29477 entries, 0 to 29476\n",
      "Data columns (total 11 columns):\n",
      " #   Column                 Non-Null Count  Dtype  \n",
      "---  ------                 --------------  -----  \n",
      " 0   Geographic area        29268 non-null  object \n",
      " 1   City                   29268 non-null  object \n",
      " 2   share_white            29477 non-null  float64\n",
      " 3   share_black            29477 non-null  float64\n",
      " 4   share_native_american  29477 non-null  float64\n",
      " 5   share_asian            29477 non-null  float64\n",
      " 6   share_hispanic         29477 non-null  float64\n",
      " 7   city                   29477 non-null  object \n",
      " 8   Median Income          29477 non-null  float64\n",
      " 9   poverty_rate           29477 non-null  float64\n",
      " 10  percent_completed_hs   29477 non-null  float64\n",
      "dtypes: float64(8), object(3)\n",
      "memory usage: 2.7+ MB\n",
      "None\n"
     ]
    },
    {
     "data": {
      "text/plain": "      Geographic area                    City  share_white  share_black  \\\n0                  AK               Adak city         19.6          4.0   \n1                  AK             Akhiok city          8.5          1.4   \n2                  AK            Akiachak CDP          3.5          0.2   \n3                  AK              Akiak city          5.2          0.0   \n4                  AK             Akutan city         23.3         17.9   \n...               ...                     ...          ...          ...   \n29472              WY  Woods Landing-Jelm CDP         95.9          0.0   \n29473              WY            Worland city         89.9          0.3   \n29474              WY             Wright town         94.5          0.1   \n29475              WY           Y-O Ranch CDP         92.8          1.5   \n29476              WY              Yoder town         97.4          0.0   \n\n       share_native_american  share_asian  share_hispanic  \\\n0                        5.5         52.5             8.9   \n1                       50.7          1.4            11.3   \n2                       95.1          0.2             0.2   \n3                       92.8          0.0             0.3   \n4                        5.5         43.3            20.8   \n...                      ...          ...             ...   \n29472                    0.0          2.1             0.0   \n29473                    1.3          0.6            16.6   \n29474                    1.4          0.2             6.2   \n29475                    2.6          0.0            11.8   \n29476                    0.0          0.0             4.0   \n\n                            city  Median Income  poverty_rate  \\\n0                   AK-Adak city   78500.000000          39.3   \n1                 AK-Akhiok city   26250.000000          40.5   \n2                AK-Akiachak CDP   38750.000000          26.1   \n3                  AK-Akiak city   42000.000000          31.3   \n4                 AK-Akutan city   24750.000000          16.1   \n...                          ...            ...           ...   \n29472  WY-Woods Landing-Jelm CDP   51177.890268          18.6   \n29473            WY-Worland city   41523.000000          15.3   \n29474             WY-Wright town   77114.000000           5.9   \n29475           WY-Y-O Ranch CDP   51177.890268           0.0   \n29476              WY-Yoder town   37500.000000           5.4   \n\n       percent_completed_hs  \n0                      93.4  \n1                      62.5  \n2                      76.7  \n3                      81.3  \n4                      73.0  \n...                     ...  \n29472                 100.0  \n29473                  85.6  \n29474                  89.2  \n29475                 100.0  \n29476                  79.4  \n\n[29477 rows x 11 columns]",
      "text/html": "<div>\n<style scoped>\n    .dataframe tbody tr th:only-of-type {\n        vertical-align: middle;\n    }\n\n    .dataframe tbody tr th {\n        vertical-align: top;\n    }\n\n    .dataframe thead th {\n        text-align: right;\n    }\n</style>\n<table border=\"1\" class=\"dataframe\">\n  <thead>\n    <tr style=\"text-align: right;\">\n      <th></th>\n      <th>Geographic area</th>\n      <th>City</th>\n      <th>share_white</th>\n      <th>share_black</th>\n      <th>share_native_american</th>\n      <th>share_asian</th>\n      <th>share_hispanic</th>\n      <th>city</th>\n      <th>Median Income</th>\n      <th>poverty_rate</th>\n      <th>percent_completed_hs</th>\n    </tr>\n  </thead>\n  <tbody>\n    <tr>\n      <th>0</th>\n      <td>AK</td>\n      <td>Adak city</td>\n      <td>19.6</td>\n      <td>4.0</td>\n      <td>5.5</td>\n      <td>52.5</td>\n      <td>8.9</td>\n      <td>AK-Adak city</td>\n      <td>78500.000000</td>\n      <td>39.3</td>\n      <td>93.4</td>\n    </tr>\n    <tr>\n      <th>1</th>\n      <td>AK</td>\n      <td>Akhiok city</td>\n      <td>8.5</td>\n      <td>1.4</td>\n      <td>50.7</td>\n      <td>1.4</td>\n      <td>11.3</td>\n      <td>AK-Akhiok city</td>\n      <td>26250.000000</td>\n      <td>40.5</td>\n      <td>62.5</td>\n    </tr>\n    <tr>\n      <th>2</th>\n      <td>AK</td>\n      <td>Akiachak CDP</td>\n      <td>3.5</td>\n      <td>0.2</td>\n      <td>95.1</td>\n      <td>0.2</td>\n      <td>0.2</td>\n      <td>AK-Akiachak CDP</td>\n      <td>38750.000000</td>\n      <td>26.1</td>\n      <td>76.7</td>\n    </tr>\n    <tr>\n      <th>3</th>\n      <td>AK</td>\n      <td>Akiak city</td>\n      <td>5.2</td>\n      <td>0.0</td>\n      <td>92.8</td>\n      <td>0.0</td>\n      <td>0.3</td>\n      <td>AK-Akiak city</td>\n      <td>42000.000000</td>\n      <td>31.3</td>\n      <td>81.3</td>\n    </tr>\n    <tr>\n      <th>4</th>\n      <td>AK</td>\n      <td>Akutan city</td>\n      <td>23.3</td>\n      <td>17.9</td>\n      <td>5.5</td>\n      <td>43.3</td>\n      <td>20.8</td>\n      <td>AK-Akutan city</td>\n      <td>24750.000000</td>\n      <td>16.1</td>\n      <td>73.0</td>\n    </tr>\n    <tr>\n      <th>...</th>\n      <td>...</td>\n      <td>...</td>\n      <td>...</td>\n      <td>...</td>\n      <td>...</td>\n      <td>...</td>\n      <td>...</td>\n      <td>...</td>\n      <td>...</td>\n      <td>...</td>\n      <td>...</td>\n    </tr>\n    <tr>\n      <th>29472</th>\n      <td>WY</td>\n      <td>Woods Landing-Jelm CDP</td>\n      <td>95.9</td>\n      <td>0.0</td>\n      <td>0.0</td>\n      <td>2.1</td>\n      <td>0.0</td>\n      <td>WY-Woods Landing-Jelm CDP</td>\n      <td>51177.890268</td>\n      <td>18.6</td>\n      <td>100.0</td>\n    </tr>\n    <tr>\n      <th>29473</th>\n      <td>WY</td>\n      <td>Worland city</td>\n      <td>89.9</td>\n      <td>0.3</td>\n      <td>1.3</td>\n      <td>0.6</td>\n      <td>16.6</td>\n      <td>WY-Worland city</td>\n      <td>41523.000000</td>\n      <td>15.3</td>\n      <td>85.6</td>\n    </tr>\n    <tr>\n      <th>29474</th>\n      <td>WY</td>\n      <td>Wright town</td>\n      <td>94.5</td>\n      <td>0.1</td>\n      <td>1.4</td>\n      <td>0.2</td>\n      <td>6.2</td>\n      <td>WY-Wright town</td>\n      <td>77114.000000</td>\n      <td>5.9</td>\n      <td>89.2</td>\n    </tr>\n    <tr>\n      <th>29475</th>\n      <td>WY</td>\n      <td>Y-O Ranch CDP</td>\n      <td>92.8</td>\n      <td>1.5</td>\n      <td>2.6</td>\n      <td>0.0</td>\n      <td>11.8</td>\n      <td>WY-Y-O Ranch CDP</td>\n      <td>51177.890268</td>\n      <td>0.0</td>\n      <td>100.0</td>\n    </tr>\n    <tr>\n      <th>29476</th>\n      <td>WY</td>\n      <td>Yoder town</td>\n      <td>97.4</td>\n      <td>0.0</td>\n      <td>0.0</td>\n      <td>0.0</td>\n      <td>4.0</td>\n      <td>WY-Yoder town</td>\n      <td>37500.000000</td>\n      <td>5.4</td>\n      <td>79.4</td>\n    </tr>\n  </tbody>\n</table>\n<p>29477 rows × 11 columns</p>\n</div>"
     },
     "execution_count": 626,
     "metadata": {},
     "output_type": "execute_result"
    }
   ],
   "source": [
    "df_temp['Median Income'] = pd.to_numeric(df_temp['Median Income'], errors='coerce')\n",
    "df_temp['Median Income'] = df_temp['Median Income'].fillna(df_temp['Median Income'].mean())\n",
    "print(df_temp.info())\n",
    "\n",
    "df_temp['poverty_rate'] = pd.to_numeric(df_temp['poverty_rate'], errors='coerce')\n",
    "df_temp['poverty_rate'] = df_temp['poverty_rate'].fillna(df_temp['poverty_rate'].mean())\n",
    "print(df_temp.info())\n",
    "\n",
    "df_temp['percent_completed_hs'] = pd.to_numeric(df_temp['percent_completed_hs'], errors='coerce')\n",
    "df_temp['percent_completed_hs'] = df_temp['percent_completed_hs'].fillna(df_temp['percent_completed_hs'].mean())\n",
    "print(df_temp.info())\n",
    "\n",
    "df_temp"
   ],
   "metadata": {
    "collapsed": false,
    "pycharm": {
     "name": "#%%\n"
    }
   }
  },
  {
   "cell_type": "code",
   "execution_count": 563,
   "outputs": [
    {
     "name": "stdout",
     "output_type": "stream",
     "text": [
      "1534\n",
      "['Alatna CDP', 'Alcan Border CDP', 'Aleneva CDP', 'Attu Station CDP', 'Beluga CDP', 'Birch Creek CDP', 'Central CDP', 'Chase CDP', 'Chenega CDP', 'Chicken CDP', 'Chiniak CDP', 'Chisana CDP', 'Chistochina CDP', 'Chitina CDP', 'Clam Gulch CDP', 'Coldfoot CDP', 'Dot Lake CDP', 'Dry Creek CDP', 'Eagle Village CDP', 'Edna Bay CDP', '(X)', 'Eureka Roadhouse CDP', 'Excursion Inlet CDP', 'Ferry CDP', 'Flat CDP', 'Fort Greely CDP', 'Four Mile Road CDP', 'Game Creek CDP', 'Glennallen CDP', 'Gulkana CDP', 'Halibut Cove CDP', 'Healy Lake CDP', 'Hobart Bay CDP', 'Hope CDP', 'Hyder CDP', 'Ivanof Bay CDP', 'Kenny Lake CDP', 'Lake Louise CDP', 'Lime Village CDP', 'Livengood CDP', 'Loring CDP', 'Lowell Point CDP', 'Lutak CDP', 'McCarthy CDP', 'Mendeltna CDP', 'Mertarvik CDP', 'Nabesna CDP', 'Naukati Bay CDP', 'Oscarville CDP', 'Paxson CDP', '(X)', 'Petersburg city', 'Petersville CDP', 'Point Baker CDP', 'Point Possession CDP', 'Pope-Vannoy Landing CDP', 'Port Clarence CDP', 'Port Protection CDP', 'Portage Creek CDP', 'Prudhoe Bay CDP', 'Rampart CDP', 'Red Dog Mine CDP', 'Shageluk city', 'Sunrise CDP', 'Susitna CDP', 'Tolsona CDP', 'Tonsina CDP', 'Whale Pass CDP', 'Whitestone CDP', 'Whitestone Logging Camp CDP', 'Willow Creek CDP', 'Wiseman CDP', 'Benton town', '(X)', 'Boykin CDP', 'Bristow Cove CDP', 'Bucks CDP', 'Calvert CDP', 'Cardiff town', 'Carlton CDP', 'Catherine CDP', 'Chunchula CDP', '(X)', 'Cullomburg CDP', 'Dayton town', 'Deer Park CDP', 'Delta CDP', 'Fitzpatrick CDP', 'Hatton CDP', 'Hobson CDP', 'Hollins CDP', '(X)', 'Kimberly town', 'Lester town', '(X)', 'Macedonia CDP', 'Malcolm CDP', 'McMullen town', 'Megargel CDP', 'Memphis town', 'Mount Olive CDP (Coosa County)', 'Movico CDP', 'Nanafalia CDP', 'Natural Bridge town', 'Oak Hill town', 'Panola CDP', 'Pennington town', '(X)', 'Putnam CDP', 'Rock Mills CDP', 'Rockville CDP', '(X)', 'Spring Garden CDP', 'Spruce Pine CDP', '(X)', '(X)', 'Tibbie CDP', 'Vredenburgh town', 'Whatley CDP', 'Adona city', 'Aubrey town', '(X)', 'Bella Vista town', 'Big Flat town', 'Blue Eye town', 'Blue Mountain town', 'Cherokee City CDP', 'Coy town', 'Delaplaine town', 'Gilbert town', 'Hagarville CDP', 'Hensley CDP', '(X)', 'Hermitage town', 'Hiwasse CDP', 'Jerome town', '(X)', 'Magnet Cove town', 'Marie town', 'Maysville CDP', 'Midland town', 'New Edinburg CDP', 'Ola city', 'Reader CDP', 'Rye CDP', 'Scott CDP', '(X)', 'Tinsman town', 'Victoria town', 'Waldenburg town', 'Williford town', 'Woodlawn CDP', 'Ak Chin CDP', 'Alamo Lake CDP', 'Ali Chukson CDP', 'Ali Molina CDP', 'Alpine CDP', 'Anegam CDP', 'Arlington CDP', 'Aztec CDP', 'Bear Flat CDP', 'Beaver Valley CDP', 'Buckshot CDP', 'Campo Bonito CDP', 'Central CDP', 'Charco CDP', 'Chiawuli Tak CDP', 'Clay Springs CDP', 'Comobabi CDP', 'Concho CDP', 'Copper Hill CDP', 'Cowlic CDP', 'Cutter CDP', 'Del Muerto CDP', 'Flowing Springs CDP', 'Franklin CDP', 'Gadsden CDP', 'Geronimo Estates CDP', 'Grand Canyon West CDP', 'Greer CDP', 'Haigler Creek CDP', 'Haivana Nakya CDP', 'Hard Rock CDP', 'Hunter Creek CDP', 'Jakes Corner CDP', 'Kaka CDP', 'Keams Canyon CDP', 'Ko Vaya CDP', 'Kohatk CDP', 'Kohls Ranch CDP', 'Littlefield CDP', 'Low Mountain CDP', 'Lupton CDP', 'McConnico CDP', 'Mead Ranch CDP', 'Moccasin CDP', 'Mojave Ranch Estates CDP', 'Munds Park CDP', 'Nolic CDP', 'Nutrioso CDP', 'Oatman CDP', 'Oxbow Estates CDP', 'Palominas CDP', 'Pinal CDP', 'Pine Lake CDP', 'Rillito CDP', 'Rock House CDP', 'Roosevelt CDP', 'Rye CDP', 'Sacate Village CDP', 'Santa Cruz CDP', 'Sehili CDP', 'Seligman CDP', 'Summerhaven CDP', 'Sunwest CDP', 'Supai CDP', 'Tat Momoli CDP', 'Tonopah CDP', 'Topock CDP', 'Toyei CDP', 'Tusayan CDP', '(X)', 'Upper Santan Village CDP', 'Vaiva Vo CDP', 'Valentine CDP', 'Vernon CDP', 'Wahak Hotrontk CDP', 'Why CDP', 'Wide Ruins CDP', 'Willow Canyon CDP', 'Wittmann CDP', 'Woodruff CDP', 'Adin CDP', 'Albion CDP', 'Alleghany CDP', 'Almanor CDP', 'Aspen Springs CDP', '(X)', 'Avilla Beach CDP', 'Bear Creek CDP', 'Bear Valley CDP (Alpine County)', 'Bear Valley CDP (Mariposa County)', 'Beckwourth CDP', 'Belden CDP', 'Benton CDP', 'Big Bend CDP', 'Blairsden CDP', 'Bodega CDP', 'Boulevard CDP', 'Bowles CDP', 'Buck Meadows CDP', 'Bucks Lake CDP', 'Butte Meadows CDP', 'Butte Valley CDP', 'C-Road CDP', 'California Hot Springs CDP', 'California Pines CDP', 'Calpine CDP', 'Camp Nelson CDP', 'Canyondam CDP', 'Caribou CDP', 'Carmet CDP', 'Carrick CDP', 'Cassel CDP', 'Cedar Slope CDP', 'Centerville CDP', 'Cherokee CDP', 'Chilcoot-Vinton CDP', 'Chinese Camp CDP', 'Clio CDP', 'Clipper Mills CDP', 'Clyde CDP', 'Coarsegold CDP', 'Comptche CDP', '(X)', 'Coultervillle CDP', 'Courtland CDP', 'Crescent Mills CDP', 'Crestmore Heights CDP', 'Creston CDP', 'Daphnedale Park CDP', 'Darwin CDP', 'Delleker CDP', 'Dobbins CDP', 'Dorrington CDP', 'Downieville CDP', 'Eagleville CDP', 'East La Mirada CDP', '(X)', 'Eastvale CDP', '(X)', 'Edgewood CDP', 'El Rancho CDP', '(X)', 'Farmington CDP', 'Fields Landing CDP', 'Floriston CDP', 'Forbestown CDP', '(X)', 'Freeport CDP', 'Fulton CDP', 'Garey CDP', 'Glen Avon CDP', 'Gold Mountain CDP', 'Goodyears Bar CDP', 'Graniteville CDP', 'Groveland CDP', 'Guinda CDP', 'Hardwick CDP', 'Hartland CDP', 'Homewood Canyon CDP', 'Honcut CDP', '(X)', 'Hornitos CDP', 'Hyampom CDP', 'Idlewild CDP', 'Johannesburg CDP', 'Johnsville CDP', '(X)', 'Keeler CDP', 'Kennedy Meadows CDP', 'Kingvale CDP', 'Kirkwood CDP', 'La Porte CDP', 'Lake Almanor West CDP', 'Lake Davis CDP', 'Lake Hughes CDP', 'Lanare CDP', 'Lebec CDP', 'Lee Vining CDP', 'Leggett CDP', 'Likely CDP', 'Little Grass Valley CDP', 'Little River CDP', '(X)', 'Loma Mar CDP', 'Long Barn CDP', 'Lookout CDP', 'Mabie CDP', 'Martell CDP', 'McClenney Tract CDP', 'McGee Creek CDP', 'Middletown CDP', 'Midpines CDP', 'Minkler CDP', 'Mira Loma CDP', 'Mohawk Vista CDP', 'Mono City CDP', 'Monson CDP', 'Monterey Park Tract CDP', 'Mount Laguna CDP', 'Mountain Center CDP', 'Myers Flat CDP', 'Newell CDP', 'Nord CDP', 'Nubieber CDP', 'Oak Glen CDP', 'Oakville CDP', 'Olancha CDP', '(X)', 'Paxton CDP', 'Pearsonville CDP', 'Pedley CDP', 'Pescadero CDP', 'Philo CDP', 'Pierpoint CDP', 'Pike CDP', 'Ponderosa CDP', 'Posey CDP', 'Poso Park CDP', 'Prattville CDP', 'Proberta CDP', 'Rackerby CDP', 'Raisin City CDP', 'Robinson Mill CDP', 'Rodriguez Camp CDP', 'Romoland CDP', 'Round Mountain CDP', 'Rubidoux CDP', 'Salmon Creek CDP', 'Salton Sea Beach CDP', 'San Simeon CDP', 'Sattley CDP', 'Sequoia Crest CDP', 'Sereno del Mar CDP', 'Shackelford CDP', 'Shelter Cove CDP', 'Shoshone CDP', 'Silver City CDP', 'Soda Springs CDP', 'Spring Garden CDP', 'Stevinson CDP', 'Stirling City CDP', 'Storrie CDP', 'Strawberry CDP (Tuolumne County)', 'Sugarloaf Mountain Park CDP', 'Sugarloaf Saw Mill CDP', 'Sugarloaf Village CDP', 'Sunnyslope CDP', 'Sunset Beach CDP', 'Tecopa CDP', 'Three Rocks CDP', 'Tobin CDP', 'Tomales CDP', 'Tonyville CDP', 'Trona CDP', 'Trowbridge CDP', 'Tuttle CDP', 'Twain CDP', 'University of California Davis CDP', 'University of California Merced CDP', '(X)', '(X)', 'Valley Wells CDP', 'Verdi CDP', 'Victor CDP', 'Volcano CDP', 'Warner Valley CDP', 'Washington CDP', '(X)', 'Whitehawk CDP', 'Whitewater CDP', 'Wilsonia CDP', 'Winterhaven CDP', 'Yettem CDP', 'Alpine CDP', 'Amherst CDP', 'Blue Sky CDP', 'Bonanza town', 'Brandon CDP', 'Brick Center CDP', 'Campo town', 'Castle Pines CDP', 'Castle Pines North city', '(X)', '(X)', 'Cathedral CDP', 'Catherine CDP', 'Colona CDP', 'Conejos CDP', 'Cotopaxi CDP', 'Divide CDP', 'Eldora CDP', 'Fulford CDP', 'Garfield CDP', 'Glendale CDP', 'Gold Hill CDP', 'Grover town', 'Hartman town', 'Heeney CDP', 'Hidden Lake CDP', 'Idalia CDP', 'Johnson Village CDP', 'Laird CDP', 'Lakeside town', 'Leyner CDP', 'Lynn CDP', 'Maysville CDP', 'McCoy CDP', 'Moffat town', 'Mountain Meadows CDP', 'Mulford CDP', 'No Name CDP', 'Norrie CDP', 'Orchard CDP', 'Parshall CDP', 'Piedra CDP', 'Red Feather Lakes CDP', 'Redstone CDP', 'Redvale CDP', 'Rock Creek Park CDP', 'Rollinsville CDP', 'San Acacio CDP', 'Sawpit town', 'Seibert town', 'Seven Hills CDP', 'Trail Side CDP', 'Valdez CDP', 'Vernon CDP', 'Vineland CDP', 'Wolcott CDP', 'Cannondale CDP', 'Milford city', '(X)', 'Sharon CDP', '(X)', 'Woodside East CDP', 'Bascom town', 'Bay Lake city', 'Brewster CDP', 'Chokoloskee CDP', 'Cobbtown CDP', 'De Funiak Springs city', '(X)', 'Estero CDP', '(X)', 'Fidelis CDP', 'Fisher Island CDP', 'Fort Green CDP', 'Fort Green Springs CDP', 'Glen Ridge town', 'Goodland CDP', 'Islandia city', 'Istachatta CDP', 'Lake Harbor CDP', 'Lake Mack-Forest Hills CDP', 'Lakewood Gardens CDP', 'Lamont CDP', 'Lazy Lake village', 'Limestone CDP', 'Lisbon CDP', 'Marineland town', 'Mount Carmel CDP', 'Mulat CDP', 'Nobleton CDP', 'Okahumpka CDP', 'Ona CDP', 'Pine Island CDP', 'Pioneer CDP', 'Solana CDP', '(X)', 'Sumatra CDP', 'Tildenville CDP', 'Wabasso CDP', 'Waukeenah CDP', 'Weeki Wachee city', '(X)', 'Athens-Clarke County unified government', 'Augusta-Richmond County consolidated government', 'Bluffton town', 'Boykin CDP', '(X)', 'Canoochee CDP', 'Cedar Springs CDP', 'Coleman CDP', 'Eagle Grove CDP', 'Helena city', 'Howard CDP', 'Knoxville CDP', 'Macon city', '(X)', 'McRae city', '(X)', 'Mendes CDP', 'Mineral Bluff CDP', 'North Atlanta CDP', '(X)', 'Perkins CDP', 'Riddleville town', 'Riverside town', 'Rockingham CDP', 'Sautee Nacoochee CDP', '(X)', 'Tarrytown town', 'Tate City CDP', 'Yonah CDP', '(X)', 'Kalaeloa CDP', 'Kapalua CDP', 'Manele CDP', \"Ualapu'e CDP\", '(X)', 'Anderson CDP', 'Athelstan CDP', 'Bartlett CDP', 'Beaconsfield city', 'Bolan CDP', 'Burchinal CDP', 'California Junction CDP', 'Carpenter city', 'Chapin CDP', 'Chatsworth city', 'Corley CDP', 'Duncan CDP', 'East Amana CDP', 'Frytown CDP', 'Galt city', 'Garden City CDP', 'Gillett Grove city', 'Hayfield CDP', 'Hepburn city', 'Holiday Lake CDP', 'Hutchins CDP', 'Imogene city', 'Irvington CDP', 'Kent CDP', 'Le Roy city', 'Leando CDP', 'Loveland CDP', 'Meyer CDP', 'Miller CDP', 'Millville city', '(X)', 'Mount Sterling city', 'Otranto CDP', 'Percival CDP', 'Pioneer city', 'Popejoy city', 'Portland CDP', 'Rochester CDP', 'Roseville CDP', 'Sexton CDP', 'Sun Valley Lake CDP', 'West Amana CDP', 'Weston CDP', 'Yetter city', 'Acequia city', 'Banks CDP', 'Clayton city', 'Donnelly city', 'Drummond city', 'Elk City CDP', 'Hidden Spring CDP', '(X)', 'Lost River city', 'Lowman CDP', 'Minidoka city', 'Smiths Ferry CDP', 'State Line city', 'Warm River city', 'Yellow Pine CDP', 'Adair CDP', 'Annapolis CDP', 'Belknap village', '(X)', 'Cantrall village', 'Chemung CDP', 'Darmstadt CDP', 'Floraville CDP', '(X)', 'Garden Prairie village', 'Gilson CDP', 'Golden Gate village', 'Kaskaskia village', 'LaPlace CDP', 'Mulkeytown CDP', 'Paderborn CDP', 'Phillipstown village', 'Rentchler CDP', 'Valley City village', '(X)', 'Whiteash village', 'Alamo town', 'Arlington CDP', 'Blanford CDP', 'Boston town', 'Brooksburg town', 'Buck Creek CDP', 'Butlerville CDP', 'Canaan CDP', 'Coalmont CDP', 'Collegeville CDP', 'Deputy CDP', 'Dover Hill CDP', 'Dresser CDP', 'Emison CDP', '(X)', 'Fredericksburg town', 'Freetown CDP', 'Herbst CDP', 'Indian Heights CDP', 'Indianapolis city', 'Kent CDP', 'Landess CDP', 'Notre Dame CDP', 'Otwell CDP', 'Owensburg CDP', 'Purdue University CDP', 'Raglesville CDP', 'River Forest town', 'Saltillo town', 'Scipio CDP', 'Scotland CDP', 'Shelby CDP', 'Sims CDP', 'Toad Hop CDP', '(X)', 'Westfield town', 'Asherville CDP', 'Bartlett city', 'Bassett city', 'Catharine CDP', 'Cedar Point city', 'Coyville city', 'Frederick city', 'Freeport city', 'Gaylord city', 'Goff city', 'Grantville CDP', '(X)', '(X)', 'Harris CDP', 'Hillsdale CDP', 'Home CDP', 'Hunnewell city', 'Huron city', 'Kickapoo Site 6 CDP', 'Kipp CDP', 'Liberty city', 'Lone Elm city', 'Longford city', 'Milton CDP', 'Morland city', 'New Albany city', 'Odin CDP', 'Penalosa city', 'Roxbury CDP', 'Scottsville city', 'Sun City city', 'Treece city', 'Waldron city', 'Welda CDP', '(X)', 'Allen city', 'Annville CDP', '(X)', '(X)', 'Beech Grove CDP', '(X)', 'Betsy Layne CDP', '(X)', 'Blandville city', 'Cecilia CDP', '(X)', 'Coldiron CDP', '(X)', 'Concord city', '(X)', '(X)', 'Diablock CDP', 'Dycusburg city', 'Elizaville CDP', 'Farmington CDP', 'Foster city', 'Freeburn CDP', 'Gilbertsville CDP', 'Gracey CDP', '(X)', '(X)', 'Jeff CDP', 'Louisville/Jefferson County metro government', 'Lowes CDP', 'Manitou CDP', 'Marrowbone CDP', '(X)', '(X)', 'Millstone CDP', 'Onton CDP', 'Petersburg CDP', '(X)', '(X)', 'Rockholds CDP', 'Rosine CDP', 'South Park View city', 'Spottsville CDP', 'Summersville CDP', 'Tolu CDP', '(X)', 'Virgie CDP', 'Warfield city', 'Woodbury city', '(X)', 'Branch CDP', 'Calhoun CDP', 'Convent CDP', 'Fifth Ward CDP', 'Gloster CDP', 'Killona CDP', 'Lisbon village', 'Longville CDP', 'Monterey CDP', 'Moonshine CDP', 'Mount Lebanon town', 'Oak Ridge village', 'Rock Hill CDP', 'St. Maurice CDP', 'Sugartown CDP', 'Taft CDP', 'Wallace CDP', 'Wallace Ridge CDP', '(X)', 'Groton CDP', '(X)', 'Popponesset Island CDP', 'Seconsett Island CDP', 'Siasconset CDP', 'Southfield CDP', 'Allen CDP', 'Bakersville CDP', 'Barrelville CDP', 'Beaver Creek CDP', 'Bier CDP', 'Big Pool CDP', 'Brownsville CDP', 'Cearfoss CDP', 'Clarysville CDP', 'Dames Quarter CDP', 'Danville CDP', 'Detmold CDP', 'Eakles Mill CDP', 'Edesville CDP', 'Ernstville CDP', 'Fairlee CDP', 'Fairview CDP', 'Flintstone CDP', 'Franklin CDP', 'Frenchtown-Rumbly CDP', 'Gapland CDP', 'Georgetown CDP', 'Gorman CDP', 'Hutton CDP', 'Indian Springs CDP', 'Jesterville CDP', 'Little Orleans CDP', 'Madison CDP', 'Mapleville CDP', 'Mercersville CDP', 'Middleburg CDP', 'Moscow CDP', 'Nanticoke Acres CDP', 'National CDP', 'Ocean CDP', 'Oldtown CDP', 'Port Tobacco Village town', 'Quantico CDP', 'Queenland CDP', '(X)', 'Reid CDP', 'Ringgold CDP', 'Rohrersville CDP', 'Sabillasville CDP', 'Sandy Hook CDP', 'Spring Gap CDP', 'St. George Island CDP', 'Swanton CDP', 'Trego-Rohrersville Station CDP', 'Waterview CDP', 'Whitehaven CDP', 'Woodland CDP', 'Worton CDP', 'Yarrowsburg CDP', '(X)', 'Gray CDP', 'Sanford CDP', '(X)', 'South Sanford CDP', 'Springvale CDP', '(X)', 'Caro village', '(X)', 'Caseville village', 'Cedar CDP', 'Conway CDP', 'Crystal Downs Country Club CDP', 'Interlochen CDP', 'Jennings CDP', '(X)', 'Jonesville village', 'Maple Grove CDP', 'Nessen City CDP', 'Aldrich city', 'Angle Inlet CDP', 'Barry city', 'Brook Park city', 'Correll city', 'Donaldson city', 'Elbow Lake CDP', 'Elkton city', 'Fort Ripley city', 'Johnson city', 'Kenneth city', 'Kinbrae city', 'Louisburg city', 'Lutsen CDP', 'Manhattan Beach city', 'McGrath city', 'Nassau city', 'Oakport CDP', 'Pine Bend CDP', 'Roy Lake CDP', 'Taopi city', 'Tenney city', 'The Ranch CDP', 'Thomson city', 'Whalan city', 'Allendale village', 'Amity town', 'Arrow Rock town', 'Ashburn town', 'Baker village', 'Baldwin Park village', 'Bennett Springs CDP', 'Biehle CDP', 'Big Spring CDP', 'Bigelow village', 'Blairstown city', 'Cave town', '(X)', 'Commerce village', 'Corning town', 'Eagle Rock CDP', 'Excello CDP', 'Florida village', 'Fortescue town', 'Franklin city', 'Gerster town', 'Goodnight village', 'Goss town', 'Grand Pass village', 'Hartwell CDP', 'Harviell CDP', 'Harwood village', 'Hayward CDP', 'Hunter CDP', 'Huntsdale town', 'Irwin CDP', '(X)', 'Lakeside city', 'Lambert village', 'Lock Springs village', '(X)', 'Macks Creek city', 'McBaine town', 'Merwin village', 'Montier CDP', '(X)', 'Osgood village', 'Oxly CDP', 'Peaceful Village village', 'Phelps City CDP', 'Pinhook village', 'Plevna CDP', 'Randolph village', '(X)', 'Rayville village', 'River Bend village', 'Shoal Creek Estates village', 'Silex village', 'Silver Creek village', 'South Gifford village', 'St. George city', 'Stotts City city', 'Tarrants village', 'Thomasville CDP', 'Three Creeks village', 'Truxton village', 'Wasola CDP', 'Weingarten CDP', 'Whiteside village', 'Wooldridge village', 'Alcorn State University CDP', 'Bogue Chitto CDP (Lincoln County)', 'Braxton village', 'Buckatunna CDP', 'Clara CDP', 'Diamondhead CDP', '(X)', 'Eden village', '(X)', 'Florence town', 'Gattman village', 'Henderson Point CDP', 'Holcomb CDP', 'Kearney Park CDP', 'Louise town', 'Marietta town', 'Mooresville CDP', '(X)', 'Morgan City town', 'Nellieburg CDP', 'North Tunica CDP', 'Rawls Springs CDP', 'Standing Pine CDP', 'Tillatoba town', 'Walthall village', 'Antelope CDP', 'Babb CDP', 'Belknap CDP', 'Birney CDP', 'Box Elder CDP', 'Boyd CDP', 'Bridger CDP', 'Butte-Silver Bow', 'Camas CDP', 'Conner CDP', 'Crane CDP', 'De Borgia CDP', 'Elkhorn CDP', 'Fort Smith CDP', 'Gildford CDP', 'Happys Inn CDP', 'Hebgen Lake Estates CDP', 'Hungry Horse CDP', 'Huntley CDP', 'Huson CDP', 'Indian Springs CDP', 'Inverness CDP', 'Jardine CDP', 'Knife River CDP', 'Lake Mary Ronan CDP', 'Lewistown Heights CDP', 'Logan CDP', 'Martinsdale CDP', 'Midvale CDP', 'Musselshell CDP', 'Niarada CDP', 'Noxon CDP', 'Radersburg CDP', 'Riverbend CDP', 'Rocky Point CDP', 'Rollins CDP', 'Roscoe CDP', 'Rosebud CDP', 'Santa Rita CDP', '(X)', 'South Glastonbury CDP', 'Springdale CDP', 'Springhill CDP', 'St. Xavier CDP', 'Starr School CDP', 'Stryker CDP', 'Winston CDP', 'Zortman CDP', 'Aquadale CDP', 'Bell Arthur CDP', 'Bennett CDP', 'Blue Clay Farms CDP', 'Bonnetsville CDP', 'Bowmore CDP', 'Caroleen CDP', 'Cashiers CDP', 'Chimney Rock Village village', 'Dellview town', 'Delway CDP', 'Dundarrach CDP', 'Engelhard CDP', 'Evergreen CDP', 'Falkland town', '(X)', 'Frisco CDP', 'Gerton CDP', 'Glenville CDP', 'Gulf CDP', 'Hiddenite CDP', '(X)', 'High Shoals town', 'Hillsdale CDP', 'Hobucken CDP', 'Marble CDP', 'Middleburg town', 'Pinnacle CDP', 'Potters Hill CDP', 'Rex CDP', 'Rodanthe CDP', 'Rougemont CDP', 'Salvo CDP', 'Shannon CDP', 'Stokes CDP', 'Wakulla CDP', 'Waves CDP', 'Ambrose city', 'Antler city', 'Ardoch city', 'Arnegard city', 'Auburn CDP', 'Balfour city', 'Balta city', 'Barton CDP', 'Bergen city', 'Blanchard CDP', 'Braddock city', 'Briarwood city', 'Brinsmade city', 'Brooktree Park CDP', 'Caledonia CDP', 'Calio city', 'Canton City city', 'Cathay city', 'Churchs Ferry city', 'Clifford city', 'Dahlen CDP', 'Denhoff CDP', 'Dodge city', 'Elliott city', 'Embden CDP', 'Englevale CDP', 'Erie CDP', 'Fortuna city', 'Grano city', 'Hamberg city', 'Hansboro city', 'Heil CDP', 'Heimdal CDP', 'Jessie CDP', 'Kief city', 'Larson CDP', 'Leal city', 'Logan CDP', 'Loma city', 'Loraine city', 'Luverne city', 'McLeod CDP', 'Monango city', 'Nash CDP', 'Oriska city', 'Orrin CDP', 'Perth city', 'Raleigh CDP', 'Robinson city', 'Ruso city', 'Ryder city', 'Sarles city', 'Selz CDP', 'Sentinel Butte city', 'Sibley city', 'Spiritwood CDP', 'Sutton CDP', 'Tolley city', 'York city', 'Ypsilanti CDP', 'Zeeland city', 'Anoka village', 'Aten CDP', 'Barada village', 'Belgrade village', 'Berea CDP', 'Bloomington village', 'Bow Valley CDP', 'Brewster village', 'Brownlee CDP', 'Brunswick village', 'Champion CDP', 'Clinton village', 'Cordova village', 'Enders CDP', 'Fontanelle CDP', 'Gandy village', 'Gilead village', 'Gross village', 'Holbrook village', 'Holmesville CDP', 'King Lake CDP', 'Lemoyne CDP', 'Lorenzo CDP', 'Loretto CDP', 'Max CDP', 'Merriman village', 'Monowi village', 'Moorefield village', 'Parks CDP', 'Poole CDP', 'Raeville CDP', 'Roscoe CDP', 'Sarben CDP', 'Stockham village', 'Stockville village', 'Verdel village', 'Westerville CDP', 'White Clay CDP', 'Whitney village', 'Willow Island CDP', 'Blodgett Landing CDP', 'Center Ossipee CDP', 'Charlestown CDP', 'Milton Mills CDP', '(X)', 'Suissevale CDP', 'Union CDP', 'Allamuchy CDP', 'Bridgeville CDP', 'Buttzville CDP', 'Highland Lake CDP', '(X)', 'Johnsonburg CDP', 'Pine Valley borough', 'Port Colden CDP', 'Port Murray CDP', '(X)', 'Princeton borough', 'Ross Corner CDP', 'Tavistock borough', 'Zarephath CDP', 'Abeytas CDP', 'Abiquiu CDP', 'Anthony CDP', '(X)', 'Anton Chico CDP', 'Apache Creek CDP', 'Aragon CDP', 'Arroyo Hondo CDP', 'Bent CDP', 'Bibo CDP', 'Blanco CDP', 'Bluewater Village CDP', 'Brazos CDP', 'Ca_ones CDP', 'Caballo CDP', 'Canova CDP', 'Cedro CDP', 'Chamizal CDP', 'Chili CDP', 'Chilili CDP', 'City of the Sun CDP', 'Cliff CDP', 'Cobre CDP', 'Conchas Dam CDP', 'Costilla CDP', 'Coyote CDP', 'Cruzville CDP', 'Cuartelez CDP', 'Cundiyo CDP', 'Dixon CDP', 'Duran CDP', 'El Duende CDP', 'Encinal CDP', 'Encino village', 'Ensenada CDP', 'Escondida CDP', 'Escudilla Bonita CDP', '(X)', 'Espanola city', 'Fence Lake CDP', 'Galisteo CDP', 'Gallina CDP', 'Garfield CDP', 'Glenwood CDP', 'Glorieta CDP', 'Golden CDP', 'Hanover CDP', 'Hillsboro CDP', 'Homestead CDP', 'Hope village', 'Hot Springs Landing CDP', 'House village', 'Kingston CDP', 'La Jara CDP', 'La Joya CDP', 'La Madera CDP', 'La Plata CDP', 'Lake Roberts CDP', 'Lake Roberts Heights CDP', 'Lake Sumner CDP', 'Las Palomas CDP', 'Lemitar CDP', 'Llano del Medio CDP', 'Loco Hills CDP', 'Los Ojos CDP', 'Lower Frisco CDP', 'Lumberton CDP', 'Luna CDP', 'Lyden CDP', 'Manzano CDP', 'Manzano Springs CDP', 'Mayhill CDP', 'McCartys Village CDP', 'Mesquite CDP', 'Mimbres CDP', 'Monument CDP', 'Moquino CDP', 'Mountain View CDP', 'Newkirk CDP', 'Nogal CDP', 'North San Ysidro CDP', 'Oasis CDP', 'Organ CDP', 'Pastura CDP', 'Pecan Park CDP', 'Pinon CDP', 'Pinos Altos CDP', 'Playas CDP', 'Pueblo CDP', 'Pueblo Pintado CDP', 'Pulpotio Bareas CDP', 'Quemado CDP', 'Regina CDP', 'Rincon CDP', 'Rio en Medio CDP', 'Rivers CDP', 'Rosedale CDP', 'Sacramento CDP', 'Salem CDP', 'San Acacia CDP', 'San Antonio CDP', 'San Cristobal CDP', 'San Fidel CDP', 'San Lorenzo CDP', 'San Luis CDP', 'Seboyeta CDP', 'Sena CDP', 'Soham CDP', 'Sombrillo CDP', 'South Acomita Village CDP', 'Sunshine CDP', 'Tajique CDP', 'Taos Ski Valley village', 'Tecolotito CDP', 'Tierra Amarilla CDP', 'Timberon CDP', 'Torreon CDP (Torrance County)', 'Trout Valley CDP', 'Tse Bonito CDP', 'Twin Forks CDP', 'Ute Park CDP', 'Velarde CDP', 'Villanueva CDP', 'Watrous CDP', 'Weed CDP', 'Whites City CDP', 'Windmill CDP', 'Winston CDP', 'Yah-ta-hey CDP', 'Young Place CDP', 'Austin CDP', 'Beaverdam CDP', 'Bennett Springs CDP', 'Blue Diamond CDP', 'Denio CDP', 'Dry Valley CDP', 'Empire CDP', 'Gabbs CDP', 'Glenbrook CDP', 'Goodsprings CDP', 'Humboldt River Ranch CDP', 'Imlay CDP', 'Lamoille CDP', 'Logan Creek CDP', 'McDermitt CDP', 'Mina CDP', 'Montello CDP', 'Mount Wilson CDP', 'Nelson CDP', 'Oasis CDP', 'Orovada CDP', 'Paradise Valley CDP', 'Pioche CDP', 'Preston CDP', 'Rachel CDP', '(X)', '(X)', 'Ursine CDP', 'Valmy CDP', 'Binghamton University CDP', '(X)', 'Bridgewater village', '(X)', '(X)', 'Dering Harbor village', 'Duanesburg CDP', '(X)', 'East Randolph village', '(X)', 'Edwards village', 'Fishers Landing CDP', 'High Falls CDP', '(X)', 'Limestone village', 'Linwood CDP', '(X)', 'Mastic Beach CDP', '(X)', 'Natural Bridge CDP', 'New Suffolk CDP', 'Oak Beach-Captree CDP', 'Oxbow CDP', 'Parc CDP', 'Paul Smiths CDP', '(X)', 'Perrysburg village', 'Pottersville CDP', '(X)', 'Randolph village', 'Redford CDP', 'SUNY Oswego CDP', 'Schenevus CDP', '(X)', 'Seneca Falls village', 'Smithville Flats CDP', '(X)', '(X)', 'Tuscarora CDP', 'University at Buffalo CDP', '(X)', 'Wadsworth CDP', 'Watchtower CDP', 'Websters Crossing CDP', '(X)', 'Austinburg CDP', 'Bourneville CDP', 'Brownsville CDP', '(X)', 'Canal Winchester village', 'Carbon Hill CDP', 'Carlisle city', '(X)', 'Castine village', '(X)', 'Crestline city', '(X)', 'Crystal Rock CDP', 'Cynthiana CDP', 'Darbydale CDP', 'Dola CDP', 'East Palestine city', '(X)', 'East Rochester CDP', '(X)', 'Elizabethtown CDP', 'Flat Rock CDP', '(X)', 'Fort Shawnee village', 'Fresno CDP', 'Friendship CDP', '(X)', 'Germantown village', '(X)', 'Greenfield city', '(X)', '(X)', 'Groveport village', 'Harbor View village', 'Hockingport CDP', 'Jacksonburg village', 'Kansas CDP', 'Kilbourne CDP', 'Kunkle CDP', '(X)', 'Little Hocking CDP', 'Macksburg village', '(X)', 'McDermott CDP', 'Miamiville CDP', 'Minford CDP', '(X)', '(X)', '(X)', 'New Albany village', 'Newton Falls city', '(X)', 'Oceola CDP', 'Olde West Chester CDP', '(X)', 'Orient village', 'Pancoastburg CDP', '(X)', 'Plainville CDP', 'Raymond CDP', 'Remington CDP', 'Rendville village', 'Rockbridge CDP', 'Rocky Fork Point CDP', 'Rome village', '(X)', 'Silverton city', '(X)', 'St Johns CDP', 'St. Bernard city', '(X)', '(X)', '(X)', 'St. Martin village', 'Stockdale CDP', 'Sulphur Springs CDP', 'Twinsburg Heights CDP', '(X)', 'Waterford CDP', '(X)', 'Waterville village', 'Waverly City city', '(X)', '(X)', 'Wightmans Grove CDP', 'Arcadia town', 'Bison CDP', 'Blackburn town', 'Blackgum CDP', '(X)', 'Brush Creek CDP', 'Bull Hollow CDP', '(X)', 'Byron town', 'Capron town', 'Cardin town', '(X)', 'Chewey CDP', '(X)', '(X)', '(X)', 'Cooperton town', 'Deer Lick CDP', 'Dennis CDP', 'Douglas town', 'Dwight Mission CDP', 'Erin Springs town', 'Fallis town', 'Foraker town', 'Foss town', 'Gideon CDP', '(X)', 'Grainola town', 'Hickory town', 'Hitchita town', 'Hollister town', 'Hoot Owl town', 'IXL town', 'Indianola CDP', 'Iron Post CDP', 'Isabella CDP', 'Knowles town', 'Lambert town', '(X)', '(X)', 'Liberty town', 'Lotsee town', 'Loveland town', 'Lucien CDP', 'Marietta CDP', '(X)', 'McLoud town', '(X)', 'Nardin CDP', 'New Woodville town', 'Oak Grove town', 'Old Eucha CDP', '(X)', 'Picher city', '(X)', 'Pocasset town', 'Proctor CDP', 'Putnam town', 'Renfrow town', 'Rosston town', 'Salem CDP', 'Shady Grove CDP (McIntosh County)', 'Shady Grove town', 'Shamrock town', 'Steely Hollow CDP', 'Stidham town', 'Sugden town', 'Texola town', '(X)', 'White Water CDP', 'Wickliffe CDP', 'Yeager town', 'Alpine CDP', '(X)', 'Beaver CDP', 'Bellfountain CDP', 'Biggs Junction CDP', 'Blodgett CDP', 'Butteville CDP', 'Cascadia CDP', 'Crabtree CDP', 'Eola CDP', 'Fruitdale CDP', 'Government Camp CDP', 'Granite city', 'Greenhorn city', 'Juntura CDP', 'Langlois CDP', 'Marion CDP', 'Neahkahnie CDP', \"O'Brien CDP\", 'Peoria CDP', 'Pistol River CDP', 'Pronghorn CDP', 'Rickreall CDP', 'Rowena CDP', 'Shaniko city', 'Shedd CDP', 'Summit CDP', 'Takilma CDP', 'Tetherow CDP', 'Trail CDP', 'Wallowa Lake CDP', 'West Scio CDP', 'Albrightsville CDP', 'Alfarata CDP', 'Allport CDP', 'Arcadia University CDP', 'Barrville CDP', 'Baumstown CDP', 'Boston CDP', 'Buffington CDP', 'Centralia borough', 'Chalkhill CDP', 'Cheyney University CDP', 'Colver CDP', 'Crown CDP', 'DeSales University CDP', 'Dunlo CDP', 'Eagle Lake CDP', 'East Rutherford CDP', '(X)', 'Edenborn CDP', 'Elrama CDP', 'Eyers Grove CDP', 'Fernway CDP', 'Flora Dale CDP', 'Fort Indiantown Gap CDP', 'Foundryville CDP', 'Fox Run CDP', 'Grapeville CDP', 'Hookstown borough', 'Hublersburg CDP', 'Kerrtown CDP', 'Kiskimere CDP', 'Kutztown University CDP', '(X)', 'Latrobe city', 'Lincoln University CDP', 'Little Britain CDP', 'Mainville CDP', 'Mapletown CDP', 'Messiah College CDP', 'Monument CDP', 'Muir CDP', 'Naomi CDP', 'New Washington borough', 'Noblestown CDP', 'Northwood CDP', 'Orviston CDP', 'Penn State Erie (Behrend) CDP', 'Pomeroy CDP', 'Potlicker Flats CDP', 'Refton CDP', 'Rehrersburg CDP', 'Ronco CDP', 'Sandy Ridge CDP', 'Slippery Rock University CDP', 'Slovan CDP', 'St. Michael CDP', 'St. Vincent College CDP', 'Strong CDP', 'Timber Hills CDP', 'Union Deposit CDP', 'University of Pittsburgh Johnstown CDP', 'Utica borough', 'Valley-Hi borough', 'Van Voorhis CDP', 'Vowinckel CDP', 'Westland CDP', '(X)', 'Woxhall CDP', '(X)', 'Foster Center CDP', '(X)', 'Bradley CDP', 'Cokesbury CDP', 'Cope town', 'Coronaca CDP', 'Cross Anchor CDP', 'Fingerville CDP', 'Govan town', 'Gramling CDP', 'Islandton CDP', '(X)', 'Oswego CDP', 'Pawleys Island town', 'Peak town', 'Princeton CDP', 'Sellers town', 'Sycamore town', 'Tigerville CDP', 'Ulmer town', 'Akaska town', 'Andover town', 'Artas town', 'Ashland Heights CDP', 'Bath Corner CDP', 'Bijou Hills CDP', 'Brentford town', '(X)', 'Cottonwood town', 'Cow Creek CDP', 'Crocker CDP', 'Draper town', 'Farmer town', 'Fedora CDP', 'Ferney CDP', 'Forestburg CDP', 'Gann Valley CDP', 'Garden City town', 'Green Grass CDP', 'Hamill CDP', 'Hillsview town', 'Kidder CDP', 'Lake City town', 'Lebanon town', 'Lily town', 'Long Hollow CDP', 'Loomis CDP', 'Lowry town', 'Milltown CDP', 'Morningside CDP', 'Naples town', 'New Holland CDP', 'Okaton CDP', 'Ola CDP', 'Onaka town', 'Prairie City CDP', 'Ravinia town', 'Ree Heights town', 'Renner Corner CDP', '(X)', 'Roswell town', 'Running Water CDP', 'Sinai town', 'Spring Creek CDP', 'St. Onge CDP', 'Stockholm town', 'Storla CDP', 'Two Strike CDP', 'Verdon town', 'Waverly CDP', 'Wetonka town', 'White Horse CDP', 'White Rock town', 'Wood town', 'Wounded Knee CDP', 'Banner Hill CDP', 'Bethpage CDP', 'Bowman CDP', 'Bransford CDP', '(X)', 'Hickory Valley town', '(X)', 'Iron City city', 'Lakewood city', 'Nashville-Davidson metropolitan government', '(X)', 'Walnut Grove CDP (Hardin County)', 'Wrigley CDP', 'Aguilares CDP', 'Alfred CDP', 'Alice Acres CDP', 'Amada Acres CDP', 'Amargosa CDP', 'Amistad CDP', 'Anacua CDP', 'Arroyo Colorado Estates CDP', 'Arroyo Gardens CDP', 'Barrera CDP', 'Benjamin Perez CDP', 'Bigfoot CDP', 'Blue Berry Hill CDP', 'Bonanza Hills CDP', 'Botines CDP', 'Box Canyon CDP', 'Brundage CDP', 'Buena Vista CDP', 'Butterfield CDP', '(X)', '(X)', 'Campo Verde CDP', 'Casa Blanca CDP', 'Casas CDP', 'Catarina CDP', 'Cesar Chavez CDP', 'Chaparrito CDP', 'Chapeno CDP', 'Chula Vista CDP (Cameron County)', 'Colorado Acres CDP', 'Corral City town', 'Country Acres CDP', '(X)', 'Coyote Acres CDP', 'Coyote Flats CDP', '(X)', 'Cuevitas CDP', 'Damon CDP', 'Dorchester city', '(X)', 'East Alto Bonito CDP', 'East Lopez CDP', 'Edmonson town', 'El Brazil CDP', 'El Castillo CDP', 'El Cenizo CDP', 'El Chaparral CDP', 'El Indio CDP', 'El Mesquite CDP', 'El Rancho Vela CDP', 'El Refugio CDP', 'El Socio CDP', 'Elbert CDP', 'Elias-Fela Solis CDP', 'Escobar I CDP', 'Eugenio Saenz CDP', 'Evergreen CDP', 'Falcon Heights CDP', 'Falcon Village CDP', 'Falconaire CDP', 'Fernando Salinas CDP', 'Flor del Rio CDP', 'Flowella CDP', 'Four Points CDP', 'Fowlerton CDP', 'Fronton CDP', 'Fronton Ranchettes CDP', 'Garceno CDP', 'Garciasville CDP', 'Girard CDP', 'Grand Acres CDP', 'Green Valley Farms CDP', '(X)', 'Guadalupe-Guerra CDP', 'Guerra CDP', 'Gutierrez CDP', 'H. Cuellar Estates CDP', 'Hedley city', 'Hillside Acres CDP', 'Hilltop CDP (Starr County)', 'Hungerford CDP', 'Indian Springs CDP', 'Indio CDP', 'Ivanhoe North city', '(X)', 'JF Villarreal CDP', 'Jardin de San Julian CDP', 'Jollyville CDP', 'La Carla CDP', 'La Casita CDP', 'La Chuparosa CDP', 'La Coma CDP', 'La Escondida CDP', 'La Esperanza CDP', 'La Feria North CDP', 'La Loma de Falcon CDP', 'La Paloma Addition CDP', 'La Rosita CDP', 'Lago CDP', 'Lake Meredith Estates CDP', 'Lake View CDP', 'Laredo Ranchettes CDP', 'Laredo Ranchettes West CDP', 'Las Haciendas CDP', 'Las Palmas CDP', 'Las Pilas CDP', 'Lolita CDP', 'Loma Grande CDP', 'Loma Linda CDP', 'Loma Linda East CDP (Starr County)', 'Loma Linda West CDP', 'Longoria CDP', 'Lope_o CDP', 'Los Altos CDP', 'Los Alvarez CDP', 'Los Angeles CDP', 'Los Arcos CDP', 'Los Arrieros CDP', 'Los Centenarios CDP', 'Los Corralitos CDP', 'Los Fresnos CDP', 'Los Huisaches CDP', 'Los Lobos CDP', 'Los Minerales CDP', 'Los Nopalitos CDP', 'Los Veteranos I CDP', 'Los Veteranos II CDP', 'Los Ybanez city', 'Lozano CDP', 'Lueders city', 'Manuel Garcia CDP', 'Manuel Garcia II CDP', 'Markham CDP', 'Martinez CDP', 'Mentone CDP', 'Mesquite CDP', 'Mi Ranchito Estate CDP', 'Moore CDP', 'Moraida CDP', 'Morales-Sanchez CDP', 'Mustang town', 'Narciso Pena CDP', 'Nesbitt town', 'Netos CDP', 'Neylandville town', 'Nina CDP', 'Normanna CDP', 'North Escobares CDP', 'Northridge CDP', \"O'Brien city\", 'Old Escobares CDP', 'Olivia Lopez de Gutierrez CDP', 'Olmito and Olmito CDP', 'Owl Ranch CDP', 'Pablo Pena CDP', 'Paisano Park CDP', 'Pena CDP', 'Porter Heights CDP', 'Providence CDP', '(X)', 'Pueblo East CDP', 'Quail CDP', 'Quesada CDP', 'Rafael Pena CDP', 'Ramireno CDP', 'Ramirez-Perez CDP', 'Ramos CDP', 'Ranchette Estates CDP', 'Ranchitos Del Norte CDP', 'Ranchitos Las Lomas CDP', '(X)', 'Rancho Banquete CDP', 'Rancho Chico CDP', 'Rancho Viejo CDP', 'Rangerville village', 'Ratamosa CDP', 'Redford CDP', 'Relampago CDP', 'Ricardo CDP', 'Rivera CDP', 'Rivereno CDP', 'Rocky Mound town', 'Roma Creek CDP', 'Saline_o North CDP', 'Samnorwood CDP', 'San Carlos I CDP', 'San Carlos II CDP', 'San Elizario CDP', '(X)', '(X)', 'San Saba town', 'Sandia CDP', 'Sandoval CDP', '(X)', 'Santa Anna CDP', 'Santa Cruz CDP', 'Santa Monica CDP', 'Santel CDP', 'St. Paul CDP', 'Stonewall CDP', 'Sun Valley city', 'Sunset Acres CDP', 'Sunset CDP (Starr County)', 'Tanquecitos South Acres CDP', 'Tanquecitos South Acres II CDP', 'Thompsons town', 'Thompsonville CDP', 'Tierra Dorada CDP', 'Toco city', 'Toyah town', 'Tradewinds CDP', 'Tulsita CDP', 'Uncertain city', 'Valentine town', 'Valle Hermoso CDP', 'Valle Verde CDP', 'Valle Vista CDP', 'Victoria Vera CDP', 'Villa del Sol CDP', 'Villarreal CDP', 'West Alto Bonito CDP', 'Westminster CDP', 'Windemere CDP', 'Windom town', 'Yznaga CDP', 'Zarate CDP', 'Beryl Junction CDP', 'Bluff CDP', 'Bonanza CDP', 'Brian Head town', 'Cache CDP', 'Clear Creek CDP', 'Dammeron Valley CDP', 'East Carbon city', '(X)', 'Elberta CDP', 'Fremont CDP', 'Garden CDP', 'Halls Crossing CDP', 'Independence town', 'Kenilworth CDP', 'La Sal CDP', 'Mexican Hat CDP', 'Oasis CDP', 'Ophir town', 'Pine Valley CDP', 'Randlett CDP', 'Spanish Valley CDP', 'Summit CDP', 'Sunnyside city', 'Thompson Springs CDP', '(X)', 'Toquerville town', 'Wanship CDP', 'White Mesa CDP', 'Amelia Court House CDP', 'Baskerville CDP', 'Bedford city', '(X)', 'Belspring CDP', 'Clinchport town', 'Columbia town', 'Cumberland CDP', 'Dante CDP', 'Deep Creek CDP', 'Draper CDP', 'Ewing CDP', 'Fairview CDP', 'Greenbackville CDP', 'Greenbush CDP', 'Harborton CDP', 'Hiwassee CDP', 'Horntown CDP', 'Ivanhoe CDP', 'King William CDP', 'King and Queen Court House CDP', '(X)', 'Low Moor CDP', 'Lunenburg CDP', 'McMullin CDP', 'Metompkin CDP', 'Middlebrook CDP', 'Modest Town CDP', 'Mount Sidney CDP', 'New Church CDP', 'New Kent CDP', 'Nottoway Court House CDP', 'Oak Hall CDP', 'Port Royal town', '(X)', 'Quinby CDP', 'Savage Town CDP', 'Savageville CDP', 'Southside Chesconessex CDP', 'Sperryville CDP', 'Thynedale CDP', 'Virgilina town', 'Warm Springs CDP', 'Wintergreen CDP', 'Alburg village', '(X)', '(X)', 'Cabot village', 'Castleton CDP', '(X)', 'East Montpelier CDP', '(X)', '(X)', 'North Westminster village', '(X)', 'Northfield village', 'Pittsford CDP', 'Acme CDP', 'Alder CDP', 'Alger CDP', 'Altoona CDP', 'Barstow CDP', 'Boyds CDP', '(X)', 'Chelan Falls CDP', 'Clallam Bay CDP', 'Cliffdell CDP', 'Conway CDP', 'Copalis Beach CDP', 'Cusick town', 'Danville CDP', 'Disautel CDP', 'Donald CDP', 'East Hill-Meridian CDP', 'Eastgate CDP', 'Edison CDP', 'Elbe CDP', 'Glacier CDP', '(X)', 'Greenwater CDP', 'Hat Island CDP', 'Hogans Corner CDP', 'Humptulips CDP', 'Inglewood-Finn Hill CDP', 'Junction City CDP', '(X)', 'Keller CDP', 'Ketron Island CDP', 'Kingsgate CDP', 'Krupp town', 'La Grande CDP', '(X)', 'Laurier CDP', 'Loomis CDP', 'Malo CDP', 'Malone CDP', 'Maple Falls CDP', 'Marblemount CDP', 'Markham CDP', 'Maryhill CDP', '(X)', 'Mattawa town', 'May Creek CDP', '(X)', 'Millwood town', 'Moclips CDP', 'Nespelem Community CDP', 'Northwest Stanwood CDP', 'Oso CDP', 'Outlook CDP', 'Oyehut CDP', 'Pacific Beach CDP', 'Parker CDP', '(X)', 'Port Gamble Tribal Comunity CDP', 'Porter CDP', 'Riverton CDP', 'Ronald CDP', 'Sekiu CDP', 'Silvana CDP', 'Tampico CDP', '(X)', 'Tieton town', 'Tokeland CDP', 'Valley CDP', 'Vantage CDP', 'Wallula CDP', '(X)', 'Clam Lake CDP', '(X)', 'Delwood CDP', '(X)', 'Glen Flora village', '(X)', 'Lake Shangrila CDP', 'Odanah CDP', 'Pell Lake CDP', 'Saxon CDP', '(X)', 'Springfield CDP', '(X)', 'Wilmot CDP', '(X)', 'Apple Grove CDP', '(X)', 'Auburn town', 'Bartow CDP', 'Bergoo CDP', 'Birch River CDP', 'Bolt CDP', 'Bowden CDP', 'Bud CDP', 'Carolina CDP', 'Corinne CDP', 'Covel CDP', 'Crumpler CDP', 'Dailey CDP', 'Eccles CDP', 'Falls View CDP', 'Ghent CDP', 'Glen Ferris CDP', 'Glen White CDP', 'Green Spring CDP', 'Greenview CDP', 'Harts CDP', 'Helen CDP', 'Helvetia CDP', 'Henlawson CDP', 'Kimberly CDP', 'Maybeury CDP', 'Minden CDP', 'Monaville CDP', 'New Richmond CDP', 'Oakvale town', '(X)', 'Pickens CDP', 'Powellton CDP', 'Prince CDP', 'Reader CDP', 'Roderfield CDP', 'Sarah Ann CDP', '(X)', '(X)', 'Summersville town', 'Thurmond town', 'Tioga CDP', '(X)', 'Upper Falls CDP', 'Valley Head CDP', 'Van CDP', 'Vivian CDP', '(X)', 'West Liberty town', 'Whitmer CDP', 'Wolf Summit CDP', 'Albany CDP', 'Alcova CDP', 'Alpine Northeast CDP', 'Antelope Hills CDP', 'Arlington CDP', 'Arrowhead Springs CDP', 'Atlantic City CDP', 'Auburn CDP', 'Bedford CDP', 'Bessemer Bend CDP', 'Beulah CDP', 'Big Horn CDP', 'Bondurant CDP', 'Boulder CDP', 'Carpenter CDP', 'Carter CDP', 'Centennial CDP', 'Cora CDP', 'Fontenelle CDP', 'Fort Bridger CDP', 'Fox Park CDP', 'Hillsdale CDP', 'Homa Hills CDP', 'Huntley CDP', 'Jeffrey City CDP', 'Kelly CDP', 'Lakeview North CDP', 'Lance Creek CDP', 'Little America CDP', 'Lonetree CDP', 'Lost Springs town', 'Mammoth CDP', 'McKinnon CDP', 'Meadow Acres CDP', 'Mountain View CDP', 'Oakley CDP', 'Opal town', 'Orin CDP', 'Owl Creek CDP', '(X)', 'Powder River CDP', 'Ryan Park CDP', 'Slater CDP', 'Table Rock CDP', 'Teton Village CDP', 'Van Tassell town', 'Veteran CDP', 'Washam CDP', 'Westview Circle CDP', 'Whiting CDP', 'Woods Landing-Jelm CDP', 'Y-O Ranch CDP']\n"
     ]
    }
   ],
   "source": [
    "#we can check that all the cities in the total data set is still in the race_city dataset\n",
    "cities2 = tempDf_race['city'].tolist()\n",
    "cities2 =list(set(cities2))\n",
    "j = 0\n",
    "for i in cities:\n",
    "    # print(i in cities2)\n",
    "    # print(i)\n",
    "    # print(cities2.index(i[0::1]))\n",
    "    if(any(i in string for string in cities2)):\n",
    "        #print(i)\n",
    "        j+=1\n",
    "    else:\n",
    "        \"\"\"\n",
    "        If the\n",
    "        \"\"\"\n",
    "        newDF = {}\n",
    "        newDF['Geographic area'] = i[0:2]\n",
    "        newDF['City'] = i[3:]\n",
    "        ind = 0\n",
    "        for share in porportional_share:\n",
    "            newDF[columns_race[ind]] = share\n",
    "            ind+=1\n",
    "        newDF['city'] = i\n",
    "        print(newDF)\n",
    "        tempDf_race = tempDf_race.append(newDF, ignore_index=True)\n",
    "        cities2 = tempDf_race['city'].tolist()\n",
    "        cities2 =list(set(cities2))\n",
    "        print(any(i in string for string in cities2))\n",
    "        j+=1\n",
    "\n",
    "print(j)\n",
    "print(list_bad_cities)"
   ],
   "metadata": {
    "collapsed": false,
    "pycharm": {
     "name": "#%%\n"
    }
   }
  },
  {
   "cell_type": "code",
   "execution_count": 443,
   "outputs": [],
   "source": [],
   "metadata": {
    "collapsed": false,
    "pycharm": {
     "name": "#%%\n"
    }
   }
  },
  {
   "cell_type": "code",
   "execution_count": 444,
   "outputs": [],
   "source": [
    "#make a list of df fT-oubaor each city\n",
    "list_df_cities = []\n",
    "for i in cities:\n",
    "    list_df_cities.append(df_total.loc[df_total['city'] == i])"
   ],
   "metadata": {
    "collapsed": false,
    "pycharm": {
     "name": "#%%\n"
    }
   }
  },
  {
   "cell_type": "code",
   "execution_count": 445,
   "outputs": [
    {
     "data": {
      "text/plain": "['N', 'B', 'A', 'H', 'O']"
     },
     "execution_count": 445,
     "metadata": {},
     "output_type": "execute_result"
    }
   ],
   "source": [
    "#make a list of race\n",
    "races = df_total['race'].tolist()\n",
    "races =list(set(races))\n",
    "races = races[1::]\n",
    "races"
   ],
   "metadata": {
    "collapsed": false,
    "pycharm": {
     "name": "#%%\n"
    }
   }
  },
  {
   "cell_type": "code",
   "execution_count": 446,
   "outputs": [
    {
     "name": "stdout",
     "output_type": "stream",
     "text": [
      "['W']\n"
     ]
    },
    {
     "name": "stderr",
     "output_type": "stream",
     "text": [
      "C:\\Users\\saads\\CSE 351\\CSE 351 Proj\\venv\\lib\\site-packages\\pandas\\core\\frame.py:3641: SettingWithCopyWarning: \n",
      "A value is trying to be set on a copy of a slice from a DataFrame.\n",
      "Try using .loc[row_indexer,col_indexer] = value instead\n",
      "\n",
      "See the caveats in the documentation: https://pandas.pydata.org/pandas-docs/stable/user_guide/indexing.html#returning-a-view-versus-a-copy\n",
      "  self[k1] = value[k2]\n"
     ]
    },
    {
     "name": "stdout",
     "output_type": "stream",
     "text": [
      "<class 'pandas.core.frame.DataFrame'>\n",
      "RangeIndex: 2535 entries, 0 to 2534\n",
      "Data columns (total 14 columns):\n",
      " #   Column                   Non-Null Count  Dtype  \n",
      "---  ------                   --------------  -----  \n",
      " 0   id                       2535 non-null   float64\n",
      " 1   name                     2535 non-null   object \n",
      " 2   date                     2535 non-null   object \n",
      " 3   manner_of_death          2535 non-null   object \n",
      " 4   armed                    2535 non-null   object \n",
      " 5   age                      2535 non-null   float64\n",
      " 6   gender                   2535 non-null   object \n",
      " 7   race                     2535 non-null   object \n",
      " 8   city                     2535 non-null   object \n",
      " 9   state                    2535 non-null   object \n",
      " 10  signs_of_mental_illness  2535 non-null   bool   \n",
      " 11  threat_level             2535 non-null   object \n",
      " 12  flee                     2535 non-null   object \n",
      " 13  body_camera              2535 non-null   bool   \n",
      "dtypes: bool(2), float64(2), object(10)\n",
      "memory usage: 242.7+ KB\n"
     ]
    }
   ],
   "source": [
    "mode_total = df_total['race'].mode(dropna=True).tolist()\n",
    "print(mode_total)\n",
    "for i in list_df_cities:\n",
    "    mode = i['race'].mode(dropna=True)\n",
    "    if(len(mode) == 0):\n",
    "        i[['race']] = i[['race']].fillna(mode_total[0])\n",
    "        if(i['race'].isnull().sum() != 0):\n",
    "            print(\"null val\")\n",
    "    elif(isinstance(mode, type(i['race']))):\n",
    "        mode.dropna()\n",
    "        mode = mode.tolist()\n",
    "        #if the mode has more than one value then take a random choice between the values\n",
    "        i[['race']] = i[['race']].fillna(random.choice(tuple(mode)))\n",
    "\n",
    "\n",
    "\n",
    "    df_total.loc[df_total['city'] ==  i.at[i.first_valid_index(),'city']] = i\n",
    "df_total.info()"
   ],
   "metadata": {
    "collapsed": false,
    "pycharm": {
     "name": "#%%\n"
    }
   }
  },
  {
   "cell_type": "code",
   "execution_count": 447,
   "outputs": [
    {
     "data": {
      "text/plain": "          id                name      date   manner_of_death       armed  \\\n0        3.0          Tim Elliot  02/01/15              shot         gun   \n1        4.0    Lewis Lee Lembke  02/01/15              shot         gun   \n2        5.0  John Paul Quintero  03/01/15  shot and Tasered     unarmed   \n3        8.0     Matthew Hoffman  04/01/15              shot  toy weapon   \n4        9.0   Michael Rodriguez  04/01/15              shot    nail gun   \n...      ...                 ...       ...               ...         ...   \n2530  2822.0    Rodney E. Jacobs  28/07/17              shot         gun   \n2531  2813.0               TK TK  28/07/17              shot     vehicle   \n2532  2818.0  Dennis W. Robinson  29/07/17              shot         gun   \n2533  2817.0       Isaiah Tucker  31/07/17              shot     vehicle   \n2534  2815.0        Dwayne Jeune  31/07/17              shot       knife   \n\n            age gender race              city state  signs_of_mental_illness  \\\n0     53.000000      M    A        WA-Shelton    WA                     True   \n1     47.000000      M    W          OR-Aloha    OR                    False   \n2     23.000000      M    H        KS-Wichita    KS                    False   \n3     32.000000      M    W  CA-San Francisco    CA                     True   \n4     39.000000      M    H          CO-Evans    CO                    False   \n...         ...    ...  ...               ...   ...                      ...   \n2530  31.000000      M    B    MO-Kansas City    MO                    False   \n2531  31.153846      M    H    NM-Albuquerque    NM                    False   \n2532  48.000000      M    W          ID-Melba    ID                    False   \n2533  28.000000      M    B        WI-Oshkosh    WI                    False   \n2534  32.000000      M    B       NY-Brooklyn    NY                     True   \n\n     threat_level         flee  body_camera  \n0          attack  Not fleeing        False  \n1          attack  Not fleeing        False  \n2           other  Not fleeing        False  \n3          attack  Not fleeing        False  \n4          attack  Not fleeing        False  \n...           ...          ...          ...  \n2530       attack  Not fleeing        False  \n2531       attack          Car        False  \n2532       attack          Car        False  \n2533       attack          Car         True  \n2534       attack  Not fleeing        False  \n\n[2535 rows x 14 columns]",
      "text/html": "<div>\n<style scoped>\n    .dataframe tbody tr th:only-of-type {\n        vertical-align: middle;\n    }\n\n    .dataframe tbody tr th {\n        vertical-align: top;\n    }\n\n    .dataframe thead th {\n        text-align: right;\n    }\n</style>\n<table border=\"1\" class=\"dataframe\">\n  <thead>\n    <tr style=\"text-align: right;\">\n      <th></th>\n      <th>id</th>\n      <th>name</th>\n      <th>date</th>\n      <th>manner_of_death</th>\n      <th>armed</th>\n      <th>age</th>\n      <th>gender</th>\n      <th>race</th>\n      <th>city</th>\n      <th>state</th>\n      <th>signs_of_mental_illness</th>\n      <th>threat_level</th>\n      <th>flee</th>\n      <th>body_camera</th>\n    </tr>\n  </thead>\n  <tbody>\n    <tr>\n      <th>0</th>\n      <td>3.0</td>\n      <td>Tim Elliot</td>\n      <td>02/01/15</td>\n      <td>shot</td>\n      <td>gun</td>\n      <td>53.000000</td>\n      <td>M</td>\n      <td>A</td>\n      <td>WA-Shelton</td>\n      <td>WA</td>\n      <td>True</td>\n      <td>attack</td>\n      <td>Not fleeing</td>\n      <td>False</td>\n    </tr>\n    <tr>\n      <th>1</th>\n      <td>4.0</td>\n      <td>Lewis Lee Lembke</td>\n      <td>02/01/15</td>\n      <td>shot</td>\n      <td>gun</td>\n      <td>47.000000</td>\n      <td>M</td>\n      <td>W</td>\n      <td>OR-Aloha</td>\n      <td>OR</td>\n      <td>False</td>\n      <td>attack</td>\n      <td>Not fleeing</td>\n      <td>False</td>\n    </tr>\n    <tr>\n      <th>2</th>\n      <td>5.0</td>\n      <td>John Paul Quintero</td>\n      <td>03/01/15</td>\n      <td>shot and Tasered</td>\n      <td>unarmed</td>\n      <td>23.000000</td>\n      <td>M</td>\n      <td>H</td>\n      <td>KS-Wichita</td>\n      <td>KS</td>\n      <td>False</td>\n      <td>other</td>\n      <td>Not fleeing</td>\n      <td>False</td>\n    </tr>\n    <tr>\n      <th>3</th>\n      <td>8.0</td>\n      <td>Matthew Hoffman</td>\n      <td>04/01/15</td>\n      <td>shot</td>\n      <td>toy weapon</td>\n      <td>32.000000</td>\n      <td>M</td>\n      <td>W</td>\n      <td>CA-San Francisco</td>\n      <td>CA</td>\n      <td>True</td>\n      <td>attack</td>\n      <td>Not fleeing</td>\n      <td>False</td>\n    </tr>\n    <tr>\n      <th>4</th>\n      <td>9.0</td>\n      <td>Michael Rodriguez</td>\n      <td>04/01/15</td>\n      <td>shot</td>\n      <td>nail gun</td>\n      <td>39.000000</td>\n      <td>M</td>\n      <td>H</td>\n      <td>CO-Evans</td>\n      <td>CO</td>\n      <td>False</td>\n      <td>attack</td>\n      <td>Not fleeing</td>\n      <td>False</td>\n    </tr>\n    <tr>\n      <th>...</th>\n      <td>...</td>\n      <td>...</td>\n      <td>...</td>\n      <td>...</td>\n      <td>...</td>\n      <td>...</td>\n      <td>...</td>\n      <td>...</td>\n      <td>...</td>\n      <td>...</td>\n      <td>...</td>\n      <td>...</td>\n      <td>...</td>\n      <td>...</td>\n    </tr>\n    <tr>\n      <th>2530</th>\n      <td>2822.0</td>\n      <td>Rodney E. Jacobs</td>\n      <td>28/07/17</td>\n      <td>shot</td>\n      <td>gun</td>\n      <td>31.000000</td>\n      <td>M</td>\n      <td>B</td>\n      <td>MO-Kansas City</td>\n      <td>MO</td>\n      <td>False</td>\n      <td>attack</td>\n      <td>Not fleeing</td>\n      <td>False</td>\n    </tr>\n    <tr>\n      <th>2531</th>\n      <td>2813.0</td>\n      <td>TK TK</td>\n      <td>28/07/17</td>\n      <td>shot</td>\n      <td>vehicle</td>\n      <td>31.153846</td>\n      <td>M</td>\n      <td>H</td>\n      <td>NM-Albuquerque</td>\n      <td>NM</td>\n      <td>False</td>\n      <td>attack</td>\n      <td>Car</td>\n      <td>False</td>\n    </tr>\n    <tr>\n      <th>2532</th>\n      <td>2818.0</td>\n      <td>Dennis W. Robinson</td>\n      <td>29/07/17</td>\n      <td>shot</td>\n      <td>gun</td>\n      <td>48.000000</td>\n      <td>M</td>\n      <td>W</td>\n      <td>ID-Melba</td>\n      <td>ID</td>\n      <td>False</td>\n      <td>attack</td>\n      <td>Car</td>\n      <td>False</td>\n    </tr>\n    <tr>\n      <th>2533</th>\n      <td>2817.0</td>\n      <td>Isaiah Tucker</td>\n      <td>31/07/17</td>\n      <td>shot</td>\n      <td>vehicle</td>\n      <td>28.000000</td>\n      <td>M</td>\n      <td>B</td>\n      <td>WI-Oshkosh</td>\n      <td>WI</td>\n      <td>False</td>\n      <td>attack</td>\n      <td>Car</td>\n      <td>True</td>\n    </tr>\n    <tr>\n      <th>2534</th>\n      <td>2815.0</td>\n      <td>Dwayne Jeune</td>\n      <td>31/07/17</td>\n      <td>shot</td>\n      <td>knife</td>\n      <td>32.000000</td>\n      <td>M</td>\n      <td>B</td>\n      <td>NY-Brooklyn</td>\n      <td>NY</td>\n      <td>True</td>\n      <td>attack</td>\n      <td>Not fleeing</td>\n      <td>False</td>\n    </tr>\n  </tbody>\n</table>\n<p>2535 rows × 14 columns</p>\n</div>"
     },
     "execution_count": 447,
     "metadata": {},
     "output_type": "execute_result"
    }
   ],
   "source": [
    " # removed all data wiht NaN in race Column...df_training[df_training['race'].isnull()]\n",
    "df_total"
   ],
   "metadata": {
    "collapsed": false,
    "pycharm": {
     "name": "#%%\n"
    }
   }
  },
  {
   "cell_type": "code",
   "execution_count": 448,
   "outputs": [
    {
     "name": "stdout",
     "output_type": "stream",
     "text": [
      "<class 'pandas.core.frame.DataFrame'>\n",
      "RangeIndex: 2535 entries, 0 to 2534\n",
      "Data columns (total 14 columns):\n",
      " #   Column                   Non-Null Count  Dtype  \n",
      "---  ------                   --------------  -----  \n",
      " 0   id                       2535 non-null   float64\n",
      " 1   name                     2535 non-null   object \n",
      " 2   date                     2535 non-null   object \n",
      " 3   manner_of_death          2535 non-null   object \n",
      " 4   armed                    2535 non-null   object \n",
      " 5   age                      2535 non-null   float64\n",
      " 6   gender                   2535 non-null   object \n",
      " 7   race                     2535 non-null   object \n",
      " 8   city                     2535 non-null   object \n",
      " 9   state                    2535 non-null   object \n",
      " 10  signs_of_mental_illness  2535 non-null   bool   \n",
      " 11  threat_level             2535 non-null   object \n",
      " 12  flee                     2535 non-null   object \n",
      " 13  body_camera              2535 non-null   bool   \n",
      "dtypes: bool(2), float64(2), object(10)\n",
      "memory usage: 242.7+ KB\n"
     ]
    }
   ],
   "source": [
    "\"\"\"\n",
    "We noticed that some of the 'age' data is missing.\n",
    "So we imputed the average age of the people in each city and imputed the average age for the missing ages based on their city.\n",
    "1. We calculate the total mean age of our total data sample.\n",
    "2. We group by city, then calculate the mean Age at each city.\n",
    "3. For each NaN age, we impute the mean age of that city. If that city was not calcuated (meaning this data is the only one from that city), we will use the total mean age.\n",
    "\"\"\"\n",
    "age_fix = df_total[['id','age','city']].copy()\n",
    "age_fix = age_fix[age_fix['age'].isnull()].copy()\n",
    "# 1. Calculate Total Mean Age\n",
    "total_mean_age = df_total['age'].mean()\n",
    "\n",
    "# 2. Calculate Mean of Each City\n",
    "city_mean_ages = df_total.groupby('city')['age'].mean()\n",
    "\n",
    "#3. Impute Age by the city. If City data does not exist, use Total Mean Age.\n",
    "for i in age_fix.index:\n",
    "    city = age_fix['city'][i]\n",
    "    if city in city_mean_ages and not np.isnan(city_mean_ages[city]):\n",
    "        age_fix['age'][i] = city_mean_ages[city]\n",
    "    else:\n",
    "        age_fix['age'][i] = total_mean_age\n",
    "\n",
    "\n",
    "# update total list\n",
    "df_total.update(age_fix)\n",
    "\n",
    "df_total.info()"
   ],
   "metadata": {
    "collapsed": false,
    "pycharm": {
     "name": "#%%\n"
    }
   }
  },
  {
   "cell_type": "code",
   "execution_count": 449,
   "outputs": [
    {
     "ename": "TypeError",
     "evalue": "\"value\" parameter must be a scalar or dict, but you passed a \"list\"",
     "output_type": "error",
     "traceback": [
      "\u001B[1;31m---------------------------------------------------------------------------\u001B[0m",
      "\u001B[1;31mTypeError\u001B[0m                                 Traceback (most recent call last)",
      "\u001B[1;32mC:\\Users\\saads\\AppData\\Local\\Temp\\ipykernel_18776\\3646553455.py\u001B[0m in \u001B[0;36m<module>\u001B[1;34m\u001B[0m\n\u001B[0;32m      5\u001B[0m \u001B[0mflee_mode\u001B[0m \u001B[1;33m=\u001B[0m \u001B[0mdf_total\u001B[0m\u001B[1;33m[\u001B[0m\u001B[1;34m'flee'\u001B[0m\u001B[1;33m]\u001B[0m\u001B[1;33m.\u001B[0m\u001B[0magg\u001B[0m\u001B[1;33m(\u001B[0m\u001B[0mpd\u001B[0m\u001B[1;33m.\u001B[0m\u001B[0mSeries\u001B[0m\u001B[1;33m.\u001B[0m\u001B[0mmode\u001B[0m\u001B[1;33m)\u001B[0m\u001B[1;33m.\u001B[0m\u001B[0mvalues\u001B[0m\u001B[1;33m.\u001B[0m\u001B[0mtolist\u001B[0m\u001B[1;33m(\u001B[0m\u001B[1;33m)\u001B[0m\u001B[1;33m[\u001B[0m\u001B[1;36m0\u001B[0m\u001B[1;33m]\u001B[0m\u001B[1;33m\u001B[0m\u001B[1;33m\u001B[0m\u001B[0m\n\u001B[0;32m      6\u001B[0m \u001B[0marmed_mode\u001B[0m \u001B[1;33m=\u001B[0m \u001B[0mdf_total\u001B[0m\u001B[1;33m[\u001B[0m\u001B[1;34m'armed'\u001B[0m\u001B[1;33m]\u001B[0m\u001B[1;33m.\u001B[0m\u001B[0magg\u001B[0m\u001B[1;33m(\u001B[0m\u001B[0mpd\u001B[0m\u001B[1;33m.\u001B[0m\u001B[0mSeries\u001B[0m\u001B[1;33m.\u001B[0m\u001B[0mmode\u001B[0m\u001B[1;33m)\u001B[0m\u001B[1;33m.\u001B[0m\u001B[0mvalues\u001B[0m\u001B[1;33m.\u001B[0m\u001B[0mtolist\u001B[0m\u001B[1;33m(\u001B[0m\u001B[1;33m)\u001B[0m\u001B[1;33m[\u001B[0m\u001B[1;36m0\u001B[0m\u001B[1;33m]\u001B[0m\u001B[1;33m\u001B[0m\u001B[1;33m\u001B[0m\u001B[0m\n\u001B[1;32m----> 7\u001B[1;33m \u001B[0mdf_total\u001B[0m\u001B[1;33m[\u001B[0m\u001B[1;34m'flee'\u001B[0m\u001B[1;33m]\u001B[0m\u001B[1;33m.\u001B[0m\u001B[0mfillna\u001B[0m\u001B[1;33m(\u001B[0m\u001B[0mflee_mode\u001B[0m\u001B[1;33m,\u001B[0m \u001B[0minplace\u001B[0m\u001B[1;33m=\u001B[0m\u001B[1;32mTrue\u001B[0m\u001B[1;33m)\u001B[0m\u001B[1;33m\u001B[0m\u001B[1;33m\u001B[0m\u001B[0m\n\u001B[0m\u001B[0;32m      8\u001B[0m \u001B[0mdf_total\u001B[0m\u001B[1;33m[\u001B[0m\u001B[1;34m'armed'\u001B[0m\u001B[1;33m]\u001B[0m\u001B[1;33m.\u001B[0m\u001B[0mfillna\u001B[0m\u001B[1;33m(\u001B[0m\u001B[0marmed_mode\u001B[0m\u001B[1;33m,\u001B[0m \u001B[0minplace\u001B[0m\u001B[1;33m=\u001B[0m\u001B[1;32mTrue\u001B[0m\u001B[1;33m)\u001B[0m\u001B[1;33m\u001B[0m\u001B[1;33m\u001B[0m\u001B[0m\n\u001B[0;32m      9\u001B[0m \u001B[0mdf_total\u001B[0m\u001B[1;33m\u001B[0m\u001B[1;33m\u001B[0m\u001B[0m\n",
      "\u001B[1;32mC:\\Users\\saads\\CSE 351\\CSE 351 Proj\\venv\\lib\\site-packages\\pandas\\util\\_decorators.py\u001B[0m in \u001B[0;36mwrapper\u001B[1;34m(*args, **kwargs)\u001B[0m\n\u001B[0;32m    309\u001B[0m                     \u001B[0mstacklevel\u001B[0m\u001B[1;33m=\u001B[0m\u001B[0mstacklevel\u001B[0m\u001B[1;33m,\u001B[0m\u001B[1;33m\u001B[0m\u001B[1;33m\u001B[0m\u001B[0m\n\u001B[0;32m    310\u001B[0m                 )\n\u001B[1;32m--> 311\u001B[1;33m             \u001B[1;32mreturn\u001B[0m \u001B[0mfunc\u001B[0m\u001B[1;33m(\u001B[0m\u001B[1;33m*\u001B[0m\u001B[0margs\u001B[0m\u001B[1;33m,\u001B[0m \u001B[1;33m**\u001B[0m\u001B[0mkwargs\u001B[0m\u001B[1;33m)\u001B[0m\u001B[1;33m\u001B[0m\u001B[1;33m\u001B[0m\u001B[0m\n\u001B[0m\u001B[0;32m    312\u001B[0m \u001B[1;33m\u001B[0m\u001B[0m\n\u001B[0;32m    313\u001B[0m         \u001B[1;32mreturn\u001B[0m \u001B[0mwrapper\u001B[0m\u001B[1;33m\u001B[0m\u001B[1;33m\u001B[0m\u001B[0m\n",
      "\u001B[1;32mC:\\Users\\saads\\CSE 351\\CSE 351 Proj\\venv\\lib\\site-packages\\pandas\\core\\series.py\u001B[0m in \u001B[0;36mfillna\u001B[1;34m(self, value, method, axis, inplace, limit, downcast)\u001B[0m\n\u001B[0;32m   4820\u001B[0m             \u001B[0minplace\u001B[0m\u001B[1;33m=\u001B[0m\u001B[0minplace\u001B[0m\u001B[1;33m,\u001B[0m\u001B[1;33m\u001B[0m\u001B[1;33m\u001B[0m\u001B[0m\n\u001B[0;32m   4821\u001B[0m             \u001B[0mlimit\u001B[0m\u001B[1;33m=\u001B[0m\u001B[0mlimit\u001B[0m\u001B[1;33m,\u001B[0m\u001B[1;33m\u001B[0m\u001B[1;33m\u001B[0m\u001B[0m\n\u001B[1;32m-> 4822\u001B[1;33m             \u001B[0mdowncast\u001B[0m\u001B[1;33m=\u001B[0m\u001B[0mdowncast\u001B[0m\u001B[1;33m,\u001B[0m\u001B[1;33m\u001B[0m\u001B[1;33m\u001B[0m\u001B[0m\n\u001B[0m\u001B[0;32m   4823\u001B[0m         )\n\u001B[0;32m   4824\u001B[0m \u001B[1;33m\u001B[0m\u001B[0m\n",
      "\u001B[1;32mC:\\Users\\saads\\CSE 351\\CSE 351 Proj\\venv\\lib\\site-packages\\pandas\\core\\generic.py\u001B[0m in \u001B[0;36mfillna\u001B[1;34m(self, value, method, axis, inplace, limit, downcast)\u001B[0m\n\u001B[0;32m   6311\u001B[0m         \"\"\"\n\u001B[0;32m   6312\u001B[0m         \u001B[0minplace\u001B[0m \u001B[1;33m=\u001B[0m \u001B[0mvalidate_bool_kwarg\u001B[0m\u001B[1;33m(\u001B[0m\u001B[0minplace\u001B[0m\u001B[1;33m,\u001B[0m \u001B[1;34m\"inplace\"\u001B[0m\u001B[1;33m)\u001B[0m\u001B[1;33m\u001B[0m\u001B[1;33m\u001B[0m\u001B[0m\n\u001B[1;32m-> 6313\u001B[1;33m         \u001B[0mvalue\u001B[0m\u001B[1;33m,\u001B[0m \u001B[0mmethod\u001B[0m \u001B[1;33m=\u001B[0m \u001B[0mvalidate_fillna_kwargs\u001B[0m\u001B[1;33m(\u001B[0m\u001B[0mvalue\u001B[0m\u001B[1;33m,\u001B[0m \u001B[0mmethod\u001B[0m\u001B[1;33m)\u001B[0m\u001B[1;33m\u001B[0m\u001B[1;33m\u001B[0m\u001B[0m\n\u001B[0m\u001B[0;32m   6314\u001B[0m \u001B[1;33m\u001B[0m\u001B[0m\n\u001B[0;32m   6315\u001B[0m         \u001B[0mself\u001B[0m\u001B[1;33m.\u001B[0m\u001B[0m_consolidate_inplace\u001B[0m\u001B[1;33m(\u001B[0m\u001B[1;33m)\u001B[0m\u001B[1;33m\u001B[0m\u001B[1;33m\u001B[0m\u001B[0m\n",
      "\u001B[1;32mC:\\Users\\saads\\CSE 351\\CSE 351 Proj\\venv\\lib\\site-packages\\pandas\\util\\_validators.py\u001B[0m in \u001B[0;36mvalidate_fillna_kwargs\u001B[1;34m(value, method, validate_scalar_dict_value)\u001B[0m\n\u001B[0;32m    375\u001B[0m         \u001B[1;32mif\u001B[0m \u001B[0mvalidate_scalar_dict_value\u001B[0m \u001B[1;32mand\u001B[0m \u001B[0misinstance\u001B[0m\u001B[1;33m(\u001B[0m\u001B[0mvalue\u001B[0m\u001B[1;33m,\u001B[0m \u001B[1;33m(\u001B[0m\u001B[0mlist\u001B[0m\u001B[1;33m,\u001B[0m \u001B[0mtuple\u001B[0m\u001B[1;33m)\u001B[0m\u001B[1;33m)\u001B[0m\u001B[1;33m:\u001B[0m\u001B[1;33m\u001B[0m\u001B[1;33m\u001B[0m\u001B[0m\n\u001B[0;32m    376\u001B[0m             raise TypeError(\n\u001B[1;32m--> 377\u001B[1;33m                 \u001B[1;34m'\"value\" parameter must be a scalar or dict, but '\u001B[0m\u001B[1;33m\u001B[0m\u001B[1;33m\u001B[0m\u001B[0m\n\u001B[0m\u001B[0;32m    378\u001B[0m                 \u001B[1;34mf'you passed a \"{type(value).__name__}\"'\u001B[0m\u001B[1;33m\u001B[0m\u001B[1;33m\u001B[0m\u001B[0m\n\u001B[0;32m    379\u001B[0m             )\n",
      "\u001B[1;31mTypeError\u001B[0m: \"value\" parameter must be a scalar or dict, but you passed a \"list\""
     ]
    }
   ],
   "source": [
    "\"\"\"\n",
    "We noticed there were missing values for 'armed' and 'flee'. For these, we imputed the most frequent data that appeared.\n",
    "These are listed in the variables flee_mode and armed_mode\n",
    "\"\"\"\n",
    "flee_mode = df_total['flee'].agg(pd.Series.mode).values.tolist()[0]\n",
    "armed_mode = df_total['armed'].agg(pd.Series.mode).values.tolist()[0]\n",
    "df_total['flee'].fillna(flee_mode, inplace=True)\n",
    "df_total['armed'].fillna(armed_mode, inplace=True)\n",
    "df_total"
   ],
   "metadata": {
    "collapsed": false,
    "pycharm": {
     "name": "#%%\n"
    }
   }
  },
  {
   "cell_type": "code",
   "execution_count": null,
   "outputs": [],
   "source": [
    "\"\"\"\n",
    "Fix the 'race' column\n",
    "We want to impute the NaN in the 'race' column with the most frequent race that is reported in the same city.\n",
    "First get a list of cities,\n",
    "second, get the mode for each city.\n",
    "\"\"\"\n",
    "training_race_noNaN = df_training[df_training['race'].notnull()].copy()\n",
    "\n",
    "training_cities = training_race_noNaN['city'].unique()\n",
    "\n",
    "training_race_noNaN"
   ],
   "metadata": {
    "collapsed": false,
    "pycharm": {
     "name": "#%%\n"
    }
   }
  },
  {
   "cell_type": "code",
   "execution_count": null,
   "outputs": [],
   "source": [
    "training_race_noNaN.groupby('city')['race'].agg(pd.Series.mode).to_frame()"
   ],
   "metadata": {
    "collapsed": false,
    "pycharm": {
     "name": "#%%\n"
    }
   }
  },
  {
   "cell_type": "code",
   "execution_count": null,
   "outputs": [],
   "source": [],
   "metadata": {
    "collapsed": false,
    "pycharm": {
     "name": "#%%\n"
    }
   }
  },
  {
   "cell_type": "code",
   "execution_count": null,
   "outputs": [],
   "source": [
    "training_race_noNaN.groupby('city')['race'].agg(pd.Series.mode).to_frame()"
   ],
   "metadata": {
    "collapsed": false,
    "pycharm": {
     "name": "#%%\n"
    }
   }
  },
  {
   "cell_type": "code",
   "execution_count": null,
   "outputs": [],
   "source": [],
   "metadata": {
    "collapsed": false,
    "pycharm": {
     "name": "#%%\n"
    }
   }
  }
 ],
 "metadata": {
  "kernelspec": {
   "display_name": "Python 3",
   "language": "python",
   "name": "python3"
  },
  "language_info": {
   "codemirror_mode": {
    "name": "ipython",
    "version": 2
   },
   "file_extension": ".py",
   "mimetype": "text/x-python",
   "name": "python",
   "nbconvert_exporter": "python",
   "pygments_lexer": "ipython2",
   "version": "2.7.6"
  }
 },
 "nbformat": 4,
 "nbformat_minor": 0
}