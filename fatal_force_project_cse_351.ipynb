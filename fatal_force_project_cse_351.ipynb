{
 "cells": [
  {
   "cell_type": "code",
   "execution_count": 1101,
   "metadata": {
    "collapsed": false,
    "pycharm": {
     "name": "#%%\n"
    }
   },
   "outputs": [],
   "source": [
    "import itertools\n",
    "\n",
    "import numpy\n",
    "import pandas as pd\n",
    "import random\n",
    "import sklearn\n",
    "from sklearn.model_selection import train_test_split\n",
    "import datetime\n",
    "from sklearn import metrics\n",
    "from sklearn.linear_model import LinearRegression\n",
    "from sklearn.linear_model import LogisticRegression\n",
    "from sklearn.tree import DecisionTreeClassifier\n",
    "from sklearn.neighbors import KNeighborsClassifier\n",
    "import matplotlib.pyplot as plt\n",
    "import numpy as np\n",
    "import seaborn as sb\n",
    "\n",
    "# import graphviz"
   ]
  },
  {
   "cell_type": "code",
   "execution_count": 1102,
   "metadata": {
    "collapsed": false,
    "pycharm": {
     "name": "#%%\n"
    }
   },
   "outputs": [
    {
     "name": "stdout",
     "output_type": "stream",
     "text": [
      "<class 'pandas.core.frame.DataFrame'>\n",
      "RangeIndex: 507 entries, 0 to 506\n",
      "Data columns (total 14 columns):\n",
      " #   Column                   Non-Null Count  Dtype  \n",
      "---  ------                   --------------  -----  \n",
      " 0   id                       507 non-null    int64  \n",
      " 1   name                     507 non-null    object \n",
      " 2   date                     507 non-null    object \n",
      " 3   manner_of_death          507 non-null    object \n",
      " 4   armed                    504 non-null    object \n",
      " 5   age                      467 non-null    float64\n",
      " 6   gender                   507 non-null    object \n",
      " 7   race                     403 non-null    object \n",
      " 8   city                     507 non-null    object \n",
      " 9   state                    507 non-null    object \n",
      " 10  signs_of_mental_illness  507 non-null    bool   \n",
      " 11  threat_level             507 non-null    object \n",
      " 12  flee                     469 non-null    object \n",
      " 13  body_camera              507 non-null    bool   \n",
      "dtypes: bool(2), float64(1), int64(1), object(10)\n",
      "memory usage: 48.6+ KB\n"
     ]
    },
    {
     "data": {
      "text/plain": "        id                   name      date   manner_of_death       armed  \\\n0        3             Tim Elliot  02/01/15              shot         gun   \n1        4       Lewis Lee Lembke  02/01/15              shot         gun   \n2        5     John Paul Quintero  03/01/15  shot and Tasered     unarmed   \n3        8        Matthew Hoffman  04/01/15              shot  toy weapon   \n4        9      Michael Rodriguez  04/01/15              shot    nail gun   \n...    ...                    ...       ...               ...         ...   \n2023  2256   Jeremy Lopez-Robledo  24/01/17              shot       knife   \n2024  2257    Jonathan David Sper  24/01/17              shot     unarmed   \n2025  2258  Jose Efrain Rodriguez  24/01/17  shot and Tasered         gun   \n2026  2259          Ramon Milanez  24/01/17              shot         gun   \n2027  2260       Micah R. Lambert  25/01/17              shot     vehicle   \n\n       age gender race             city state  signs_of_mental_illness  \\\n0     53.0      M    A          Shelton    WA                     True   \n1     47.0      M    W            Aloha    OR                    False   \n2     23.0      M    H          Wichita    KS                    False   \n3     32.0      M    W    San Francisco    CA                     True   \n4     39.0      M    H            Evans    CO                    False   \n...    ...    ...  ...              ...   ...                      ...   \n2023  29.0      M    H       Las Cruces    NM                     True   \n2024  30.0      M    W  Algoma Township    MI                     True   \n2025  18.0      M    H   Lancaster City    PA                    False   \n2026  32.0      M    H             Kuna    ID                    False   \n2027  37.0      M    W           Oxford    AL                     True   \n\n     threat_level         flee  body_camera  \n0          attack  Not fleeing        False  \n1          attack  Not fleeing        False  \n2           other  Not fleeing        False  \n3          attack  Not fleeing        False  \n4          attack  Not fleeing        False  \n...           ...          ...          ...  \n2023       attack         Foot         True  \n2024       attack  Not fleeing        False  \n2025       attack  Not fleeing        False  \n2026       attack          Car        False  \n2027       attack          Car        False  \n\n[2028 rows x 14 columns]",
      "text/html": "<div>\n<style scoped>\n    .dataframe tbody tr th:only-of-type {\n        vertical-align: middle;\n    }\n\n    .dataframe tbody tr th {\n        vertical-align: top;\n    }\n\n    .dataframe thead th {\n        text-align: right;\n    }\n</style>\n<table border=\"1\" class=\"dataframe\">\n  <thead>\n    <tr style=\"text-align: right;\">\n      <th></th>\n      <th>id</th>\n      <th>name</th>\n      <th>date</th>\n      <th>manner_of_death</th>\n      <th>armed</th>\n      <th>age</th>\n      <th>gender</th>\n      <th>race</th>\n      <th>city</th>\n      <th>state</th>\n      <th>signs_of_mental_illness</th>\n      <th>threat_level</th>\n      <th>flee</th>\n      <th>body_camera</th>\n    </tr>\n  </thead>\n  <tbody>\n    <tr>\n      <th>0</th>\n      <td>3</td>\n      <td>Tim Elliot</td>\n      <td>02/01/15</td>\n      <td>shot</td>\n      <td>gun</td>\n      <td>53.0</td>\n      <td>M</td>\n      <td>A</td>\n      <td>Shelton</td>\n      <td>WA</td>\n      <td>True</td>\n      <td>attack</td>\n      <td>Not fleeing</td>\n      <td>False</td>\n    </tr>\n    <tr>\n      <th>1</th>\n      <td>4</td>\n      <td>Lewis Lee Lembke</td>\n      <td>02/01/15</td>\n      <td>shot</td>\n      <td>gun</td>\n      <td>47.0</td>\n      <td>M</td>\n      <td>W</td>\n      <td>Aloha</td>\n      <td>OR</td>\n      <td>False</td>\n      <td>attack</td>\n      <td>Not fleeing</td>\n      <td>False</td>\n    </tr>\n    <tr>\n      <th>2</th>\n      <td>5</td>\n      <td>John Paul Quintero</td>\n      <td>03/01/15</td>\n      <td>shot and Tasered</td>\n      <td>unarmed</td>\n      <td>23.0</td>\n      <td>M</td>\n      <td>H</td>\n      <td>Wichita</td>\n      <td>KS</td>\n      <td>False</td>\n      <td>other</td>\n      <td>Not fleeing</td>\n      <td>False</td>\n    </tr>\n    <tr>\n      <th>3</th>\n      <td>8</td>\n      <td>Matthew Hoffman</td>\n      <td>04/01/15</td>\n      <td>shot</td>\n      <td>toy weapon</td>\n      <td>32.0</td>\n      <td>M</td>\n      <td>W</td>\n      <td>San Francisco</td>\n      <td>CA</td>\n      <td>True</td>\n      <td>attack</td>\n      <td>Not fleeing</td>\n      <td>False</td>\n    </tr>\n    <tr>\n      <th>4</th>\n      <td>9</td>\n      <td>Michael Rodriguez</td>\n      <td>04/01/15</td>\n      <td>shot</td>\n      <td>nail gun</td>\n      <td>39.0</td>\n      <td>M</td>\n      <td>H</td>\n      <td>Evans</td>\n      <td>CO</td>\n      <td>False</td>\n      <td>attack</td>\n      <td>Not fleeing</td>\n      <td>False</td>\n    </tr>\n    <tr>\n      <th>...</th>\n      <td>...</td>\n      <td>...</td>\n      <td>...</td>\n      <td>...</td>\n      <td>...</td>\n      <td>...</td>\n      <td>...</td>\n      <td>...</td>\n      <td>...</td>\n      <td>...</td>\n      <td>...</td>\n      <td>...</td>\n      <td>...</td>\n      <td>...</td>\n    </tr>\n    <tr>\n      <th>2023</th>\n      <td>2256</td>\n      <td>Jeremy Lopez-Robledo</td>\n      <td>24/01/17</td>\n      <td>shot</td>\n      <td>knife</td>\n      <td>29.0</td>\n      <td>M</td>\n      <td>H</td>\n      <td>Las Cruces</td>\n      <td>NM</td>\n      <td>True</td>\n      <td>attack</td>\n      <td>Foot</td>\n      <td>True</td>\n    </tr>\n    <tr>\n      <th>2024</th>\n      <td>2257</td>\n      <td>Jonathan David Sper</td>\n      <td>24/01/17</td>\n      <td>shot</td>\n      <td>unarmed</td>\n      <td>30.0</td>\n      <td>M</td>\n      <td>W</td>\n      <td>Algoma Township</td>\n      <td>MI</td>\n      <td>True</td>\n      <td>attack</td>\n      <td>Not fleeing</td>\n      <td>False</td>\n    </tr>\n    <tr>\n      <th>2025</th>\n      <td>2258</td>\n      <td>Jose Efrain Rodriguez</td>\n      <td>24/01/17</td>\n      <td>shot and Tasered</td>\n      <td>gun</td>\n      <td>18.0</td>\n      <td>M</td>\n      <td>H</td>\n      <td>Lancaster City</td>\n      <td>PA</td>\n      <td>False</td>\n      <td>attack</td>\n      <td>Not fleeing</td>\n      <td>False</td>\n    </tr>\n    <tr>\n      <th>2026</th>\n      <td>2259</td>\n      <td>Ramon Milanez</td>\n      <td>24/01/17</td>\n      <td>shot</td>\n      <td>gun</td>\n      <td>32.0</td>\n      <td>M</td>\n      <td>H</td>\n      <td>Kuna</td>\n      <td>ID</td>\n      <td>False</td>\n      <td>attack</td>\n      <td>Car</td>\n      <td>False</td>\n    </tr>\n    <tr>\n      <th>2027</th>\n      <td>2260</td>\n      <td>Micah R. Lambert</td>\n      <td>25/01/17</td>\n      <td>shot</td>\n      <td>vehicle</td>\n      <td>37.0</td>\n      <td>M</td>\n      <td>W</td>\n      <td>Oxford</td>\n      <td>AL</td>\n      <td>True</td>\n      <td>attack</td>\n      <td>Car</td>\n      <td>False</td>\n    </tr>\n  </tbody>\n</table>\n<p>2028 rows × 14 columns</p>\n</div>"
     },
     "execution_count": 1102,
     "metadata": {},
     "output_type": "execute_result"
    }
   ],
   "source": [
    "\"\"\"\n",
    "Our first goal is going to be data cleaning and munging. We want to take care of all null values\n",
    "first.\n",
    "\"\"\"\n",
    "\n",
    "df_training = pd.read_csv('police_killings_train.csv')\n",
    "df_test = pd.read_csv('police_killings_test.csv')\n",
    "df_race_city = pd.read_csv('share_race_by_city.csv')\n",
    "df_income = pd.read_csv('income.csv', encoding=\"ANSI\")\n",
    "df_poverty = pd.read_csv('poverty.csv', encoding=\"ANSI\")\n",
    "df_education = pd.read_csv('education.csv', encoding=\"ANSI\")\n",
    "\n",
    "df_test.info()\n",
    "df_training"
   ]
  },
  {
   "cell_type": "code",
   "execution_count": 1103,
   "metadata": {
    "collapsed": false,
    "pycharm": {
     "name": "#%%\n"
    }
   },
   "outputs": [
    {
     "data": {
      "text/plain": "        id                name      date   manner_of_death       armed   age  \\\n0        3          Tim Elliot  02/01/15              shot         gun  53.0   \n1        4    Lewis Lee Lembke  02/01/15              shot         gun  47.0   \n2        5  John Paul Quintero  03/01/15  shot and Tasered     unarmed  23.0   \n3        8     Matthew Hoffman  04/01/15              shot  toy weapon  32.0   \n4        9   Michael Rodriguez  04/01/15              shot    nail gun  39.0   \n...    ...                 ...       ...               ...         ...   ...   \n2530  2822    Rodney E. Jacobs  28/07/17              shot         gun  31.0   \n2531  2813               TK TK  28/07/17              shot     vehicle   NaN   \n2532  2818  Dennis W. Robinson  29/07/17              shot         gun  48.0   \n2533  2817       Isaiah Tucker  31/07/17              shot     vehicle  28.0   \n2534  2815        Dwayne Jeune  31/07/17              shot       knife  32.0   \n\n     gender race           city state  signs_of_mental_illness threat_level  \\\n0         M    A        Shelton    WA                     True       attack   \n1         M    W          Aloha    OR                    False       attack   \n2         M    H        Wichita    KS                    False        other   \n3         M    W  San Francisco    CA                     True       attack   \n4         M    H          Evans    CO                    False       attack   \n...     ...  ...            ...   ...                      ...          ...   \n2530      M  NaN    Kansas City    MO                    False       attack   \n2531      M  NaN    Albuquerque    NM                    False       attack   \n2532      M  NaN          Melba    ID                    False       attack   \n2533      M    B        Oshkosh    WI                    False       attack   \n2534      M    B       Brooklyn    NY                     True       attack   \n\n             flee  body_camera  \n0     Not fleeing        False  \n1     Not fleeing        False  \n2     Not fleeing        False  \n3     Not fleeing        False  \n4     Not fleeing        False  \n...           ...          ...  \n2530  Not fleeing        False  \n2531          Car        False  \n2532          Car        False  \n2533          Car         True  \n2534  Not fleeing        False  \n\n[2535 rows x 14 columns]",
      "text/html": "<div>\n<style scoped>\n    .dataframe tbody tr th:only-of-type {\n        vertical-align: middle;\n    }\n\n    .dataframe tbody tr th {\n        vertical-align: top;\n    }\n\n    .dataframe thead th {\n        text-align: right;\n    }\n</style>\n<table border=\"1\" class=\"dataframe\">\n  <thead>\n    <tr style=\"text-align: right;\">\n      <th></th>\n      <th>id</th>\n      <th>name</th>\n      <th>date</th>\n      <th>manner_of_death</th>\n      <th>armed</th>\n      <th>age</th>\n      <th>gender</th>\n      <th>race</th>\n      <th>city</th>\n      <th>state</th>\n      <th>signs_of_mental_illness</th>\n      <th>threat_level</th>\n      <th>flee</th>\n      <th>body_camera</th>\n    </tr>\n  </thead>\n  <tbody>\n    <tr>\n      <th>0</th>\n      <td>3</td>\n      <td>Tim Elliot</td>\n      <td>02/01/15</td>\n      <td>shot</td>\n      <td>gun</td>\n      <td>53.0</td>\n      <td>M</td>\n      <td>A</td>\n      <td>Shelton</td>\n      <td>WA</td>\n      <td>True</td>\n      <td>attack</td>\n      <td>Not fleeing</td>\n      <td>False</td>\n    </tr>\n    <tr>\n      <th>1</th>\n      <td>4</td>\n      <td>Lewis Lee Lembke</td>\n      <td>02/01/15</td>\n      <td>shot</td>\n      <td>gun</td>\n      <td>47.0</td>\n      <td>M</td>\n      <td>W</td>\n      <td>Aloha</td>\n      <td>OR</td>\n      <td>False</td>\n      <td>attack</td>\n      <td>Not fleeing</td>\n      <td>False</td>\n    </tr>\n    <tr>\n      <th>2</th>\n      <td>5</td>\n      <td>John Paul Quintero</td>\n      <td>03/01/15</td>\n      <td>shot and Tasered</td>\n      <td>unarmed</td>\n      <td>23.0</td>\n      <td>M</td>\n      <td>H</td>\n      <td>Wichita</td>\n      <td>KS</td>\n      <td>False</td>\n      <td>other</td>\n      <td>Not fleeing</td>\n      <td>False</td>\n    </tr>\n    <tr>\n      <th>3</th>\n      <td>8</td>\n      <td>Matthew Hoffman</td>\n      <td>04/01/15</td>\n      <td>shot</td>\n      <td>toy weapon</td>\n      <td>32.0</td>\n      <td>M</td>\n      <td>W</td>\n      <td>San Francisco</td>\n      <td>CA</td>\n      <td>True</td>\n      <td>attack</td>\n      <td>Not fleeing</td>\n      <td>False</td>\n    </tr>\n    <tr>\n      <th>4</th>\n      <td>9</td>\n      <td>Michael Rodriguez</td>\n      <td>04/01/15</td>\n      <td>shot</td>\n      <td>nail gun</td>\n      <td>39.0</td>\n      <td>M</td>\n      <td>H</td>\n      <td>Evans</td>\n      <td>CO</td>\n      <td>False</td>\n      <td>attack</td>\n      <td>Not fleeing</td>\n      <td>False</td>\n    </tr>\n    <tr>\n      <th>...</th>\n      <td>...</td>\n      <td>...</td>\n      <td>...</td>\n      <td>...</td>\n      <td>...</td>\n      <td>...</td>\n      <td>...</td>\n      <td>...</td>\n      <td>...</td>\n      <td>...</td>\n      <td>...</td>\n      <td>...</td>\n      <td>...</td>\n      <td>...</td>\n    </tr>\n    <tr>\n      <th>2530</th>\n      <td>2822</td>\n      <td>Rodney E. Jacobs</td>\n      <td>28/07/17</td>\n      <td>shot</td>\n      <td>gun</td>\n      <td>31.0</td>\n      <td>M</td>\n      <td>NaN</td>\n      <td>Kansas City</td>\n      <td>MO</td>\n      <td>False</td>\n      <td>attack</td>\n      <td>Not fleeing</td>\n      <td>False</td>\n    </tr>\n    <tr>\n      <th>2531</th>\n      <td>2813</td>\n      <td>TK TK</td>\n      <td>28/07/17</td>\n      <td>shot</td>\n      <td>vehicle</td>\n      <td>NaN</td>\n      <td>M</td>\n      <td>NaN</td>\n      <td>Albuquerque</td>\n      <td>NM</td>\n      <td>False</td>\n      <td>attack</td>\n      <td>Car</td>\n      <td>False</td>\n    </tr>\n    <tr>\n      <th>2532</th>\n      <td>2818</td>\n      <td>Dennis W. Robinson</td>\n      <td>29/07/17</td>\n      <td>shot</td>\n      <td>gun</td>\n      <td>48.0</td>\n      <td>M</td>\n      <td>NaN</td>\n      <td>Melba</td>\n      <td>ID</td>\n      <td>False</td>\n      <td>attack</td>\n      <td>Car</td>\n      <td>False</td>\n    </tr>\n    <tr>\n      <th>2533</th>\n      <td>2817</td>\n      <td>Isaiah Tucker</td>\n      <td>31/07/17</td>\n      <td>shot</td>\n      <td>vehicle</td>\n      <td>28.0</td>\n      <td>M</td>\n      <td>B</td>\n      <td>Oshkosh</td>\n      <td>WI</td>\n      <td>False</td>\n      <td>attack</td>\n      <td>Car</td>\n      <td>True</td>\n    </tr>\n    <tr>\n      <th>2534</th>\n      <td>2815</td>\n      <td>Dwayne Jeune</td>\n      <td>31/07/17</td>\n      <td>shot</td>\n      <td>knife</td>\n      <td>32.0</td>\n      <td>M</td>\n      <td>B</td>\n      <td>Brooklyn</td>\n      <td>NY</td>\n      <td>True</td>\n      <td>attack</td>\n      <td>Not fleeing</td>\n      <td>False</td>\n    </tr>\n  </tbody>\n</table>\n<p>2535 rows × 14 columns</p>\n</div>"
     },
     "execution_count": 1103,
     "metadata": {},
     "output_type": "execute_result"
    }
   ],
   "source": [
    "\"\"\"\n",
    "We will combine the training and tesing dataset to make cleaning easier and more accurate\n",
    "\"\"\"\n",
    "\n",
    "df_total = df_training.append(df_test, ignore_index=True)\n",
    "df_total"
   ]
  },
  {
   "cell_type": "code",
   "execution_count": 1104,
   "metadata": {
    "collapsed": false,
    "pycharm": {
     "name": "#%%\n"
    }
   },
   "outputs": [
    {
     "name": "stdout",
     "output_type": "stream",
     "text": [
      "<class 'pandas.core.frame.DataFrame'>\n",
      "RangeIndex: 29322 entries, 0 to 29321\n",
      "Data columns (total 3 columns):\n",
      " #   Column           Non-Null Count  Dtype \n",
      "---  ------           --------------  ----- \n",
      " 0   Geographic Area  29322 non-null  object\n",
      " 1   City             29322 non-null  object\n",
      " 2   Median Income    29271 non-null  object\n",
      "dtypes: object(3)\n",
      "memory usage: 687.4+ KB\n",
      "None\n",
      "<class 'pandas.core.frame.DataFrame'>\n",
      "RangeIndex: 29268 entries, 0 to 29267\n",
      "Data columns (total 7 columns):\n",
      " #   Column                 Non-Null Count  Dtype \n",
      "---  ------                 --------------  ----- \n",
      " 0   Geographic area        29268 non-null  object\n",
      " 1   City                   29268 non-null  object\n",
      " 2   share_white            29268 non-null  object\n",
      " 3   share_black            29268 non-null  object\n",
      " 4   share_native_american  29268 non-null  object\n",
      " 5   share_asian            29268 non-null  object\n",
      " 6   share_hispanic         29268 non-null  object\n",
      "dtypes: object(7)\n",
      "memory usage: 1.6+ MB\n"
     ]
    }
   ],
   "source": [
    "print(df_income.info())\n",
    "df_race_city.info()"
   ]
  },
  {
   "cell_type": "code",
   "execution_count": 1105,
   "metadata": {
    "collapsed": false,
    "pycharm": {
     "name": "#%%\n"
    }
   },
   "outputs": [
    {
     "name": "stdout",
     "output_type": "stream",
     "text": [
      "1534\n"
     ]
    },
    {
     "data": {
      "text/plain": "['TN-Columbia',\n 'GA-Sylvester',\n 'IL-Metropolis',\n 'AL-Selma',\n 'SC-Johnsonville',\n 'AL-Lawrence County',\n 'TN-Gibson County',\n 'NC-Wilkesboro',\n 'VA-Stafford',\n 'CA-Riverside',\n 'PA-Lewistown',\n 'FL-Homestead',\n 'TN-Bristol',\n 'AZ-Surprise',\n 'HI-Keaau',\n 'AZ-Red Valley',\n 'IL-Springfield',\n 'OH-Cincinnati',\n 'MO-Poplar Bluff',\n 'CA-Shafter',\n 'PA-Bloomsburg',\n 'DE-Middletown',\n 'SC-Lexington',\n 'TX-Sunset',\n 'MN-Columbia Heights',\n 'TN-Raleigh',\n 'TX-Mesquite',\n 'MI-Berrien County',\n 'IN-Indianapolis',\n 'AL-Brooksville',\n 'AL-Muscle Shoals',\n 'WI-Monroe',\n 'KY-Booneville',\n 'NE-Sidney',\n 'OH-Kent',\n 'CO-Aurora',\n 'WI-Millston',\n 'UT-Provo',\n 'GA-East Point',\n 'TX-Rosenberg',\n 'MI-Manistee',\n 'NM-Alamogordo',\n 'AL-Eufaula',\n 'CA-Turlock',\n 'SD-Rapid City',\n 'CA-Desert Edge',\n 'IA-Urbandale',\n 'MA-Roslindale',\n 'NY-Schenectady',\n 'MO-Buffalo',\n 'CA-Bell',\n 'CA-Delhi',\n 'KY-Daviess County',\n 'CA-Burbank',\n 'AR-Bull Shoals',\n 'CA-Oxnard',\n 'RI-Pawtucket',\n 'AL-Phenix City',\n 'GA-Commerce',\n 'CA-Yuba City',\n 'TX-Kerrville',\n 'VA-Harrisonburg',\n 'WA-Cle Elum',\n 'TN-Johnson City',\n 'AK-Fairbanks',\n 'OH-Hudson',\n 'TX-San Angelo',\n 'CA-Lodi',\n 'MS-St. Martin',\n 'SC-Chesterfield County',\n 'GA-Rockville',\n 'PA-Penn Township',\n 'MI-Lansing',\n 'ND-Mandan',\n 'OR-Eugene',\n 'KS-Lehigh',\n 'WV-Elkins',\n 'UT-Ogden',\n 'AR-Sims',\n 'CA-Bellflower',\n 'OH-Howland Township',\n 'TX-El Paso',\n 'WV-Montcalm',\n 'MA-Beverly',\n 'IL-Hurst',\n 'TN-Counce',\n 'OR-Medford',\n 'FL-Cantonment',\n 'CO-Fountain',\n 'CA-Hawaiian Gardens',\n 'NC-Statesville',\n 'MN-Alexandria',\n 'KY-Lancaster',\n 'AL-Washington County',\n 'AL-Saraland',\n 'OK-Healdton',\n 'WA-Wapato',\n 'UT-Logan Canyon',\n 'LA-Mamou',\n 'CA-Cottonwood',\n 'KS-Hutchinson',\n 'WI-Fond du Lac',\n 'NM-Pueblo of Laguna',\n 'GA-Douglas',\n 'IL-Chicago',\n 'WY-Laramie',\n 'TN-Clarksville',\n 'NE-Omaha',\n 'FL-Opa-Locka',\n 'TX-Gladewater',\n 'NC-Lawndale',\n 'OH-Uniontown',\n 'OK-Colbert',\n 'OR-Tualatin',\n 'TN-McLemoresville',\n 'PA-Pittsburgh',\n 'WV-Hometown',\n 'KY-London',\n 'CA-El Monte',\n 'LA-Bossier City',\n 'MN-Vadnais Heights',\n 'GA-Savannah',\n 'CA-Vista',\n 'MO-Odessa',\n 'GA-Ludowici',\n 'CA-Wilmington',\n 'OR-Gresham',\n 'MN-Morris',\n 'GA-Brooklet',\n 'OK-Schulter',\n 'CA-Redlands',\n 'AZ-Parker',\n 'SC-Pelzer',\n 'TX-Hutchins',\n 'FL-Niceville',\n 'MN-Hutchinson',\n 'CA-Clearlake Park',\n 'CA-El Cajon',\n 'WI-Green Bay',\n 'FL-Sneads',\n 'CA-Palm Springs',\n 'CO-Commerce City',\n 'CA-Elk Grove',\n 'GA-Smyrna',\n 'TX-Panhandle',\n 'FL-Oakland Park',\n 'WI-Beaver Dam',\n 'TX-Fritch',\n 'VA-Emporia',\n 'MI-Romulus',\n 'WA-Vancouver',\n 'MO-Columbia',\n 'ME-Waldoboro',\n 'PA-Avella',\n 'OH-Akron',\n 'WV-Weirton',\n 'IN-Kokomo',\n 'VA-Hopewell',\n 'AR-Farmington',\n 'AR-Marion',\n 'SC-Lake View',\n 'MO-Affton',\n 'NJ-Hackensack',\n 'CA-Coalinga',\n 'FL-Delray Beach',\n 'OK-Broken Bow',\n 'CA-South Gate',\n 'WI-Greenfield',\n 'MI-Marion',\n 'NM-Taos',\n 'NC-Efland',\n 'AL-Sylacauga',\n 'MD-North East',\n 'CO-Parker',\n 'WA-Bellingham',\n 'LA-New Iberia',\n 'CA-Fullerton',\n 'HI-Kahuku',\n 'NH-Claremont',\n 'NC-Spring Lake',\n 'SC-Goose Creek',\n 'WV-Morgantown',\n 'OK-McAlester',\n 'CA-Brawley',\n 'CA-San Ysidro',\n 'WY-Casper',\n 'FL-Orange County',\n 'NC-Hudson',\n 'VA-Alexandria',\n 'TX-Tahoka',\n 'CA-Hawthorne',\n 'CA-La Quinta',\n 'WA-Wenatchee',\n 'FL-Hog Valley',\n 'SC-Little Mountain',\n 'FL-Navarre',\n 'LA-Franklin',\n 'NM-Rowe',\n 'CA-Kings County',\n 'CO-Montrose County',\n 'KY-Lawrenceburg',\n 'KY-Pine Top',\n 'MD-Randallstown',\n 'OK-Rush Springs',\n 'FL-Jacksonville',\n 'WA-Muckleshoot Indian Reservation',\n 'PA-Union Township',\n 'MI-Columbia Township',\n 'MT-Huntley',\n 'WA-Kirkland',\n 'NV-Boulder City',\n 'FL-Englewood',\n 'NY-New Paltz',\n 'MN-Vineland',\n 'NC-Stoneville',\n 'CA-Hayward',\n 'CA-Anaheim',\n 'FL-Fort Lauderdale',\n 'CA-Whittier',\n 'OK-Bethany',\n 'OK-Burns Flat',\n 'OK-Cushing',\n 'TN-Morristown',\n 'MS-Ruth',\n 'OH-Dayton',\n 'CA-Hollywood',\n 'CA-Antelope',\n 'MO-McDowell',\n 'MN-Fridley',\n 'FL-Tampa',\n 'CA-Escondido',\n 'OK-Kellyville',\n 'TN-Elizabethton',\n 'NC-Rutherfordton',\n 'AK-Wasilla',\n 'NY-Troy',\n 'SC-Myrtle Beach',\n 'MI-Hessel',\n 'OH-Cleveland',\n 'FL-Orlando',\n 'CA-Santa Maria',\n 'CA-Merced',\n 'OK-Sand Springs',\n 'MD-Fort Meade',\n 'CT-Oakdale',\n 'CA-Hemet',\n 'PA-Chester',\n 'WV-Bluefield',\n 'AL-Arab',\n 'VA-Grayson County',\n 'CA-Madera',\n 'WI-Geneva',\n 'TN-West Knox',\n 'ME-Madison',\n 'TX-Reno',\n 'MD-Mt Airy',\n 'NC-Clinton',\n 'NC-Durham',\n 'PA-Somerset',\n 'TX-Corpus Christi',\n 'CA-Downey',\n 'IA-Burlington',\n 'CA-Barona Indian Reservation',\n 'CA-Camarillo',\n 'WA-Lynnwood',\n 'TX-Fort Stockton',\n 'MN-Mankato',\n 'UT-Aragonite',\n 'MO-North St. Louis',\n 'CA-Twentynine Palms',\n 'VA-Chesapeake',\n 'CA-Studio City',\n 'KY-Phelps',\n 'CA-Seaside',\n 'OK-Wewoka',\n 'NC-Franklin',\n 'CT-Fairfield',\n 'AZ-Golden Valley',\n 'MO-Blue Springs',\n 'CA-Palo Alto',\n 'CA-Clovis',\n 'IA-Boone',\n 'CA-Norwalk',\n 'FL-DeLand',\n 'CA-Valinda',\n 'KS-Topeka',\n 'CA-Moreno Valley',\n 'PA-Canaan Township',\n 'PA-East Stroudsburg',\n 'IN-French Lick',\n 'FL-Pompano Beach',\n 'LA-New Orleans',\n 'LA-Mandeville',\n 'KS-McPherson',\n 'MO-Sullivan',\n 'KY-Fisty',\n 'VA-Woodford',\n 'CA-City Terrace',\n 'ID-Melba',\n 'OH-Colebrook Township',\n 'TX-Lockhart',\n 'ID-Idaho Falls',\n 'VA-Pulaski',\n 'IL-Round Lake',\n 'OK-Lawton',\n 'FL-Naples',\n 'AZ-Maricopa',\n 'GA-Mableton',\n 'IN-English',\n 'MI-Grand Rapids',\n 'TX-Oak Cliff',\n 'CO-Fort Collins',\n 'AL-Deer Park',\n 'OK-Millerton',\n 'CA-Happy Valley',\n 'AZ-Buckeye',\n 'MS-Water Valley',\n 'KS-Colby',\n 'AL-Eastaboga',\n 'MS-Tupelo',\n 'TX-Terrell',\n 'WV-Mount Hope',\n 'MO-Big Bear',\n 'CT-Mashantucket',\n 'CA-Calexico',\n 'AZ-Marana',\n 'GA-Stone Mountain',\n 'NY-New City',\n 'IN-Hanover',\n 'CA-Ripon',\n 'CT-Bolton',\n 'OH-Fairborn',\n 'WA-Ridgefield',\n 'WV-Princeton',\n 'MO-Sedalia',\n 'WA-Graham',\n 'NC-Dublin',\n 'FL-Pinellas Park',\n 'CA-La Mirada',\n 'DE-Claymont',\n 'AZ-Morenci',\n 'NE-Louisville',\n 'WI-Wausau',\n 'AZ-Pima',\n 'AZ-Winslow',\n 'CA-Poway',\n 'IL-Lawndale',\n 'OH-Rome',\n 'AR-Little Rock',\n 'FL-Cape Canaveral',\n 'NY-Cheektowaga',\n 'WY-Cheyenne',\n 'WI-Weston',\n 'MO-Cape Girardeau',\n 'CA-Yorba Linda',\n 'IL-Shawnee National Forest',\n 'CA-Concord',\n 'AR-Mountain Pine',\n 'CA-Sunnyvale',\n 'WA-Bainbridge Island',\n 'TN-Chattanooga',\n 'ID-Kuna',\n 'AK-Big Lake',\n 'SD-Kyle',\n 'MD-Elkton',\n 'SC-Boiling Springs',\n 'NY-Beacon',\n 'MN-Falcon Heights',\n 'CA-Van Nuys',\n 'FL-Thonotosassa',\n 'FL-Fort Pierce',\n 'NY-Staten Island',\n 'PA-Philadelphia',\n 'IN-Beech Grove',\n 'DE-Frederica',\n 'CT-Thomaston',\n 'NC-Ronda',\n 'TX-McKinney',\n 'WV-Augusta',\n 'VA-Pearisburg',\n 'PA-Straban Township',\n 'MI-Belleville',\n 'FL-Crystal Springs',\n 'DE-Smyrna',\n 'NC-Iredell County',\n 'UT-Syracuse',\n 'CA-Needles',\n 'CO-New Castle',\n 'TX-Austin',\n 'TN-Shelbyville',\n 'VA-Fredericksburg',\n 'NJ-Toms River',\n 'AL-Homewood',\n 'KY-Elizabethtown',\n 'SC-Irmo',\n 'AL-Rainbow City',\n 'GA-Port Wentworth',\n 'FL-Plantation',\n 'AZ-Chandler',\n 'GA-Rossville',\n 'CA-Douglas City',\n 'AZ-Florence',\n 'GA-Jesup',\n 'CO-Grand Junction',\n 'GA-Fort Valley',\n 'FL-Milton',\n 'OH-Mansfield',\n 'CA-Dunsmuir',\n 'FL-Deltona',\n 'MO-Ozark',\n 'WA-Yakima',\n 'CA-Rancho Santa Margarita',\n 'AL-Gadsden',\n 'CA-San Francisco',\n 'CA-Jurupa Valley',\n 'KS-Wichita',\n 'TX-Abilene',\n 'CA-Atascadero',\n 'OK-Hominy',\n 'FL-Jupiter',\n 'VA-Aldie',\n 'TN-Nashville',\n 'MD-Middle River',\n 'CO-Pueblo',\n 'SC-Piedmont',\n 'MI-Dearborn',\n 'OK-Wetumka',\n 'GA-Bonaire',\n 'AL-Killeen',\n 'OK-Anadarko',\n 'ID-Hammett',\n 'FL-Yulee',\n 'MS-Hattiesburg',\n 'ME-Arundel',\n 'FL-Orange City',\n 'IA-Cedar Rapids',\n 'CA-Boulder Creek',\n 'LA-Evangeline Parish',\n 'ID-Sandpoint',\n 'TX-Del Rio',\n 'WA-Federal Way',\n 'TX-Beaumont',\n 'CA-Olympic Valley',\n 'OK-Rufe',\n 'TN-Humboldt',\n 'AZ-Bisbee',\n 'IN-Knox',\n 'MI-Wyoming',\n 'FL-Gainesville',\n 'OH-Zanesville',\n 'NM-Hobbs',\n 'WI-Rib Mountain',\n 'CA-Tehachapi',\n 'KY-Bowling Green',\n 'FL-Miami',\n 'TN-Soddy-Daisy',\n 'TX-Fort Worth',\n 'CA-Maywood',\n 'LA-Livingston Parish',\n 'TX-Groveton',\n 'IA-Wellman',\n 'TX-Bellville',\n 'WA-Spanaway',\n 'WI-Appleton',\n 'PA-Chambersburg',\n 'KY-Owensboro',\n 'LA-Crowley',\n 'FL-Lakeland',\n 'FL-Loxahatchee',\n 'TX-Dallas',\n 'TX-Amarillo',\n 'MI-Bay City',\n 'MT-Superior',\n 'CT-Suffield',\n 'KY-Fulton',\n 'IL-Dolton',\n 'PA-Sharon',\n 'NJ-Ideal Beach',\n 'CA-Orange',\n 'TX-Irving',\n 'MT-Livingston',\n 'CA-Point Loma',\n 'UT-West Jordan',\n 'NC-Rowland',\n 'GA-Eden',\n 'OK-Guthrie',\n 'CO-Brighton',\n 'CA-Montclair',\n 'KS-Rosalia',\n 'MT-Malta',\n 'GA-Barrow County',\n 'AR-Dover',\n 'GA-Cochran',\n 'FL-Bradenton',\n 'NM-Roswell',\n 'CO-Federal Heights',\n 'IN-Goshen',\n 'DC-Washington',\n 'OK-Midwest City',\n 'MN-Eagan',\n 'NJ-Maurice River',\n 'PA-Pittston',\n 'NC-Greenville',\n 'KY-Russellville',\n 'CA-Delano',\n 'WI-Lake Hallie',\n 'CA-Santa Monica',\n 'TX-Houston',\n 'CA-Eureka',\n 'VA-Roanoke',\n 'AL-Jackson County',\n 'TX-Arlington',\n 'MO-Springfield',\n 'OH-Southington',\n 'AL-Monroeville',\n 'CA-Winchester',\n 'CO-Park County',\n 'NY-Islip',\n 'IL-East St. Louis',\n 'NM-Jal',\n 'CA-Lake Elsinore',\n 'IL-Marion',\n 'AZ-San Manuel',\n 'MI-Southfield',\n 'SC-Aiken',\n 'TN-Lewisburg',\n 'CA-San Bernardino',\n 'CA-Montebello',\n 'SC-Campobello',\n 'CA-San Mateo',\n 'AL-Meridianville',\n 'WY-Douglas',\n 'NC-East Flat Rock',\n 'CA-Sylmar',\n 'ID-Council',\n 'OK-Pryor',\n 'AR-England',\n 'MN-Minneapolis',\n 'LA-Raceland',\n 'TX-Port Arthur',\n 'OH-Northwood',\n 'IL-Rantoul',\n 'MO-Jackson',\n 'MA-Everett',\n 'SD-Rosebud',\n 'MI-Bloomfield Township',\n 'OR-Bend',\n 'TX-Midland',\n 'AZ-Flagstaff',\n 'WA-East Wenatchee',\n 'MN-Peterson',\n 'CA-Fairfield',\n 'CA-San Diego County',\n 'CA-Byron',\n 'LA-Cade',\n 'NV-Pahrump',\n 'OR-Josephine County',\n 'OR-King City',\n 'CA-Lancaster',\n 'OR-Salem',\n 'UT-Roy',\n 'CA-Sacramento',\n 'PA-Wilkinsburg',\n 'CA-Carson',\n 'WI-Corning',\n 'AZ-La Paz County',\n 'IL-Forest Park',\n 'CA-Watsonville',\n 'OR-Colton',\n 'TX-Victoria',\n 'LA-Pride',\n 'AZ-Phoenix',\n 'OR-Oregon City',\n 'SD-Rapid Valley',\n 'MI-St. Joseph',\n 'CA-Cabazon',\n 'KS-Hays',\n 'SC-Lake City',\n 'MS-Southaven',\n 'AR-West Memphis',\n 'PA-West Chester',\n 'NY-Clarendon',\n 'OR-McMinnville',\n 'NY-Coney Island',\n 'CA-Marina',\n 'CA-Fair Oaks',\n 'MA-Lynn',\n 'MD-Columbia',\n 'IL-Jerseyville',\n 'CA-Venice',\n 'TX-Fulshear',\n 'NY-Greece',\n 'IN-Muncie',\n 'MN-Burnsville',\n 'MO-Nevada',\n 'SC-Taylors',\n 'KY-Morehead',\n 'MN-Bloomington',\n 'ME-Belgrade',\n 'CA-Long Beach',\n 'FL-Deland',\n 'OK-Ardmore',\n 'OH-North Royalton',\n 'TX-Harker Heights',\n 'TN-Hohenwald',\n 'CA-North Hills',\n 'TX-Waco',\n 'AL-Bay Minette',\n 'WV-Meadow Bridge',\n 'OK-Muskogee',\n 'CA-Castaic',\n 'OK-Fairfax',\n 'IN-Harmony',\n 'FL-Jacksonsville',\n 'NM-Eldorado',\n 'NJ-Paterson',\n 'FL-Wellington',\n 'UT-Draper',\n 'CA-Azusa',\n 'CA-Highgrove',\n 'ME-Presque Isle',\n 'VA-Winchester',\n 'OH-Twinsburg',\n 'MI-Brighton Township',\n 'NC-Gastonia',\n 'CA-Cerritos',\n 'FL-Pensacola',\n 'ID-Middleton',\n 'NJ-Lyndhurst',\n 'KY-Richmond',\n 'MD-Montgomery Village',\n 'MS-Barton',\n 'NC-Asheville',\n 'MS-Columbus',\n 'WA-Everett',\n 'WV-Clendenin',\n 'IL-Rock Island',\n 'TX-Splendora',\n 'OH-Geneva Township',\n 'CA-Visalia',\n 'WA-Fife',\n 'WV-Nitro',\n 'ID-Jefferson County',\n 'OR-Wilderville',\n 'WI-Sheboygan',\n 'KY-Louisville',\n 'NJ-Newark',\n 'NC-Fayetteville',\n 'CA-Glendale',\n 'TX-Katy',\n 'TX-Euless',\n 'NV-Gardnerville Ranchos',\n 'WA-Pasco',\n 'CA-Aguanga',\n 'IL-Stockton',\n 'MI-Warren',\n 'CO-Northglenn',\n 'TX-Azle',\n 'NJ-Vineland',\n 'NY-Buffalo',\n 'NC-Archdale',\n 'FL-Palm Harbor',\n 'AL-Tuscumbia',\n 'WA-Hunters',\n 'NC-Granite Falls',\n 'NM-Ruidoso',\n 'FL-Manatee',\n 'NC-Canton',\n 'LA-Converse',\n 'GA-Marietta',\n 'FL-Largo',\n 'OK-Byng',\n 'CA-Redding',\n 'TX-Edinburg',\n 'TN-Alamo',\n 'IL-Arcola',\n 'TX-Palestine',\n 'TN-Reagan',\n 'NM-Socorro',\n 'FL-Miami Beach',\n 'CA-Chula Vista',\n 'IN-Terre Haute',\n 'MS-Gulfport',\n 'IA-Des Moines',\n 'CA-Irvine',\n 'GA-Elberton',\n 'NV-North Las Vegas',\n 'WI-Antigo',\n 'CA-Santa Ana',\n 'OH-Findlay',\n 'AR-Perryville',\n 'PA-Harrisburg',\n 'GA-Moultrie',\n 'NM-Los Lunas',\n 'SC-Hardeeville',\n 'PA-Johnstown',\n 'FL-Middleburg',\n 'OR-Wolf Creek',\n 'TX-Jourdanton',\n 'FL-North Port',\n 'MN-Cohasset',\n 'NJ-Woodbridge',\n 'CA-Boyle Heights',\n 'KY-Simpsonsville',\n 'SC-Summerville',\n 'AL-Birmingham',\n 'AL-Clanton',\n 'MO-Harrisonville',\n 'CA-Hesperia',\n 'MA-West Springfield',\n 'TX-Winnie',\n 'VA-Arlington',\n 'CA-Inyokern',\n 'WV-Petroleum',\n 'TX-Lake Jackson',\n 'NC-Ashe County',\n 'KS-Kansas City',\n 'NC-Greensboro',\n 'CA-Wasco',\n 'WI-Oshkosh',\n 'CA-West Covina',\n 'TX-Onalaska',\n 'LA-Alexandria',\n 'TX-Plano',\n 'NC-Wake Forest',\n 'WI-Neenah',\n 'FL-Weeki Wachi',\n 'TX-San Antonio',\n 'CO-Bailey',\n 'WI-Pembine',\n 'AZ-Cottonwood',\n 'GA-Valdosta',\n 'IL-Rockford',\n 'TX-Ellis County',\n 'IL-River Forest',\n 'TX-Carrollton',\n 'AL-Opp',\n 'OK-Logan County',\n 'FL-Belle Glade',\n 'KY-Chavies',\n 'IN-Elkhart',\n 'WA-Thurston County',\n 'TX-Rosser',\n 'SC-North Charleston',\n 'CA-Olivehurst',\n 'GA-Peachtree City',\n 'SC-Pendleton',\n 'CA-Lakewood',\n 'CA-San Fernando',\n 'WV-Beckley',\n 'TX-Pearland',\n 'CA-Barstow',\n 'NJ-Bridgeton',\n 'MN-Plymouth',\n 'KY-White Plains',\n 'NV-Sparks',\n 'NY-Glenville',\n 'NH-Peterborough',\n 'TX-Nocona',\n 'NJ-Little Egg Harbor',\n 'CA-South Los Angeles',\n 'NC-Maiden',\n 'WI-Ashwaubenon',\n 'NY-Mount Vernon',\n 'TX-Seagoville',\n 'SC-Seneca',\n 'NJ-Trenton',\n 'CA-Grover Beach',\n 'TN-Gray',\n 'MS-Petal',\n 'OK-Cache',\n 'AZ-Bullhead City',\n 'CT-Bridgeport',\n 'AL-Tuscaloosa',\n 'VA-Scott County',\n 'PA-Hummelstown',\n 'MT-Three Forks',\n 'FL-Orange Park',\n 'SC-Iva',\n 'CA-Gardena',\n 'OH-Westlake',\n 'WA-Beaver',\n 'WA-Tukwila',\n 'CA-Rosemead',\n 'OR-Clackamas County',\n 'CA-Chino',\n 'AZ-Kearny',\n 'HI-Honolulu',\n 'MA-Taunton',\n 'CA-Oakland',\n 'KY-Trosper',\n 'OH-Sylvania Township',\n 'MD-Landover',\n 'PA-Upper Darby',\n 'GA-White',\n 'ID-Garden City',\n 'KS-Olathe',\n 'FL-Panama City Beach',\n 'GA-Augusta',\n 'CA-Windsor',\n 'CA-Yreka',\n 'TN-Lakeland',\n 'TX-Killeen',\n 'CA-Cathedral City',\n 'OH-Columbus',\n 'CA-Monterey',\n 'MI-Kentwood',\n 'CA-Compton',\n 'TX-Spring',\n 'CA-Fremont',\n 'HI-Hilo',\n 'GA-Loganville',\n 'TX-Allen',\n 'OH-Mt. Auburn',\n 'CA-Siskiyou County',\n 'UT-Centerville',\n 'OH-Vandalia',\n 'MN-Austin',\n 'CA-Campo',\n 'MD-District Heights',\n 'TX-Clute',\n 'AK-Kenai Peninsula',\n 'CA-Del Mar',\n 'TX-Bexar County',\n 'RI-Tiverton',\n 'CA-Lompoc',\n 'MN-New Hope',\n 'FL-Palm Beach Gardens',\n 'AR-Cabot',\n 'OR-Beaverton',\n 'VA-Norman',\n 'TX-Ponder',\n 'CA-Temecula',\n 'VA-York County',\n 'TN-Oneida',\n 'CA-Colton',\n 'TX-Temple',\n 'MI-Benton Harbor',\n 'FL-Palm Bay',\n 'CA-Vallejo',\n 'OH-Circleville',\n 'MD-Owings Mills',\n 'TX-Baytown',\n 'MN-St. Cloud',\n 'CA-Selma',\n 'TX-Llano',\n 'OR-Portland',\n 'LA-Ouachita Parish',\n 'MI-Beaverton',\n 'FL-Lealman',\n 'GA-Tyrone',\n 'CO-Englewood',\n 'TX-Mission',\n 'IL-Markham',\n 'IL-Benton',\n 'UT-Clearfield',\n 'NJ-Manchester',\n 'MA-Boston',\n 'FL-St. Petersburg',\n 'PA-Lancaster City',\n 'GA-Covington',\n 'WI-Kenosha',\n 'WA-Richland',\n 'AL-Macon County',\n 'CA-Rancho Cordova',\n 'ME-Vassalboro',\n 'GA-Stockbridge',\n 'NM-Artesia',\n 'PA-Mount Washington',\n 'KY-Brodhead',\n 'HI-Papaaloa',\n 'IL-Zion',\n 'CA-Santa Cruz',\n 'LA-Houma',\n 'PA-York',\n 'IL-Joilet',\n 'AZ-Tempe',\n 'OK-Oklahoma City',\n 'AR-Jonesboro',\n 'NC-Pinnacle',\n 'FL-Plant City',\n 'IL-Clinton',\n 'OK-Leedey',\n 'NY-Bronx',\n 'MD-Dundalk',\n 'WA-Kelso',\n 'NC-Lumberton',\n 'ID-Mountain Home',\n 'NC-Gaston County',\n 'PA-Lancaster',\n 'CA-East Hollywood',\n 'KS-Udall',\n 'TN-East Ridge',\n 'LA-Slidell',\n 'WA-Spokane',\n 'TX-Wink',\n 'TX-Weatherford',\n 'AK-Barrow',\n 'NY-Berne',\n 'HI-Aiea',\n 'FL-West Palm Beach',\n 'MD-Rising Sun',\n 'LA-Lakes Charles',\n 'FL-Miami Gardens',\n 'CA-Pico Rivera',\n 'KY-Ludlow',\n 'MT-Billings',\n 'OK-Wagoner',\n 'GA-Woodstock',\n 'AR-Sheridan',\n 'CA-Hollywood Hills',\n 'TN-Decatur County',\n 'NE-Lincoln',\n 'OR-Burns',\n 'FL-Port St. Lucie',\n 'NJ-Atlantic City',\n 'FL-Hallandale Beach',\n 'CA-Hacienda Heights',\n 'WI-Eau Claire',\n 'WA-Sumas',\n 'MD-Salisbury',\n 'AZ-Sun City',\n 'OH-Richmond Heights',\n 'NC-Brevard',\n 'GA-Acworth',\n 'TN-Estill Springs',\n 'TX-Campbellton',\n 'TX-North Laredo',\n 'CO-Strasburg',\n 'CO-Eldorado Springs',\n 'WV-Hensley',\n 'GA-Cedartown',\n 'OH-Celina',\n 'NH-Merrimack',\n 'MN-Aitkin',\n 'NM-San Rafael',\n 'LA-Winnsboro',\n 'OR-West Linn',\n 'KS-Newton',\n 'IL-Alton',\n 'WV-Brandywine',\n 'TX-Longview',\n 'CA-Union City',\n 'CA-Chowchilla',\n 'IN-Fishers',\n 'TX-Beckville',\n 'AZ-Somerton',\n 'FL-Lake Asbury',\n 'NM-Crownpoint',\n 'VA-Falls Church',\n 'MD-Greenbelt',\n 'MO-Sugar Creek',\n 'IL-Deerfield',\n 'GA-Douglasville',\n 'NC-Dallas',\n 'GA-Newnan',\n 'UT-Salt Lake City',\n 'CA-Ontario',\n 'CO-Greeley',\n 'NJ-Byram',\n 'DE-New Castle',\n 'TX-Levelland',\n 'MI-Ishpeming Township',\n 'PA-Allentown',\n 'GA-Riverdale',\n 'TN-Lenoir City',\n 'MO-Maysville',\n 'LA-Homer',\n 'AL-Mobile',\n 'KY-Princeton',\n 'MA-Webster',\n 'ND-Grand Forks',\n 'WI-New London',\n 'WV-Braxton County',\n 'IL-Lyons',\n 'AZ-Golden Shores',\n 'TX-Odessa',\n 'LA-Kenner',\n 'GA-Lawrenceville',\n 'OH-Springfield',\n 'WA-Grapeview',\n 'CA-Smartsville',\n 'SD-Sioux Falls',\n 'GA-Austell',\n 'LA-Gretna',\n 'NY-Brooklyn',\n 'WI-Madison',\n 'OH-Englewood',\n 'OH-Perry Township',\n 'VA-Richmond',\n 'NM-Santa Fe',\n 'IL-Villa Park',\n 'CA-San Marcos',\n 'NM-Laguna Pueblo',\n 'CA-Pinion Hills',\n 'AL-Montgomery',\n 'TX-Kingsbury',\n 'SC-Edmund',\n 'WA-Auburn',\n 'AR-Manila',\n ...]"
     },
     "execution_count": 1105,
     "metadata": {},
     "output_type": "execute_result"
    }
   ],
   "source": [
    "\"\"\"\n",
    "There are many missing fields across all the supporting/optional datasets, in order to resolve this we need\n",
    "to merge these datasets and then make the necessary imputation.\n",
    "1. All data sets have a state and city type columns, merge those columns such that they can all have a column\n",
    "to for indexing.\n",
    "2. Get the list of cities within the mandatory dataset, we need to confirm that the supporting dataset\n",
    "has these cities and if not then we need to impute.\n",
    "\"\"\"\n",
    "#make a list of unique cities, and include the state so we don't deal with same city names of different states\n",
    "df_total['city'] = df_total[['state', 'city']].apply(\"-\".join,axis=1)\n",
    "df_race_city['city'] = df_race_city[['Geographic area', 'City']].apply(\"-\".join,axis=1)\n",
    "df_income['city'] = df_income[['Geographic Area', 'City']].apply(\"-\".join,axis=1)\n",
    "df_poverty['city'] = df_poverty[['Geographic Area', 'City']].apply(\"-\".join,axis=1)\n",
    "df_education['city'] = df_education[['Geographic Area', 'City']].apply(\"-\".join,axis=1)\n",
    "df_income = df_income.drop(['Geographic Area', 'City'], axis=1)\n",
    "df_poverty = df_poverty.drop(columns=['Geographic Area', 'City'])\n",
    "df_education = df_education.drop(columns=['Geographic Area', 'City'])\n",
    "cities = df_total['city'].tolist()\n",
    "cities =list(set(cities))\n",
    "print(len(cities))\n",
    "cities"
   ]
  },
  {
   "cell_type": "code",
   "execution_count": 1106,
   "metadata": {
    "collapsed": false,
    "pycharm": {
     "name": "#%%\n"
    }
   },
   "outputs": [
    {
     "name": "stdout",
     "output_type": "stream",
     "text": [
      "<class 'pandas.core.frame.DataFrame'>\n",
      "RangeIndex: 29268 entries, 0 to 29267\n",
      "Data columns (total 8 columns):\n",
      " #   Column                 Non-Null Count  Dtype \n",
      "---  ------                 --------------  ----- \n",
      " 0   Geographic area        29268 non-null  object\n",
      " 1   City                   29268 non-null  object\n",
      " 2   share_white            29268 non-null  object\n",
      " 3   share_black            29268 non-null  object\n",
      " 4   share_native_american  29268 non-null  object\n",
      " 5   share_asian            29268 non-null  object\n",
      " 6   share_hispanic         29268 non-null  object\n",
      " 7   city                   29268 non-null  object\n",
      "dtypes: object(8)\n",
      "memory usage: 1.8+ MB\n",
      "None\n",
      "<class 'pandas.core.frame.DataFrame'>\n",
      "Int64Index: 29477 entries, 0 to 29476\n",
      "Data columns (total 11 columns):\n",
      " #   Column                 Non-Null Count  Dtype \n",
      "---  ------                 --------------  ----- \n",
      " 0   Geographic area        29268 non-null  object\n",
      " 1   City                   29268 non-null  object\n",
      " 2   share_white            29248 non-null  object\n",
      " 3   share_black            29248 non-null  object\n",
      " 4   share_native_american  29248 non-null  object\n",
      " 5   share_asian            29248 non-null  object\n",
      " 6   share_hispanic         29248 non-null  object\n",
      " 7   city                   29477 non-null  object\n",
      " 8   Median Income          27418 non-null  object\n",
      " 9   poverty_rate           29128 non-null  object\n",
      " 10  percent_completed_hs   29132 non-null  object\n",
      "dtypes: object(11)\n",
      "memory usage: 2.7+ MB\n",
      "None\n"
     ]
    },
    {
     "data": {
      "text/plain": "      Geographic area                    City share_white share_black  \\\n0                  AK               Adak city        19.6           4   \n1                  AK             Akhiok city         8.5         1.4   \n2                  AK            Akiachak CDP         3.5         0.2   \n3                  AK              Akiak city         5.2           0   \n4                  AK             Akutan city        23.3        17.9   \n...               ...                     ...         ...         ...   \n29472              WY  Woods Landing-Jelm CDP        95.9           0   \n29473              WY            Worland city        89.9         0.3   \n29474              WY             Wright town        94.5         0.1   \n29475              WY           Y-O Ranch CDP        92.8         1.5   \n29476              WY              Yoder town        97.4           0   \n\n      share_native_american share_asian share_hispanic  \\\n0                       5.5        52.5            8.9   \n1                      50.7         1.4           11.3   \n2                      95.1         0.2            0.2   \n3                      92.8           0            0.3   \n4                       5.5        43.3           20.8   \n...                     ...         ...            ...   \n29472                     0         2.1              0   \n29473                   1.3         0.6           16.6   \n29474                   1.4         0.2            6.2   \n29475                   2.6           0           11.8   \n29476                     0           0              4   \n\n                            city Median Income poverty_rate  \\\n0                   AK-Adak city         78500         39.3   \n1                 AK-Akhiok city         26250         40.5   \n2                AK-Akiachak CDP         38750         26.1   \n3                  AK-Akiak city         42000         31.3   \n4                 AK-Akutan city         24750         16.1   \n...                          ...           ...          ...   \n29472  WY-Woods Landing-Jelm CDP           NaN         18.6   \n29473            WY-Worland city         41523         15.3   \n29474             WY-Wright town         77114          5.9   \n29475           WY-Y-O Ranch CDP           NaN            0   \n29476              WY-Yoder town         37500          5.4   \n\n      percent_completed_hs  \n0                     93.4  \n1                     62.5  \n2                     76.7  \n3                     81.3  \n4                       73  \n...                    ...  \n29472                  100  \n29473                 85.6  \n29474                 89.2  \n29475                  100  \n29476                 79.4  \n\n[29477 rows x 11 columns]",
      "text/html": "<div>\n<style scoped>\n    .dataframe tbody tr th:only-of-type {\n        vertical-align: middle;\n    }\n\n    .dataframe tbody tr th {\n        vertical-align: top;\n    }\n\n    .dataframe thead th {\n        text-align: right;\n    }\n</style>\n<table border=\"1\" class=\"dataframe\">\n  <thead>\n    <tr style=\"text-align: right;\">\n      <th></th>\n      <th>Geographic area</th>\n      <th>City</th>\n      <th>share_white</th>\n      <th>share_black</th>\n      <th>share_native_american</th>\n      <th>share_asian</th>\n      <th>share_hispanic</th>\n      <th>city</th>\n      <th>Median Income</th>\n      <th>poverty_rate</th>\n      <th>percent_completed_hs</th>\n    </tr>\n  </thead>\n  <tbody>\n    <tr>\n      <th>0</th>\n      <td>AK</td>\n      <td>Adak city</td>\n      <td>19.6</td>\n      <td>4</td>\n      <td>5.5</td>\n      <td>52.5</td>\n      <td>8.9</td>\n      <td>AK-Adak city</td>\n      <td>78500</td>\n      <td>39.3</td>\n      <td>93.4</td>\n    </tr>\n    <tr>\n      <th>1</th>\n      <td>AK</td>\n      <td>Akhiok city</td>\n      <td>8.5</td>\n      <td>1.4</td>\n      <td>50.7</td>\n      <td>1.4</td>\n      <td>11.3</td>\n      <td>AK-Akhiok city</td>\n      <td>26250</td>\n      <td>40.5</td>\n      <td>62.5</td>\n    </tr>\n    <tr>\n      <th>2</th>\n      <td>AK</td>\n      <td>Akiachak CDP</td>\n      <td>3.5</td>\n      <td>0.2</td>\n      <td>95.1</td>\n      <td>0.2</td>\n      <td>0.2</td>\n      <td>AK-Akiachak CDP</td>\n      <td>38750</td>\n      <td>26.1</td>\n      <td>76.7</td>\n    </tr>\n    <tr>\n      <th>3</th>\n      <td>AK</td>\n      <td>Akiak city</td>\n      <td>5.2</td>\n      <td>0</td>\n      <td>92.8</td>\n      <td>0</td>\n      <td>0.3</td>\n      <td>AK-Akiak city</td>\n      <td>42000</td>\n      <td>31.3</td>\n      <td>81.3</td>\n    </tr>\n    <tr>\n      <th>4</th>\n      <td>AK</td>\n      <td>Akutan city</td>\n      <td>23.3</td>\n      <td>17.9</td>\n      <td>5.5</td>\n      <td>43.3</td>\n      <td>20.8</td>\n      <td>AK-Akutan city</td>\n      <td>24750</td>\n      <td>16.1</td>\n      <td>73</td>\n    </tr>\n    <tr>\n      <th>...</th>\n      <td>...</td>\n      <td>...</td>\n      <td>...</td>\n      <td>...</td>\n      <td>...</td>\n      <td>...</td>\n      <td>...</td>\n      <td>...</td>\n      <td>...</td>\n      <td>...</td>\n      <td>...</td>\n    </tr>\n    <tr>\n      <th>29472</th>\n      <td>WY</td>\n      <td>Woods Landing-Jelm CDP</td>\n      <td>95.9</td>\n      <td>0</td>\n      <td>0</td>\n      <td>2.1</td>\n      <td>0</td>\n      <td>WY-Woods Landing-Jelm CDP</td>\n      <td>NaN</td>\n      <td>18.6</td>\n      <td>100</td>\n    </tr>\n    <tr>\n      <th>29473</th>\n      <td>WY</td>\n      <td>Worland city</td>\n      <td>89.9</td>\n      <td>0.3</td>\n      <td>1.3</td>\n      <td>0.6</td>\n      <td>16.6</td>\n      <td>WY-Worland city</td>\n      <td>41523</td>\n      <td>15.3</td>\n      <td>85.6</td>\n    </tr>\n    <tr>\n      <th>29474</th>\n      <td>WY</td>\n      <td>Wright town</td>\n      <td>94.5</td>\n      <td>0.1</td>\n      <td>1.4</td>\n      <td>0.2</td>\n      <td>6.2</td>\n      <td>WY-Wright town</td>\n      <td>77114</td>\n      <td>5.9</td>\n      <td>89.2</td>\n    </tr>\n    <tr>\n      <th>29475</th>\n      <td>WY</td>\n      <td>Y-O Ranch CDP</td>\n      <td>92.8</td>\n      <td>1.5</td>\n      <td>2.6</td>\n      <td>0</td>\n      <td>11.8</td>\n      <td>WY-Y-O Ranch CDP</td>\n      <td>NaN</td>\n      <td>0</td>\n      <td>100</td>\n    </tr>\n    <tr>\n      <th>29476</th>\n      <td>WY</td>\n      <td>Yoder town</td>\n      <td>97.4</td>\n      <td>0</td>\n      <td>0</td>\n      <td>0</td>\n      <td>4</td>\n      <td>WY-Yoder town</td>\n      <td>37500</td>\n      <td>5.4</td>\n      <td>79.4</td>\n    </tr>\n  </tbody>\n</table>\n<p>29477 rows × 11 columns</p>\n</div>"
     },
     "execution_count": 1106,
     "metadata": {},
     "output_type": "execute_result"
    }
   ],
   "source": [
    "\"\"\"\n",
    "First lets merge each of the supporting datasets into df_temp.\n",
    "We noticed that the missing values aren't consistent in the supporting datasets. So we need to change all types of\n",
    "missing values to NAN such that we can impute using fillna().\n",
    "\"\"\"\n",
    "print(df_race_city.info())\n",
    "df_temp = pd.merge(df_race_city, df_income, on='city', how='outer', sort=True)\n",
    "df_temp = pd.merge(df_temp, df_poverty, on='city', how='outer', sort=True)\n",
    "df_temp = pd.merge(df_temp, df_education, on='city', how='outer', sort=True)\n",
    "columns_supp = df_temp.columns.values.tolist()\n",
    "for i in columns_supp:\n",
    "    df_temp[i] = df_temp[i].replace('-', '(X)')\n",
    "    df_temp[i] = df_temp[i].replace('(X)', numpy.NAN)\n",
    "print(df_temp.info())\n",
    "df_temp"
   ]
  },
  {
   "cell_type": "code",
   "execution_count": 1107,
   "metadata": {
    "collapsed": false,
    "pycharm": {
     "name": "#%%\n"
    }
   },
   "outputs": [
    {
     "data": {
      "text/plain": "\"\\nLet's try cleaning the the race of city dataset now viewing the missing datapoints which are denoted at (X).\\n\""
     },
     "execution_count": 1107,
     "metadata": {},
     "output_type": "execute_result"
    }
   ],
   "source": [
    "\"\"\"\n",
    "Let's try cleaning the the race of city dataset now viewing the missing datapoints which are denoted at (X).\n",
    "\"\"\"\n",
    "# df_temp['city'] = df_temp[['Geographic area', 'City']].apply(\"-\".join,axis=1)\n",
    "# list_race_df = df_temp.values.tolist()\n",
    "# j = 0\n",
    "# list_bad_cities = []\n",
    "# for i in list_race_df:\n",
    "#     #we can see it is only null when all races are missing\n",
    "#     if(i.count('(X)') > 0):\n",
    "#         j+=1\n",
    "#         list_bad_cities.append(i[1])\n",
    "#         print(i.count('(X)') )\n",
    "# print(\"total cities with bad points = \", j)\n"
   ]
  },
  {
   "cell_type": "code",
   "execution_count": 1108,
   "metadata": {
    "collapsed": false,
    "pycharm": {
     "name": "#%%\n"
    }
   },
   "outputs": [
    {
     "data": {
      "text/plain": "'With only 20/29260 holding a row of null values, we shall drop these cities'"
     },
     "execution_count": 1108,
     "metadata": {},
     "output_type": "execute_result"
    }
   ],
   "source": [
    "\"\"\"With only 20/29260 holding a row of null values, we shall drop these cities\"\"\"\n",
    "# tempDf_race = df_temp[df_race_city.share_white != '(X)'].copy()\n",
    "# print(tempDf_race.info())\n",
    "# df_race_city.info()"
   ]
  },
  {
   "cell_type": "code",
   "execution_count": 1109,
   "metadata": {
    "collapsed": false,
    "pycharm": {
     "name": "#%%\n"
    }
   },
   "outputs": [
    {
     "name": "stdout",
     "output_type": "stream",
     "text": [
      "AK-Anchorage\n",
      "AK-Barrow\n",
      "AK-Big Lake\n",
      "AK-Fairbanks\n",
      "AK-Houston\n",
      "AK-Wasilla\n",
      "AL-Abbeville\n",
      "AL-Arab\n",
      "AL-Ashville\n",
      "AL-Bay Minette\n",
      "AL-Birmingham\n",
      "AL-Clanton\n",
      "AL-Dadeville\n",
      "AL-Deer Park\n",
      "AL-Eufaula\n",
      "AL-Gadsden\n",
      "AL-Homewood\n",
      "AL-Hoover\n",
      "AL-Huntsville\n",
      "AL-Meridianville\n",
      "AL-Millbrook\n",
      "AL-Mobile\n",
      "AL-Monroeville\n",
      "AL-Montgomery\n",
      "AL-Muscle Shoals\n",
      "AL-Opelika\n",
      "AL-Opp\n",
      "AL-Oxford\n",
      "AL-Phenix City\n",
      "AL-Piedmont\n",
      "AL-Rainbow City\n",
      "AL-Saraland\n",
      "AL-Selma\n",
      "AL-Sylacauga\n",
      "AL-Tuscaloosa\n",
      "AL-Tuscumbia\n",
      "AL-Westover\n",
      "AR-Austin\n",
      "AR-Bull Shoals\n",
      "AR-Cabot\n",
      "AR-Dover\n",
      "AR-England\n",
      "AR-Farmington\n",
      "AR-Fayetteville\n",
      "AR-Jonesboro\n",
      "AR-Little Rock\n",
      "AR-Manila\n",
      "AR-Marion\n",
      "AR-Mena\n",
      "AR-Mountain Pine\n",
      "AR-Perryville\n",
      "AR-Sheridan\n",
      "AR-Springdale\n",
      "AR-Strong\n",
      "AR-West Memphis\n",
      "AZ-Apache Junction\n",
      "AZ-Avondale\n",
      "AZ-Bisbee\n",
      "AZ-Buckeye\n",
      "AZ-Bullhead City\n",
      "AZ-Casa Grande\n",
      "AZ-Chandler\n",
      "AZ-Eagar\n",
      "AZ-Flagstaff\n",
      "AZ-Florence\n",
      "AZ-Gilbert\n",
      "AZ-Glendale\n",
      "AZ-Golden Shores\n",
      "AZ-Golden Valley\n",
      "AZ-Kearny\n",
      "AZ-Kingman\n",
      "AZ-Lake Havasu City\n",
      "AZ-Marana\n",
      "AZ-Morenci\n",
      "AZ-Phoenix\n",
      "AZ-San Manuel\n",
      "AZ-Scottsdale\n",
      "AZ-Show Low\n",
      "AZ-Somerton\n",
      "AZ-Surprise\n",
      "AZ-Tempe\n",
      "AZ-Wilhoit\n",
      "AZ-Yuma\n",
      "CA-Aguanga\n",
      "CA-Anaheim\n",
      "CA-Anderson\n",
      "CA-Antelope\n",
      "CA-Antioch\n",
      "CA-Apple Valley\n",
      "CA-Atascadero\n",
      "CA-Atwater\n",
      "CA-Avenal\n",
      "CA-Azusa\n",
      "CA-Bakersfield\n",
      "CA-Barstow\n",
      "CA-Beaumont\n",
      "CA-Bellflower\n",
      "CA-Boulder Creek\n",
      "CA-Brawley\n",
      "CA-Byron\n",
      "CA-Cabazon\n",
      "CA-Calexico\n",
      "CA-Calimesa\n",
      "CA-Camarillo\n",
      "CA-Campo\n",
      "CA-Carmichael\n",
      "CA-Carson\n",
      "CA-Castaic\n",
      "CA-Cathedral City\n",
      "CA-Ceres\n",
      "CA-Cerritos\n",
      "CA-Chico\n",
      "CA-Chowchilla\n",
      "CA-Chula Vista\n",
      "CA-Citrus Heights\n",
      "CA-Clovis\n",
      "CA-Coalinga\n",
      "CA-Colton\n",
      "CA-Compton\n",
      "CA-Concord\n",
      "CA-Corning\n",
      "CA-Cottonwood\n",
      "CA-Del Mar\n",
      "CA-Delano\n",
      "CA-Delhi\n",
      "CA-Desert Edge\n",
      "CA-Dinuba\n",
      "CA-Douglas City\n",
      "CA-Downey\n",
      "CA-Dunsmuir\n",
      "CA-El Cajon\n",
      "CA-El Monte\n",
      "CA-Elk Grove\n",
      "CA-Emeryville\n",
      "CA-Encinitas\n",
      "CA-Escondido\n",
      "CA-Eureka\n",
      "CA-Fair Oaks\n",
      "CA-Fairfield\n",
      "CA-Florence\n",
      "CA-Fontana\n",
      "CA-Fountain Valley\n",
      "CA-Fremont\n",
      "CA-Fresno\n",
      "CA-Fullerton\n",
      "CA-Gardena\n",
      "CA-Gilroy\n",
      "CA-Glendale\n",
      "CA-Grass Valley\n",
      "CA-Grover Beach\n",
      "CA-Hacienda Heights\n",
      "CA-Hawaiian Gardens\n",
      "CA-Hawthorne\n",
      "CA-Hayward\n",
      "CA-Hemet\n",
      "CA-Hesperia\n",
      "CA-Highgrove\n",
      "CA-Huntington Beach\n",
      "CA-Huntington Park\n",
      "CA-Inglewood\n",
      "CA-Inyokern\n",
      "CA-Irvine\n",
      "CA-Jurupa Valley\n",
      "CA-La Mirada\n",
      "CA-La Quinta\n",
      "CA-Ladera Heights\n",
      "CA-Lake Elsinore\n",
      "CA-Lakewood\n",
      "CA-Lancaster\n",
      "CA-Lodi\n",
      "CA-Lompoc\n",
      "CA-Long Beach\n",
      "CA-Los Angeles\n",
      "CA-Lynwood\n",
      "CA-Maywood\n",
      "CA-Meadow Vista\n",
      "CA-Merced\n",
      "CA-Modesto\n",
      "CA-Montclair\n",
      "CA-Montebello\n",
      "CA-Moreno Valley\n",
      "CA-Napa\n",
      "CA-Needles\n",
      "CA-Newark\n",
      "CA-Newman\n",
      "CA-Newport Beach\n",
      "CA-Norwalk\n",
      "CA-Oakland\n",
      "CA-Olivehurst\n",
      "CA-Ontario\n",
      "CA-Oxnard\n",
      "CA-Palm Springs\n",
      "CA-Palmdale\n",
      "CA-Palo Alto\n",
      "CA-Pico Rivera\n",
      "CA-Pleasanton\n",
      "CA-Pomona\n",
      "CA-Porterville\n",
      "CA-Poway\n",
      "CA-Rancho Cordova\n",
      "CA-Rancho Santa Margarita\n",
      "CA-Redding\n",
      "CA-Redlands\n",
      "CA-Rialto\n",
      "CA-Ripon\n",
      "CA-Riverside\n",
      "CA-Rocklin\n",
      "CA-Rosemead\n",
      "CA-Sacramento\n",
      "CA-Salinas\n",
      "CA-San Bernardino\n",
      "CA-San Fernando\n",
      "CA-San Francisco\n",
      "CA-San Jose\n",
      "CA-San Marcos\n",
      "CA-San Mateo\n",
      "CA-Sand City\n",
      "CA-Santa Ana\n",
      "CA-Santa Barbara\n",
      "CA-Santa Clara\n",
      "CA-Santa Clarita\n",
      "CA-Santa Cruz\n",
      "CA-Santa Maria\n",
      "CA-Santa Monica\n",
      "CA-Santa Nella\n",
      "CA-Santa Paula\n",
      "CA-Santee\n",
      "CA-Saratoga\n",
      "CA-Seaside\n",
      "CA-Selma\n",
      "CA-Shafter\n",
      "CA-Smartsville\n",
      "CA-Solvang\n",
      "CA-South El Monte\n",
      "CA-South Gate\n",
      "CA-South Lake Tahoe\n",
      "CA-Stockton\n",
      "CA-Sunnyvale\n",
      "CA-Tehachapi\n",
      "CA-Temecula\n",
      "CA-Torrance\n",
      "CA-Turlock\n",
      "CA-Tustin\n",
      "CA-Twentynine Palms\n",
      "CA-Union City\n",
      "CA-Vacaville\n",
      "CA-Valinda\n",
      "CA-Vallejo\n",
      "CA-Visalia\n",
      "CA-Walnut Creek\n",
      "CA-Wasco\n",
      "CA-Watsonville\n",
      "CA-West Covina\n",
      "CA-West Goshen\n",
      "CA-Whittier\n",
      "CA-Winchester\n",
      "CA-Windsor\n",
      "CA-Yorba Linda\n",
      "CA-Yreka\n",
      "CA-Yuba City\n",
      "CO-Aurora\n",
      "CO-Boulder\n",
      "CO-Brighton\n",
      "CO-Broomfield\n",
      "CO-Centennial\n",
      "CO-Colorado City\n",
      "CO-Colorado Springs\n",
      "CO-Commerce City\n",
      "CO-Denver\n",
      "CO-Dinosaur\n",
      "CO-Eldorado Springs\n",
      "CO-Englewood\n",
      "CO-Evans\n",
      "CO-Federal Heights\n",
      "CO-Fort Collins\n",
      "CO-Fountain\n",
      "CO-Grand Junction\n",
      "CO-Greeley\n",
      "CO-Lakewood\n",
      "CO-Loveland\n",
      "CO-Mountain View\n",
      "CO-New Castle\n",
      "CO-Northglenn\n",
      "CO-Parker\n",
      "CO-Strasburg\n",
      "CO-Thornton\n",
      "CO-Trinidad\n",
      "CO-Westminster\n",
      "CT-Bridgeport\n",
      "CT-Mashantucket\n",
      "CT-Old Saybrook\n",
      "CT-Stamford\n",
      "CT-Suffield\n",
      "CT-Thomaston\n",
      "DC-Washington\n",
      "DE-Claymont\n",
      "DE-Frederica\n",
      "DE-Middletown\n",
      "DE-New Castle\n",
      "DE-Smyrna\n",
      "FL-Auburndale\n",
      "FL-Belle Glade\n",
      "FL-Brooksville\n",
      "FL-Callahan\n",
      "FL-Cape Canaveral\n",
      "FL-Cape Coral\n",
      "FL-Clermont\n",
      "FL-Crescent City\n",
      "FL-Crystal Springs\n",
      "FL-Delray Beach\n",
      "FL-Deltona\n",
      "FL-Englewood\n",
      "FL-Floral City\n",
      "FL-Fort Lauderdale\n",
      "FL-Fort Walton Beach\n",
      "FL-Fruitland Park\n",
      "FL-Gainesville\n",
      "FL-Gifford\n",
      "FL-Hallandale Beach\n",
      "FL-Holiday\n",
      "FL-Immokalee\n",
      "FL-Lake Wales\n",
      "FL-Largo\n",
      "FL-Lealman\n",
      "FL-Loxahatchee\n",
      "FL-Manatee\n",
      "FL-Mascotte\n",
      "FL-Miami Beach\n",
      "FL-Miami Gardens\n",
      "FL-Micanopy\n",
      "FL-Middleburg\n",
      "FL-Milton\n",
      "FL-Niceville\n",
      "FL-Noma\n",
      "FL-North Port\n",
      "FL-Oakland Park\n",
      "FL-Ocala\n",
      "FL-Orange City\n",
      "FL-Orange Park\n",
      "FL-Orlando\n",
      "FL-Palm Bay\n",
      "FL-Palm Beach Gardens\n",
      "FL-Palm Harbor\n",
      "FL-Panama City Beach\n",
      "FL-Pensacola\n",
      "FL-Pinellas Park\n",
      "FL-Plant City\n",
      "FL-Pompano Beach\n",
      "FL-Port St. Lucie\n",
      "FL-Riverview\n",
      "FL-Sneads\n",
      "FL-St. Petersburg\n",
      "FL-Tallahassee\n",
      "FL-Tampa\n",
      "FL-Thonotosassa\n",
      "FL-Titusville\n",
      "FL-Wellington\n",
      "FL-West Palm Beach\n",
      "FL-Yulee\n",
      "GA-Acworth\n",
      "GA-Albany\n",
      "GA-Arlington\n",
      "GA-Atlanta\n",
      "GA-Austell\n",
      "GA-Brooklet\n",
      "GA-Carrollton\n",
      "GA-Cartersville\n",
      "GA-Cedartown\n",
      "GA-Clarkesville\n",
      "GA-Cochran\n",
      "GA-Commerce\n",
      "GA-Covington\n",
      "GA-Cumming\n",
      "GA-Decatur\n",
      "GA-Douglasville\n",
      "GA-East Point\n",
      "GA-Elberton\n",
      "GA-Fort Valley\n",
      "GA-Gainesville\n",
      "GA-Hampton\n",
      "GA-Jesup\n",
      "GA-Lawrenceville\n",
      "GA-Loganville\n",
      "GA-Ludowici\n",
      "GA-Lumpkin\n",
      "GA-Mableton\n",
      "GA-Marietta\n",
      "GA-Moultrie\n",
      "GA-Newnan\n",
      "GA-Peachtree City\n",
      "GA-Port Wentworth\n",
      "GA-Powder Springs\n",
      "GA-Riverdale\n",
      "GA-Rossville\n",
      "GA-Savannah\n",
      "GA-Smyrna\n",
      "GA-Stockbridge\n",
      "GA-Stone Mountain\n",
      "GA-Sylvester\n",
      "GA-Talking Rock\n",
      "GA-Tyrone\n",
      "GA-Valdosta\n",
      "GA-Woodstock\n",
      "HI-Aiea\n",
      "HI-Hilo\n",
      "HI-Kahuku\n",
      "HI-Keaau\n",
      "IA-Boone\n",
      "IA-Burlington\n",
      "IA-Cedar Rapids\n",
      "IA-Des Moines\n",
      "IA-Fort Madison\n",
      "IA-North English\n",
      "IA-Sioux City\n",
      "IA-Urbandale\n",
      "IA-Wellman\n",
      "ID-Boise\n",
      "ID-Council\n",
      "ID-Garden City\n",
      "ID-Homedale\n",
      "ID-Idaho Falls\n",
      "ID-Kuna\n",
      "ID-Melba\n",
      "ID-Middleton\n",
      "ID-Rexburg\n",
      "ID-Sandpoint\n",
      "IL-Antioch\n",
      "IL-Arcola\n",
      "IL-Belleville\n",
      "IL-Benton\n",
      "IL-Clinton\n",
      "IL-Deerfield\n",
      "IL-Dolton\n",
      "IL-East St. Louis\n",
      "IL-Forest Park\n",
      "IL-Harvey\n",
      "IL-Hurst\n",
      "IL-Jerseyville\n",
      "IL-Lansing\n",
      "IL-Lisle\n",
      "IL-Lyons\n",
      "IL-Maeystown\n",
      "IL-Marion\n",
      "IL-Markham\n",
      "IL-Metropolis\n",
      "IL-North Riverside\n",
      "IL-Rantoul\n",
      "IL-River Forest\n",
      "IL-Rockford\n",
      "IL-Springfield\n",
      "IL-Stockton\n",
      "IL-Villa Park\n",
      "IL-Washington Park\n",
      "IL-Zion\n",
      "IN-Avon\n",
      "IN-Beech Grove\n",
      "IN-Brookville\n",
      "IN-Elkhart\n",
      "IN-English\n",
      "IN-Evansville\n",
      "IN-Fishers\n",
      "IN-Fort Wayne\n",
      "IN-French Lick\n",
      "IN-Gary\n",
      "IN-Goshen\n",
      "IN-Greenwood\n",
      "IN-Hanover\n",
      "IN-Harmony\n",
      "IN-Knox\n",
      "IN-Kokomo\n",
      "IN-Lafayette\n",
      "IN-Monon\n",
      "IN-Muncie\n",
      "IN-Portage\n",
      "IN-Shelbyville\n",
      "IN-Terre Haute\n",
      "IN-Vincennes\n",
      "KS-Assaria\n",
      "KS-Colby\n",
      "KS-Gardner\n",
      "KS-Hesston\n",
      "KS-Hutchinson\n",
      "KS-Kansas City\n",
      "KS-Leavenworth\n",
      "KS-Lehigh\n",
      "KS-McPherson\n",
      "KS-Medicine Lodge\n",
      "KS-Newton\n",
      "KS-Olathe\n",
      "KS-Rosalia\n",
      "KS-Topeka\n",
      "KS-Udall\n",
      "KS-Wichita\n",
      "KY-Barbourville\n",
      "KY-Bardstown\n",
      "KY-Berea\n",
      "KY-Booneville\n",
      "KY-Bowling Green\n",
      "KY-Brodhead\n",
      "KY-Burkesville\n",
      "KY-Edmonton\n",
      "KY-Elizabethtown\n",
      "KY-Elsmere\n",
      "KY-Fulton\n",
      "KY-Georgetown\n",
      "KY-Hiseville\n",
      "KY-Lancaster\n",
      "KY-Lawrenceburg\n",
      "KY-Leitchfield\n",
      "KY-London\n",
      "KY-Ludlow\n",
      "KY-Morehead\n",
      "KY-Owensboro\n",
      "KY-Paris\n",
      "KY-Phelps\n",
      "KY-Princeton\n",
      "KY-Richmond\n",
      "KY-Russellville\n",
      "KY-White Plains\n",
      "KY-Wilmore\n",
      "LA-Alexandria\n",
      "LA-Baton Rouge\n",
      "LA-Bossier City\n",
      "LA-Breaux Bridge\n",
      "LA-Cade\n",
      "LA-Chalmette\n",
      "LA-Converse\n",
      "LA-Covington\n",
      "LA-Crowley\n",
      "LA-Denham Springs\n",
      "LA-Gretna\n",
      "LA-Harvey\n",
      "LA-Homer\n",
      "LA-Houma\n",
      "LA-Kenner\n",
      "LA-Mamou\n",
      "LA-Mandeville\n",
      "LA-Marksville\n",
      "LA-Metairie\n",
      "LA-New Iberia\n",
      "LA-New Orleans\n",
      "LA-Pineville\n",
      "LA-Plaquemine\n",
      "LA-Port Barre\n",
      "LA-Raceland\n",
      "LA-Shreveport\n",
      "LA-Slidell\n",
      "LA-Winnsboro\n",
      "MA-Beverly\n",
      "MA-Boston\n",
      "MA-Braintree\n",
      "MA-Brockton\n",
      "MA-Everett\n",
      "MA-Lowell\n",
      "MA-Oxford\n",
      "MA-Spencer\n",
      "MA-Taunton\n",
      "MA-Webster\n",
      "MA-West Springfield\n",
      "MA-Weymouth\n",
      "MD-Capitol Heights\n",
      "MD-Chestertown\n",
      "MD-Columbia\n",
      "MD-District Heights\n",
      "MD-Dundalk\n",
      "MD-Elkridge\n",
      "MD-Elkton\n",
      "MD-Essex\n",
      "MD-Fort Meade\n",
      "MD-Frederick\n",
      "MD-Greenbelt\n",
      "MD-Middle River\n",
      "MD-Montgomery Village\n",
      "MD-North East\n",
      "MD-Overlea\n",
      "MD-Owings Mills\n",
      "MD-Pikesville\n",
      "MD-Randallstown\n",
      "MD-Reisterstown\n",
      "MD-Rising Sun\n",
      "MD-Salisbury\n",
      "ME-Bangor\n",
      "ME-Madison\n",
      "ME-Naples\n",
      "ME-Portland\n",
      "ME-Presque Isle\n",
      "ME-Waldoboro\n",
      "MI-Bay City\n",
      "MI-Beaverton\n",
      "MI-Belleville\n",
      "MI-Benton Harbor\n",
      "MI-Grand Rapids\n",
      "MI-Kentwood\n",
      "MI-Lansing\n",
      "MI-Marion\n",
      "MI-Portage\n",
      "MI-Romulus\n",
      "MI-Saginaw\n",
      "MI-Southfield\n",
      "MI-St. Joseph\n",
      "MI-Trenton\n",
      "MI-Warren\n",
      "MI-Wyoming\n",
      "MN-Aitkin\n",
      "MN-Alexandria\n",
      "MN-Austin\n",
      "MN-Bloomington\n",
      "MN-Burnsville\n",
      "MN-Cohasset\n",
      "MN-Columbia Heights\n",
      "MN-Eagan\n",
      "MN-Falcon Heights\n",
      "MN-Fridley\n",
      "MN-Hutchinson\n",
      "MN-Mankato\n",
      "MN-Minneapolis\n",
      "MN-Mora\n",
      "MN-New Hope\n",
      "MN-North Branch\n",
      "MN-Peterson\n",
      "MN-Plymouth\n",
      "MN-Roseville\n",
      "MN-St. Cloud\n",
      "MN-Vadnais Heights\n",
      "MN-Vineland\n",
      "MO-Affton\n",
      "MO-Blue Springs\n",
      "MO-Buffalo\n",
      "MO-Cape Girardeau\n",
      "MO-Columbia\n",
      "MO-Florissant\n",
      "MO-Harrisonville\n",
      "MO-Independence\n",
      "MO-Jennings\n",
      "MO-Kansas City\n",
      "MO-Lakeshire\n",
      "MO-Lee's Summit\n",
      "MO-Maysville\n",
      "MO-Neosho\n",
      "MO-Nevada\n",
      "MO-Odessa\n",
      "MO-Ozark\n",
      "MO-Poplar Bluff\n",
      "MO-Republic\n",
      "MO-Sedalia\n",
      "MO-Springfield\n",
      "MO-St. Joseph\n",
      "MO-St. Louis\n",
      "MO-Sugar Creek\n",
      "MO-Sullivan\n",
      "MS-Biloxi\n",
      "MS-Brookhaven\n",
      "MS-Gautier\n",
      "MS-Greenville\n",
      "MS-Gulfport\n",
      "MS-Hattiesburg\n",
      "MS-Iuka\n",
      "MS-Lucedale\n",
      "MS-Petal\n",
      "MS-Smithville\n",
      "MS-Southaven\n",
      "MS-St. Martin\n",
      "MS-Tupelo\n",
      "MS-Walls\n",
      "MS-Water Valley\n",
      "MT-Billings\n",
      "MT-Dillon\n",
      "MT-Huntley\n",
      "MT-Livingston\n",
      "MT-Malta\n",
      "MT-Superior\n",
      "MT-Three Forks\n",
      "NC-Archdale\n",
      "NC-Asheville\n",
      "NC-Brevard\n",
      "NC-Canton\n",
      "NC-Cary\n",
      "NC-Charlotte\n",
      "NC-Clinton\n",
      "NC-Dallas\n",
      "NC-Dublin\n",
      "NC-Durham\n",
      "NC-East Flat Rock\n",
      "NC-Efland\n",
      "NC-Fayetteville\n",
      "NC-Gastonia\n",
      "NC-Granite Falls\n",
      "NC-Greensboro\n",
      "NC-Greenville\n",
      "NC-Hickory\n",
      "NC-Hudson\n",
      "NC-Kinston\n",
      "NC-Lawndale\n",
      "NC-Leland\n",
      "NC-Lenoir\n",
      "NC-Lumberton\n",
      "NC-Maiden\n",
      "NC-Newton Grove\n",
      "NC-Peachland\n",
      "NC-Pinnacle\n",
      "NC-Pleasant Hill\n",
      "NC-Raleigh\n",
      "NC-Ronda\n",
      "NC-Rowland\n",
      "NC-Rutherfordton\n",
      "NC-Salemburg\n",
      "NC-Salisbury\n",
      "NC-Shelby\n",
      "NC-Spring Lake\n",
      "NC-Statesville\n",
      "NC-Stoneville\n",
      "NC-Tarboro\n",
      "NC-Wadesboro\n",
      "NC-Wake Forest\n",
      "NC-Wilkesboro\n",
      "ND-Bismarck\n",
      "ND-Mandan\n",
      "NE-Big Springs\n",
      "NE-Lincoln\n",
      "NE-Louisville\n",
      "NE-Omaha\n",
      "NE-Sidney\n",
      "NE-York\n",
      "NH-Claremont\n",
      "NH-Derry\n",
      "NH-Peterborough\n",
      "NJ-Atlantic City\n",
      "NJ-Bridgeton\n",
      "NJ-Byram\n",
      "NJ-Camden\n",
      "NJ-Hackensack\n",
      "NJ-Hamilton\n",
      "NJ-New Brunswick\n",
      "NJ-Newark\n",
      "NJ-Old Bridge\n",
      "NJ-Paterson\n",
      "NJ-Toms River\n",
      "NJ-Trenton\n",
      "NJ-Ventnor\n",
      "NJ-Vineland\n",
      "NJ-Woodbridge\n",
      "NM-Alamogordo\n",
      "NM-Albuquerque\n",
      "NM-Artesia\n",
      "NM-Carlsbad\n",
      "NM-Carrizozo\n",
      "NM-Crownpoint\n",
      "NM-Deming\n",
      "NM-Edgewood\n",
      "NM-Eldorado\n",
      "NM-Gallup\n",
      "NM-Hanover\n",
      "NM-Hobbs\n",
      "NM-Jal\n",
      "NM-Las Cruces\n",
      "NM-Los Lunas\n",
      "NM-Lovington\n",
      "NM-Roswell\n",
      "NM-Rowe\n",
      "NM-San Rafael\n",
      "NM-Santa Fe\n",
      "NM-Socorro\n",
      "NM-Truth or Consequences\n",
      "NV-Boulder City\n",
      "NV-Gardnerville Ranchos\n",
      "NV-Henderson\n",
      "NV-Las Vegas\n",
      "NV-North Las Vegas\n",
      "NV-Pahrump\n",
      "NV-Reno\n",
      "NV-Silver Springs\n",
      "NV-Sparks\n",
      "NY-Beacon\n",
      "NY-Bronx\n",
      "NY-Buffalo\n",
      "NY-Cheektowaga\n",
      "NY-Constantia\n",
      "NY-Greece\n",
      "NY-Malone\n",
      "NY-Middletown\n",
      "NY-Mount Vernon\n",
      "NY-New City\n",
      "NY-New Paltz\n",
      "NY-Potsdam\n",
      "NY-Rochester\n",
      "NY-Rotterdam\n",
      "NY-Schenectady\n",
      "NY-Syracuse\n",
      "NY-Troy\n",
      "NY-Yonkers\n",
      "OH-Akron\n",
      "OH-Ashtabula\n",
      "OH-Beverly\n",
      "OH-Brookville\n",
      "OH-Canton\n",
      "OH-Celina\n",
      "OH-Cincinnati\n",
      "OH-Circleville\n",
      "OH-Dayton\n",
      "OH-Englewood\n",
      "OH-Euclid\n",
      "OH-Fairborn\n",
      "OH-Findlay\n",
      "OH-Hamilton\n",
      "OH-Hudson\n",
      "OH-Mansfield\n",
      "OH-Medina\n",
      "OH-Montpelier\n",
      "OH-North Royalton\n",
      "OH-Northwood\n",
      "OH-Oak Hill\n",
      "OH-Richmond Heights\n",
      "OH-Rome\n",
      "OH-Springfield\n",
      "OH-Tiffin\n",
      "OH-Toledo\n",
      "OH-Uniontown\n",
      "OH-Vandalia\n",
      "OH-Westerville\n",
      "OH-Westlake\n",
      "OH-Zanesville\n",
      "OK-Anadarko\n",
      "OK-Ardmore\n",
      "OK-Bartlesville\n",
      "OK-Bethany\n",
      "OK-Broken Bow\n",
      "OK-Burns Flat\n",
      "OK-Byars\n",
      "OK-Byng\n",
      "OK-Cache\n",
      "OK-Chickasha\n",
      "OK-Colbert\n",
      "OK-Cushing\n",
      "OK-Edmond\n",
      "OK-Eufaula\n",
      "OK-Fairfax\n",
      "OK-Fairland\n",
      "OK-Guthrie\n",
      "OK-Healdton\n",
      "OK-Hominy\n",
      "OK-Kellyville\n",
      "OK-Kiowa\n",
      "OK-Lawton\n",
      "OK-Leedey\n",
      "OK-McAlester\n",
      "OK-Miami\n",
      "OK-Midwest City\n",
      "OK-Millerton\n",
      "OK-Muskogee\n",
      "OK-Okemah\n",
      "OK-Oklahoma City\n",
      "OK-Ponca City\n",
      "OK-Pryor\n",
      "OK-Roland\n",
      "OK-Rush Springs\n",
      "OK-Sallisaw\n",
      "OK-Sand Springs\n",
      "OK-Schulter\n",
      "OK-Stillwater\n",
      "OK-Tahlequah\n",
      "OK-Tulsa\n",
      "OK-Wagoner\n",
      "OK-Watts\n",
      "OK-Wetumka\n",
      "OK-Wewoka\n",
      "OR-Aloha\n",
      "OR-Beaverton\n",
      "OR-Bend\n",
      "OR-Burns\n",
      "OR-Dallas\n",
      "OR-Eugene\n",
      "OR-Florence\n",
      "OR-Grants Pass\n",
      "OR-Gresham\n",
      "OR-King City\n",
      "OR-McMinnville\n",
      "OR-Medford\n",
      "OR-Oregon City\n",
      "OR-Portland\n",
      "OR-Salem\n",
      "OR-Seaside\n",
      "OR-Springfield\n",
      "OR-Tualatin\n",
      "OR-West Linn\n",
      "PA-Allentown\n",
      "PA-Avella\n",
      "PA-Bloomsburg\n",
      "PA-Campbelltown\n",
      "PA-Chambersburg\n",
      "PA-East Stroudsburg\n",
      "PA-Harrisburg\n",
      "PA-Hummelstown\n",
      "PA-Johnstown\n",
      "PA-Knoxville\n",
      "PA-Lewistown\n",
      "PA-Philadelphia\n",
      "PA-Pittsburgh\n",
      "PA-Pittston\n",
      "PA-Reading\n",
      "PA-Somerset\n",
      "PA-South Greensburg\n",
      "PA-Stewartstown\n",
      "PA-West Chester\n",
      "PA-Wilkinsburg\n",
      "RI-Pawtucket\n",
      "RI-Tiverton\n",
      "SC-Aiken\n",
      "SC-Boiling Springs\n",
      "SC-Campobello\n",
      "SC-Cayce\n",
      "SC-Charleston\n",
      "SC-Fountain Inn\n",
      "SC-Goose Creek\n",
      "SC-Greenville\n",
      "SC-Hardeeville\n",
      "SC-Irmo\n",
      "SC-Iva\n",
      "SC-Johnsonville\n",
      "SC-Lake City\n",
      "SC-Lake View\n",
      "SC-Lancaster\n",
      "SC-Landrum\n",
      "SC-Latta\n",
      "SC-Lexington\n",
      "SC-Little Mountain\n",
      "SC-Moncks Corner\n",
      "SC-Myrtle Beach\n",
      "SC-North Charleston\n",
      "SC-Pelzer\n",
      "SC-Pendleton\n",
      "SC-Piedmont\n",
      "SC-Seneca\n",
      "SC-Spartanburg\n",
      "SC-Summerville\n",
      "SC-Sumter\n",
      "SC-Taylors\n",
      "SD-Kyle\n",
      "SD-Lead\n",
      "SD-Mitchell\n",
      "SD-Rapid City\n",
      "SD-Rapid Valley\n",
      "SD-Rosebud\n",
      "SD-Sioux Falls\n",
      "TN-Alamo\n",
      "TN-Arlington\n",
      "TN-Bristol\n",
      "TN-Chattanooga\n",
      "TN-Clarksville\n",
      "TN-Columbia\n",
      "TN-Dickson\n",
      "TN-East Ridge\n",
      "TN-Elizabethton\n",
      "TN-Estill Springs\n",
      "TN-Franklin\n",
      "TN-Gallatin\n",
      "TN-Hendersonville\n",
      "TN-Hohenwald\n",
      "TN-Humboldt\n",
      "TN-Jackson\n",
      "TN-Johnson City\n",
      "TN-Knoxville\n",
      "TN-Lakeland\n",
      "TN-Lenoir City\n",
      "TN-Lewisburg\n",
      "TN-McLemoresville\n",
      "TN-Memphis\n",
      "TN-Monteagle\n",
      "TN-Morristown\n",
      "TN-Oneida\n",
      "TN-Sevierville\n",
      "TN-Shelbyville\n",
      "TN-Soddy-Daisy\n",
      "TN-Somerville\n",
      "TN-Sparta\n",
      "TN-Spring Hill\n",
      "TX-Abilene\n",
      "TX-Addison\n",
      "TX-Allen\n",
      "TX-Amarillo\n",
      "TX-Arlington\n",
      "TX-Austin\n",
      "TX-Azle\n",
      "TX-Balch Springs\n",
      "TX-Baytown\n",
      "TX-Beaumont\n",
      "TX-Beckville\n",
      "TX-Bellville\n",
      "TX-Boerne\n",
      "TX-Brookshire\n",
      "TX-Brownsville\n",
      "TX-Carrollton\n",
      "TX-Chapeno\n",
      "TX-Cisco\n",
      "TX-Clute\n",
      "TX-Conroe\n",
      "TX-Corpus Christi\n",
      "TX-Dallas\n",
      "TX-DeSoto\n",
      "TX-Del Rio\n",
      "TX-Denton\n",
      "TX-Edinburg\n",
      "TX-El Paso\n",
      "TX-Euless\n",
      "TX-Fort Stockton\n",
      "TX-Fort Worth\n",
      "TX-Freeport\n",
      "TX-Friendswood\n",
      "TX-Fritch\n",
      "TX-Fulshear\n",
      "TX-Garland\n",
      "TX-Gilmer\n",
      "TX-Gladewater\n",
      "TX-Groveton\n",
      "TX-Harker Heights\n",
      "TX-Houston\n",
      "TX-Hurst\n",
      "TX-Hutchins\n",
      "TX-Irving\n",
      "TX-Jourdanton\n",
      "TX-Katy\n",
      "TX-Kerrville\n",
      "TX-Killeen\n",
      "TX-Kingsbury\n",
      "TX-Lake Jackson\n",
      "TX-Levelland\n",
      "TX-Lockhart\n",
      "TX-Longview\n",
      "TX-Lorena\n",
      "TX-Lufkin\n",
      "TX-Mabank\n",
      "TX-Mansfield\n",
      "TX-Midland\n",
      "TX-Midlothian\n",
      "TX-Nacogdoches\n",
      "TX-Odessa\n",
      "TX-Onalaska\n",
      "TX-Palestine\n",
      "TX-Panhandle\n",
      "TX-Paris\n",
      "TX-Pearland\n",
      "TX-Pharr\n",
      "TX-Plano\n",
      "TX-Ponder\n",
      "TX-Port Arthur\n",
      "TX-Rosenberg\n",
      "TX-Rosser\n",
      "TX-Saginaw\n",
      "TX-San Angelo\n",
      "TX-San Antonio\n",
      "TX-Seagoville\n",
      "TX-Sierra Blanca\n",
      "TX-Splendora\n",
      "TX-Springtown\n",
      "TX-Tahoka\n",
      "TX-Temple\n",
      "TX-Tomball\n",
      "TX-Waco\n",
      "TX-Weatherford\n",
      "TX-Webster\n",
      "TX-West Odessa\n",
      "TX-Whitewright\n",
      "TX-Wichita Falls\n",
      "TX-Wink\n",
      "TX-Winnie\n",
      "UT-Centerville\n",
      "UT-Clearfield\n",
      "UT-Draper\n",
      "UT-Eagle Mountain\n",
      "UT-Ogden\n",
      "UT-Parowan\n",
      "UT-Provo\n",
      "UT-Roosevelt\n",
      "UT-Roy\n",
      "UT-Salt Lake City\n",
      "UT-Spanish Fork\n",
      "UT-Syracuse\n",
      "UT-West Jordan\n",
      "VA-Alexandria\n",
      "VA-Arlington\n",
      "VA-Chesapeake\n",
      "VA-Concord\n",
      "VA-Culpeper\n",
      "VA-Emporia\n",
      "VA-Falls Church\n",
      "VA-Fredericksburg\n",
      "VA-Grundy\n",
      "VA-Harrisonburg\n",
      "VA-Herndon\n",
      "VA-Hopewell\n",
      "VA-King George\n",
      "VA-Newport News\n",
      "VA-Norfolk\n",
      "VA-Pearisburg\n",
      "VA-Portsmouth\n",
      "VA-Pulaski\n",
      "VA-Richmond\n",
      "VA-Roanoke\n",
      "VA-Stafford\n",
      "VA-Suffolk\n",
      "VA-Virginia Beach\n",
      "VA-Winchester\n",
      "VT-Burlington\n",
      "VT-Winooski\n",
      "WA-Auburn\n",
      "WA-Bainbridge Island\n",
      "WA-Bellingham\n",
      "WA-Burien\n",
      "WA-Cle Elum\n",
      "WA-Des Moines\n",
      "WA-East Wenatchee\n",
      "WA-Everett\n",
      "WA-Federal Way\n",
      "WA-Graham\n",
      "WA-Grapeview\n",
      "WA-Kelso\n",
      "WA-Kennewick\n",
      "WA-Kent\n",
      "WA-Kirkland\n",
      "WA-Lacey\n",
      "WA-Lake Stevens\n",
      "WA-Lakewood\n",
      "WA-Lynnwood\n",
      "WA-Olympia\n",
      "WA-Pasco\n",
      "WA-Richland\n",
      "WA-Ridgefield\n",
      "WA-Seattle\n",
      "WA-Shelton\n",
      "WA-Snohomish\n",
      "WA-Spanaway\n",
      "WA-Sumas\n",
      "WA-Tacoma\n",
      "WA-Tukwila\n",
      "WA-Vancouver\n",
      "WA-Wapato\n",
      "WA-Wenatchee\n",
      "WA-Woodland\n",
      "WA-Yakima\n",
      "WI-Antigo\n",
      "WI-Appleton\n",
      "WI-Ashwaubenon\n",
      "WI-Beaver Dam\n",
      "WI-East Troy\n",
      "WI-Eau Claire\n",
      "WI-Fond du Lac\n",
      "WI-Green Bay\n",
      "WI-Greenfield\n",
      "WI-Jackson\n",
      "WI-Kenosha\n",
      "WI-Lake Hallie\n",
      "WI-Madison\n",
      "WI-Millston\n",
      "WI-Milwaukee\n",
      "WI-Monroe\n",
      "WI-Neenah\n",
      "WI-New London\n",
      "WI-Oshkosh\n",
      "WI-Paddock Lake\n",
      "WI-Pembine\n",
      "WI-Pine River\n",
      "WI-Rib Mountain\n",
      "WI-Waukesha\n",
      "WI-Wauwatosa\n",
      "WI-West Allis\n",
      "WI-Weston\n",
      "WV-Beckley\n",
      "WV-Bluefield\n",
      "WV-Brandywine\n",
      "WV-Buckhannon\n",
      "WV-Clendenin\n",
      "WV-Elkins\n",
      "WV-Fairmont\n",
      "WV-Follansbee\n",
      "WV-Fort Ashby\n",
      "WV-Grafton\n",
      "WV-Hometown\n",
      "WV-Meadow Bridge\n",
      "WV-Montcalm\n",
      "WV-Morgantown\n",
      "WV-Mount Hope\n",
      "WV-Nitro\n",
      "WV-Princeton\n",
      "WV-Spencer\n",
      "WV-Weirton\n",
      "WY-Cheyenne\n",
      "WY-Douglas\n",
      "WY-Gillette\n",
      "WY-Laramie\n",
      "WY-Rawlins\n",
      "1\n",
      "Replaced cities  1189\n",
      " Was Missing  344\n"
     ]
    },
    {
     "data": {
      "text/plain": "       index Geographic area            City share_white share_black  \\\n0          0              AK       Adak city        19.6           4   \n1          1              AK     Akhiok city         8.5         1.4   \n2          2              AK    Akiachak CDP         3.5         0.2   \n3          3              AK      Akiak city         5.2           0   \n4          4              AK     Akutan city        23.3        17.9   \n...      ...             ...             ...         ...         ...   \n29816  29816              WV  Braxton County         NaN         NaN   \n29817  29817              WV    Gerrardstown         NaN         NaN   \n29818  29818              WV         Hensley         NaN         NaN   \n29819  29819              WV       Petroleum         NaN         NaN   \n29820  29820              WY          Casper         NaN         NaN   \n\n      share_native_american share_asian share_hispanic               city  \\\n0                       5.5        52.5            8.9       AK-Adak city   \n1                      50.7         1.4           11.3     AK-Akhiok city   \n2                      95.1         0.2            0.2    AK-Akiachak CDP   \n3                      92.8           0            0.3      AK-Akiak city   \n4                       5.5        43.3           20.8     AK-Akutan city   \n...                     ...         ...            ...                ...   \n29816                   NaN         NaN            NaN  WV-Braxton County   \n29817                   NaN         NaN            NaN    WV-Gerrardstown   \n29818                   NaN         NaN            NaN         WV-Hensley   \n29819                   NaN         NaN            NaN       WV-Petroleum   \n29820                   NaN         NaN            NaN          WY-Casper   \n\n      Median Income poverty_rate percent_completed_hs  \n0             78500         39.3                 93.4  \n1             26250         40.5                 62.5  \n2             38750         26.1                 76.7  \n3             42000         31.3                 81.3  \n4             24750         16.1                   73  \n...             ...          ...                  ...  \n29816           NaN          NaN                  NaN  \n29817           NaN          NaN                  NaN  \n29818           NaN          NaN                  NaN  \n29819           NaN          NaN                  NaN  \n29820           NaN          NaN                  NaN  \n\n[29821 rows x 12 columns]",
      "text/html": "<div>\n<style scoped>\n    .dataframe tbody tr th:only-of-type {\n        vertical-align: middle;\n    }\n\n    .dataframe tbody tr th {\n        vertical-align: top;\n    }\n\n    .dataframe thead th {\n        text-align: right;\n    }\n</style>\n<table border=\"1\" class=\"dataframe\">\n  <thead>\n    <tr style=\"text-align: right;\">\n      <th></th>\n      <th>index</th>\n      <th>Geographic area</th>\n      <th>City</th>\n      <th>share_white</th>\n      <th>share_black</th>\n      <th>share_native_american</th>\n      <th>share_asian</th>\n      <th>share_hispanic</th>\n      <th>city</th>\n      <th>Median Income</th>\n      <th>poverty_rate</th>\n      <th>percent_completed_hs</th>\n    </tr>\n  </thead>\n  <tbody>\n    <tr>\n      <th>0</th>\n      <td>0</td>\n      <td>AK</td>\n      <td>Adak city</td>\n      <td>19.6</td>\n      <td>4</td>\n      <td>5.5</td>\n      <td>52.5</td>\n      <td>8.9</td>\n      <td>AK-Adak city</td>\n      <td>78500</td>\n      <td>39.3</td>\n      <td>93.4</td>\n    </tr>\n    <tr>\n      <th>1</th>\n      <td>1</td>\n      <td>AK</td>\n      <td>Akhiok city</td>\n      <td>8.5</td>\n      <td>1.4</td>\n      <td>50.7</td>\n      <td>1.4</td>\n      <td>11.3</td>\n      <td>AK-Akhiok city</td>\n      <td>26250</td>\n      <td>40.5</td>\n      <td>62.5</td>\n    </tr>\n    <tr>\n      <th>2</th>\n      <td>2</td>\n      <td>AK</td>\n      <td>Akiachak CDP</td>\n      <td>3.5</td>\n      <td>0.2</td>\n      <td>95.1</td>\n      <td>0.2</td>\n      <td>0.2</td>\n      <td>AK-Akiachak CDP</td>\n      <td>38750</td>\n      <td>26.1</td>\n      <td>76.7</td>\n    </tr>\n    <tr>\n      <th>3</th>\n      <td>3</td>\n      <td>AK</td>\n      <td>Akiak city</td>\n      <td>5.2</td>\n      <td>0</td>\n      <td>92.8</td>\n      <td>0</td>\n      <td>0.3</td>\n      <td>AK-Akiak city</td>\n      <td>42000</td>\n      <td>31.3</td>\n      <td>81.3</td>\n    </tr>\n    <tr>\n      <th>4</th>\n      <td>4</td>\n      <td>AK</td>\n      <td>Akutan city</td>\n      <td>23.3</td>\n      <td>17.9</td>\n      <td>5.5</td>\n      <td>43.3</td>\n      <td>20.8</td>\n      <td>AK-Akutan city</td>\n      <td>24750</td>\n      <td>16.1</td>\n      <td>73</td>\n    </tr>\n    <tr>\n      <th>...</th>\n      <td>...</td>\n      <td>...</td>\n      <td>...</td>\n      <td>...</td>\n      <td>...</td>\n      <td>...</td>\n      <td>...</td>\n      <td>...</td>\n      <td>...</td>\n      <td>...</td>\n      <td>...</td>\n      <td>...</td>\n    </tr>\n    <tr>\n      <th>29816</th>\n      <td>29816</td>\n      <td>WV</td>\n      <td>Braxton County</td>\n      <td>NaN</td>\n      <td>NaN</td>\n      <td>NaN</td>\n      <td>NaN</td>\n      <td>NaN</td>\n      <td>WV-Braxton County</td>\n      <td>NaN</td>\n      <td>NaN</td>\n      <td>NaN</td>\n    </tr>\n    <tr>\n      <th>29817</th>\n      <td>29817</td>\n      <td>WV</td>\n      <td>Gerrardstown</td>\n      <td>NaN</td>\n      <td>NaN</td>\n      <td>NaN</td>\n      <td>NaN</td>\n      <td>NaN</td>\n      <td>WV-Gerrardstown</td>\n      <td>NaN</td>\n      <td>NaN</td>\n      <td>NaN</td>\n    </tr>\n    <tr>\n      <th>29818</th>\n      <td>29818</td>\n      <td>WV</td>\n      <td>Hensley</td>\n      <td>NaN</td>\n      <td>NaN</td>\n      <td>NaN</td>\n      <td>NaN</td>\n      <td>NaN</td>\n      <td>WV-Hensley</td>\n      <td>NaN</td>\n      <td>NaN</td>\n      <td>NaN</td>\n    </tr>\n    <tr>\n      <th>29819</th>\n      <td>29819</td>\n      <td>WV</td>\n      <td>Petroleum</td>\n      <td>NaN</td>\n      <td>NaN</td>\n      <td>NaN</td>\n      <td>NaN</td>\n      <td>NaN</td>\n      <td>WV-Petroleum</td>\n      <td>NaN</td>\n      <td>NaN</td>\n      <td>NaN</td>\n    </tr>\n    <tr>\n      <th>29820</th>\n      <td>29820</td>\n      <td>WY</td>\n      <td>Casper</td>\n      <td>NaN</td>\n      <td>NaN</td>\n      <td>NaN</td>\n      <td>NaN</td>\n      <td>NaN</td>\n      <td>WY-Casper</td>\n      <td>NaN</td>\n      <td>NaN</td>\n      <td>NaN</td>\n    </tr>\n  </tbody>\n</table>\n<p>29821 rows × 12 columns</p>\n</div>"
     },
     "execution_count": 1109,
     "metadata": {},
     "output_type": "execute_result"
    }
   ],
   "source": [
    "\"\"\"\n",
    "We want to make sure all the cities that are in our mandatory dataset is accounted for in the supporting.\n",
    "We shall add those cities if they aren't and impute them as nulls\n",
    "\"\"\"\n",
    "#we can check that all the cities in the total data set is still in the race_city dataset\n",
    "cities2 = df_temp['city'].tolist()\n",
    "cities2 =list(set(cities2))\n",
    "j = 0\n",
    "missing = 0\n",
    "cities.sort()\n",
    "cities2.sort()\n",
    "rep_val = 0\n",
    "for i in cities:\n",
    "    # print(i in cities2)\n",
    "    # print(i)\n",
    "    # print(cities2.index(i[0::1]))\n",
    "    if(i in cities2):\n",
    "        j+=1\n",
    "    elif(any(i in string for string in cities2)):\n",
    "        if len(df_temp[df_temp['city'].str.contains(i) ]) == 1 and sum(i in string for string in cities) == 1:\n",
    "            print(i)\n",
    "            df_temp['city'].loc[df_temp['city'].str.contains(i)] = i\n",
    "            rep_val+=1\n",
    "\n",
    "        else:\n",
    "            newDF = {}\n",
    "            #print(i)\n",
    "            newDF['Geographic area'] = i[0:2]\n",
    "            newDF['City'] = i[3:]\n",
    "            newDF['city'] = i\n",
    "            ind = 0\n",
    "            df_temp = df_temp.append(newDF, ignore_index=True)\n",
    "            cities2 = df_temp['city'].tolist()\n",
    "            cities2 =list(set(cities2))\n",
    "            missing+=1\n",
    "\n",
    "    else:\n",
    "        newDF = {}\n",
    "        #print(i)\n",
    "        newDF['Geographic area'] = i[0:2]\n",
    "        newDF['City'] = i[3:]\n",
    "        newDF['city'] = i\n",
    "        ind = 0\n",
    "        df_temp = df_temp.append(newDF, ignore_index=True)\n",
    "        cities2 = df_temp['city'].tolist()\n",
    "        cities2 =list(set(cities2))\n",
    "        missing+=1\n",
    "\n",
    "\n",
    "print(j)\n",
    "print(\"Replaced cities \", rep_val)\n",
    "print(\" Was Missing \", missing)\n",
    "df_temp.drop_duplicates(subset='city', inplace=True)\n",
    "df_temp.reset_index(inplace=True)\n",
    "df_temp"
   ]
  },
  {
   "cell_type": "code",
   "execution_count": 1110,
   "metadata": {
    "collapsed": false,
    "pycharm": {
     "name": "#%%\n"
    }
   },
   "outputs": [
    {
     "name": "stdout",
     "output_type": "stream",
     "text": [
      "1534\n"
     ]
    }
   ],
   "source": [
    "cities2 = df_temp['city'].tolist()\n",
    "cities2 =list(set(cities2))\n",
    "j = 0\n",
    "for i in cities:\n",
    "    # print(i in cities2)\n",
    "    # print(i)\n",
    "    # print(cities2.index(i[0::1]))\n",
    "    if(i in  cities2):\n",
    "        j+=1\n",
    "#confirming that all the cities were placed in\n",
    "print(j)"
   ]
  },
  {
   "cell_type": "code",
   "execution_count": 1111,
   "metadata": {
    "collapsed": false,
    "pycharm": {
     "name": "#%%\n"
    }
   },
   "outputs": [
    {
     "data": {
      "text/plain": "       index Geographic area                    City share_white share_black  \\\n0          0              AK               Adak city        19.6           4   \n1          1              AK             Akhiok city         8.5         1.4   \n2          2              AK            Akiachak CDP         3.5         0.2   \n3          3              AK              Akiak city         5.2           0   \n4          4              AK             Akutan city        23.3        17.9   \n...      ...             ...                     ...         ...         ...   \n29472  29472              WY  Woods Landing-Jelm CDP        95.9           0   \n29473  29473              WY            Worland city        89.9         0.3   \n29474  29474              WY             Wright town        94.5         0.1   \n29475  29475              WY           Y-O Ranch CDP        92.8         1.5   \n29476  29476              WY              Yoder town        97.4           0   \n\n      share_native_american share_asian share_hispanic  \\\n0                       5.5        52.5            8.9   \n1                      50.7         1.4           11.3   \n2                      95.1         0.2            0.2   \n3                      92.8           0            0.3   \n4                       5.5        43.3           20.8   \n...                     ...         ...            ...   \n29472                     0         2.1              0   \n29473                   1.3         0.6           16.6   \n29474                   1.4         0.2            6.2   \n29475                   2.6           0           11.8   \n29476                     0           0              4   \n\n                            city Median Income poverty_rate  \\\n0                   AK-Adak city         78500         39.3   \n1                 AK-Akhiok city         26250         40.5   \n2                AK-Akiachak CDP         38750         26.1   \n3                  AK-Akiak city         42000         31.3   \n4                 AK-Akutan city         24750         16.1   \n...                          ...           ...          ...   \n29472  WY-Woods Landing-Jelm CDP           NaN         18.6   \n29473            WY-Worland city         41523         15.3   \n29474             WY-Wright town         77114          5.9   \n29475           WY-Y-O Ranch CDP           NaN            0   \n29476              WY-Yoder town         37500          5.4   \n\n      percent_completed_hs  \n0                     93.4  \n1                     62.5  \n2                     76.7  \n3                     81.3  \n4                       73  \n...                    ...  \n29472                  100  \n29473                 85.6  \n29474                 89.2  \n29475                  100  \n29476                 79.4  \n\n[29821 rows x 12 columns]",
      "text/html": "<div>\n<style scoped>\n    .dataframe tbody tr th:only-of-type {\n        vertical-align: middle;\n    }\n\n    .dataframe tbody tr th {\n        vertical-align: top;\n    }\n\n    .dataframe thead th {\n        text-align: right;\n    }\n</style>\n<table border=\"1\" class=\"dataframe\">\n  <thead>\n    <tr style=\"text-align: right;\">\n      <th></th>\n      <th>index</th>\n      <th>Geographic area</th>\n      <th>City</th>\n      <th>share_white</th>\n      <th>share_black</th>\n      <th>share_native_american</th>\n      <th>share_asian</th>\n      <th>share_hispanic</th>\n      <th>city</th>\n      <th>Median Income</th>\n      <th>poverty_rate</th>\n      <th>percent_completed_hs</th>\n    </tr>\n  </thead>\n  <tbody>\n    <tr>\n      <th>0</th>\n      <td>0</td>\n      <td>AK</td>\n      <td>Adak city</td>\n      <td>19.6</td>\n      <td>4</td>\n      <td>5.5</td>\n      <td>52.5</td>\n      <td>8.9</td>\n      <td>AK-Adak city</td>\n      <td>78500</td>\n      <td>39.3</td>\n      <td>93.4</td>\n    </tr>\n    <tr>\n      <th>1</th>\n      <td>1</td>\n      <td>AK</td>\n      <td>Akhiok city</td>\n      <td>8.5</td>\n      <td>1.4</td>\n      <td>50.7</td>\n      <td>1.4</td>\n      <td>11.3</td>\n      <td>AK-Akhiok city</td>\n      <td>26250</td>\n      <td>40.5</td>\n      <td>62.5</td>\n    </tr>\n    <tr>\n      <th>2</th>\n      <td>2</td>\n      <td>AK</td>\n      <td>Akiachak CDP</td>\n      <td>3.5</td>\n      <td>0.2</td>\n      <td>95.1</td>\n      <td>0.2</td>\n      <td>0.2</td>\n      <td>AK-Akiachak CDP</td>\n      <td>38750</td>\n      <td>26.1</td>\n      <td>76.7</td>\n    </tr>\n    <tr>\n      <th>3</th>\n      <td>3</td>\n      <td>AK</td>\n      <td>Akiak city</td>\n      <td>5.2</td>\n      <td>0</td>\n      <td>92.8</td>\n      <td>0</td>\n      <td>0.3</td>\n      <td>AK-Akiak city</td>\n      <td>42000</td>\n      <td>31.3</td>\n      <td>81.3</td>\n    </tr>\n    <tr>\n      <th>4</th>\n      <td>4</td>\n      <td>AK</td>\n      <td>Akutan city</td>\n      <td>23.3</td>\n      <td>17.9</td>\n      <td>5.5</td>\n      <td>43.3</td>\n      <td>20.8</td>\n      <td>AK-Akutan city</td>\n      <td>24750</td>\n      <td>16.1</td>\n      <td>73</td>\n    </tr>\n    <tr>\n      <th>...</th>\n      <td>...</td>\n      <td>...</td>\n      <td>...</td>\n      <td>...</td>\n      <td>...</td>\n      <td>...</td>\n      <td>...</td>\n      <td>...</td>\n      <td>...</td>\n      <td>...</td>\n      <td>...</td>\n      <td>...</td>\n    </tr>\n    <tr>\n      <th>29472</th>\n      <td>29472</td>\n      <td>WY</td>\n      <td>Woods Landing-Jelm CDP</td>\n      <td>95.9</td>\n      <td>0</td>\n      <td>0</td>\n      <td>2.1</td>\n      <td>0</td>\n      <td>WY-Woods Landing-Jelm CDP</td>\n      <td>NaN</td>\n      <td>18.6</td>\n      <td>100</td>\n    </tr>\n    <tr>\n      <th>29473</th>\n      <td>29473</td>\n      <td>WY</td>\n      <td>Worland city</td>\n      <td>89.9</td>\n      <td>0.3</td>\n      <td>1.3</td>\n      <td>0.6</td>\n      <td>16.6</td>\n      <td>WY-Worland city</td>\n      <td>41523</td>\n      <td>15.3</td>\n      <td>85.6</td>\n    </tr>\n    <tr>\n      <th>29474</th>\n      <td>29474</td>\n      <td>WY</td>\n      <td>Wright town</td>\n      <td>94.5</td>\n      <td>0.1</td>\n      <td>1.4</td>\n      <td>0.2</td>\n      <td>6.2</td>\n      <td>WY-Wright town</td>\n      <td>77114</td>\n      <td>5.9</td>\n      <td>89.2</td>\n    </tr>\n    <tr>\n      <th>29475</th>\n      <td>29475</td>\n      <td>WY</td>\n      <td>Y-O Ranch CDP</td>\n      <td>92.8</td>\n      <td>1.5</td>\n      <td>2.6</td>\n      <td>0</td>\n      <td>11.8</td>\n      <td>WY-Y-O Ranch CDP</td>\n      <td>NaN</td>\n      <td>0</td>\n      <td>100</td>\n    </tr>\n    <tr>\n      <th>29476</th>\n      <td>29476</td>\n      <td>WY</td>\n      <td>Yoder town</td>\n      <td>97.4</td>\n      <td>0</td>\n      <td>0</td>\n      <td>0</td>\n      <td>4</td>\n      <td>WY-Yoder town</td>\n      <td>37500</td>\n      <td>5.4</td>\n      <td>79.4</td>\n    </tr>\n  </tbody>\n</table>\n<p>29821 rows × 12 columns</p>\n</div>"
     },
     "execution_count": 1111,
     "metadata": {},
     "output_type": "execute_result"
    }
   ],
   "source": [
    "df_temp.sort_values(by=['city'], inplace=True)\n",
    "df_temp"
   ]
  },
  {
   "cell_type": "code",
   "execution_count": 1112,
   "metadata": {
    "collapsed": false,
    "pycharm": {
     "name": "#%%\n"
    }
   },
   "outputs": [
    {
     "name": "stdout",
     "output_type": "stream",
     "text": [
      "       index Geographic area                    City share_white share_black  \\\n",
      "0          0              AK               Adak city        19.6           4   \n",
      "1          1              AK             Akhiok city         8.5         1.4   \n",
      "2          2              AK            Akiachak CDP         3.5         0.2   \n",
      "3          3              AK              Akiak city         5.2           0   \n",
      "4          4              AK             Akutan city        23.3        17.9   \n",
      "...      ...             ...                     ...         ...         ...   \n",
      "29472  29472              WY  Woods Landing-Jelm CDP        95.9           0   \n",
      "29473  29473              WY            Worland city        89.9         0.3   \n",
      "29474  29474              WY             Wright town        94.5         0.1   \n",
      "29475  29475              WY           Y-O Ranch CDP        92.8         1.5   \n",
      "29476  29476              WY              Yoder town        97.4           0   \n",
      "\n",
      "      share_native_american share_asian share_hispanic  \\\n",
      "0                       5.5        52.5            8.9   \n",
      "1                      50.7         1.4           11.3   \n",
      "2                      95.1         0.2            0.2   \n",
      "3                      92.8           0            0.3   \n",
      "4                       5.5        43.3           20.8   \n",
      "...                     ...         ...            ...   \n",
      "29472                     0         2.1              0   \n",
      "29473                   1.3         0.6           16.6   \n",
      "29474                   1.4         0.2            6.2   \n",
      "29475                   2.6           0           11.8   \n",
      "29476                     0           0              4   \n",
      "\n",
      "                            city Median Income poverty_rate  \\\n",
      "0                   AK-Adak city         78500         39.3   \n",
      "1                 AK-Akhiok city         26250         40.5   \n",
      "2                AK-Akiachak CDP         38750         26.1   \n",
      "3                  AK-Akiak city         42000         31.3   \n",
      "4                 AK-Akutan city         24750         16.1   \n",
      "...                          ...           ...          ...   \n",
      "29472  WY-Woods Landing-Jelm CDP           NaN         18.6   \n",
      "29473            WY-Worland city         41523         15.3   \n",
      "29474             WY-Wright town         77114          5.9   \n",
      "29475           WY-Y-O Ranch CDP           NaN            0   \n",
      "29476              WY-Yoder town         37500          5.4   \n",
      "\n",
      "      percent_completed_hs  \n",
      "0                     93.4  \n",
      "1                     62.5  \n",
      "2                     76.7  \n",
      "3                     81.3  \n",
      "4                       73  \n",
      "...                    ...  \n",
      "29472                  100  \n",
      "29473                 85.6  \n",
      "29474                 89.2  \n",
      "29475                  100  \n",
      "29476                 79.4  \n",
      "\n",
      "[29821 rows x 12 columns]\n",
      "51\n"
     ]
    },
    {
     "data": {
      "text/plain": "['share_white',\n 'share_black',\n 'share_native_american',\n 'share_asian',\n 'share_hispanic']"
     },
     "execution_count": 1112,
     "metadata": {},
     "output_type": "execute_result"
    }
   ],
   "source": [
    "\"\"\"\n",
    "We want to impute the city and our state/Geographic area such that we have a full comprehensive list of both\n",
    "separately after the merge.\n",
    "Then we want to get a list of race names within the df_race_city.\n",
    "\"\"\"\n",
    "\n",
    "df_temp['Geographic area'] = [i[0:2] for i in df_temp['city']]\n",
    "df_temp['City'] = [i[3:] for i in df_temp['city']]\n",
    "print(df_temp)\n",
    "list_states = df_temp['Geographic area'].values.tolist()\n",
    "list_states = list(set(list_states))\n",
    "#we expect to see 51 including DC as a state\n",
    "print(len(list_states))\n",
    "columns_race = df_temp.columns.values.tolist()\n",
    "s = 'share'\n",
    "columns_race = [string for string in columns_race if(s in string)]\n",
    "columns_race"
   ]
  },
  {
   "cell_type": "code",
   "execution_count": 1113,
   "metadata": {
    "collapsed": false,
    "pycharm": {
     "name": "#%%\n"
    }
   },
   "outputs": [
    {
     "name": "stdout",
     "output_type": "stream",
     "text": [
      "97576.2\n",
      "568.5999999999999\n",
      "273.8\n",
      "404.40000000000003\n",
      "2844.4\n",
      "123518.1\n",
      "6430.800000000001\n",
      "357.9\n",
      "1828.2999999999997\n",
      "7068.1\n",
      "53454.6\n",
      "2474.8\n",
      "10542.1\n",
      "312.6\n",
      "4175.5\n",
      "30833.699999999997\n",
      "82.7\n",
      "4332.900000000001\n",
      "116.4\n",
      "800.1\n",
      "52850.7\n",
      "15077.300000000001\n",
      "1321.4\n",
      "684.5\n",
      "4739.1\n",
      "10620.1\n",
      "202.2\n",
      "719.4000000000001\n",
      "258.9\n",
      "1699.3999999999999\n",
      "48419.1\n",
      "2321.1000000000004\n",
      "110.30000000000001\n",
      "373.3\n",
      "1168.4\n",
      "42441.2\n",
      "8816.6\n",
      "411.1\n",
      "258.1\n",
      "2311.7\n",
      "38158.3\n",
      "3132.9\n",
      "135.8\n",
      "273.4\n",
      "1225.3\n",
      "21790.300000000003\n",
      "680.9\n",
      "64.7\n",
      "693.4\n",
      "1201.9\n",
      "29158.5\n",
      "125.5\n",
      "1261.7\n",
      "251.3\n",
      "2498.2\n",
      "41909.200000000004\n",
      "13480.3\n",
      "381.09999999999997\n",
      "277.29999999999995\n",
      "1722.5\n",
      "38.5\n",
      "50.7\n",
      "0.3\n",
      "3.5\n",
      "9.1\n",
      "5794.700000000001\n",
      "1169.8999999999999\n",
      "39.800000000000004\n",
      "152.0\n",
      "563.7000000000002\n",
      "62377.899999999994\n",
      "644.5\n",
      "1256.9\n",
      "286.1\n",
      "3403.1\n",
      "62744.7\n",
      "2854.0\n",
      "745.3\n",
      "660.3\n",
      "2446.5\n",
      "164498.7\n",
      "5768.7\n",
      "285.0\n",
      "1744.6\n",
      "4820.2\n",
      "71858.5\n",
      "724.5\n",
      "2025.5\n",
      "611.3\n",
      "2568.9\n",
      "32947.2\n",
      "199.10000000000002\n",
      "973.3000000000001\n",
      "519.8\n",
      "3676.0999999999995\n",
      "33078.9\n",
      "113.1\n",
      "4690.400000000001\n",
      "124.0\n",
      "794.4000000000001\n",
      "30657.300000000003\n",
      "14556.8\n",
      "452.8\n",
      "372.0\n",
      "1407.9\n",
      "40197.899999999994\n",
      "420.30000000000007\n",
      "744.2\n",
      "528.9000000000001\n",
      "8197.6\n",
      "37356.299999999996\n",
      "10082.3\n",
      "176.6\n",
      "1543.7\n",
      "3072.5\n",
      "83171.0\n",
      "906.7\n",
      "3047.0\n",
      "929.3\n",
      "2857.4\n",
      "44084.799999999996\n",
      "3801.4\n",
      "140.10000000000002\n",
      "3239.9\n",
      "6062.0\n",
      "38109.200000000004\n",
      "1169.0\n",
      "80.30000000000001\n",
      "136.8\n",
      "362.59999999999997\n",
      "144370.7\n",
      "10277.8\n",
      "1151.6999999999998\n",
      "1773.8000000000002\n",
      "68809.79999999999\n",
      "108949.3\n",
      "4081.1\n",
      "2612.2000000000003\n",
      "8441.4\n",
      "44949.2\n",
      "39182.299999999996\n",
      "19176.600000000002\n",
      "188.0\n",
      "933.7\n",
      "4015.8999999999996\n",
      "20161.6\n",
      "67.0\n",
      "573.1\n",
      "110.69999999999999\n",
      "2427.8\n",
      "64669.899999999994\n",
      "1151.4\n",
      "188.10000000000002\n",
      "400.2\n",
      "2263.0\n",
      "24480.399999999998\n",
      "12969.599999999999\n",
      "182.8\n",
      "292.3\n",
      "1767.8\n",
      "44086.9\n",
      "9757.9\n",
      "202.3\n",
      "2168.3999999999996\n",
      "3636.4\n",
      "111736.1\n",
      "4767.8\n",
      "258.9\n",
      "904.8\n",
      "2565.0\n",
      "93066.8\n",
      "6049.9\n",
      "560.0999999999999\n",
      "565.8\n",
      "2433.4\n",
      "12313.100000000002\n",
      "713.8999999999999\n",
      "93.9\n",
      "427.5\n",
      "1140.5\n",
      "5038.799999999999\n",
      "161.7\n",
      "58.60000000000001\n",
      "3873.9\n",
      "1564.1\n",
      "9185.4\n",
      "68.7\n",
      "27.6\n",
      "128.9\n",
      "167.49999999999997\n",
      "18659.5\n",
      "80.69999999999999\n",
      "625.2\n",
      "78.7\n",
      "1215.6\n",
      "16068.800000000001\n",
      "199.70000000000002\n",
      "16144.4\n",
      "488.7\n",
      "756.5\n",
      "19475.6\n",
      "15143.9\n",
      "584.5\n",
      "197.7\n",
      "840.5\n",
      "51732.100000000006\n",
      "895.9000000000001\n",
      "2355.2\n",
      "1930.8000000000002\n",
      "6662.1\n",
      "105676.29999999999\n",
      "4765.2\n",
      "429.6\n",
      "3233.3\n",
      "7882.099999999999\n",
      "54936.2\n",
      "243.89999999999998\n",
      "904.7\n",
      "169.3\n",
      "2360.7\n",
      "28980.4\n",
      "295.5\n",
      "6795.799999999999\n",
      "218.8\n",
      "20127.5\n",
      "11408.099999999999\n",
      "91.70000000000002\n",
      "44.0\n",
      "108.30000000000003\n",
      "164.20000000000002\n",
      "37009.799999999996\n",
      "143.3\n",
      "2137.3\n",
      "117.69999999999999\n",
      "731.0\n",
      "72378.70000000001\n",
      "12301.199999999999\n",
      "419.0\n",
      "1487.4\n",
      "15206.8\n",
      "27028.0\n",
      "430.5\n",
      "12894.0\n",
      "327.7\n",
      "9085.2\n",
      "3033.6999999999994\n",
      "101.60000000000002\n",
      "22.8\n",
      "57.4\n",
      "226.69999999999996\n",
      "12534.900000000001\n",
      "107.39999999999999\n",
      "71.4\n",
      "135.2\n",
      "172.0\n",
      "<class 'pandas.core.frame.DataFrame'>\n",
      "Int64Index: 29821 entries, 0 to 29476\n",
      "Data columns (total 12 columns):\n",
      " #   Column                 Non-Null Count  Dtype \n",
      "---  ------                 --------------  ----- \n",
      " 0   index                  29821 non-null  int64 \n",
      " 1   Geographic area        29821 non-null  object\n",
      " 2   City                   29821 non-null  object\n",
      " 3   share_white            29821 non-null  object\n",
      " 4   share_black            29821 non-null  object\n",
      " 5   share_native_american  29821 non-null  object\n",
      " 6   share_asian            29821 non-null  object\n",
      " 7   share_hispanic         29821 non-null  object\n",
      " 8   city                   29821 non-null  object\n",
      " 9   Median Income          27418 non-null  object\n",
      " 10  poverty_rate           29128 non-null  object\n",
      " 11  percent_completed_hs   29132 non-null  object\n",
      "dtypes: int64(1), object(11)\n",
      "memory usage: 3.0+ MB\n",
      "None\n"
     ]
    },
    {
     "data": {
      "text/plain": "       index Geographic area                    City share_white share_black  \\\n0          0              AK               Adak city        19.6         4.0   \n1          1              AK             Akhiok city         8.5         1.4   \n2          2              AK            Akiachak CDP         3.5         0.2   \n3          3              AK              Akiak city         5.2         0.0   \n4          4              AK             Akutan city        23.3        17.9   \n...      ...             ...                     ...         ...         ...   \n29472  29472              WY  Woods Landing-Jelm CDP        95.9         0.0   \n29473  29473              WY            Worland city        89.9         0.3   \n29474  29474              WY             Wright town        94.5         0.1   \n29475  29475              WY           Y-O Ranch CDP        92.8         1.5   \n29476  29476              WY              Yoder town        97.4         0.0   \n\n      share_native_american share_asian share_hispanic  \\\n0                       5.5        52.5            8.9   \n1                      50.7         1.4           11.3   \n2                      95.1         0.2            0.2   \n3                      92.8         0.0            0.3   \n4                       5.5        43.3           20.8   \n...                     ...         ...            ...   \n29472                   0.0         2.1            0.0   \n29473                   1.3         0.6           16.6   \n29474                   1.4         0.2            6.2   \n29475                   2.6         0.0           11.8   \n29476                   0.0         0.0            4.0   \n\n                            city Median Income poverty_rate  \\\n0                   AK-Adak city         78500         39.3   \n1                 AK-Akhiok city         26250         40.5   \n2                AK-Akiachak CDP         38750         26.1   \n3                  AK-Akiak city         42000         31.3   \n4                 AK-Akutan city         24750         16.1   \n...                          ...           ...          ...   \n29472  WY-Woods Landing-Jelm CDP           NaN         18.6   \n29473            WY-Worland city         41523         15.3   \n29474             WY-Wright town         77114          5.9   \n29475           WY-Y-O Ranch CDP           NaN            0   \n29476              WY-Yoder town         37500          5.4   \n\n      percent_completed_hs  \n0                     93.4  \n1                     62.5  \n2                     76.7  \n3                     81.3  \n4                       73  \n...                    ...  \n29472                  100  \n29473                 85.6  \n29474                 89.2  \n29475                  100  \n29476                 79.4  \n\n[29821 rows x 12 columns]",
      "text/html": "<div>\n<style scoped>\n    .dataframe tbody tr th:only-of-type {\n        vertical-align: middle;\n    }\n\n    .dataframe tbody tr th {\n        vertical-align: top;\n    }\n\n    .dataframe thead th {\n        text-align: right;\n    }\n</style>\n<table border=\"1\" class=\"dataframe\">\n  <thead>\n    <tr style=\"text-align: right;\">\n      <th></th>\n      <th>index</th>\n      <th>Geographic area</th>\n      <th>City</th>\n      <th>share_white</th>\n      <th>share_black</th>\n      <th>share_native_american</th>\n      <th>share_asian</th>\n      <th>share_hispanic</th>\n      <th>city</th>\n      <th>Median Income</th>\n      <th>poverty_rate</th>\n      <th>percent_completed_hs</th>\n    </tr>\n  </thead>\n  <tbody>\n    <tr>\n      <th>0</th>\n      <td>0</td>\n      <td>AK</td>\n      <td>Adak city</td>\n      <td>19.6</td>\n      <td>4.0</td>\n      <td>5.5</td>\n      <td>52.5</td>\n      <td>8.9</td>\n      <td>AK-Adak city</td>\n      <td>78500</td>\n      <td>39.3</td>\n      <td>93.4</td>\n    </tr>\n    <tr>\n      <th>1</th>\n      <td>1</td>\n      <td>AK</td>\n      <td>Akhiok city</td>\n      <td>8.5</td>\n      <td>1.4</td>\n      <td>50.7</td>\n      <td>1.4</td>\n      <td>11.3</td>\n      <td>AK-Akhiok city</td>\n      <td>26250</td>\n      <td>40.5</td>\n      <td>62.5</td>\n    </tr>\n    <tr>\n      <th>2</th>\n      <td>2</td>\n      <td>AK</td>\n      <td>Akiachak CDP</td>\n      <td>3.5</td>\n      <td>0.2</td>\n      <td>95.1</td>\n      <td>0.2</td>\n      <td>0.2</td>\n      <td>AK-Akiachak CDP</td>\n      <td>38750</td>\n      <td>26.1</td>\n      <td>76.7</td>\n    </tr>\n    <tr>\n      <th>3</th>\n      <td>3</td>\n      <td>AK</td>\n      <td>Akiak city</td>\n      <td>5.2</td>\n      <td>0.0</td>\n      <td>92.8</td>\n      <td>0.0</td>\n      <td>0.3</td>\n      <td>AK-Akiak city</td>\n      <td>42000</td>\n      <td>31.3</td>\n      <td>81.3</td>\n    </tr>\n    <tr>\n      <th>4</th>\n      <td>4</td>\n      <td>AK</td>\n      <td>Akutan city</td>\n      <td>23.3</td>\n      <td>17.9</td>\n      <td>5.5</td>\n      <td>43.3</td>\n      <td>20.8</td>\n      <td>AK-Akutan city</td>\n      <td>24750</td>\n      <td>16.1</td>\n      <td>73</td>\n    </tr>\n    <tr>\n      <th>...</th>\n      <td>...</td>\n      <td>...</td>\n      <td>...</td>\n      <td>...</td>\n      <td>...</td>\n      <td>...</td>\n      <td>...</td>\n      <td>...</td>\n      <td>...</td>\n      <td>...</td>\n      <td>...</td>\n      <td>...</td>\n    </tr>\n    <tr>\n      <th>29472</th>\n      <td>29472</td>\n      <td>WY</td>\n      <td>Woods Landing-Jelm CDP</td>\n      <td>95.9</td>\n      <td>0.0</td>\n      <td>0.0</td>\n      <td>2.1</td>\n      <td>0.0</td>\n      <td>WY-Woods Landing-Jelm CDP</td>\n      <td>NaN</td>\n      <td>18.6</td>\n      <td>100</td>\n    </tr>\n    <tr>\n      <th>29473</th>\n      <td>29473</td>\n      <td>WY</td>\n      <td>Worland city</td>\n      <td>89.9</td>\n      <td>0.3</td>\n      <td>1.3</td>\n      <td>0.6</td>\n      <td>16.6</td>\n      <td>WY-Worland city</td>\n      <td>41523</td>\n      <td>15.3</td>\n      <td>85.6</td>\n    </tr>\n    <tr>\n      <th>29474</th>\n      <td>29474</td>\n      <td>WY</td>\n      <td>Wright town</td>\n      <td>94.5</td>\n      <td>0.1</td>\n      <td>1.4</td>\n      <td>0.2</td>\n      <td>6.2</td>\n      <td>WY-Wright town</td>\n      <td>77114</td>\n      <td>5.9</td>\n      <td>89.2</td>\n    </tr>\n    <tr>\n      <th>29475</th>\n      <td>29475</td>\n      <td>WY</td>\n      <td>Y-O Ranch CDP</td>\n      <td>92.8</td>\n      <td>1.5</td>\n      <td>2.6</td>\n      <td>0.0</td>\n      <td>11.8</td>\n      <td>WY-Y-O Ranch CDP</td>\n      <td>NaN</td>\n      <td>0</td>\n      <td>100</td>\n    </tr>\n    <tr>\n      <th>29476</th>\n      <td>29476</td>\n      <td>WY</td>\n      <td>Yoder town</td>\n      <td>97.4</td>\n      <td>0.0</td>\n      <td>0.0</td>\n      <td>0.0</td>\n      <td>4.0</td>\n      <td>WY-Yoder town</td>\n      <td>37500</td>\n      <td>5.4</td>\n      <td>79.4</td>\n    </tr>\n  </tbody>\n</table>\n<p>29821 rows × 12 columns</p>\n</div>"
     },
     "execution_count": 1113,
     "metadata": {},
     "output_type": "execute_result"
    }
   ],
   "source": [
    "\"\"\"\n",
    "Now we can impute the porportion of missing cities based on the state's porportions\n",
    "\"\"\"\n",
    "for state in list_states:\n",
    "    j=0\n",
    "    list_total_races = []\n",
    "    state_df = df_temp.loc[df_temp['Geographic area'] == state]\n",
    "    for i in columns_race:\n",
    "        state_df[i] = state_df[i].astype(float)\n",
    "        list_total_races.append(state_df[i].sum())\n",
    "        print(list_total_races[j])\n",
    "        j+=1\n",
    "    sum_all_races = sum(list_total_races)\n",
    "    porportional_share = [i/sum_all_races for i in list_total_races]\n",
    "    #print(porportional_share, \" sum= \", sum(porportional_share))\n",
    "    j=0\n",
    "    for i in columns_race:\n",
    "        state_df[i] = state_df[i].fillna(porportional_share[j])\n",
    "        j+=1\n",
    "    df_temp.loc[df_temp['Geographic area'] == state] = state_df\n",
    "print(df_temp.info())\n",
    "df_temp\n",
    "\n"
   ]
  },
  {
   "cell_type": "code",
   "execution_count": 1114,
   "metadata": {
    "collapsed": false,
    "pycharm": {
     "name": "#%%\n"
    }
   },
   "outputs": [
    {
     "name": "stdout",
     "output_type": "stream",
     "text": [
      "<class 'pandas.core.frame.DataFrame'>\n",
      "Int64Index: 29821 entries, 0 to 29476\n",
      "Data columns (total 12 columns):\n",
      " #   Column                 Non-Null Count  Dtype  \n",
      "---  ------                 --------------  -----  \n",
      " 0   index                  29821 non-null  int64  \n",
      " 1   Geographic area        29821 non-null  object \n",
      " 2   City                   29821 non-null  object \n",
      " 3   share_white            29821 non-null  object \n",
      " 4   share_black            29821 non-null  object \n",
      " 5   share_native_american  29821 non-null  object \n",
      " 6   share_asian            29821 non-null  object \n",
      " 7   share_hispanic         29821 non-null  object \n",
      " 8   city                   29821 non-null  object \n",
      " 9   Median Income          29821 non-null  float64\n",
      " 10  poverty_rate           29821 non-null  float64\n",
      " 11  percent_completed_hs   29821 non-null  float64\n",
      "dtypes: float64(3), int64(1), object(8)\n",
      "memory usage: 3.0+ MB\n",
      "None\n"
     ]
    },
    {
     "data": {
      "text/plain": "       index Geographic area                    City share_white share_black  \\\n0          0              AK               Adak city        19.6         4.0   \n1          1              AK             Akhiok city         8.5         1.4   \n2          2              AK            Akiachak CDP         3.5         0.2   \n3          3              AK              Akiak city         5.2         0.0   \n4          4              AK             Akutan city        23.3        17.9   \n...      ...             ...                     ...         ...         ...   \n29472  29472              WY  Woods Landing-Jelm CDP        95.9         0.0   \n29473  29473              WY            Worland city        89.9         0.3   \n29474  29474              WY             Wright town        94.5         0.1   \n29475  29475              WY           Y-O Ranch CDP        92.8         1.5   \n29476  29476              WY              Yoder town        97.4         0.0   \n\n      share_native_american share_asian share_hispanic  \\\n0                       5.5        52.5            8.9   \n1                      50.7         1.4           11.3   \n2                      95.1         0.2            0.2   \n3                      92.8         0.0            0.3   \n4                       5.5        43.3           20.8   \n...                     ...         ...            ...   \n29472                   0.0         2.1            0.0   \n29473                   1.3         0.6           16.6   \n29474                   1.4         0.2            6.2   \n29475                   2.6         0.0           11.8   \n29476                   0.0         0.0            4.0   \n\n                            city  Median Income  poverty_rate  \\\n0                   AK-Adak city   78500.000000          39.3   \n1                 AK-Akhiok city   26250.000000          40.5   \n2                AK-Akiachak CDP   38750.000000          26.1   \n3                  AK-Akiak city   42000.000000          31.3   \n4                 AK-Akutan city   24750.000000          16.1   \n...                          ...            ...           ...   \n29472  WY-Woods Landing-Jelm CDP   60874.993464          18.6   \n29473            WY-Worland city   41523.000000          15.3   \n29474             WY-Wright town   77114.000000           5.9   \n29475           WY-Y-O Ranch CDP   60874.993464           0.0   \n29476              WY-Yoder town   37500.000000           5.4   \n\n       percent_completed_hs  \n0                      93.4  \n1                      62.5  \n2                      76.7  \n3                      81.3  \n4                      73.0  \n...                     ...  \n29472                 100.0  \n29473                  85.6  \n29474                  89.2  \n29475                 100.0  \n29476                  79.4  \n\n[29821 rows x 12 columns]",
      "text/html": "<div>\n<style scoped>\n    .dataframe tbody tr th:only-of-type {\n        vertical-align: middle;\n    }\n\n    .dataframe tbody tr th {\n        vertical-align: top;\n    }\n\n    .dataframe thead th {\n        text-align: right;\n    }\n</style>\n<table border=\"1\" class=\"dataframe\">\n  <thead>\n    <tr style=\"text-align: right;\">\n      <th></th>\n      <th>index</th>\n      <th>Geographic area</th>\n      <th>City</th>\n      <th>share_white</th>\n      <th>share_black</th>\n      <th>share_native_american</th>\n      <th>share_asian</th>\n      <th>share_hispanic</th>\n      <th>city</th>\n      <th>Median Income</th>\n      <th>poverty_rate</th>\n      <th>percent_completed_hs</th>\n    </tr>\n  </thead>\n  <tbody>\n    <tr>\n      <th>0</th>\n      <td>0</td>\n      <td>AK</td>\n      <td>Adak city</td>\n      <td>19.6</td>\n      <td>4.0</td>\n      <td>5.5</td>\n      <td>52.5</td>\n      <td>8.9</td>\n      <td>AK-Adak city</td>\n      <td>78500.000000</td>\n      <td>39.3</td>\n      <td>93.4</td>\n    </tr>\n    <tr>\n      <th>1</th>\n      <td>1</td>\n      <td>AK</td>\n      <td>Akhiok city</td>\n      <td>8.5</td>\n      <td>1.4</td>\n      <td>50.7</td>\n      <td>1.4</td>\n      <td>11.3</td>\n      <td>AK-Akhiok city</td>\n      <td>26250.000000</td>\n      <td>40.5</td>\n      <td>62.5</td>\n    </tr>\n    <tr>\n      <th>2</th>\n      <td>2</td>\n      <td>AK</td>\n      <td>Akiachak CDP</td>\n      <td>3.5</td>\n      <td>0.2</td>\n      <td>95.1</td>\n      <td>0.2</td>\n      <td>0.2</td>\n      <td>AK-Akiachak CDP</td>\n      <td>38750.000000</td>\n      <td>26.1</td>\n      <td>76.7</td>\n    </tr>\n    <tr>\n      <th>3</th>\n      <td>3</td>\n      <td>AK</td>\n      <td>Akiak city</td>\n      <td>5.2</td>\n      <td>0.0</td>\n      <td>92.8</td>\n      <td>0.0</td>\n      <td>0.3</td>\n      <td>AK-Akiak city</td>\n      <td>42000.000000</td>\n      <td>31.3</td>\n      <td>81.3</td>\n    </tr>\n    <tr>\n      <th>4</th>\n      <td>4</td>\n      <td>AK</td>\n      <td>Akutan city</td>\n      <td>23.3</td>\n      <td>17.9</td>\n      <td>5.5</td>\n      <td>43.3</td>\n      <td>20.8</td>\n      <td>AK-Akutan city</td>\n      <td>24750.000000</td>\n      <td>16.1</td>\n      <td>73.0</td>\n    </tr>\n    <tr>\n      <th>...</th>\n      <td>...</td>\n      <td>...</td>\n      <td>...</td>\n      <td>...</td>\n      <td>...</td>\n      <td>...</td>\n      <td>...</td>\n      <td>...</td>\n      <td>...</td>\n      <td>...</td>\n      <td>...</td>\n      <td>...</td>\n    </tr>\n    <tr>\n      <th>29472</th>\n      <td>29472</td>\n      <td>WY</td>\n      <td>Woods Landing-Jelm CDP</td>\n      <td>95.9</td>\n      <td>0.0</td>\n      <td>0.0</td>\n      <td>2.1</td>\n      <td>0.0</td>\n      <td>WY-Woods Landing-Jelm CDP</td>\n      <td>60874.993464</td>\n      <td>18.6</td>\n      <td>100.0</td>\n    </tr>\n    <tr>\n      <th>29473</th>\n      <td>29473</td>\n      <td>WY</td>\n      <td>Worland city</td>\n      <td>89.9</td>\n      <td>0.3</td>\n      <td>1.3</td>\n      <td>0.6</td>\n      <td>16.6</td>\n      <td>WY-Worland city</td>\n      <td>41523.000000</td>\n      <td>15.3</td>\n      <td>85.6</td>\n    </tr>\n    <tr>\n      <th>29474</th>\n      <td>29474</td>\n      <td>WY</td>\n      <td>Wright town</td>\n      <td>94.5</td>\n      <td>0.1</td>\n      <td>1.4</td>\n      <td>0.2</td>\n      <td>6.2</td>\n      <td>WY-Wright town</td>\n      <td>77114.000000</td>\n      <td>5.9</td>\n      <td>89.2</td>\n    </tr>\n    <tr>\n      <th>29475</th>\n      <td>29475</td>\n      <td>WY</td>\n      <td>Y-O Ranch CDP</td>\n      <td>92.8</td>\n      <td>1.5</td>\n      <td>2.6</td>\n      <td>0.0</td>\n      <td>11.8</td>\n      <td>WY-Y-O Ranch CDP</td>\n      <td>60874.993464</td>\n      <td>0.0</td>\n      <td>100.0</td>\n    </tr>\n    <tr>\n      <th>29476</th>\n      <td>29476</td>\n      <td>WY</td>\n      <td>Yoder town</td>\n      <td>97.4</td>\n      <td>0.0</td>\n      <td>0.0</td>\n      <td>0.0</td>\n      <td>4.0</td>\n      <td>WY-Yoder town</td>\n      <td>37500.000000</td>\n      <td>5.4</td>\n      <td>79.4</td>\n    </tr>\n  </tbody>\n</table>\n<p>29821 rows × 12 columns</p>\n</div>"
     },
     "execution_count": 1114,
     "metadata": {},
     "output_type": "execute_result"
    }
   ],
   "source": [
    "df_temp['Median Income'] = pd.to_numeric(df_temp['Median Income'], errors='coerce')\n",
    "df_temp['poverty_rate'] = pd.to_numeric(df_temp['poverty_rate'], errors='coerce')\n",
    "df_temp['percent_completed_hs'] = pd.to_numeric(df_temp['percent_completed_hs'], errors='coerce')\n",
    "for state in list_states:\n",
    "    state_df = df_temp.loc[df_temp['Geographic area'] == state]\n",
    "    state_df['Median Income'] = state_df['Median Income'].fillna(state_df['Median Income'].mean())\n",
    "    state_df['poverty_rate'] = state_df['poverty_rate'].fillna(state_df['poverty_rate'].mean())\n",
    "    state_df['percent_completed_hs'] =state_df['percent_completed_hs'].fillna(state_df['percent_completed_hs'].mean())\n",
    "    df_temp.loc[df_temp['Geographic area'] == state] = state_df\n",
    "print(df_temp.info())\n",
    "\n",
    "df_temp"
   ]
  },
  {
   "cell_type": "code",
   "execution_count": 1115,
   "metadata": {
    "collapsed": false,
    "pycharm": {
     "name": "#%%\n"
    }
   },
   "outputs": [],
   "source": [
    "#make a list of df fT-oubaor each city\n",
    "list_df_cities = []\n",
    "for i in cities:\n",
    "    list_df_cities.append(df_total.loc[df_total['city'] == i])"
   ]
  },
  {
   "cell_type": "code",
   "execution_count": 1116,
   "metadata": {
    "collapsed": false,
    "pycharm": {
     "name": "#%%\n"
    }
   },
   "outputs": [
    {
     "data": {
      "text/plain": "['W', 'N', 'B', 'A', 'H', 'O']"
     },
     "execution_count": 1116,
     "metadata": {},
     "output_type": "execute_result"
    }
   ],
   "source": [
    "#make a list of race\n",
    "races = df_total['race'].tolist()\n",
    "races =list(set(races))\n",
    "races = races[1::]\n",
    "races"
   ]
  },
  {
   "cell_type": "code",
   "execution_count": 1117,
   "metadata": {
    "collapsed": false,
    "pycharm": {
     "name": "#%%\n"
    }
   },
   "outputs": [
    {
     "name": "stdout",
     "output_type": "stream",
     "text": [
      "['W']\n",
      "<class 'pandas.core.frame.DataFrame'>\n",
      "RangeIndex: 2535 entries, 0 to 2534\n",
      "Data columns (total 14 columns):\n",
      " #   Column                   Non-Null Count  Dtype  \n",
      "---  ------                   --------------  -----  \n",
      " 0   id                       2535 non-null   int64  \n",
      " 1   name                     2535 non-null   object \n",
      " 2   date                     2535 non-null   object \n",
      " 3   manner_of_death          2535 non-null   object \n",
      " 4   armed                    2526 non-null   object \n",
      " 5   age                      2458 non-null   float64\n",
      " 6   gender                   2535 non-null   object \n",
      " 7   race                     2535 non-null   object \n",
      " 8   city                     2535 non-null   object \n",
      " 9   state                    2535 non-null   object \n",
      " 10  signs_of_mental_illness  2535 non-null   bool   \n",
      " 11  threat_level             2535 non-null   object \n",
      " 12  flee                     2470 non-null   object \n",
      " 13  body_camera              2535 non-null   bool   \n",
      "dtypes: bool(2), float64(1), int64(1), object(10)\n",
      "memory usage: 242.7+ KB\n"
     ]
    }
   ],
   "source": [
    "mode_total = df_total['race'].mode(dropna=True).tolist()\n",
    "print(mode_total)\n",
    "for i in list_df_cities:\n",
    "    mode = i['race'].mode(dropna=True)\n",
    "    if(len(mode) == 0):\n",
    "        i[['race']] = i[['race']].fillna(mode_total[0])\n",
    "        if(i['race'].isnull().sum() != 0):\n",
    "            print(\"null val\")\n",
    "    elif(isinstance(mode, type(i['race']))):\n",
    "        mode.dropna()\n",
    "        mode = mode.tolist()\n",
    "        #if the mode has more than one value then take a random choice between the values\n",
    "        i[['race']] = i[['race']].fillna(random.choice(tuple(mode)))\n",
    "\n",
    "\n",
    "\n",
    "    df_total.loc[df_total['city'] ==  i.at[i.first_valid_index(),'city']] = i\n",
    "df_total.info()"
   ]
  },
  {
   "cell_type": "code",
   "execution_count": 1118,
   "metadata": {
    "collapsed": false,
    "pycharm": {
     "name": "#%%\n"
    }
   },
   "outputs": [
    {
     "data": {
      "text/plain": "        id                name      date   manner_of_death       armed   age  \\\n0        3          Tim Elliot  02/01/15              shot         gun  53.0   \n1        4    Lewis Lee Lembke  02/01/15              shot         gun  47.0   \n2        5  John Paul Quintero  03/01/15  shot and Tasered     unarmed  23.0   \n3        8     Matthew Hoffman  04/01/15              shot  toy weapon  32.0   \n4        9   Michael Rodriguez  04/01/15              shot    nail gun  39.0   \n...    ...                 ...       ...               ...         ...   ...   \n2530  2822    Rodney E. Jacobs  28/07/17              shot         gun  31.0   \n2531  2813               TK TK  28/07/17              shot     vehicle   NaN   \n2532  2818  Dennis W. Robinson  29/07/17              shot         gun  48.0   \n2533  2817       Isaiah Tucker  31/07/17              shot     vehicle  28.0   \n2534  2815        Dwayne Jeune  31/07/17              shot       knife  32.0   \n\n     gender race              city state  signs_of_mental_illness  \\\n0         M    A        WA-Shelton    WA                     True   \n1         M    W          OR-Aloha    OR                    False   \n2         M    H        KS-Wichita    KS                    False   \n3         M    W  CA-San Francisco    CA                     True   \n4         M    H          CO-Evans    CO                    False   \n...     ...  ...               ...   ...                      ...   \n2530      M    B    MO-Kansas City    MO                    False   \n2531      M    H    NM-Albuquerque    NM                    False   \n2532      M    W          ID-Melba    ID                    False   \n2533      M    B        WI-Oshkosh    WI                    False   \n2534      M    B       NY-Brooklyn    NY                     True   \n\n     threat_level         flee  body_camera  \n0          attack  Not fleeing        False  \n1          attack  Not fleeing        False  \n2           other  Not fleeing        False  \n3          attack  Not fleeing        False  \n4          attack  Not fleeing        False  \n...           ...          ...          ...  \n2530       attack  Not fleeing        False  \n2531       attack          Car        False  \n2532       attack          Car        False  \n2533       attack          Car         True  \n2534       attack  Not fleeing        False  \n\n[2535 rows x 14 columns]",
      "text/html": "<div>\n<style scoped>\n    .dataframe tbody tr th:only-of-type {\n        vertical-align: middle;\n    }\n\n    .dataframe tbody tr th {\n        vertical-align: top;\n    }\n\n    .dataframe thead th {\n        text-align: right;\n    }\n</style>\n<table border=\"1\" class=\"dataframe\">\n  <thead>\n    <tr style=\"text-align: right;\">\n      <th></th>\n      <th>id</th>\n      <th>name</th>\n      <th>date</th>\n      <th>manner_of_death</th>\n      <th>armed</th>\n      <th>age</th>\n      <th>gender</th>\n      <th>race</th>\n      <th>city</th>\n      <th>state</th>\n      <th>signs_of_mental_illness</th>\n      <th>threat_level</th>\n      <th>flee</th>\n      <th>body_camera</th>\n    </tr>\n  </thead>\n  <tbody>\n    <tr>\n      <th>0</th>\n      <td>3</td>\n      <td>Tim Elliot</td>\n      <td>02/01/15</td>\n      <td>shot</td>\n      <td>gun</td>\n      <td>53.0</td>\n      <td>M</td>\n      <td>A</td>\n      <td>WA-Shelton</td>\n      <td>WA</td>\n      <td>True</td>\n      <td>attack</td>\n      <td>Not fleeing</td>\n      <td>False</td>\n    </tr>\n    <tr>\n      <th>1</th>\n      <td>4</td>\n      <td>Lewis Lee Lembke</td>\n      <td>02/01/15</td>\n      <td>shot</td>\n      <td>gun</td>\n      <td>47.0</td>\n      <td>M</td>\n      <td>W</td>\n      <td>OR-Aloha</td>\n      <td>OR</td>\n      <td>False</td>\n      <td>attack</td>\n      <td>Not fleeing</td>\n      <td>False</td>\n    </tr>\n    <tr>\n      <th>2</th>\n      <td>5</td>\n      <td>John Paul Quintero</td>\n      <td>03/01/15</td>\n      <td>shot and Tasered</td>\n      <td>unarmed</td>\n      <td>23.0</td>\n      <td>M</td>\n      <td>H</td>\n      <td>KS-Wichita</td>\n      <td>KS</td>\n      <td>False</td>\n      <td>other</td>\n      <td>Not fleeing</td>\n      <td>False</td>\n    </tr>\n    <tr>\n      <th>3</th>\n      <td>8</td>\n      <td>Matthew Hoffman</td>\n      <td>04/01/15</td>\n      <td>shot</td>\n      <td>toy weapon</td>\n      <td>32.0</td>\n      <td>M</td>\n      <td>W</td>\n      <td>CA-San Francisco</td>\n      <td>CA</td>\n      <td>True</td>\n      <td>attack</td>\n      <td>Not fleeing</td>\n      <td>False</td>\n    </tr>\n    <tr>\n      <th>4</th>\n      <td>9</td>\n      <td>Michael Rodriguez</td>\n      <td>04/01/15</td>\n      <td>shot</td>\n      <td>nail gun</td>\n      <td>39.0</td>\n      <td>M</td>\n      <td>H</td>\n      <td>CO-Evans</td>\n      <td>CO</td>\n      <td>False</td>\n      <td>attack</td>\n      <td>Not fleeing</td>\n      <td>False</td>\n    </tr>\n    <tr>\n      <th>...</th>\n      <td>...</td>\n      <td>...</td>\n      <td>...</td>\n      <td>...</td>\n      <td>...</td>\n      <td>...</td>\n      <td>...</td>\n      <td>...</td>\n      <td>...</td>\n      <td>...</td>\n      <td>...</td>\n      <td>...</td>\n      <td>...</td>\n      <td>...</td>\n    </tr>\n    <tr>\n      <th>2530</th>\n      <td>2822</td>\n      <td>Rodney E. Jacobs</td>\n      <td>28/07/17</td>\n      <td>shot</td>\n      <td>gun</td>\n      <td>31.0</td>\n      <td>M</td>\n      <td>B</td>\n      <td>MO-Kansas City</td>\n      <td>MO</td>\n      <td>False</td>\n      <td>attack</td>\n      <td>Not fleeing</td>\n      <td>False</td>\n    </tr>\n    <tr>\n      <th>2531</th>\n      <td>2813</td>\n      <td>TK TK</td>\n      <td>28/07/17</td>\n      <td>shot</td>\n      <td>vehicle</td>\n      <td>NaN</td>\n      <td>M</td>\n      <td>H</td>\n      <td>NM-Albuquerque</td>\n      <td>NM</td>\n      <td>False</td>\n      <td>attack</td>\n      <td>Car</td>\n      <td>False</td>\n    </tr>\n    <tr>\n      <th>2532</th>\n      <td>2818</td>\n      <td>Dennis W. Robinson</td>\n      <td>29/07/17</td>\n      <td>shot</td>\n      <td>gun</td>\n      <td>48.0</td>\n      <td>M</td>\n      <td>W</td>\n      <td>ID-Melba</td>\n      <td>ID</td>\n      <td>False</td>\n      <td>attack</td>\n      <td>Car</td>\n      <td>False</td>\n    </tr>\n    <tr>\n      <th>2533</th>\n      <td>2817</td>\n      <td>Isaiah Tucker</td>\n      <td>31/07/17</td>\n      <td>shot</td>\n      <td>vehicle</td>\n      <td>28.0</td>\n      <td>M</td>\n      <td>B</td>\n      <td>WI-Oshkosh</td>\n      <td>WI</td>\n      <td>False</td>\n      <td>attack</td>\n      <td>Car</td>\n      <td>True</td>\n    </tr>\n    <tr>\n      <th>2534</th>\n      <td>2815</td>\n      <td>Dwayne Jeune</td>\n      <td>31/07/17</td>\n      <td>shot</td>\n      <td>knife</td>\n      <td>32.0</td>\n      <td>M</td>\n      <td>B</td>\n      <td>NY-Brooklyn</td>\n      <td>NY</td>\n      <td>True</td>\n      <td>attack</td>\n      <td>Not fleeing</td>\n      <td>False</td>\n    </tr>\n  </tbody>\n</table>\n<p>2535 rows × 14 columns</p>\n</div>"
     },
     "execution_count": 1118,
     "metadata": {},
     "output_type": "execute_result"
    }
   ],
   "source": [
    " # removed all data with NaN in race Column...df_training[df_training['race'].isnull()]\n",
    "df_total"
   ]
  },
  {
   "cell_type": "code",
   "execution_count": 1119,
   "metadata": {
    "collapsed": false,
    "pycharm": {
     "name": "#%%\n"
    }
   },
   "outputs": [
    {
     "name": "stdout",
     "output_type": "stream",
     "text": [
      "<class 'pandas.core.frame.DataFrame'>\n",
      "RangeIndex: 2535 entries, 0 to 2534\n",
      "Data columns (total 14 columns):\n",
      " #   Column                   Non-Null Count  Dtype  \n",
      "---  ------                   --------------  -----  \n",
      " 0   id                       2535 non-null   float64\n",
      " 1   name                     2535 non-null   object \n",
      " 2   date                     2535 non-null   object \n",
      " 3   manner_of_death          2535 non-null   object \n",
      " 4   armed                    2526 non-null   object \n",
      " 5   age                      2535 non-null   float64\n",
      " 6   gender                   2535 non-null   object \n",
      " 7   race                     2535 non-null   object \n",
      " 8   city                     2535 non-null   object \n",
      " 9   state                    2535 non-null   object \n",
      " 10  signs_of_mental_illness  2535 non-null   bool   \n",
      " 11  threat_level             2535 non-null   object \n",
      " 12  flee                     2470 non-null   object \n",
      " 13  body_camera              2535 non-null   bool   \n",
      "dtypes: bool(2), float64(2), object(10)\n",
      "memory usage: 242.7+ KB\n"
     ]
    }
   ],
   "source": [
    "\"\"\"\n",
    "We noticed that some of the 'age' data is missing.\n",
    "So we imputed the average age of the people in each city and imputed the average age for the missing ages based on their city.\n",
    "1. We calculate the total mean age of our total data sample.\n",
    "2. We group by city, then calculate the mean Age at each city.\n",
    "3. For each NaN age, we impute the mean age of that city. If that city was not calcuated (meaning this data is the only one from that city), we will use the total mean age.\n",
    "\"\"\"\n",
    "age_fix = df_total[['id','age','city']].copy()\n",
    "age_fix = age_fix[age_fix['age'].isnull()].copy()\n",
    "# 1. Calculate Total Mean Age\n",
    "total_mean_age = df_total['age'].mean()\n",
    "\n",
    "# 2. Calculate Mean of Each City\n",
    "city_mean_ages = df_total.groupby('city')['age'].mean()\n",
    "\n",
    "#3. Impute Age by the city. If City data does not exist, use Total Mean Age.\n",
    "for i in age_fix.index:\n",
    "    city = age_fix['city'][i]\n",
    "    if city in city_mean_ages and not np.isnan(city_mean_ages[city]):\n",
    "        age_fix['age'][i] = city_mean_ages[city]\n",
    "    else:\n",
    "        age_fix['age'][i] = total_mean_age\n",
    "\n",
    "\n",
    "# update total list\n",
    "df_total.update(age_fix)\n",
    "\n",
    "df_total.info()"
   ]
  },
  {
   "cell_type": "code",
   "execution_count": 1120,
   "metadata": {
    "collapsed": false,
    "pycharm": {
     "name": "#%%\n"
    }
   },
   "outputs": [
    {
     "name": "stdout",
     "output_type": "stream",
     "text": [
      "<class 'pandas.core.frame.DataFrame'>\n",
      "RangeIndex: 2535 entries, 0 to 2534\n",
      "Data columns (total 14 columns):\n",
      " #   Column                   Non-Null Count  Dtype  \n",
      "---  ------                   --------------  -----  \n",
      " 0   id                       2535 non-null   float64\n",
      " 1   name                     2535 non-null   object \n",
      " 2   date                     2535 non-null   object \n",
      " 3   manner_of_death          2535 non-null   object \n",
      " 4   armed                    2535 non-null   object \n",
      " 5   age                      2535 non-null   float64\n",
      " 6   gender                   2535 non-null   object \n",
      " 7   race                     2535 non-null   object \n",
      " 8   city                     2535 non-null   object \n",
      " 9   state                    2535 non-null   object \n",
      " 10  signs_of_mental_illness  2535 non-null   bool   \n",
      " 11  threat_level             2535 non-null   object \n",
      " 12  flee                     2535 non-null   object \n",
      " 13  body_camera              2535 non-null   bool   \n",
      "dtypes: bool(2), float64(2), object(10)\n",
      "memory usage: 242.7+ KB\n"
     ]
    }
   ],
   "source": [
    "\"\"\"\n",
    "We noticed there were missing values for 'armed' and 'flee'. For these, we imputed the most frequent data that appeared.\n",
    "These are listed in the variables flee_mode and armed_mode\n",
    "\"\"\"\n",
    "flee_mode = df_total['flee'].agg(pd.Series.mode).values.tolist()[0]\n",
    "armed_mode = df_total['armed'].agg(pd.Series.mode).values.tolist()[0]\n",
    "df_total['flee'].fillna(flee_mode, inplace=True)\n",
    "df_total['armed'].fillna(armed_mode, inplace=True)\n",
    "df_total.info()"
   ]
  },
  {
   "cell_type": "code",
   "execution_count": 1121,
   "metadata": {
    "collapsed": false,
    "pycharm": {
     "name": "#%%\n"
    }
   },
   "outputs": [
    {
     "data": {
      "text/plain": "'\\n****GIVE EXPLANATION OF OUR ENTIRE PROCESS\\n########################### END OF DATA MUNGING##########################\\n'"
     },
     "execution_count": 1121,
     "metadata": {},
     "output_type": "execute_result"
    }
   ],
   "source": [
    "\"\"\"\n",
    "****GIVE EXPLANATION OF OUR ENTIRE PROCESS\n",
    "########################### END OF DATA MUNGING##########################\n",
    "\"\"\"\n"
   ]
  },
  {
   "cell_type": "code",
   "execution_count": 1122,
   "metadata": {
    "collapsed": false,
    "pycharm": {
     "name": "#%%\n"
    }
   },
   "outputs": [
    {
     "data": {
      "text/plain": "          id                name      date   manner_of_death       armed  \\\n0        3.0          Tim Elliot  02/01/15              shot         gun   \n1        4.0    Lewis Lee Lembke  02/01/15              shot         gun   \n2        5.0  John Paul Quintero  03/01/15  shot and Tasered     unarmed   \n3        8.0     Matthew Hoffman  04/01/15              shot  toy weapon   \n4        9.0   Michael Rodriguez  04/01/15              shot    nail gun   \n...      ...                 ...       ...               ...         ...   \n2530  2822.0    Rodney E. Jacobs  28/07/17              shot         gun   \n2531  2813.0               TK TK  28/07/17              shot     vehicle   \n2532  2818.0  Dennis W. Robinson  29/07/17              shot         gun   \n2533  2817.0       Isaiah Tucker  31/07/17              shot     vehicle   \n2534  2815.0        Dwayne Jeune  31/07/17              shot       knife   \n\n            age gender race              city state  signs_of_mental_illness  \\\n0     53.000000      M    A        WA-Shelton    WA                     True   \n1     47.000000      M    W          OR-Aloha    OR                    False   \n2     23.000000      M    H        KS-Wichita    KS                    False   \n3     32.000000      M    W  CA-San Francisco    CA                     True   \n4     39.000000      M    H          CO-Evans    CO                    False   \n...         ...    ...  ...               ...   ...                      ...   \n2530  31.000000      M    B    MO-Kansas City    MO                    False   \n2531  31.153846      M    H    NM-Albuquerque    NM                    False   \n2532  48.000000      M    W          ID-Melba    ID                    False   \n2533  28.000000      M    B        WI-Oshkosh    WI                    False   \n2534  32.000000      M    B       NY-Brooklyn    NY                     True   \n\n     threat_level         flee  body_camera  \n0          attack  Not fleeing        False  \n1          attack  Not fleeing        False  \n2           other  Not fleeing        False  \n3          attack  Not fleeing        False  \n4          attack  Not fleeing        False  \n...           ...          ...          ...  \n2530       attack  Not fleeing        False  \n2531       attack          Car        False  \n2532       attack          Car        False  \n2533       attack          Car         True  \n2534       attack  Not fleeing        False  \n\n[2535 rows x 14 columns]",
      "text/html": "<div>\n<style scoped>\n    .dataframe tbody tr th:only-of-type {\n        vertical-align: middle;\n    }\n\n    .dataframe tbody tr th {\n        vertical-align: top;\n    }\n\n    .dataframe thead th {\n        text-align: right;\n    }\n</style>\n<table border=\"1\" class=\"dataframe\">\n  <thead>\n    <tr style=\"text-align: right;\">\n      <th></th>\n      <th>id</th>\n      <th>name</th>\n      <th>date</th>\n      <th>manner_of_death</th>\n      <th>armed</th>\n      <th>age</th>\n      <th>gender</th>\n      <th>race</th>\n      <th>city</th>\n      <th>state</th>\n      <th>signs_of_mental_illness</th>\n      <th>threat_level</th>\n      <th>flee</th>\n      <th>body_camera</th>\n    </tr>\n  </thead>\n  <tbody>\n    <tr>\n      <th>0</th>\n      <td>3.0</td>\n      <td>Tim Elliot</td>\n      <td>02/01/15</td>\n      <td>shot</td>\n      <td>gun</td>\n      <td>53.000000</td>\n      <td>M</td>\n      <td>A</td>\n      <td>WA-Shelton</td>\n      <td>WA</td>\n      <td>True</td>\n      <td>attack</td>\n      <td>Not fleeing</td>\n      <td>False</td>\n    </tr>\n    <tr>\n      <th>1</th>\n      <td>4.0</td>\n      <td>Lewis Lee Lembke</td>\n      <td>02/01/15</td>\n      <td>shot</td>\n      <td>gun</td>\n      <td>47.000000</td>\n      <td>M</td>\n      <td>W</td>\n      <td>OR-Aloha</td>\n      <td>OR</td>\n      <td>False</td>\n      <td>attack</td>\n      <td>Not fleeing</td>\n      <td>False</td>\n    </tr>\n    <tr>\n      <th>2</th>\n      <td>5.0</td>\n      <td>John Paul Quintero</td>\n      <td>03/01/15</td>\n      <td>shot and Tasered</td>\n      <td>unarmed</td>\n      <td>23.000000</td>\n      <td>M</td>\n      <td>H</td>\n      <td>KS-Wichita</td>\n      <td>KS</td>\n      <td>False</td>\n      <td>other</td>\n      <td>Not fleeing</td>\n      <td>False</td>\n    </tr>\n    <tr>\n      <th>3</th>\n      <td>8.0</td>\n      <td>Matthew Hoffman</td>\n      <td>04/01/15</td>\n      <td>shot</td>\n      <td>toy weapon</td>\n      <td>32.000000</td>\n      <td>M</td>\n      <td>W</td>\n      <td>CA-San Francisco</td>\n      <td>CA</td>\n      <td>True</td>\n      <td>attack</td>\n      <td>Not fleeing</td>\n      <td>False</td>\n    </tr>\n    <tr>\n      <th>4</th>\n      <td>9.0</td>\n      <td>Michael Rodriguez</td>\n      <td>04/01/15</td>\n      <td>shot</td>\n      <td>nail gun</td>\n      <td>39.000000</td>\n      <td>M</td>\n      <td>H</td>\n      <td>CO-Evans</td>\n      <td>CO</td>\n      <td>False</td>\n      <td>attack</td>\n      <td>Not fleeing</td>\n      <td>False</td>\n    </tr>\n    <tr>\n      <th>...</th>\n      <td>...</td>\n      <td>...</td>\n      <td>...</td>\n      <td>...</td>\n      <td>...</td>\n      <td>...</td>\n      <td>...</td>\n      <td>...</td>\n      <td>...</td>\n      <td>...</td>\n      <td>...</td>\n      <td>...</td>\n      <td>...</td>\n      <td>...</td>\n    </tr>\n    <tr>\n      <th>2530</th>\n      <td>2822.0</td>\n      <td>Rodney E. Jacobs</td>\n      <td>28/07/17</td>\n      <td>shot</td>\n      <td>gun</td>\n      <td>31.000000</td>\n      <td>M</td>\n      <td>B</td>\n      <td>MO-Kansas City</td>\n      <td>MO</td>\n      <td>False</td>\n      <td>attack</td>\n      <td>Not fleeing</td>\n      <td>False</td>\n    </tr>\n    <tr>\n      <th>2531</th>\n      <td>2813.0</td>\n      <td>TK TK</td>\n      <td>28/07/17</td>\n      <td>shot</td>\n      <td>vehicle</td>\n      <td>31.153846</td>\n      <td>M</td>\n      <td>H</td>\n      <td>NM-Albuquerque</td>\n      <td>NM</td>\n      <td>False</td>\n      <td>attack</td>\n      <td>Car</td>\n      <td>False</td>\n    </tr>\n    <tr>\n      <th>2532</th>\n      <td>2818.0</td>\n      <td>Dennis W. Robinson</td>\n      <td>29/07/17</td>\n      <td>shot</td>\n      <td>gun</td>\n      <td>48.000000</td>\n      <td>M</td>\n      <td>W</td>\n      <td>ID-Melba</td>\n      <td>ID</td>\n      <td>False</td>\n      <td>attack</td>\n      <td>Car</td>\n      <td>False</td>\n    </tr>\n    <tr>\n      <th>2533</th>\n      <td>2817.0</td>\n      <td>Isaiah Tucker</td>\n      <td>31/07/17</td>\n      <td>shot</td>\n      <td>vehicle</td>\n      <td>28.000000</td>\n      <td>M</td>\n      <td>B</td>\n      <td>WI-Oshkosh</td>\n      <td>WI</td>\n      <td>False</td>\n      <td>attack</td>\n      <td>Car</td>\n      <td>True</td>\n    </tr>\n    <tr>\n      <th>2534</th>\n      <td>2815.0</td>\n      <td>Dwayne Jeune</td>\n      <td>31/07/17</td>\n      <td>shot</td>\n      <td>knife</td>\n      <td>32.000000</td>\n      <td>M</td>\n      <td>B</td>\n      <td>NY-Brooklyn</td>\n      <td>NY</td>\n      <td>True</td>\n      <td>attack</td>\n      <td>Not fleeing</td>\n      <td>False</td>\n    </tr>\n  </tbody>\n</table>\n<p>2535 rows × 14 columns</p>\n</div>"
     },
     "execution_count": 1122,
     "metadata": {},
     "output_type": "execute_result"
    }
   ],
   "source": [
    "\"\"\"\n",
    "Data Analysis\n",
    "Exploratory Data Analysis (EDA 10 Points)\n",
    "\"\"\"\n",
    "df_total"
   ]
  },
  {
   "cell_type": "code",
   "execution_count": 1123,
   "metadata": {
    "collapsed": false,
    "pycharm": {
     "name": "#%%\n"
    }
   },
   "outputs": [
    {
     "data": {
      "text/plain": "              Total Cases  MANNER_OF_DEATH: shot  \\\nAK-Anchorage            3                      0   \nAK-Barrow               1                      0   \nAK-Big Lake             1                      0   \nAK-Fairbanks            5                      0   \nAK-Houston              1                      0   \n...                   ...                    ...   \nWY-Cheyenne             1                      0   \nWY-Douglas              2                      0   \nWY-Gillette             1                      0   \nWY-Laramie              1                      0   \nWY-Rawlins              1                      0   \n\n              MANNER_OF_DEATH: shot and Tasered  GENDER: M  GENDER: F  \\\nAK-Anchorage                                  0          0          0   \nAK-Barrow                                     0          0          0   \nAK-Big Lake                                   0          0          0   \nAK-Fairbanks                                  0          0          0   \nAK-Houston                                    0          0          0   \n...                                         ...        ...        ...   \nWY-Cheyenne                                   0          0          0   \nWY-Douglas                                    0          0          0   \nWY-Gillette                                   0          0          0   \nWY-Laramie                                    0          0          0   \nWY-Rawlins                                    0          0          0   \n\n              RACE: A  RACE: W  RACE: H  RACE: B  RACE: O  ...  \\\nAK-Anchorage        0        0        0        0        0  ...   \nAK-Barrow           0        0        0        0        0  ...   \nAK-Big Lake         0        0        0        0        0  ...   \nAK-Fairbanks        0        0        0        0        0  ...   \nAK-Houston          0        0        0        0        0  ...   \n...               ...      ...      ...      ...      ...  ...   \nWY-Cheyenne         0        0        0        0        0  ...   \nWY-Douglas          0        0        0        0        0  ...   \nWY-Gillette         0        0        0        0        0  ...   \nWY-Laramie          0        0        0        0        0  ...   \nWY-Rawlins          0        0        0        0        0  ...   \n\n              ARMED: metal rake  ARMED: crowbar  ARMED: oar  \\\nAK-Anchorage                  0               0           0   \nAK-Barrow                     0               0           0   \nAK-Big Lake                   0               0           0   \nAK-Fairbanks                  0               0           0   \nAK-Houston                    0               0           0   \n...                         ...             ...         ...   \nWY-Cheyenne                   0               0           0   \nWY-Douglas                    0               0           0   \nWY-Gillette                   0               0           0   \nWY-Laramie                    0               0           0   \nWY-Rawlins                    0               0           0   \n\n              ARMED: machete and gun  ARMED: tire iron  \\\nAK-Anchorage                       0                 0   \nAK-Barrow                          0                 0   \nAK-Big Lake                        0                 0   \nAK-Fairbanks                       0                 0   \nAK-Houston                         0                 0   \n...                              ...               ...   \nWY-Cheyenne                        0                 0   \nWY-Douglas                         0                 0   \nWY-Gillette                        0                 0   \nWY-Laramie                         0                 0   \nWY-Rawlins                         0                 0   \n\n              ARMED: air conditioner  ARMED: pole and knife  \\\nAK-Anchorage                       0                      0   \nAK-Barrow                          0                      0   \nAK-Big Lake                        0                      0   \nAK-Fairbanks                       0                      0   \nAK-Houston                         0                      0   \n...                              ...                    ...   \nWY-Cheyenne                        0                      0   \nWY-Douglas                         0                      0   \nWY-Gillette                        0                      0   \nWY-Laramie                         0                      0   \nWY-Rawlins                         0                      0   \n\n              ARMED: baseball bat and bottle  ARMED: fireworks  ARMED: pen  \nAK-Anchorage                               0                 0           0  \nAK-Barrow                                  0                 0           0  \nAK-Big Lake                                0                 0           0  \nAK-Fairbanks                               0                 0           0  \nAK-Houston                                 0                 0           0  \n...                                      ...               ...         ...  \nWY-Cheyenne                                0                 0           0  \nWY-Douglas                                 0                 0           0  \nWY-Gillette                                0                 0           0  \nWY-Laramie                                 0                 0           0  \nWY-Rawlins                                 0                 0           0  \n\n[1534 rows x 90 columns]",
      "text/html": "<div>\n<style scoped>\n    .dataframe tbody tr th:only-of-type {\n        vertical-align: middle;\n    }\n\n    .dataframe tbody tr th {\n        vertical-align: top;\n    }\n\n    .dataframe thead th {\n        text-align: right;\n    }\n</style>\n<table border=\"1\" class=\"dataframe\">\n  <thead>\n    <tr style=\"text-align: right;\">\n      <th></th>\n      <th>Total Cases</th>\n      <th>MANNER_OF_DEATH: shot</th>\n      <th>MANNER_OF_DEATH: shot and Tasered</th>\n      <th>GENDER: M</th>\n      <th>GENDER: F</th>\n      <th>RACE: A</th>\n      <th>RACE: W</th>\n      <th>RACE: H</th>\n      <th>RACE: B</th>\n      <th>RACE: O</th>\n      <th>...</th>\n      <th>ARMED: metal rake</th>\n      <th>ARMED: crowbar</th>\n      <th>ARMED: oar</th>\n      <th>ARMED: machete and gun</th>\n      <th>ARMED: tire iron</th>\n      <th>ARMED: air conditioner</th>\n      <th>ARMED: pole and knife</th>\n      <th>ARMED: baseball bat and bottle</th>\n      <th>ARMED: fireworks</th>\n      <th>ARMED: pen</th>\n    </tr>\n  </thead>\n  <tbody>\n    <tr>\n      <th>AK-Anchorage</th>\n      <td>3</td>\n      <td>0</td>\n      <td>0</td>\n      <td>0</td>\n      <td>0</td>\n      <td>0</td>\n      <td>0</td>\n      <td>0</td>\n      <td>0</td>\n      <td>0</td>\n      <td>...</td>\n      <td>0</td>\n      <td>0</td>\n      <td>0</td>\n      <td>0</td>\n      <td>0</td>\n      <td>0</td>\n      <td>0</td>\n      <td>0</td>\n      <td>0</td>\n      <td>0</td>\n    </tr>\n    <tr>\n      <th>AK-Barrow</th>\n      <td>1</td>\n      <td>0</td>\n      <td>0</td>\n      <td>0</td>\n      <td>0</td>\n      <td>0</td>\n      <td>0</td>\n      <td>0</td>\n      <td>0</td>\n      <td>0</td>\n      <td>...</td>\n      <td>0</td>\n      <td>0</td>\n      <td>0</td>\n      <td>0</td>\n      <td>0</td>\n      <td>0</td>\n      <td>0</td>\n      <td>0</td>\n      <td>0</td>\n      <td>0</td>\n    </tr>\n    <tr>\n      <th>AK-Big Lake</th>\n      <td>1</td>\n      <td>0</td>\n      <td>0</td>\n      <td>0</td>\n      <td>0</td>\n      <td>0</td>\n      <td>0</td>\n      <td>0</td>\n      <td>0</td>\n      <td>0</td>\n      <td>...</td>\n      <td>0</td>\n      <td>0</td>\n      <td>0</td>\n      <td>0</td>\n      <td>0</td>\n      <td>0</td>\n      <td>0</td>\n      <td>0</td>\n      <td>0</td>\n      <td>0</td>\n    </tr>\n    <tr>\n      <th>AK-Fairbanks</th>\n      <td>5</td>\n      <td>0</td>\n      <td>0</td>\n      <td>0</td>\n      <td>0</td>\n      <td>0</td>\n      <td>0</td>\n      <td>0</td>\n      <td>0</td>\n      <td>0</td>\n      <td>...</td>\n      <td>0</td>\n      <td>0</td>\n      <td>0</td>\n      <td>0</td>\n      <td>0</td>\n      <td>0</td>\n      <td>0</td>\n      <td>0</td>\n      <td>0</td>\n      <td>0</td>\n    </tr>\n    <tr>\n      <th>AK-Houston</th>\n      <td>1</td>\n      <td>0</td>\n      <td>0</td>\n      <td>0</td>\n      <td>0</td>\n      <td>0</td>\n      <td>0</td>\n      <td>0</td>\n      <td>0</td>\n      <td>0</td>\n      <td>...</td>\n      <td>0</td>\n      <td>0</td>\n      <td>0</td>\n      <td>0</td>\n      <td>0</td>\n      <td>0</td>\n      <td>0</td>\n      <td>0</td>\n      <td>0</td>\n      <td>0</td>\n    </tr>\n    <tr>\n      <th>...</th>\n      <td>...</td>\n      <td>...</td>\n      <td>...</td>\n      <td>...</td>\n      <td>...</td>\n      <td>...</td>\n      <td>...</td>\n      <td>...</td>\n      <td>...</td>\n      <td>...</td>\n      <td>...</td>\n      <td>...</td>\n      <td>...</td>\n      <td>...</td>\n      <td>...</td>\n      <td>...</td>\n      <td>...</td>\n      <td>...</td>\n      <td>...</td>\n      <td>...</td>\n      <td>...</td>\n    </tr>\n    <tr>\n      <th>WY-Cheyenne</th>\n      <td>1</td>\n      <td>0</td>\n      <td>0</td>\n      <td>0</td>\n      <td>0</td>\n      <td>0</td>\n      <td>0</td>\n      <td>0</td>\n      <td>0</td>\n      <td>0</td>\n      <td>...</td>\n      <td>0</td>\n      <td>0</td>\n      <td>0</td>\n      <td>0</td>\n      <td>0</td>\n      <td>0</td>\n      <td>0</td>\n      <td>0</td>\n      <td>0</td>\n      <td>0</td>\n    </tr>\n    <tr>\n      <th>WY-Douglas</th>\n      <td>2</td>\n      <td>0</td>\n      <td>0</td>\n      <td>0</td>\n      <td>0</td>\n      <td>0</td>\n      <td>0</td>\n      <td>0</td>\n      <td>0</td>\n      <td>0</td>\n      <td>...</td>\n      <td>0</td>\n      <td>0</td>\n      <td>0</td>\n      <td>0</td>\n      <td>0</td>\n      <td>0</td>\n      <td>0</td>\n      <td>0</td>\n      <td>0</td>\n      <td>0</td>\n    </tr>\n    <tr>\n      <th>WY-Gillette</th>\n      <td>1</td>\n      <td>0</td>\n      <td>0</td>\n      <td>0</td>\n      <td>0</td>\n      <td>0</td>\n      <td>0</td>\n      <td>0</td>\n      <td>0</td>\n      <td>0</td>\n      <td>...</td>\n      <td>0</td>\n      <td>0</td>\n      <td>0</td>\n      <td>0</td>\n      <td>0</td>\n      <td>0</td>\n      <td>0</td>\n      <td>0</td>\n      <td>0</td>\n      <td>0</td>\n    </tr>\n    <tr>\n      <th>WY-Laramie</th>\n      <td>1</td>\n      <td>0</td>\n      <td>0</td>\n      <td>0</td>\n      <td>0</td>\n      <td>0</td>\n      <td>0</td>\n      <td>0</td>\n      <td>0</td>\n      <td>0</td>\n      <td>...</td>\n      <td>0</td>\n      <td>0</td>\n      <td>0</td>\n      <td>0</td>\n      <td>0</td>\n      <td>0</td>\n      <td>0</td>\n      <td>0</td>\n      <td>0</td>\n      <td>0</td>\n    </tr>\n    <tr>\n      <th>WY-Rawlins</th>\n      <td>1</td>\n      <td>0</td>\n      <td>0</td>\n      <td>0</td>\n      <td>0</td>\n      <td>0</td>\n      <td>0</td>\n      <td>0</td>\n      <td>0</td>\n      <td>0</td>\n      <td>...</td>\n      <td>0</td>\n      <td>0</td>\n      <td>0</td>\n      <td>0</td>\n      <td>0</td>\n      <td>0</td>\n      <td>0</td>\n      <td>0</td>\n      <td>0</td>\n      <td>0</td>\n    </tr>\n  </tbody>\n</table>\n<p>1534 rows × 90 columns</p>\n</div>"
     },
     "execution_count": 1123,
     "metadata": {},
     "output_type": "execute_result"
    }
   ],
   "source": [
    "\"\"\"\n",
    "Q: Which state has the most fatal police shootings? Which city is the most dangerous?\n",
    "Create a collapsed dataframe of state. Create a collapsed data frame of Cities.\n",
    "\"\"\"\n",
    "# Make a copy of Total Data For City!\n",
    "df_aux = df_total.copy()\n",
    "df_aux.sort_values(by=['city'])\n",
    "\n",
    "# The following dropped Columns are not used when data is collapsed as City\n",
    "df_aux.drop(columns=['id', 'name', 'date', 'age', 'state'], inplace=True)\n",
    "df_aux.set_index('city', inplace=True)\n",
    "df_aux = df_aux.astype(str)\n",
    "cols = df_aux.columns.tolist() # Move 'arms' to end of list\n",
    "cols.append(cols.pop(cols.index('armed')))\n",
    "df_aux = df_aux[cols]\n",
    "\n",
    "# Get a list of 'df_aux' column names\n",
    "aux_cols = df_aux.columns\n",
    "\n",
    "# Get a list of the index cities (Sorted)\n",
    "list_of_cities = df_aux.index.unique().tolist()\n",
    "list_of_cities.sort()\n",
    "\n",
    "# For each column, change the string such that  \" 'COLUMN_NAME': + str + (s) \" is the result for each string.\n",
    "# This is important so that when we build/update our resulting Dataframe, it will have unique values per catagory.\n",
    "for i in list_of_cities:\n",
    "    for j in aux_cols:\n",
    "        df_aux.at[i, j] =  j.upper() + ': ' + df_aux.at[i, j]\n",
    "\n",
    "# Make the df_city_stats Columns\n",
    "freq_list_cols = ['Total Cases']\n",
    "for i in aux_cols:\n",
    "    freq_list_cols = freq_list_cols + df_aux[i].unique().tolist()\n",
    "\n",
    "\n",
    "# Create Dataframe to build up\n",
    "df_city_stats = pd.DataFrame(index=list_of_cities, columns=freq_list_cols)\n",
    "df_city_stats = df_city_stats.fillna(0)\n",
    "for i in list_of_cities: # indexs\n",
    "    temp = len(df_aux[df_aux.index == i])\n",
    "    df_city_stats.loc[i]['Total Cases'] = temp\n",
    "    for j in aux_cols:\n",
    "        temp = df_aux[df_aux.index == i][j].value_counts()\n",
    "        df_city_stats.loc[i].update(temp)\n",
    "\n",
    "df_city_stats"
   ]
  },
  {
   "cell_type": "code",
   "execution_count": 1124,
   "metadata": {
    "collapsed": false,
    "pycharm": {
     "name": "#%%\n"
    }
   },
   "outputs": [
    {
     "data": {
      "text/plain": "    Total Cases  MANNER_OF_DEATH: shot  MANNER_OF_DEATH: shot and Tasered  \\\nAK           15                      0                                  0   \nAL           50                      0                                  0   \nAR           26                      0                                  0   \nAZ          118                      0                                  0   \nCA          424                      0                                  0   \nCO           74                      0                                  0   \nCT            9                      0                                  0   \nDC           11                      0                                  0   \nDE            8                      0                                  0   \nFL          154                      0                                  0   \nGA           70                      0                                  0   \nHI           11                      0                                  0   \nIA           12                      0                                  0   \nID           17                      0                                  0   \nIL           62                      0                                  0   \nIN           43                      0                                  0   \nKS           24                      0                                  0   \nKY           43                      0                                  0   \nLA           57                      0                                  0   \nMA           22                      0                                  0   \nMD           38                      0                                  0   \nME           13                      0                                  0   \nMI           37                      0                                  0   \nMN           32                      0                                  0   \nMO           64                      0                                  0   \nMS           23                      0                                  0   \nMT           11                      0                                  0   \nNC           69                      0                                  0   \nND            4                      0                                  0   \nNE           15                      0                                  0   \nNH            7                      0                                  0   \nNJ           35                      0                                  0   \nNM           51                      0                                  0   \nNV           42                      0                                  0   \nNY           45                      0                                  0   \nOH           79                      0                                  0   \nOK           78                      0                                  0   \nOR           38                      0                                  0   \nPA           51                      0                                  0   \nRI            2                      0                                  0   \nSC           44                      0                                  0   \nSD           10                      0                                  0   \nTN           59                      0                                  0   \nTX          225                      0                                  0   \nUT           23                      0                                  0   \nVA           47                      0                                  0   \nVT            3                      0                                  0   \nWA           62                      0                                  0   \nWI           43                      0                                  0   \nWV           27                      0                                  0   \nWY            8                      0                                  0   \n\n    GENDER: M  GENDER: F  RACE: A  RACE: W  RACE: H  RACE: B  RACE: O  ...  \\\nAK          0          0        0        0        0        0        0  ...   \nAL          0          0        0        0        0        0        0  ...   \nAR          0          0        0        0        0        0        0  ...   \nAZ          0          0        0        0        0        0        0  ...   \nCA          0          0        0        0        0        0        0  ...   \nCO          0          0        0        0        0        0        0  ...   \nCT          0          0        0        0        0        0        0  ...   \nDC          0          0        0        0        0        0        0  ...   \nDE          0          0        0        0        0        0        0  ...   \nFL          0          0        0        0        0        0        0  ...   \nGA          0          0        0        0        0        0        0  ...   \nHI          0          0        0        0        0        0        0  ...   \nIA          0          0        0        0        0        0        0  ...   \nID          0          0        0        0        0        0        0  ...   \nIL          0          0        0        0        0        0        0  ...   \nIN          0          0        0        0        0        0        0  ...   \nKS          0          0        0        0        0        0        0  ...   \nKY          0          0        0        0        0        0        0  ...   \nLA          0          0        0        0        0        0        0  ...   \nMA          0          0        0        0        0        0        0  ...   \nMD          0          0        0        0        0        0        0  ...   \nME          0          0        0        0        0        0        0  ...   \nMI          0          0        0        0        0        0        0  ...   \nMN          0          0        0        0        0        0        0  ...   \nMO          0          0        0        0        0        0        0  ...   \nMS          0          0        0        0        0        0        0  ...   \nMT          0          0        0        0        0        0        0  ...   \nNC          0          0        0        0        0        0        0  ...   \nND          0          0        0        0        0        0        0  ...   \nNE          0          0        0        0        0        0        0  ...   \nNH          0          0        0        0        0        0        0  ...   \nNJ          0          0        0        0        0        0        0  ...   \nNM          0          0        0        0        0        0        0  ...   \nNV          0          0        0        0        0        0        0  ...   \nNY          0          0        0        0        0        0        0  ...   \nOH          0          0        0        0        0        0        0  ...   \nOK          0          0        0        0        0        0        0  ...   \nOR          0          0        0        0        0        0        0  ...   \nPA          0          0        0        0        0        0        0  ...   \nRI          0          0        0        0        0        0        0  ...   \nSC          0          0        0        0        0        0        0  ...   \nSD          0          0        0        0        0        0        0  ...   \nTN          0          0        0        0        0        0        0  ...   \nTX          0          0        0        0        0        0        0  ...   \nUT          0          0        0        0        0        0        0  ...   \nVA          0          0        0        0        0        0        0  ...   \nVT          0          0        0        0        0        0        0  ...   \nWA          0          0        0        0        0        0        0  ...   \nWI          0          0        0        0        0        0        0  ...   \nWV          0          0        0        0        0        0        0  ...   \nWY          0          0        0        0        0        0        0  ...   \n\n    ARMED: metal rake  ARMED: crowbar  ARMED: oar  ARMED: machete and gun  \\\nAK                  0               0           0                       0   \nAL                  0               0           0                       0   \nAR                  0               0           0                       0   \nAZ                  0               0           0                       0   \nCA                  0               0           0                       0   \nCO                  0               0           0                       0   \nCT                  0               0           0                       0   \nDC                  0               0           0                       0   \nDE                  0               0           0                       0   \nFL                  0               0           0                       0   \nGA                  0               0           0                       0   \nHI                  0               0           0                       0   \nIA                  0               0           0                       0   \nID                  0               0           0                       0   \nIL                  0               0           0                       0   \nIN                  0               0           0                       0   \nKS                  0               0           0                       0   \nKY                  0               0           0                       0   \nLA                  0               0           0                       0   \nMA                  0               0           0                       0   \nMD                  0               0           0                       0   \nME                  0               0           0                       0   \nMI                  0               0           0                       0   \nMN                  0               0           0                       0   \nMO                  0               0           0                       0   \nMS                  0               0           0                       0   \nMT                  0               0           0                       0   \nNC                  0               0           0                       0   \nND                  0               0           0                       0   \nNE                  0               0           0                       0   \nNH                  0               0           0                       0   \nNJ                  0               0           0                       0   \nNM                  0               0           0                       0   \nNV                  0               0           0                       0   \nNY                  0               0           0                       0   \nOH                  0               0           0                       0   \nOK                  0               0           0                       0   \nOR                  0               0           0                       0   \nPA                  0               0           0                       0   \nRI                  0               0           0                       0   \nSC                  0               0           0                       0   \nSD                  0               0           0                       0   \nTN                  0               0           0                       0   \nTX                  0               0           0                       0   \nUT                  0               0           0                       0   \nVA                  0               0           0                       0   \nVT                  0               0           0                       0   \nWA                  0               0           0                       0   \nWI                  0               0           0                       0   \nWV                  0               0           0                       0   \nWY                  0               0           0                       0   \n\n    ARMED: tire iron  ARMED: air conditioner  ARMED: pole and knife  \\\nAK                 0                       0                      0   \nAL                 0                       0                      0   \nAR                 0                       0                      0   \nAZ                 0                       0                      0   \nCA                 0                       0                      0   \nCO                 0                       0                      0   \nCT                 0                       0                      0   \nDC                 0                       0                      0   \nDE                 0                       0                      0   \nFL                 0                       0                      0   \nGA                 0                       0                      0   \nHI                 0                       0                      0   \nIA                 0                       0                      0   \nID                 0                       0                      0   \nIL                 0                       0                      0   \nIN                 0                       0                      0   \nKS                 0                       0                      0   \nKY                 0                       0                      0   \nLA                 0                       0                      0   \nMA                 0                       0                      0   \nMD                 0                       0                      0   \nME                 0                       0                      0   \nMI                 0                       0                      0   \nMN                 0                       0                      0   \nMO                 0                       0                      0   \nMS                 0                       0                      0   \nMT                 0                       0                      0   \nNC                 0                       0                      0   \nND                 0                       0                      0   \nNE                 0                       0                      0   \nNH                 0                       0                      0   \nNJ                 0                       0                      0   \nNM                 0                       0                      0   \nNV                 0                       0                      0   \nNY                 0                       0                      0   \nOH                 0                       0                      0   \nOK                 0                       0                      0   \nOR                 0                       0                      0   \nPA                 0                       0                      0   \nRI                 0                       0                      0   \nSC                 0                       0                      0   \nSD                 0                       0                      0   \nTN                 0                       0                      0   \nTX                 0                       0                      0   \nUT                 0                       0                      0   \nVA                 0                       0                      0   \nVT                 0                       0                      0   \nWA                 0                       0                      0   \nWI                 0                       0                      0   \nWV                 0                       0                      0   \nWY                 0                       0                      0   \n\n    ARMED: baseball bat and bottle  ARMED: fireworks  ARMED: pen  \nAK                               0                 0           0  \nAL                               0                 0           0  \nAR                               0                 0           0  \nAZ                               0                 0           0  \nCA                               0                 0           0  \nCO                               0                 0           0  \nCT                               0                 0           0  \nDC                               0                 0           0  \nDE                               0                 0           0  \nFL                               0                 0           0  \nGA                               0                 0           0  \nHI                               0                 0           0  \nIA                               0                 0           0  \nID                               0                 0           0  \nIL                               0                 0           0  \nIN                               0                 0           0  \nKS                               0                 0           0  \nKY                               0                 0           0  \nLA                               0                 0           0  \nMA                               0                 0           0  \nMD                               0                 0           0  \nME                               0                 0           0  \nMI                               0                 0           0  \nMN                               0                 0           0  \nMO                               0                 0           0  \nMS                               0                 0           0  \nMT                               0                 0           0  \nNC                               0                 0           0  \nND                               0                 0           0  \nNE                               0                 0           0  \nNH                               0                 0           0  \nNJ                               0                 0           0  \nNM                               0                 0           0  \nNV                               0                 0           0  \nNY                               0                 0           0  \nOH                               0                 0           0  \nOK                               0                 0           0  \nOR                               0                 0           0  \nPA                               0                 0           0  \nRI                               0                 0           0  \nSC                               0                 0           0  \nSD                               0                 0           0  \nTN                               0                 0           0  \nTX                               0                 0           0  \nUT                               0                 0           0  \nVA                               0                 0           0  \nVT                               0                 0           0  \nWA                               0                 0           0  \nWI                               0                 0           0  \nWV                               0                 0           0  \nWY                               0                 0           0  \n\n[51 rows x 90 columns]",
      "text/html": "<div>\n<style scoped>\n    .dataframe tbody tr th:only-of-type {\n        vertical-align: middle;\n    }\n\n    .dataframe tbody tr th {\n        vertical-align: top;\n    }\n\n    .dataframe thead th {\n        text-align: right;\n    }\n</style>\n<table border=\"1\" class=\"dataframe\">\n  <thead>\n    <tr style=\"text-align: right;\">\n      <th></th>\n      <th>Total Cases</th>\n      <th>MANNER_OF_DEATH: shot</th>\n      <th>MANNER_OF_DEATH: shot and Tasered</th>\n      <th>GENDER: M</th>\n      <th>GENDER: F</th>\n      <th>RACE: A</th>\n      <th>RACE: W</th>\n      <th>RACE: H</th>\n      <th>RACE: B</th>\n      <th>RACE: O</th>\n      <th>...</th>\n      <th>ARMED: metal rake</th>\n      <th>ARMED: crowbar</th>\n      <th>ARMED: oar</th>\n      <th>ARMED: machete and gun</th>\n      <th>ARMED: tire iron</th>\n      <th>ARMED: air conditioner</th>\n      <th>ARMED: pole and knife</th>\n      <th>ARMED: baseball bat and bottle</th>\n      <th>ARMED: fireworks</th>\n      <th>ARMED: pen</th>\n    </tr>\n  </thead>\n  <tbody>\n    <tr>\n      <th>AK</th>\n      <td>15</td>\n      <td>0</td>\n      <td>0</td>\n      <td>0</td>\n      <td>0</td>\n      <td>0</td>\n      <td>0</td>\n      <td>0</td>\n      <td>0</td>\n      <td>0</td>\n      <td>...</td>\n      <td>0</td>\n      <td>0</td>\n      <td>0</td>\n      <td>0</td>\n      <td>0</td>\n      <td>0</td>\n      <td>0</td>\n      <td>0</td>\n      <td>0</td>\n      <td>0</td>\n    </tr>\n    <tr>\n      <th>AL</th>\n      <td>50</td>\n      <td>0</td>\n      <td>0</td>\n      <td>0</td>\n      <td>0</td>\n      <td>0</td>\n      <td>0</td>\n      <td>0</td>\n      <td>0</td>\n      <td>0</td>\n      <td>...</td>\n      <td>0</td>\n      <td>0</td>\n      <td>0</td>\n      <td>0</td>\n      <td>0</td>\n      <td>0</td>\n      <td>0</td>\n      <td>0</td>\n      <td>0</td>\n      <td>0</td>\n    </tr>\n    <tr>\n      <th>AR</th>\n      <td>26</td>\n      <td>0</td>\n      <td>0</td>\n      <td>0</td>\n      <td>0</td>\n      <td>0</td>\n      <td>0</td>\n      <td>0</td>\n      <td>0</td>\n      <td>0</td>\n      <td>...</td>\n      <td>0</td>\n      <td>0</td>\n      <td>0</td>\n      <td>0</td>\n      <td>0</td>\n      <td>0</td>\n      <td>0</td>\n      <td>0</td>\n      <td>0</td>\n      <td>0</td>\n    </tr>\n    <tr>\n      <th>AZ</th>\n      <td>118</td>\n      <td>0</td>\n      <td>0</td>\n      <td>0</td>\n      <td>0</td>\n      <td>0</td>\n      <td>0</td>\n      <td>0</td>\n      <td>0</td>\n      <td>0</td>\n      <td>...</td>\n      <td>0</td>\n      <td>0</td>\n      <td>0</td>\n      <td>0</td>\n      <td>0</td>\n      <td>0</td>\n      <td>0</td>\n      <td>0</td>\n      <td>0</td>\n      <td>0</td>\n    </tr>\n    <tr>\n      <th>CA</th>\n      <td>424</td>\n      <td>0</td>\n      <td>0</td>\n      <td>0</td>\n      <td>0</td>\n      <td>0</td>\n      <td>0</td>\n      <td>0</td>\n      <td>0</td>\n      <td>0</td>\n      <td>...</td>\n      <td>0</td>\n      <td>0</td>\n      <td>0</td>\n      <td>0</td>\n      <td>0</td>\n      <td>0</td>\n      <td>0</td>\n      <td>0</td>\n      <td>0</td>\n      <td>0</td>\n    </tr>\n    <tr>\n      <th>CO</th>\n      <td>74</td>\n      <td>0</td>\n      <td>0</td>\n      <td>0</td>\n      <td>0</td>\n      <td>0</td>\n      <td>0</td>\n      <td>0</td>\n      <td>0</td>\n      <td>0</td>\n      <td>...</td>\n      <td>0</td>\n      <td>0</td>\n      <td>0</td>\n      <td>0</td>\n      <td>0</td>\n      <td>0</td>\n      <td>0</td>\n      <td>0</td>\n      <td>0</td>\n      <td>0</td>\n    </tr>\n    <tr>\n      <th>CT</th>\n      <td>9</td>\n      <td>0</td>\n      <td>0</td>\n      <td>0</td>\n      <td>0</td>\n      <td>0</td>\n      <td>0</td>\n      <td>0</td>\n      <td>0</td>\n      <td>0</td>\n      <td>...</td>\n      <td>0</td>\n      <td>0</td>\n      <td>0</td>\n      <td>0</td>\n      <td>0</td>\n      <td>0</td>\n      <td>0</td>\n      <td>0</td>\n      <td>0</td>\n      <td>0</td>\n    </tr>\n    <tr>\n      <th>DC</th>\n      <td>11</td>\n      <td>0</td>\n      <td>0</td>\n      <td>0</td>\n      <td>0</td>\n      <td>0</td>\n      <td>0</td>\n      <td>0</td>\n      <td>0</td>\n      <td>0</td>\n      <td>...</td>\n      <td>0</td>\n      <td>0</td>\n      <td>0</td>\n      <td>0</td>\n      <td>0</td>\n      <td>0</td>\n      <td>0</td>\n      <td>0</td>\n      <td>0</td>\n      <td>0</td>\n    </tr>\n    <tr>\n      <th>DE</th>\n      <td>8</td>\n      <td>0</td>\n      <td>0</td>\n      <td>0</td>\n      <td>0</td>\n      <td>0</td>\n      <td>0</td>\n      <td>0</td>\n      <td>0</td>\n      <td>0</td>\n      <td>...</td>\n      <td>0</td>\n      <td>0</td>\n      <td>0</td>\n      <td>0</td>\n      <td>0</td>\n      <td>0</td>\n      <td>0</td>\n      <td>0</td>\n      <td>0</td>\n      <td>0</td>\n    </tr>\n    <tr>\n      <th>FL</th>\n      <td>154</td>\n      <td>0</td>\n      <td>0</td>\n      <td>0</td>\n      <td>0</td>\n      <td>0</td>\n      <td>0</td>\n      <td>0</td>\n      <td>0</td>\n      <td>0</td>\n      <td>...</td>\n      <td>0</td>\n      <td>0</td>\n      <td>0</td>\n      <td>0</td>\n      <td>0</td>\n      <td>0</td>\n      <td>0</td>\n      <td>0</td>\n      <td>0</td>\n      <td>0</td>\n    </tr>\n    <tr>\n      <th>GA</th>\n      <td>70</td>\n      <td>0</td>\n      <td>0</td>\n      <td>0</td>\n      <td>0</td>\n      <td>0</td>\n      <td>0</td>\n      <td>0</td>\n      <td>0</td>\n      <td>0</td>\n      <td>...</td>\n      <td>0</td>\n      <td>0</td>\n      <td>0</td>\n      <td>0</td>\n      <td>0</td>\n      <td>0</td>\n      <td>0</td>\n      <td>0</td>\n      <td>0</td>\n      <td>0</td>\n    </tr>\n    <tr>\n      <th>HI</th>\n      <td>11</td>\n      <td>0</td>\n      <td>0</td>\n      <td>0</td>\n      <td>0</td>\n      <td>0</td>\n      <td>0</td>\n      <td>0</td>\n      <td>0</td>\n      <td>0</td>\n      <td>...</td>\n      <td>0</td>\n      <td>0</td>\n      <td>0</td>\n      <td>0</td>\n      <td>0</td>\n      <td>0</td>\n      <td>0</td>\n      <td>0</td>\n      <td>0</td>\n      <td>0</td>\n    </tr>\n    <tr>\n      <th>IA</th>\n      <td>12</td>\n      <td>0</td>\n      <td>0</td>\n      <td>0</td>\n      <td>0</td>\n      <td>0</td>\n      <td>0</td>\n      <td>0</td>\n      <td>0</td>\n      <td>0</td>\n      <td>...</td>\n      <td>0</td>\n      <td>0</td>\n      <td>0</td>\n      <td>0</td>\n      <td>0</td>\n      <td>0</td>\n      <td>0</td>\n      <td>0</td>\n      <td>0</td>\n      <td>0</td>\n    </tr>\n    <tr>\n      <th>ID</th>\n      <td>17</td>\n      <td>0</td>\n      <td>0</td>\n      <td>0</td>\n      <td>0</td>\n      <td>0</td>\n      <td>0</td>\n      <td>0</td>\n      <td>0</td>\n      <td>0</td>\n      <td>...</td>\n      <td>0</td>\n      <td>0</td>\n      <td>0</td>\n      <td>0</td>\n      <td>0</td>\n      <td>0</td>\n      <td>0</td>\n      <td>0</td>\n      <td>0</td>\n      <td>0</td>\n    </tr>\n    <tr>\n      <th>IL</th>\n      <td>62</td>\n      <td>0</td>\n      <td>0</td>\n      <td>0</td>\n      <td>0</td>\n      <td>0</td>\n      <td>0</td>\n      <td>0</td>\n      <td>0</td>\n      <td>0</td>\n      <td>...</td>\n      <td>0</td>\n      <td>0</td>\n      <td>0</td>\n      <td>0</td>\n      <td>0</td>\n      <td>0</td>\n      <td>0</td>\n      <td>0</td>\n      <td>0</td>\n      <td>0</td>\n    </tr>\n    <tr>\n      <th>IN</th>\n      <td>43</td>\n      <td>0</td>\n      <td>0</td>\n      <td>0</td>\n      <td>0</td>\n      <td>0</td>\n      <td>0</td>\n      <td>0</td>\n      <td>0</td>\n      <td>0</td>\n      <td>...</td>\n      <td>0</td>\n      <td>0</td>\n      <td>0</td>\n      <td>0</td>\n      <td>0</td>\n      <td>0</td>\n      <td>0</td>\n      <td>0</td>\n      <td>0</td>\n      <td>0</td>\n    </tr>\n    <tr>\n      <th>KS</th>\n      <td>24</td>\n      <td>0</td>\n      <td>0</td>\n      <td>0</td>\n      <td>0</td>\n      <td>0</td>\n      <td>0</td>\n      <td>0</td>\n      <td>0</td>\n      <td>0</td>\n      <td>...</td>\n      <td>0</td>\n      <td>0</td>\n      <td>0</td>\n      <td>0</td>\n      <td>0</td>\n      <td>0</td>\n      <td>0</td>\n      <td>0</td>\n      <td>0</td>\n      <td>0</td>\n    </tr>\n    <tr>\n      <th>KY</th>\n      <td>43</td>\n      <td>0</td>\n      <td>0</td>\n      <td>0</td>\n      <td>0</td>\n      <td>0</td>\n      <td>0</td>\n      <td>0</td>\n      <td>0</td>\n      <td>0</td>\n      <td>...</td>\n      <td>0</td>\n      <td>0</td>\n      <td>0</td>\n      <td>0</td>\n      <td>0</td>\n      <td>0</td>\n      <td>0</td>\n      <td>0</td>\n      <td>0</td>\n      <td>0</td>\n    </tr>\n    <tr>\n      <th>LA</th>\n      <td>57</td>\n      <td>0</td>\n      <td>0</td>\n      <td>0</td>\n      <td>0</td>\n      <td>0</td>\n      <td>0</td>\n      <td>0</td>\n      <td>0</td>\n      <td>0</td>\n      <td>...</td>\n      <td>0</td>\n      <td>0</td>\n      <td>0</td>\n      <td>0</td>\n      <td>0</td>\n      <td>0</td>\n      <td>0</td>\n      <td>0</td>\n      <td>0</td>\n      <td>0</td>\n    </tr>\n    <tr>\n      <th>MA</th>\n      <td>22</td>\n      <td>0</td>\n      <td>0</td>\n      <td>0</td>\n      <td>0</td>\n      <td>0</td>\n      <td>0</td>\n      <td>0</td>\n      <td>0</td>\n      <td>0</td>\n      <td>...</td>\n      <td>0</td>\n      <td>0</td>\n      <td>0</td>\n      <td>0</td>\n      <td>0</td>\n      <td>0</td>\n      <td>0</td>\n      <td>0</td>\n      <td>0</td>\n      <td>0</td>\n    </tr>\n    <tr>\n      <th>MD</th>\n      <td>38</td>\n      <td>0</td>\n      <td>0</td>\n      <td>0</td>\n      <td>0</td>\n      <td>0</td>\n      <td>0</td>\n      <td>0</td>\n      <td>0</td>\n      <td>0</td>\n      <td>...</td>\n      <td>0</td>\n      <td>0</td>\n      <td>0</td>\n      <td>0</td>\n      <td>0</td>\n      <td>0</td>\n      <td>0</td>\n      <td>0</td>\n      <td>0</td>\n      <td>0</td>\n    </tr>\n    <tr>\n      <th>ME</th>\n      <td>13</td>\n      <td>0</td>\n      <td>0</td>\n      <td>0</td>\n      <td>0</td>\n      <td>0</td>\n      <td>0</td>\n      <td>0</td>\n      <td>0</td>\n      <td>0</td>\n      <td>...</td>\n      <td>0</td>\n      <td>0</td>\n      <td>0</td>\n      <td>0</td>\n      <td>0</td>\n      <td>0</td>\n      <td>0</td>\n      <td>0</td>\n      <td>0</td>\n      <td>0</td>\n    </tr>\n    <tr>\n      <th>MI</th>\n      <td>37</td>\n      <td>0</td>\n      <td>0</td>\n      <td>0</td>\n      <td>0</td>\n      <td>0</td>\n      <td>0</td>\n      <td>0</td>\n      <td>0</td>\n      <td>0</td>\n      <td>...</td>\n      <td>0</td>\n      <td>0</td>\n      <td>0</td>\n      <td>0</td>\n      <td>0</td>\n      <td>0</td>\n      <td>0</td>\n      <td>0</td>\n      <td>0</td>\n      <td>0</td>\n    </tr>\n    <tr>\n      <th>MN</th>\n      <td>32</td>\n      <td>0</td>\n      <td>0</td>\n      <td>0</td>\n      <td>0</td>\n      <td>0</td>\n      <td>0</td>\n      <td>0</td>\n      <td>0</td>\n      <td>0</td>\n      <td>...</td>\n      <td>0</td>\n      <td>0</td>\n      <td>0</td>\n      <td>0</td>\n      <td>0</td>\n      <td>0</td>\n      <td>0</td>\n      <td>0</td>\n      <td>0</td>\n      <td>0</td>\n    </tr>\n    <tr>\n      <th>MO</th>\n      <td>64</td>\n      <td>0</td>\n      <td>0</td>\n      <td>0</td>\n      <td>0</td>\n      <td>0</td>\n      <td>0</td>\n      <td>0</td>\n      <td>0</td>\n      <td>0</td>\n      <td>...</td>\n      <td>0</td>\n      <td>0</td>\n      <td>0</td>\n      <td>0</td>\n      <td>0</td>\n      <td>0</td>\n      <td>0</td>\n      <td>0</td>\n      <td>0</td>\n      <td>0</td>\n    </tr>\n    <tr>\n      <th>MS</th>\n      <td>23</td>\n      <td>0</td>\n      <td>0</td>\n      <td>0</td>\n      <td>0</td>\n      <td>0</td>\n      <td>0</td>\n      <td>0</td>\n      <td>0</td>\n      <td>0</td>\n      <td>...</td>\n      <td>0</td>\n      <td>0</td>\n      <td>0</td>\n      <td>0</td>\n      <td>0</td>\n      <td>0</td>\n      <td>0</td>\n      <td>0</td>\n      <td>0</td>\n      <td>0</td>\n    </tr>\n    <tr>\n      <th>MT</th>\n      <td>11</td>\n      <td>0</td>\n      <td>0</td>\n      <td>0</td>\n      <td>0</td>\n      <td>0</td>\n      <td>0</td>\n      <td>0</td>\n      <td>0</td>\n      <td>0</td>\n      <td>...</td>\n      <td>0</td>\n      <td>0</td>\n      <td>0</td>\n      <td>0</td>\n      <td>0</td>\n      <td>0</td>\n      <td>0</td>\n      <td>0</td>\n      <td>0</td>\n      <td>0</td>\n    </tr>\n    <tr>\n      <th>NC</th>\n      <td>69</td>\n      <td>0</td>\n      <td>0</td>\n      <td>0</td>\n      <td>0</td>\n      <td>0</td>\n      <td>0</td>\n      <td>0</td>\n      <td>0</td>\n      <td>0</td>\n      <td>...</td>\n      <td>0</td>\n      <td>0</td>\n      <td>0</td>\n      <td>0</td>\n      <td>0</td>\n      <td>0</td>\n      <td>0</td>\n      <td>0</td>\n      <td>0</td>\n      <td>0</td>\n    </tr>\n    <tr>\n      <th>ND</th>\n      <td>4</td>\n      <td>0</td>\n      <td>0</td>\n      <td>0</td>\n      <td>0</td>\n      <td>0</td>\n      <td>0</td>\n      <td>0</td>\n      <td>0</td>\n      <td>0</td>\n      <td>...</td>\n      <td>0</td>\n      <td>0</td>\n      <td>0</td>\n      <td>0</td>\n      <td>0</td>\n      <td>0</td>\n      <td>0</td>\n      <td>0</td>\n      <td>0</td>\n      <td>0</td>\n    </tr>\n    <tr>\n      <th>NE</th>\n      <td>15</td>\n      <td>0</td>\n      <td>0</td>\n      <td>0</td>\n      <td>0</td>\n      <td>0</td>\n      <td>0</td>\n      <td>0</td>\n      <td>0</td>\n      <td>0</td>\n      <td>...</td>\n      <td>0</td>\n      <td>0</td>\n      <td>0</td>\n      <td>0</td>\n      <td>0</td>\n      <td>0</td>\n      <td>0</td>\n      <td>0</td>\n      <td>0</td>\n      <td>0</td>\n    </tr>\n    <tr>\n      <th>NH</th>\n      <td>7</td>\n      <td>0</td>\n      <td>0</td>\n      <td>0</td>\n      <td>0</td>\n      <td>0</td>\n      <td>0</td>\n      <td>0</td>\n      <td>0</td>\n      <td>0</td>\n      <td>...</td>\n      <td>0</td>\n      <td>0</td>\n      <td>0</td>\n      <td>0</td>\n      <td>0</td>\n      <td>0</td>\n      <td>0</td>\n      <td>0</td>\n      <td>0</td>\n      <td>0</td>\n    </tr>\n    <tr>\n      <th>NJ</th>\n      <td>35</td>\n      <td>0</td>\n      <td>0</td>\n      <td>0</td>\n      <td>0</td>\n      <td>0</td>\n      <td>0</td>\n      <td>0</td>\n      <td>0</td>\n      <td>0</td>\n      <td>...</td>\n      <td>0</td>\n      <td>0</td>\n      <td>0</td>\n      <td>0</td>\n      <td>0</td>\n      <td>0</td>\n      <td>0</td>\n      <td>0</td>\n      <td>0</td>\n      <td>0</td>\n    </tr>\n    <tr>\n      <th>NM</th>\n      <td>51</td>\n      <td>0</td>\n      <td>0</td>\n      <td>0</td>\n      <td>0</td>\n      <td>0</td>\n      <td>0</td>\n      <td>0</td>\n      <td>0</td>\n      <td>0</td>\n      <td>...</td>\n      <td>0</td>\n      <td>0</td>\n      <td>0</td>\n      <td>0</td>\n      <td>0</td>\n      <td>0</td>\n      <td>0</td>\n      <td>0</td>\n      <td>0</td>\n      <td>0</td>\n    </tr>\n    <tr>\n      <th>NV</th>\n      <td>42</td>\n      <td>0</td>\n      <td>0</td>\n      <td>0</td>\n      <td>0</td>\n      <td>0</td>\n      <td>0</td>\n      <td>0</td>\n      <td>0</td>\n      <td>0</td>\n      <td>...</td>\n      <td>0</td>\n      <td>0</td>\n      <td>0</td>\n      <td>0</td>\n      <td>0</td>\n      <td>0</td>\n      <td>0</td>\n      <td>0</td>\n      <td>0</td>\n      <td>0</td>\n    </tr>\n    <tr>\n      <th>NY</th>\n      <td>45</td>\n      <td>0</td>\n      <td>0</td>\n      <td>0</td>\n      <td>0</td>\n      <td>0</td>\n      <td>0</td>\n      <td>0</td>\n      <td>0</td>\n      <td>0</td>\n      <td>...</td>\n      <td>0</td>\n      <td>0</td>\n      <td>0</td>\n      <td>0</td>\n      <td>0</td>\n      <td>0</td>\n      <td>0</td>\n      <td>0</td>\n      <td>0</td>\n      <td>0</td>\n    </tr>\n    <tr>\n      <th>OH</th>\n      <td>79</td>\n      <td>0</td>\n      <td>0</td>\n      <td>0</td>\n      <td>0</td>\n      <td>0</td>\n      <td>0</td>\n      <td>0</td>\n      <td>0</td>\n      <td>0</td>\n      <td>...</td>\n      <td>0</td>\n      <td>0</td>\n      <td>0</td>\n      <td>0</td>\n      <td>0</td>\n      <td>0</td>\n      <td>0</td>\n      <td>0</td>\n      <td>0</td>\n      <td>0</td>\n    </tr>\n    <tr>\n      <th>OK</th>\n      <td>78</td>\n      <td>0</td>\n      <td>0</td>\n      <td>0</td>\n      <td>0</td>\n      <td>0</td>\n      <td>0</td>\n      <td>0</td>\n      <td>0</td>\n      <td>0</td>\n      <td>...</td>\n      <td>0</td>\n      <td>0</td>\n      <td>0</td>\n      <td>0</td>\n      <td>0</td>\n      <td>0</td>\n      <td>0</td>\n      <td>0</td>\n      <td>0</td>\n      <td>0</td>\n    </tr>\n    <tr>\n      <th>OR</th>\n      <td>38</td>\n      <td>0</td>\n      <td>0</td>\n      <td>0</td>\n      <td>0</td>\n      <td>0</td>\n      <td>0</td>\n      <td>0</td>\n      <td>0</td>\n      <td>0</td>\n      <td>...</td>\n      <td>0</td>\n      <td>0</td>\n      <td>0</td>\n      <td>0</td>\n      <td>0</td>\n      <td>0</td>\n      <td>0</td>\n      <td>0</td>\n      <td>0</td>\n      <td>0</td>\n    </tr>\n    <tr>\n      <th>PA</th>\n      <td>51</td>\n      <td>0</td>\n      <td>0</td>\n      <td>0</td>\n      <td>0</td>\n      <td>0</td>\n      <td>0</td>\n      <td>0</td>\n      <td>0</td>\n      <td>0</td>\n      <td>...</td>\n      <td>0</td>\n      <td>0</td>\n      <td>0</td>\n      <td>0</td>\n      <td>0</td>\n      <td>0</td>\n      <td>0</td>\n      <td>0</td>\n      <td>0</td>\n      <td>0</td>\n    </tr>\n    <tr>\n      <th>RI</th>\n      <td>2</td>\n      <td>0</td>\n      <td>0</td>\n      <td>0</td>\n      <td>0</td>\n      <td>0</td>\n      <td>0</td>\n      <td>0</td>\n      <td>0</td>\n      <td>0</td>\n      <td>...</td>\n      <td>0</td>\n      <td>0</td>\n      <td>0</td>\n      <td>0</td>\n      <td>0</td>\n      <td>0</td>\n      <td>0</td>\n      <td>0</td>\n      <td>0</td>\n      <td>0</td>\n    </tr>\n    <tr>\n      <th>SC</th>\n      <td>44</td>\n      <td>0</td>\n      <td>0</td>\n      <td>0</td>\n      <td>0</td>\n      <td>0</td>\n      <td>0</td>\n      <td>0</td>\n      <td>0</td>\n      <td>0</td>\n      <td>...</td>\n      <td>0</td>\n      <td>0</td>\n      <td>0</td>\n      <td>0</td>\n      <td>0</td>\n      <td>0</td>\n      <td>0</td>\n      <td>0</td>\n      <td>0</td>\n      <td>0</td>\n    </tr>\n    <tr>\n      <th>SD</th>\n      <td>10</td>\n      <td>0</td>\n      <td>0</td>\n      <td>0</td>\n      <td>0</td>\n      <td>0</td>\n      <td>0</td>\n      <td>0</td>\n      <td>0</td>\n      <td>0</td>\n      <td>...</td>\n      <td>0</td>\n      <td>0</td>\n      <td>0</td>\n      <td>0</td>\n      <td>0</td>\n      <td>0</td>\n      <td>0</td>\n      <td>0</td>\n      <td>0</td>\n      <td>0</td>\n    </tr>\n    <tr>\n      <th>TN</th>\n      <td>59</td>\n      <td>0</td>\n      <td>0</td>\n      <td>0</td>\n      <td>0</td>\n      <td>0</td>\n      <td>0</td>\n      <td>0</td>\n      <td>0</td>\n      <td>0</td>\n      <td>...</td>\n      <td>0</td>\n      <td>0</td>\n      <td>0</td>\n      <td>0</td>\n      <td>0</td>\n      <td>0</td>\n      <td>0</td>\n      <td>0</td>\n      <td>0</td>\n      <td>0</td>\n    </tr>\n    <tr>\n      <th>TX</th>\n      <td>225</td>\n      <td>0</td>\n      <td>0</td>\n      <td>0</td>\n      <td>0</td>\n      <td>0</td>\n      <td>0</td>\n      <td>0</td>\n      <td>0</td>\n      <td>0</td>\n      <td>...</td>\n      <td>0</td>\n      <td>0</td>\n      <td>0</td>\n      <td>0</td>\n      <td>0</td>\n      <td>0</td>\n      <td>0</td>\n      <td>0</td>\n      <td>0</td>\n      <td>0</td>\n    </tr>\n    <tr>\n      <th>UT</th>\n      <td>23</td>\n      <td>0</td>\n      <td>0</td>\n      <td>0</td>\n      <td>0</td>\n      <td>0</td>\n      <td>0</td>\n      <td>0</td>\n      <td>0</td>\n      <td>0</td>\n      <td>...</td>\n      <td>0</td>\n      <td>0</td>\n      <td>0</td>\n      <td>0</td>\n      <td>0</td>\n      <td>0</td>\n      <td>0</td>\n      <td>0</td>\n      <td>0</td>\n      <td>0</td>\n    </tr>\n    <tr>\n      <th>VA</th>\n      <td>47</td>\n      <td>0</td>\n      <td>0</td>\n      <td>0</td>\n      <td>0</td>\n      <td>0</td>\n      <td>0</td>\n      <td>0</td>\n      <td>0</td>\n      <td>0</td>\n      <td>...</td>\n      <td>0</td>\n      <td>0</td>\n      <td>0</td>\n      <td>0</td>\n      <td>0</td>\n      <td>0</td>\n      <td>0</td>\n      <td>0</td>\n      <td>0</td>\n      <td>0</td>\n    </tr>\n    <tr>\n      <th>VT</th>\n      <td>3</td>\n      <td>0</td>\n      <td>0</td>\n      <td>0</td>\n      <td>0</td>\n      <td>0</td>\n      <td>0</td>\n      <td>0</td>\n      <td>0</td>\n      <td>0</td>\n      <td>...</td>\n      <td>0</td>\n      <td>0</td>\n      <td>0</td>\n      <td>0</td>\n      <td>0</td>\n      <td>0</td>\n      <td>0</td>\n      <td>0</td>\n      <td>0</td>\n      <td>0</td>\n    </tr>\n    <tr>\n      <th>WA</th>\n      <td>62</td>\n      <td>0</td>\n      <td>0</td>\n      <td>0</td>\n      <td>0</td>\n      <td>0</td>\n      <td>0</td>\n      <td>0</td>\n      <td>0</td>\n      <td>0</td>\n      <td>...</td>\n      <td>0</td>\n      <td>0</td>\n      <td>0</td>\n      <td>0</td>\n      <td>0</td>\n      <td>0</td>\n      <td>0</td>\n      <td>0</td>\n      <td>0</td>\n      <td>0</td>\n    </tr>\n    <tr>\n      <th>WI</th>\n      <td>43</td>\n      <td>0</td>\n      <td>0</td>\n      <td>0</td>\n      <td>0</td>\n      <td>0</td>\n      <td>0</td>\n      <td>0</td>\n      <td>0</td>\n      <td>0</td>\n      <td>...</td>\n      <td>0</td>\n      <td>0</td>\n      <td>0</td>\n      <td>0</td>\n      <td>0</td>\n      <td>0</td>\n      <td>0</td>\n      <td>0</td>\n      <td>0</td>\n      <td>0</td>\n    </tr>\n    <tr>\n      <th>WV</th>\n      <td>27</td>\n      <td>0</td>\n      <td>0</td>\n      <td>0</td>\n      <td>0</td>\n      <td>0</td>\n      <td>0</td>\n      <td>0</td>\n      <td>0</td>\n      <td>0</td>\n      <td>...</td>\n      <td>0</td>\n      <td>0</td>\n      <td>0</td>\n      <td>0</td>\n      <td>0</td>\n      <td>0</td>\n      <td>0</td>\n      <td>0</td>\n      <td>0</td>\n      <td>0</td>\n    </tr>\n    <tr>\n      <th>WY</th>\n      <td>8</td>\n      <td>0</td>\n      <td>0</td>\n      <td>0</td>\n      <td>0</td>\n      <td>0</td>\n      <td>0</td>\n      <td>0</td>\n      <td>0</td>\n      <td>0</td>\n      <td>...</td>\n      <td>0</td>\n      <td>0</td>\n      <td>0</td>\n      <td>0</td>\n      <td>0</td>\n      <td>0</td>\n      <td>0</td>\n      <td>0</td>\n      <td>0</td>\n      <td>0</td>\n    </tr>\n  </tbody>\n</table>\n<p>51 rows × 90 columns</p>\n</div>"
     },
     "execution_count": 1124,
     "metadata": {},
     "output_type": "execute_result"
    }
   ],
   "source": [
    "# Make a copy of Total Data For State!\n",
    "df_aux = df_total.copy()\n",
    "df_aux.sort_values(by=['state'])\n",
    "\n",
    "# The following dropped Columns are not used when data is collapsed as City\n",
    "df_aux.drop(columns=['id', 'name', 'date', 'age', 'city'], inplace=True)\n",
    "df_aux.set_index('state', inplace=True)\n",
    "df_aux = df_aux.astype(str)\n",
    "cols = df_aux.columns.tolist() # Move 'arms' to end of list\n",
    "cols.append(cols.pop(cols.index('armed')))\n",
    "df_aux = df_aux[cols]\n",
    "\n",
    "# Get a list of 'df_aux' column names\n",
    "aux_cols = df_aux.columns\n",
    "\n",
    "# Get a list of the index state (Sorted)\n",
    "list_of_states = df_aux.index.unique().tolist()\n",
    "list_of_states.sort()\n",
    "\n",
    "# For each column, change the string such that  \" 'COLUMN_NAME': + str + (s) \" is the result for each string.\n",
    "# This is important so that when we build/update our resulting Dataframe, it will have unique values per catagory.\n",
    "for i in list_of_states:\n",
    "    for j in aux_cols:\n",
    "        df_aux.at[i, j] =  j.upper() + ': ' + df_aux.at[i, j]\n",
    "\n",
    "# Make the df_city_stats Columns\n",
    "freq_list_cols = ['Total Cases']\n",
    "for i in aux_cols:\n",
    "    freq_list_cols = freq_list_cols + df_aux[i].unique().tolist()\n",
    "\n",
    "\n",
    "# Create Dataframe to build up\n",
    "df_state_stats = pd.DataFrame(index=list_of_states, columns=freq_list_cols)\n",
    "df_state_stats = df_state_stats.fillna(0)\n",
    "for i in list_of_states: # indexs\n",
    "    temp = len(df_aux[df_aux.index == i])\n",
    "    df_state_stats.loc[i]['Total Cases'] = temp\n",
    "    for j in aux_cols:\n",
    "        temp = df_aux[df_aux.index == i][j].value_counts()\n",
    "        df_state_stats.loc[i].update(temp)\n",
    "\n",
    "df_state_stats"
   ]
  },
  {
   "cell_type": "code",
   "execution_count": null,
   "metadata": {
    "collapsed": false,
    "pycharm": {
     "name": "#%%\n",
     "is_executing": true
    }
   },
   "outputs": [],
   "source": [
    "\"\"\"\n",
    "Now that we have the most accurate imputation using all of the support data. We want to hold a dataframe that contains cities that are also in the main data frame.\n",
    "\"\"\"\n",
    "j=0\n",
    "df_support = pd.DataFrame(columns=columns_supp)\n",
    "for i in cities:\n",
    "    newDf= df_temp[df_temp['city'] == i].copy()\n",
    "    if(len(newDf) > 1):\n",
    "        print(i)\n",
    "        print(newDf.info())\n",
    "        print(newDf)\n",
    "    df_support = df_support.append(newDf, ignore_index=True)\n",
    "    df_support.drop_duplicates(inplace=True)\n",
    "    j+=1\n",
    "print(j)\n",
    "print(df_support.info())\n",
    "print(len(cities))\n",
    "df_support"
   ]
  },
  {
   "cell_type": "code",
   "execution_count": null,
   "metadata": {
    "collapsed": false,
    "pycharm": {
     "name": "#%%\n",
     "is_executing": true
    }
   },
   "outputs": [],
   "source": [
    "\"\"\"\n",
    "Q: Which state has the most fatal police shootings? Which city is the most dangerous?\n",
    "Create a collapsed dataframe of state. Create a collapsed data frame of Cities.\n",
    "\"\"\"\n",
    "# Make a copy of Total Data For City!\n",
    "df_aux = df_total.copy()\n",
    "df_aux.sort_values(by=['city'])\n",
    "\n",
    "# The following dropped Columns are not used when data is collapsed as City\n",
    "df_aux.drop(columns=['id', 'name', 'date', 'age', 'state'], inplace=True)\n",
    "df_aux.set_index('city', inplace=True)\n",
    "df_aux = df_aux.astype(str)\n",
    "cols = df_aux.columns.tolist() # Move 'arms' to end of list\n",
    "cols.append(cols.pop(cols.index('armed')))\n",
    "df_aux = df_aux[cols]\n",
    "\n",
    "# Get a list of 'df_aux' column names\n",
    "aux_cols = df_aux.columns\n",
    "\n",
    "# Get a list of the index cities (Sorted)\n",
    "list_of_cities = df_aux.index.unique().tolist()\n",
    "list_of_cities.sort()\n",
    "\n",
    "# For each column, change the string such that  \" 'COLUMN_NAME': + str + (s) \" is the result for each string.\n",
    "# This is important so that when we build/update our resulting Dataframe, it will have unique values per catagory.\n",
    "for i in list_of_cities:\n",
    "    for j in aux_cols:\n",
    "        df_aux.at[i, j] =  j.upper() + ': ' + df_aux.at[i, j]\n",
    "\n",
    "# Make the df_city_stats Columns\n",
    "freq_list_cols = ['Total Cases']\n",
    "for i in aux_cols:\n",
    "    freq_list_cols = freq_list_cols + df_aux[i].unique().tolist()\n",
    "\n",
    "\n",
    "# Create Dataframe to build up\n",
    "df_city_stats = pd.DataFrame(index=list_of_cities, columns=freq_list_cols)\n",
    "df_city_stats = df_city_stats.fillna(0)\n",
    "for i in list_of_cities: # indexs\n",
    "    temp = len(df_aux[df_aux.index == i])\n",
    "    df_city_stats.loc[i]['Total Cases'] = temp\n",
    "    for j in aux_cols:\n",
    "        temp = df_aux[df_aux.index == i][j].value_counts()\n",
    "        df_city_stats.loc[i].update(temp)\n",
    "\n",
    "df_city_stats"
   ]
  },
  {
   "cell_type": "code",
   "execution_count": null,
   "metadata": {
    "collapsed": false,
    "pycharm": {
     "name": "#%%\n",
     "is_executing": true
    }
   },
   "outputs": [],
   "source": [
    "# Make a copy of Total Data For State!\n",
    "df_aux = df_total.copy()\n",
    "df_aux.sort_values(by=['state'])\n",
    "\n",
    "# The following dropped Columns are not used when data is collapsed as City\n",
    "df_aux.drop(columns=['id', 'name', 'date', 'age', 'city'], inplace=True)\n",
    "df_aux.set_index('state', inplace=True)\n",
    "df_aux = df_aux.astype(str)\n",
    "cols = df_aux.columns.tolist() # Move 'arms' to end of list\n",
    "cols.append(cols.pop(cols.index('armed')))\n",
    "df_aux = df_aux[cols]\n",
    "\n",
    "# Get a list of 'df_aux' column names\n",
    "aux_cols = df_aux.columns\n",
    "\n",
    "# Get a list of the index state (Sorted)\n",
    "list_of_states = df_aux.index.unique().tolist()\n",
    "list_of_states.sort()\n",
    "\n",
    "# For each column, change the string such that  \" 'COLUMN_NAME': + str + (s) \" is the result for each string.\n",
    "# This is important so that when we build/update our resulting Dataframe, it will have unique values per catagory.\n",
    "for i in list_of_states:\n",
    "    for j in aux_cols:\n",
    "        df_aux.at[i, j] =  j.upper() + ': ' + df_aux.at[i, j]\n",
    "\n",
    "# Make the df_city_stats Columns\n",
    "freq_list_cols = ['Total Cases']\n",
    "for i in aux_cols:\n",
    "    freq_list_cols = freq_list_cols + df_aux[i].unique().tolist()\n",
    "\n",
    "\n",
    "# Create Dataframe to build up\n",
    "df_state_stats = pd.DataFrame(index=list_of_states, columns=freq_list_cols)\n",
    "df_state_stats = df_state_stats.fillna(0)\n",
    "for i in list_of_states: # indexs\n",
    "    temp = len(df_aux[df_aux.index == i])\n",
    "    df_state_stats.loc[i]['Total Cases'] = temp\n",
    "    for j in aux_cols:\n",
    "        temp = df_aux[df_aux.index == i][j].value_counts()\n",
    "        df_state_stats.loc[i].update(temp)\n",
    "\n",
    "df_state_stats"
   ]
  },
  {
   "cell_type": "code",
   "execution_count": null,
   "metadata": {
    "pycharm": {
     "name": "#%%\n",
     "is_executing": true
    }
   },
   "outputs": [],
   "source": [
    "'''\n",
    "The goal is to make a visualization of our data so we can find out which state in the set has the most fatal police shootings\n",
    "\n",
    "Create a bar graph using the df_state_stats DataFrame to visualize the trend of fatal shootings per state\n",
    "'''\n",
    "\n",
    "plt.bar(df_state_stats.index, df_state_stats['Total Cases'])\n",
    "plt.title('Total Cases of Fatal Shootings by State')\n",
    "plt.xlabel('State')\n",
    "plt.ylabel('Number of Fatal Shootings')\n",
    "plt.show()"
   ]
  },
  {
   "cell_type": "code",
   "execution_count": null,
   "metadata": {
    "pycharm": {
     "name": "#%%\n",
     "is_executing": true
    }
   },
   "outputs": [],
   "source": [
    "'''\n",
    "The above bar graph is extremely packed and the majority of the values are very small, so they don't matter to us when trying to determine which states have the highest number of fatal shootings. Let's repeat the process using only the states with number of killings greater than 50. With this, we can see the data better.\n",
    "'''\n",
    "\n",
    "df_state_stats_temp = df_state_stats[df_state_stats['Total Cases'] > 50]\n",
    "# df_state_stats_temp\n",
    "\n",
    "# plt.bar(df_state_stats_temp.index, df_state_stats_temp['Total Cases'])\n",
    "# plt.title('Total Cases of Fatal Shootings by State')\n",
    "# plt.xlabel('State')\n",
    "# plt.ylabel('Number of Fatal Shootings')\n",
    "# plt.show()\n",
    "\n",
    "x_list = list(df_state_stats_temp.index)\n",
    "y_list = list(df_state_stats_temp['Total Cases'])\n",
    "plt.bar(x_list, y_list)\n",
    "plt.title('Total Cases of Fatal Shootings by State')\n",
    "plt.xlabel('State')\n",
    "plt.ylabel('Number of Fatal Shootings')\n",
    "for i in range(len(x_list)):\n",
    "    plt.text(x_list[i], y_list[i], y_list[i], ha='center')\n",
    "plt.show()"
   ]
  },
  {
   "cell_type": "code",
   "execution_count": null,
   "metadata": {
    "pycharm": {
     "name": "#%%\n",
     "is_executing": true
    }
   },
   "outputs": [],
   "source": [
    "'''\n",
    "The graph clearly shows that CA is the state with the highest number of fatal police shootings (over 400), followed by TX with slightly over 200 fatal shootings.\n",
    "\n",
    "We can confirm this conclusion using code by extracting the maximum value of 'Total Cases' from the DataFrame and seeing which state it is associated with. \n",
    "The line of code below accomplishes this and does indeed confirm that CA is the state with the highest number of fatal shootings (424). \n",
    "'''\n",
    "s = df_state_stats.loc[df_state_stats['Total Cases'].idxmax()]\n",
    "s.name, s['Total Cases']"
   ]
  },
  {
   "cell_type": "code",
   "execution_count": null,
   "metadata": {
    "pycharm": {
     "name": "#%%\n",
     "is_executing": true
    }
   },
   "outputs": [],
   "source": [
    "df_state_stats.columns"
   ]
  },
  {
   "cell_type": "code",
   "execution_count": null,
   "metadata": {
    "pycharm": {
     "name": "#%%\n",
     "is_executing": true
    }
   },
   "outputs": [],
   "source": [
    "'''\n",
    "The goal is to make a visualization of our data so we can find out which city in the set is the most dangerous. We can determine this by comparing the number of fatal shootings \n",
    "\n",
    "Create a bar graph using the df_city_stats DataFrame to visualize the trend of fatal shootings per city\n",
    "'''\n",
    "\n",
    "plt.bar(df_city_stats.index, df_city_stats['Total Cases'])\n",
    "plt.title('Total Cases of Fatal Shootings by City')\n",
    "plt.xlabel('City')\n",
    "plt.ylabel('Number of Fatal Shootings')\n",
    "plt.show()"
   ]
  },
  {
   "cell_type": "code",
   "execution_count": null,
   "metadata": {
    "pycharm": {
     "name": "#%%\n",
     "is_executing": true
    }
   },
   "outputs": [],
   "source": [
    "'''\n",
    "The above bar graph is extremely packed and the majority of the values are very small, so they don't matter to us when trying to determine which cities have the highest number of fatal shootings. Let's repeat the process using only the cities with number of killings greater than 10. With this, we can see the data better.\n",
    "'''\n",
    "\n",
    "df_city_stats_temp = df_city_stats[df_city_stats['Total Cases'] > 10]\n",
    "# df_city_stats_temp\n",
    "\n",
    "plt.bar(df_city_stats_temp.index, df_city_stats_temp['Total Cases'])\n",
    "plt.title('Total Cases of Fatal Shootings by City')\n",
    "plt.xlabel('City')\n",
    "plt.ylabel('Number of Fatal Shootings')\n",
    "plt.show()"
   ]
  },
  {
   "cell_type": "code",
   "execution_count": null,
   "metadata": {
    "pycharm": {
     "name": "#%%\n",
     "is_executing": true
    }
   },
   "outputs": [],
   "source": [
    "'''\n",
    "The graph above looks a bit better, but it's still hard to distinguish the cities because of how packed the data is. We can further eliminate some data from our graph to make it easier to look at, so let's only consider those cities with number of fatal shootings above 20 and see if that works out better.\n",
    "'''\n",
    "\n",
    "df_city_stats_temp = df_city_stats[df_city_stats['Total Cases'] > 20]\n",
    "# df_city_stats_temp\n",
    "\n",
    "x_list = list(df_city_stats_temp.index)\n",
    "y_list = list(df_city_stats_temp['Total Cases'])\n",
    "plt.bar(x_list, y_list)\n",
    "plt.title('Total Cases of Fatal Shootings by City')\n",
    "plt.xlabel('City')\n",
    "plt.ylabel('Number of Fatal Shootings')\n",
    "for i in range(len(x_list)):\n",
    "    plt.text(x_list[i], y_list[i], y_list[i], ha='center')\n",
    "plt.show()"
   ]
  },
  {
   "cell_type": "code",
   "execution_count": null,
   "metadata": {
    "pycharm": {
     "name": "#%%\n",
     "is_executing": true
    }
   },
   "outputs": [],
   "source": [
    "'''\n",
    "This graph very clearly shows that Los Angeles, CA is the city with the most fatal shootings, which we can use as our basis to claim that Los Angeles is the most dangerous of the cities on this list. It is followed closely by Phoenix, AZ and Houston, TX.\n",
    "'''"
   ]
  },
  {
   "cell_type": "code",
   "execution_count": null,
   "metadata": {
    "pycharm": {
     "name": "#%%\n",
     "is_executing": true
    }
   },
   "outputs": [],
   "source": [
    "'''\n",
    "The goal is to find out what the most common way of being armed is. We can do this by iterating through every index and sum up the values in each column for method of arms\n",
    "\n",
    "We can store the results in a dictionary\n",
    "'''\n",
    "\n",
    "armed_counts = dict()\n",
    "armed_cols = [c for c in df_state_stats.columns if c[0:5] == \"ARMED\"]\n",
    "\n",
    "for index, row in df_state_stats.iterrows():\n",
    "    for col in armed_cols:\n",
    "        arm_type = col[7:]\n",
    "        armed_counts[arm_type] = armed_counts.get(arm_type, 0) + row[col]\n",
    "\n",
    "'''\n",
    "Now the armed_counts dictionary contains each way of being armed along with its corresponding number of appearances.\n",
    "\n",
    "We can sort the dictionary by value in non-increasing order to determine what the most common ways of being armed are.\n",
    "\n",
    "By doing this, we can see that the most common way of being armed is with a gun (1407 occurrences), followed by knife with 373 occurrences.\n",
    "'''\n",
    "\n",
    "armed_counts_list = sorted(armed_counts.items(), key=lambda x:x[1], reverse=True)\n",
    "armed_counts_list"
   ]
  },
  {
   "cell_type": "code",
   "execution_count": null,
   "metadata": {
    "pycharm": {
     "name": "#%%\n",
     "is_executing": true
    }
   },
   "outputs": [],
   "source": [
    "'''\n",
    "We can also use a bar graph to visualize this data.\n",
    "'''\n",
    "plt.bar(armed_counts.keys(), armed_counts.values())\n",
    "plt.title(\"Number of Occurrences for Each Method of being Armed\")\n",
    "plt.xlabel(\"Method of Arms\")\n",
    "plt.ylabel(\"Number of Occurrences\")\n",
    "plt.show()"
   ]
  },
  {
   "cell_type": "code",
   "execution_count": null,
   "metadata": {
    "pycharm": {
     "name": "#%%\n",
     "is_executing": true
    }
   },
   "outputs": [],
   "source": [
    "armed_counts_reduced = dict()\n",
    "\n",
    "for tup in armed_counts_list:\n",
    "    if (tup[1] > 10):\n",
    "        armed_counts_reduced[tup[0]] = tup[1]\n",
    "\n",
    "armed_counts_reduced"
   ]
  },
  {
   "cell_type": "code",
   "execution_count": null,
   "metadata": {
    "pycharm": {
     "name": "#%%\n",
     "is_executing": true
    }
   },
   "outputs": [],
   "source": [
    "'''\n",
    "We can also use a bar graph to visualize this data.\n",
    "'''\n",
    "# plt.bar(armed_counts_reduced.keys(), armed_counts_reduced.values())\n",
    "# plt.title(\"Number of Occurrences for Each Method of being Armed\")\n",
    "# plt.xlabel(\"Method of Arms\")\n",
    "# plt.ylabel(\"Number of Occurrences\")\n",
    "# plt.show()\n",
    "\n",
    "\n",
    "x_list = list(armed_counts_reduced.keys())\n",
    "y_list = list(armed_counts_reduced.values())\n",
    "plt.bar(x_list, y_list)\n",
    "plt.title(\"Number of Occurrences for Each Method of being Armed\")\n",
    "plt.xlabel(\"Method of Arms\")\n",
    "plt.ylabel(\"Number of Occurrences\")\n",
    "for i in range(len(x_list)):\n",
    "    plt.text(x_list[i], y_list[i], y_list[i], ha='center')\n",
    "plt.show()"
   ]
  },
  {
   "cell_type": "code",
   "execution_count": null,
   "metadata": {
    "pycharm": {
     "name": "#%%\n",
     "is_executing": true
    }
   },
   "outputs": [],
   "source": [
    "'''\n",
    "The graph above clearly shows that guns are the most common by a very wide margin, followed by knives in second and then vehicles in third place.\n",
    "Interestingly, we can also see here that the 4th most common occurrence is actually \"unarmed\" - no weapons/items \n",
    "'''"
   ]
  },
  {
   "cell_type": "code",
   "execution_count": null,
   "metadata": {
    "pycharm": {
     "name": "#%%\n",
     "is_executing": true
    }
   },
   "outputs": [],
   "source": [
    "'''\n",
    "Now let's look at the age distribution of all the victims\n",
    "'''\n",
    "\n",
    "all_hist = sb.histplot(df_total['age'], bins=20, binrange=(0,100))\n",
    "all_hist.set_title(\"Age Distribution of All Victims\")"
   ]
  },
  {
   "cell_type": "code",
   "execution_count": null,
   "metadata": {
    "pycharm": {
     "is_executing": true
    }
   },
   "outputs": [],
   "source": [
    "# we can look at the stats summary for the ages across all races\n",
    "df_total['age'].describe()\n",
    "\n",
    "# Overall mean age: 36.56\n",
    "# Overall age stdev: 12.88\n",
    "# Overall min. age: 6\n",
    "# Overall median age: 35\n",
    "# Overall max. age: 91"
   ]
  },
  {
   "cell_type": "code",
   "execution_count": null,
   "metadata": {
    "pycharm": {
     "name": "#%%\n",
     "is_executing": true
    }
   },
   "outputs": [],
   "source": [
    "df_a = df_total[df_total['race'] == 'A']\n",
    "a_hist = sb.histplot(df_a['age'], bins=20, binrange=(0,100))\n",
    "a_hist.set_title(\"Age Distribution of Asian Victims\")"
   ]
  },
  {
   "cell_type": "code",
   "execution_count": null,
   "metadata": {
    "pycharm": {
     "is_executing": true
    }
   },
   "outputs": [],
   "source": [
    "# we can look at the stats summary for the ages across Asian people\n",
    "df_a['age'].describe()\n",
    "\n",
    "# Asian mean age: 36.76\n",
    "# Asian age stdev: 11.55\n",
    "# Asian min. age: 15\n",
    "# Asian median age: 35\n",
    "# Asian max. age: 61"
   ]
  },
  {
   "cell_type": "code",
   "execution_count": null,
   "metadata": {
    "pycharm": {
     "name": "#%%\n",
     "is_executing": true
    }
   },
   "outputs": [],
   "source": [
    "df_w = df_total[df_total['race'] == 'W']\n",
    "w_hist = sb.histplot(df_w['age'], bins=20, binrange=(0,100))\n",
    "w_hist.set_title(\"Age Distribution of White Victims\")"
   ]
  },
  {
   "cell_type": "code",
   "execution_count": null,
   "metadata": {
    "pycharm": {
     "is_executing": true
    }
   },
   "outputs": [],
   "source": [
    "# we can look at the stats summary for the ages across White people\n",
    "df_w['age'].describe()\n",
    "\n",
    "# White mean age: 40.27\n",
    "# White age stdev: 13.39\n",
    "# White min. age: 6\n",
    "# White median age: 38\n",
    "# White max. age: 91"
   ]
  },
  {
   "cell_type": "code",
   "execution_count": null,
   "metadata": {
    "pycharm": {
     "name": "#%%\n",
     "is_executing": true
    }
   },
   "outputs": [],
   "source": [
    "df_b = df_total[df_total['race'] == 'B']\n",
    "b_hist = sb.histplot(df_b['age'], bins=20, binrange=(0,100))\n",
    "b_hist.set_title(\"Age Distribution of Black Victims\")"
   ]
  },
  {
   "cell_type": "code",
   "execution_count": null,
   "metadata": {
    "pycharm": {
     "is_executing": true
    }
   },
   "outputs": [],
   "source": [
    "# we can look at the stats summary for the ages across Black people\n",
    "df_b['age'].describe()\n",
    "\n",
    "# Black mean age: 31.64\n",
    "# Black age stdev: 10.84\n",
    "# Black min. age: 13\n",
    "# Black median age: 30\n",
    "# Black max. age: 77"
   ]
  },
  {
   "cell_type": "code",
   "execution_count": null,
   "metadata": {
    "pycharm": {
     "name": "#%%\n",
     "is_executing": true
    }
   },
   "outputs": [],
   "source": [
    "df_h = df_total[df_total['race'] == 'H']\n",
    "a_hist = sb.histplot(df_h['age'], bins=20, binrange=(0,100))\n",
    "a_hist.set_title(\"Age Distribution of Hispanic Victims\")"
   ]
  },
  {
   "cell_type": "code",
   "execution_count": null,
   "metadata": {
    "pycharm": {
     "is_executing": true
    }
   },
   "outputs": [],
   "source": [
    "# we can look at the stats summary for the ages across Hispanic people\n",
    "df_h['age'].describe()\n",
    "\n",
    "# Hispanic mean age: 33.07\n",
    "# Hispanic age stdev: 10.83\n",
    "# Hispanic min. age: 14\n",
    "# Hispanic median age: 31.57\n",
    "# Hispanic max. age: 80"
   ]
  },
  {
   "cell_type": "code",
   "execution_count": null,
   "metadata": {
    "pycharm": {
     "name": "#%%\n",
     "is_executing": true
    }
   },
   "outputs": [],
   "source": [
    "df_n = df_total[df_total['race'] == 'N']\n",
    "a_hist = sb.histplot(df_n['age'], bins=20, binrange=(0,100))\n",
    "a_hist.set_title(\"Age Distribution of Native American Victims\")"
   ]
  },
  {
   "cell_type": "code",
   "execution_count": null,
   "metadata": {
    "pycharm": {
     "is_executing": true
    }
   },
   "outputs": [],
   "source": [
    "# we can look at the stats summary for the ages across Native people\n",
    "df_n['age'].describe()\n",
    "\n",
    "# Native mean age: 30.38\n",
    "# Native age stdev: 7.97\n",
    "# Native min. age: 19\n",
    "# Native median age: 29\n",
    "# Native max. age: 49"
   ]
  },
  {
   "cell_type": "code",
   "execution_count": null,
   "metadata": {
    "pycharm": {
     "name": "#%%\n",
     "is_executing": true
    }
   },
   "outputs": [],
   "source": [
    "df_o = df_total[df_total['race'] == 'O']\n",
    "a_hist = sb.histplot(df_o['age'], bins=20, binrange=(0,100))\n",
    "a_hist.set_title(\"Age Distribution of Other Race Victims\")"
   ]
  },
  {
   "cell_type": "code",
   "execution_count": null,
   "metadata": {
    "pycharm": {
     "is_executing": true
    }
   },
   "outputs": [],
   "source": [
    "# we can look at the stats summary for the ages across Other races\n",
    "df_o['age'].describe()\n",
    "\n",
    "# Other races mean age: 33.79\n",
    "# Other races age stdev: 11.61\n",
    "# Other races min. age: 18\n",
    "# Other races median age: 30\n",
    "# Other races max. age: 56"
   ]
  },
  {
   "cell_type": "code",
   "execution_count": null,
   "metadata": {
    "pycharm": {
     "name": "#%%\n",
     "is_executing": true
    }
   },
   "outputs": [],
   "source": [
    "'''\n",
    "Now let's graph the means and medians of the ages for each race and compare them\n",
    "'''\n",
    "\n",
    "\n",
    "races = [\"Asian\", \"White\", \"Black\", \"Hispanic\", \"Natives\", \"Other\"]\n",
    "# mean_list, median_list = [], []\n",
    "mean_list = [df_a['age'].mean(), df_w['age'].mean(), df_b['age'].mean(), df_h['age'].mean(), df_n['age'].mean(), df_o['age'].mean()]\n",
    "median_list = [df_a['age'].median(), df_w['age'].median(), df_b['age'].median(), df_h['age'].median(), df_n['age'].median(), df_o['age'].median()]\n",
    "\n",
    "x_axis = np.arange(len(races))\n",
    "\n",
    "plt.bar(x_axis - 0.2, mean_list, width = 0.4, label = 'Mean')\n",
    "plt.bar(x_axis + 0.2, median_list, width = 0.4, label = 'Median')\n",
    "\n",
    "plt.title(\"Mean/Median of Ages for Each Race\")\n",
    "plt.xlabel(\"Race\")\n",
    "plt.ylabel(\"Value\")\n",
    "\n",
    "plt.xticks(x_axis, races)\n",
    "\n",
    "plt.legend()\n",
    "\n",
    "plt.show()"
   ]
  },
  {
   "cell_type": "code",
   "execution_count": null,
   "metadata": {
    "pycharm": {
     "is_executing": true
    }
   },
   "outputs": [],
   "source": [
    "'''\n",
    "The graph above shows that Native American victims had the lowest mean and median ages, while White victims had the highest mean and median ages.  \n",
    "'''"
   ]
  },
  {
   "cell_type": "code",
   "execution_count": null,
   "metadata": {
    "pycharm": {
     "name": "#%%\n",
     "is_executing": true
    }
   },
   "outputs": [],
   "source": [
    "list(set(sorted(df_total['age'].unique())))\n",
    "df_total['race'].unique()"
   ]
  },
  {
   "cell_type": "code",
   "execution_count": null,
   "metadata": {
    "pycharm": {
     "name": "#%%\n",
     "is_executing": true
    }
   },
   "outputs": [],
   "source": [
    "'''\n",
    "Let's get the total number of people killed per race.\n",
    "'''\n",
    "\n",
    "race_count = df_total.groupby('race')['race'].size()\n",
    "race_count "
   ]
  },
  {
   "cell_type": "code",
   "execution_count": null,
   "metadata": {
    "pycharm": {
     "name": "#%%\n",
     "is_executing": true
    }
   },
   "outputs": [],
   "source": [
    "x_list = race_count.index.tolist()\n",
    "y_list = race_count.tolist()\n",
    "plt.bar(x_list, y_list)\n",
    "plt.title(\"Number of People Killed per Race\")\n",
    "plt.xlabel(\"Race\")\n",
    "plt.ylabel(\"Number of People Killed\")\n",
    "for i in range(len(x_list)):\n",
    "    plt.text(x_list[i], y_list[i], y_list[i], ha='center')\n",
    "plt.show()"
   ]
  },
  {
   "cell_type": "code",
   "execution_count": null,
   "metadata": {
    "pycharm": {
     "name": "#%%\n",
     "is_executing": true
    }
   },
   "outputs": [],
   "source": [
    "'''\n",
    "Now we can find the ratio of deaths for each race over the total amount of deaths and visualize that data as well\n",
    "'''\n",
    "\n",
    "total_deaths = race_count.sum()\n",
    "x_list = race_count.index.tolist()\n",
    "y_list = [round((y / total_deaths), 4) for y in race_count.tolist()]\n",
    "plt.bar(x_list, y_list)\n",
    "plt.title(\"Ratio of People Killed per Race\")\n",
    "plt.xlabel(\"Race\")\n",
    "plt.ylabel(\"Ratio of People Killed\")\n",
    "for i in range(len(x_list)):\n",
    "    plt.text(x_list[i], y_list[i], y_list[i], ha='center')\n",
    "plt.show()"
   ]
  },
  {
   "cell_type": "code",
   "execution_count": null,
   "outputs": [],
   "source": [
    "'''\n",
    "The same proportion data can be visualized better as a pie chart. The pie chart below shows that white people make up the majority of the deaths in our dataset.  \n",
    "'''\n",
    "\n",
    "fig1, ax1 = plt.subplots()\n",
    "ax1.pie(y_list, labels=x_list, autopct='%1.1f%%')\n",
    "ax1.axis('equal')\n",
    "plt.title('Pie Chart Showing Ratio of Deaths for Each Race')\n",
    "plt.show()"
   ],
   "metadata": {
    "collapsed": false,
    "pycharm": {
     "name": "#%%\n",
     "is_executing": true
    }
   }
  },
  {
   "cell_type": "code",
   "execution_count": null,
   "outputs": [],
   "source": [
    "df_temp"
   ],
   "metadata": {
    "collapsed": false,
    "pycharm": {
     "name": "#%%\n",
     "is_executing": true
    }
   }
  },
  {
   "cell_type": "code",
   "execution_count": null,
   "outputs": [],
   "source": [
    "\"\"\"\n",
    "In order to find the impact of deaths proportionate to its respective race, we need to use the supporting dataset.\n",
    "We must find the 1/race proportion that race holds in order to see the impact of a person's life proportionate to the race population.\n",
    "1. Find total proportion each race holds in the united states\n",
    "2. take 1/proportion\n",
    "3. Multiply it by the rate of death for that race\n",
    "4. Compare the impact values to see how much each death impacts one race vs another\n",
    "\"\"\"\n",
    "list_total_races = []\n",
    "j = 0\n",
    "columns_race.sort()\n",
    "print(columns_race)\n",
    "for i in columns_race:\n",
    "    newDF = df_temp[i].astype(float)\n",
    "    list_total_races.append(newDF.sum())\n",
    "    print(list_total_races[j])\n",
    "    j+=1\n",
    "sum_all_races = sum(list_total_races)\n",
    "proportional_share = [i/sum_all_races for i in list_total_races]\n",
    "proportional_share = [1/i for i in proportional_share]\n",
    "print(proportional_share)\n",
    "del y_list[4]\n",
    "print(y_list)\n",
    "res_race_porportion = []\n",
    "j = 0\n",
    "for i in proportional_share:\n",
    "    x = y_list[j]\n",
    "    j+=1\n",
    "    res_race_porportion.append(i*x)\n",
    "res_race_porportion\n"
   ],
   "metadata": {
    "collapsed": false,
    "pycharm": {
     "name": "#%%\n",
     "is_executing": true
    }
   }
  },
  {
   "cell_type": "code",
   "execution_count": null,
   "outputs": [],
   "source": [
    "import warnings\n",
    "warnings.filterwarnings(\"ignore\")\n",
    "\n",
    "cities.sort()\n",
    "columns_race.sort()\n",
    "races = df_total['race'].tolist()\n",
    "races =list(set(races))\n",
    "races.remove('O')\n",
    "races.sort()\n",
    "df_total['Median Income'] = np.nan\n",
    "df_total['poverty_rate'] = np.nan\n",
    "df_total['percent_completed_hs'] = np.nan\n",
    "df_total_temp = df_total.copy()\n",
    "for i in cities:\n",
    "    temp = df_total_temp.loc[df_total_temp['city'] == i]\n",
    "    supptemp = df_support.loc[df_support['city'] == i]\n",
    "    support_proportion_race = {}\n",
    "    ind = 0\n",
    "    for j in columns_race:\n",
    "        temp2 = temp.loc[temp['race'] == races[ind]]\n",
    "        support_proportion_race['Median Income'] = supptemp['Median Income'].iat[0] * supptemp[j].iat[0]/100\n",
    "        support_proportion_race['poverty_rate'] = supptemp['poverty_rate'].iat[0] * supptemp[j].iat[0]/100\n",
    "        support_proportion_race['percent_completed_hs'] = supptemp['percent_completed_hs'].iat[0] * supptemp[j].iat[0]/100\n",
    "        #tempDF = pd.DataFrame(support_proportion_race)\n",
    "        # tempDF = pd.concat([tempDF]*len(temp2), ignore_index=True)\n",
    "        #print(tempDF.info())\n",
    "        # print(temp2.info())\n",
    "        temp2['Median Income'] = temp2['Median Income'].fillna(support_proportion_race['Median Income'])\n",
    "        temp2['poverty_rate']= temp2['poverty_rate'].fillna(support_proportion_race['poverty_rate'])\n",
    "        temp2['percent_completed_hs'] = temp2['percent_completed_hs'].fillna(support_proportion_race['percent_completed_hs'])\n",
    "        #print(temp2.info())\n",
    "        temp.loc[temp['race'] == races[ind]] = temp2\n",
    "        #print(temp.info())\n",
    "        ind+=1\n",
    "        #print(temp.info())\n",
    "    temp = temp.fillna(0)\n",
    "    df_total_temp.loc[df_total_temp['city'] == i] = temp\n",
    "\n",
    "df_total = df_total_temp\n",
    "df_total"
   ],
   "metadata": {
    "collapsed": false,
    "pycharm": {
     "name": "#%%\n",
     "is_executing": true
    }
   }
  },
  {
   "cell_type": "code",
   "execution_count": null,
   "outputs": [],
   "source": [
    "df_total_copy = df_total.copy()\n",
    "\n",
    "# pd.get_dummies(df_total_copy, columns=['manner_of_death', 'armed', 'gender', 'city', ])\n",
    "df_temp = df_total_copy.drop(columns=['id', 'name', 'date', 'state'])\n",
    "# df_temp\n",
    "\n",
    "df_temp = pd.get_dummies(df_temp, columns=['manner_of_death', 'armed', 'gender', 'city', 'signs_of_mental_illness', 'threat_level', 'flee', 'body_camera'])\n",
    "\n",
    "training_es_x = df_temp.iloc[0:2028].drop(columns=['race'])\n",
    "training_es_y = df_temp.iloc[0:2028]['race']\n",
    "\n",
    "testing_es_x = df_temp.iloc[2028:].drop(columns=['race'])\n",
    "testing_es_y = df_temp.iloc[2028:]['race']\n",
    "\n",
    "testing_es_x"
   ],
   "metadata": {
    "collapsed": false,
    "pycharm": {
     "name": "#%%\n",
     "is_executing": true
    }
   }
  },
  {
   "cell_type": "code",
   "execution_count": null,
   "outputs": [],
   "source": [
    "df_temp['race'].unique()"
   ],
   "metadata": {
    "collapsed": false,
    "pycharm": {
     "name": "#%%\n",
     "is_executing": true
    }
   }
  },
  {
   "cell_type": "code",
   "execution_count": null,
   "outputs": [],
   "source": [
    "model = LogisticRegression(max_iter=3000)\n",
    "\n",
    "model.fit(training_es_x, training_es_y)\n",
    "predict_train = model.predict(training_es_x)\n",
    "\n",
    "predict_test = model.predict(testing_es_x)\n",
    "predict_test"
   ],
   "metadata": {
    "collapsed": false,
    "pycharm": {
     "name": "#%%\n",
     "is_executing": true
    }
   }
  },
  {
   "cell_type": "code",
   "execution_count": null,
   "outputs": [],
   "source": [
    "testing_es_x"
   ],
   "metadata": {
    "collapsed": false,
    "pycharm": {
     "name": "#%%\n",
     "is_executing": true
    }
   }
  },
  {
   "cell_type": "code",
   "execution_count": null,
   "outputs": [],
   "source": [
    "set(predict_test)"
   ],
   "metadata": {
    "collapsed": false,
    "pycharm": {
     "name": "#%%\n",
     "is_executing": true
    }
   }
  },
  {
   "cell_type": "code",
   "execution_count": null,
   "outputs": [],
   "source": [
    "from sklearn.metrics import accuracy_score, f1_score\n",
    "\n",
    "# f1_score(testing_es_y, predict_test, average=None)\n",
    "\n",
    "accuracy_test = accuracy_score(testing_es_y, predict_test)\n",
    "# accuracy_test = accuracy_score(training_es_y, predict_train)\n",
    "accuracy_test\n",
    "# This is the accuracy of the Logistic Regression Classifier on the testing data\n",
    "\n"
   ],
   "metadata": {
    "collapsed": false,
    "pycharm": {
     "name": "#%%\n",
     "is_executing": true
    }
   }
  },
  {
   "cell_type": "code",
   "execution_count": null,
   "outputs": [],
   "source": [
    "tmodel = DecisionTreeClassifier()\n",
    "# tmodel.fit(training_es_x, training_es_y)\n",
    "# predict_train_tree = tmodel\n",
    "tmodel.fit(training_es_x, training_es_y)\n",
    "predict_tree = tmodel.predict(training_es_x)\n",
    "\n",
    "predict_test_tree = tmodel.predict(testing_es_x)\n",
    "accuracy_test_tree = accuracy_score(testing_es_y, predict_test_tree)\n",
    "\n",
    "accuracy_test_tree\n",
    "# This is the accuracy of the Decision Tree Classifier on the testing data"
   ],
   "metadata": {
    "collapsed": false,
    "pycharm": {
     "name": "#%%\n",
     "is_executing": true
    }
   }
  },
  {
   "cell_type": "code",
   "execution_count": null,
   "outputs": [],
   "source": [
    "# sklearn.tree.plot_tree(tmodel)\n",
    "\n",
    "plt.figure(figsize=(120,120))\n",
    "sklearn.tree.plot_tree(tmodel, fontsize=10, feature_names=testing_es_x.columns, class_names=testing_es_y.unique().tolist(), filled=True)"
   ],
   "metadata": {
    "collapsed": false,
    "pycharm": {
     "name": "#%%\n",
     "is_executing": true
    }
   }
  },
  {
   "cell_type": "code",
   "execution_count": null,
   "outputs": [],
   "source": [
    "from sklearn.naive_bayes import GaussianNB\n",
    "\n",
    "bmodel = GaussianNB()\n",
    "\n",
    "bmodel.fit(training_es_x, training_es_y)"
   ],
   "metadata": {
    "collapsed": false,
    "pycharm": {
     "name": "#%%\n",
     "is_executing": true
    }
   }
  },
  {
   "cell_type": "code",
   "execution_count": null,
   "outputs": [],
   "source": [
    "predict_test_b = bmodel.predict(testing_es_x)\n",
    "predict_test_b "
   ],
   "metadata": {
    "collapsed": false,
    "pycharm": {
     "name": "#%%\n",
     "is_executing": true
    }
   }
  },
  {
   "cell_type": "code",
   "execution_count": null,
   "outputs": [],
   "source": [
    "accuracy_test_b = accuracy_score(testing_es_y, predict_test_b)\n",
    "accuracy_test_b \n",
    "# This is the accuracy of the Naive Bayes model on the testing data"
   ],
   "metadata": {
    "collapsed": false,
    "pycharm": {
     "name": "#%%\n",
     "is_executing": true
    }
   }
  },
  {
   "cell_type": "code",
   "execution_count": null,
   "outputs": [],
   "source": [
    "from sklearn.neighbors import KNeighborsClassifier\n",
    "\n",
    "model_k = KNeighborsClassifier()\n",
    "\n",
    "model_k.fit(training_es_x, training_es_y)\n",
    "predict_train_k = model_k.predict(training_es_x)\n",
    "\n",
    "# f1_score(training_es_y, predict_train_k, average=None)\n"
   ],
   "metadata": {
    "collapsed": false,
    "pycharm": {
     "name": "#%%\n",
     "is_executing": true
    }
   }
  },
  {
   "cell_type": "code",
   "execution_count": null,
   "outputs": [],
   "source": [
    "predict_test_k = model_k.predict(testing_es_x)\n",
    "accuracy_test_k = accuracy_score(testing_es_y, predict_test_k)\n",
    "accuracy_test_k\n",
    "# This is the accuracy of the K Neighbors Classifier on the testing data"
   ],
   "metadata": {
    "collapsed": false,
    "pycharm": {
     "name": "#%%\n",
     "is_executing": true
    }
   }
  },
  {
   "cell_type": "code",
   "execution_count": null,
   "outputs": [],
   "source": [
    "predict_test_k "
   ],
   "metadata": {
    "collapsed": false,
    "pycharm": {
     "name": "#%%\n",
     "is_executing": true
    }
   }
  },
  {
   "cell_type": "code",
   "execution_count": 271,
   "metadata": {},
   "outputs": [
    {
     "data": {
      "text/plain": [
       "0.6015779092702169"
      ]
     },
     "execution_count": 271,
     "metadata": {},
     "output_type": "execute_result"
    }
   ],
   "source": [
    "accuracy_test_b = accuracy_score(testing_es_y, predict_test_b)\n",
    "accuracy_test_b \n",
    "# This is the accuracy of the Naive Bayes model on the testing data"
   ]
  },
  {
   "cell_type": "code",
   "execution_count": 272,
   "metadata": {},
   "outputs": [],
   "source": [
    "from sklearn.neighbors import KNeighborsClassifier\n",
    "\n",
    "model_k = KNeighborsClassifier()\n",
    "\n",
    "model_k.fit(training_es_x, training_es_y)\n",
    "predict_train_k = model_k.predict(training_es_x)\n",
    "\n",
    "# f1_score(training_es_y, predict_train_k, average=None)\n"
   ]
  },
  {
   "cell_type": "code",
   "execution_count": 273,
   "metadata": {},
   "outputs": [
    {
     "data": {
      "text/plain": [
       "0.7731755424063116"
      ]
     },
     "execution_count": 273,
     "metadata": {},
     "output_type": "execute_result"
    }
   ],
   "source": [
    "predict_test_k = model_k.predict(testing_es_x)\n",
    "accuracy_test_k = accuracy_score(testing_es_y, predict_test_k)\n",
    "accuracy_test_k\n",
    "# This is the accuracy of the K Neighbors Classifier on the testing data"
   ]
  },
  {
   "cell_type": "code",
   "execution_count": 274,
   "metadata": {},
   "outputs": [
    {
     "data": {
      "text/plain": [
       "array(['H', 'W', 'B', 'W', 'B', 'W', 'H', 'W', 'W', 'W', 'B', 'W', 'H',\n",
       "       'B', 'W', 'H', 'W', 'B', 'B', 'B', 'B', 'W', 'W', 'H', 'B', 'W',\n",
       "       'B', 'W', 'B', 'B', 'B', 'B', 'W', 'B', 'B', 'B', 'B', 'B', 'B',\n",
       "       'W', 'W', 'H', 'W', 'W', 'W', 'B', 'B', 'W', 'B', 'B', 'B', 'W',\n",
       "       'B', 'W', 'W', 'W', 'W', 'W', 'W', 'W', 'W', 'B', 'W', 'W', 'B',\n",
       "       'W', 'W', 'W', 'B', 'W', 'W', 'W', 'B', 'W', 'W', 'B', 'H', 'B',\n",
       "       'W', 'W', 'W', 'B', 'B', 'B', 'W', 'B', 'A', 'W', 'H', 'W', 'W',\n",
       "       'W', 'B', 'B', 'H', 'B', 'B', 'W', 'B', 'B', 'W', 'W', 'H', 'B',\n",
       "       'H', 'H', 'W', 'H', 'B', 'H', 'W', 'W', 'W', 'B', 'W', 'B', 'B',\n",
       "       'W', 'B', 'W', 'B', 'H', 'H', 'W', 'W', 'B', 'W', 'W', 'H', 'H',\n",
       "       'W', 'W', 'W', 'W', 'W', 'B', 'W', 'W', 'W', 'N', 'H', 'B', 'H',\n",
       "       'W', 'H', 'W', 'W', 'W', 'W', 'W', 'B', 'W', 'B', 'B', 'H', 'W',\n",
       "       'B', 'H', 'W', 'B', 'W', 'W', 'B', 'W', 'B', 'W', 'H', 'W', 'B',\n",
       "       'B', 'B', 'B', 'B', 'H', 'B', 'W', 'B', 'H', 'W', 'W', 'W', 'W',\n",
       "       'W', 'W', 'W', 'W', 'W', 'W', 'W', 'H', 'B', 'W', 'W', 'W', 'W',\n",
       "       'N', 'W', 'H', 'H', 'W', 'H', 'W', 'B', 'W', 'W', 'B', 'B', 'H',\n",
       "       'W', 'W', 'H', 'W', 'B', 'B', 'H', 'W', 'W', 'W', 'B', 'B', 'H',\n",
       "       'W', 'W', 'H', 'W', 'W', 'W', 'B', 'W', 'B', 'H', 'B', 'B', 'W',\n",
       "       'W', 'B', 'B', 'W', 'W', 'H', 'W', 'B', 'W', 'B', 'H', 'W', 'N',\n",
       "       'H', 'W', 'W', 'W', 'W', 'B', 'W', 'B', 'W', 'W', 'W', 'W', 'W',\n",
       "       'B', 'W', 'B', 'H', 'H', 'W', 'B', 'W', 'W', 'W', 'W', 'W', 'B',\n",
       "       'B', 'B', 'B', 'W', 'B', 'B', 'W', 'W', 'W', 'W', 'B', 'B', 'W',\n",
       "       'B', 'B', 'W', 'W', 'W', 'W', 'B', 'B', 'W', 'B', 'W', 'W', 'H',\n",
       "       'W', 'B', 'W', 'W', 'W', 'W', 'W', 'W', 'W', 'W', 'B', 'W', 'B',\n",
       "       'H', 'W', 'B', 'W', 'W', 'W', 'H', 'H', 'W', 'W', 'B', 'W', 'W',\n",
       "       'W', 'B', 'B', 'H', 'W', 'W', 'W', 'H', 'W', 'W', 'H', 'W', 'B',\n",
       "       'B', 'N', 'B', 'H', 'H', 'B', 'W', 'H', 'B', 'W', 'B', 'W', 'W',\n",
       "       'H', 'W', 'W', 'H', 'H', 'H', 'B', 'W', 'W', 'A', 'H', 'W', 'W',\n",
       "       'W', 'W', 'B', 'W', 'H', 'W', 'W', 'W', 'W', 'B', 'B', 'B', 'W',\n",
       "       'H', 'W', 'H', 'H', 'H', 'H', 'W', 'H', 'W', 'B', 'W', 'N', 'W',\n",
       "       'W', 'H', 'W', 'W', 'W', 'W', 'H', 'W', 'H', 'H', 'W', 'H', 'W',\n",
       "       'A', 'H', 'B', 'W', 'W', 'W', 'B', 'H', 'B', 'B', 'H', 'B', 'W',\n",
       "       'H', 'W', 'H', 'B', 'B', 'W', 'B', 'W', 'W', 'W', 'W', 'W', 'H',\n",
       "       'B', 'W', 'B', 'B', 'B', 'W', 'W', 'H', 'H', 'H', 'W', 'B', 'B',\n",
       "       'W', 'B', 'W', 'B', 'B', 'B', 'W', 'B', 'O', 'W', 'W', 'B', 'W',\n",
       "       'W', 'B', 'W', 'B', 'B', 'W', 'W', 'H', 'W', 'B', 'H', 'W', 'B',\n",
       "       'B', 'B', 'H', 'W', 'H', 'W', 'W', 'W', 'W', 'H', 'H', 'H', 'B',\n",
       "       'H', 'H', 'W', 'W', 'B', 'W', 'W', 'B', 'W', 'H', 'B', 'W', 'H',\n",
       "       'W', 'B', 'H', 'B', 'B', 'B', 'B', 'W', 'B', 'H', 'W', 'B', 'B'],\n",
       "      dtype=object)"
      ]
     },
     "execution_count": 274,
     "metadata": {},
     "output_type": "execute_result"
    }
   ],
   "source": [
    "predict_test_k "
   ]
  }
 ],
 "metadata": {
  "kernelspec": {
   "display_name": "Python 3",
   "language": "python",
   "name": "python3"
  },
  "language_info": {
   "codemirror_mode": {
    "name": "ipython",
    "version": 3
   },
   "file_extension": ".py",
   "mimetype": "text/x-python",
   "name": "python",
   "nbconvert_exporter": "python",
   "pygments_lexer": "ipython3",
   "version": "3.9.12"
  }
 },
 "nbformat": 4,
 "nbformat_minor": 0
}