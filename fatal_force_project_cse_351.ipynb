{
 "cells": [
  {
   "cell_type": "code",
   "execution_count": 19,
   "metadata": {
    "collapsed": true
   },
   "outputs": [],
   "source": [
    "import itertools\n",
    "import pandas as pd\n",
    "import sklearn\n",
    "from sklearn.model_selection import train_test_split\n",
    "import datetime\n",
    "from sklearn import metrics\n",
    "from sklearn.linear_model import LinearRegression\n",
    "from sklearn.linear_model import LogisticRegression\n",
    "import matplotlib.pyplot as plt\n",
    "import numpy as np\n",
    "import seaborn as sb"
   ]
  },
  {
   "cell_type": "code",
   "execution_count": 31,
   "outputs": [
    {
     "name": "stdout",
     "output_type": "stream",
     "text": [
      "<class 'pandas.core.frame.DataFrame'>\n",
      "RangeIndex: 507 entries, 0 to 506\n",
      "Data columns (total 14 columns):\n",
      " #   Column                   Non-Null Count  Dtype  \n",
      "---  ------                   --------------  -----  \n",
      " 0   id                       507 non-null    int64  \n",
      " 1   name                     507 non-null    object \n",
      " 2   date                     507 non-null    object \n",
      " 3   manner_of_death          507 non-null    object \n",
      " 4   armed                    504 non-null    object \n",
      " 5   age                      467 non-null    float64\n",
      " 6   gender                   507 non-null    object \n",
      " 7   race                     403 non-null    object \n",
      " 8   city                     507 non-null    object \n",
      " 9   state                    507 non-null    object \n",
      " 10  signs_of_mental_illness  507 non-null    bool   \n",
      " 11  threat_level             507 non-null    object \n",
      " 12  flee                     469 non-null    object \n",
      " 13  body_camera              507 non-null    bool   \n",
      "dtypes: bool(2), float64(1), int64(1), object(10)\n",
      "memory usage: 48.6+ KB\n"
     ]
    },
    {
     "data": {
      "text/plain": "        id                   name      date   manner_of_death       armed  \\\n0        3             Tim Elliot  02/01/15              shot         gun   \n1        4       Lewis Lee Lembke  02/01/15              shot         gun   \n2        5     John Paul Quintero  03/01/15  shot and Tasered     unarmed   \n3        8        Matthew Hoffman  04/01/15              shot  toy weapon   \n4        9      Michael Rodriguez  04/01/15              shot    nail gun   \n...    ...                    ...       ...               ...         ...   \n2023  2256   Jeremy Lopez-Robledo  24/01/17              shot       knife   \n2024  2257    Jonathan David Sper  24/01/17              shot     unarmed   \n2025  2258  Jose Efrain Rodriguez  24/01/17  shot and Tasered         gun   \n2026  2259          Ramon Milanez  24/01/17              shot         gun   \n2027  2260       Micah R. Lambert  25/01/17              shot     vehicle   \n\n       age gender race             city state  signs_of_mental_illness  \\\n0     53.0      M    A          Shelton    WA                     True   \n1     47.0      M    W            Aloha    OR                    False   \n2     23.0      M    H          Wichita    KS                    False   \n3     32.0      M    W    San Francisco    CA                     True   \n4     39.0      M    H            Evans    CO                    False   \n...    ...    ...  ...              ...   ...                      ...   \n2023  29.0      M    H       Las Cruces    NM                     True   \n2024  30.0      M    W  Algoma Township    MI                     True   \n2025  18.0      M    H   Lancaster City    PA                    False   \n2026  32.0      M    H             Kuna    ID                    False   \n2027  37.0      M    W           Oxford    AL                     True   \n\n     threat_level         flee  body_camera  \n0          attack  Not fleeing        False  \n1          attack  Not fleeing        False  \n2           other  Not fleeing        False  \n3          attack  Not fleeing        False  \n4          attack  Not fleeing        False  \n...           ...          ...          ...  \n2023       attack         Foot         True  \n2024       attack  Not fleeing        False  \n2025       attack  Not fleeing        False  \n2026       attack          Car        False  \n2027       attack          Car        False  \n\n[2028 rows x 14 columns]",
      "text/html": "<div>\n<style scoped>\n    .dataframe tbody tr th:only-of-type {\n        vertical-align: middle;\n    }\n\n    .dataframe tbody tr th {\n        vertical-align: top;\n    }\n\n    .dataframe thead th {\n        text-align: right;\n    }\n</style>\n<table border=\"1\" class=\"dataframe\">\n  <thead>\n    <tr style=\"text-align: right;\">\n      <th></th>\n      <th>id</th>\n      <th>name</th>\n      <th>date</th>\n      <th>manner_of_death</th>\n      <th>armed</th>\n      <th>age</th>\n      <th>gender</th>\n      <th>race</th>\n      <th>city</th>\n      <th>state</th>\n      <th>signs_of_mental_illness</th>\n      <th>threat_level</th>\n      <th>flee</th>\n      <th>body_camera</th>\n    </tr>\n  </thead>\n  <tbody>\n    <tr>\n      <th>0</th>\n      <td>3</td>\n      <td>Tim Elliot</td>\n      <td>02/01/15</td>\n      <td>shot</td>\n      <td>gun</td>\n      <td>53.0</td>\n      <td>M</td>\n      <td>A</td>\n      <td>Shelton</td>\n      <td>WA</td>\n      <td>True</td>\n      <td>attack</td>\n      <td>Not fleeing</td>\n      <td>False</td>\n    </tr>\n    <tr>\n      <th>1</th>\n      <td>4</td>\n      <td>Lewis Lee Lembke</td>\n      <td>02/01/15</td>\n      <td>shot</td>\n      <td>gun</td>\n      <td>47.0</td>\n      <td>M</td>\n      <td>W</td>\n      <td>Aloha</td>\n      <td>OR</td>\n      <td>False</td>\n      <td>attack</td>\n      <td>Not fleeing</td>\n      <td>False</td>\n    </tr>\n    <tr>\n      <th>2</th>\n      <td>5</td>\n      <td>John Paul Quintero</td>\n      <td>03/01/15</td>\n      <td>shot and Tasered</td>\n      <td>unarmed</td>\n      <td>23.0</td>\n      <td>M</td>\n      <td>H</td>\n      <td>Wichita</td>\n      <td>KS</td>\n      <td>False</td>\n      <td>other</td>\n      <td>Not fleeing</td>\n      <td>False</td>\n    </tr>\n    <tr>\n      <th>3</th>\n      <td>8</td>\n      <td>Matthew Hoffman</td>\n      <td>04/01/15</td>\n      <td>shot</td>\n      <td>toy weapon</td>\n      <td>32.0</td>\n      <td>M</td>\n      <td>W</td>\n      <td>San Francisco</td>\n      <td>CA</td>\n      <td>True</td>\n      <td>attack</td>\n      <td>Not fleeing</td>\n      <td>False</td>\n    </tr>\n    <tr>\n      <th>4</th>\n      <td>9</td>\n      <td>Michael Rodriguez</td>\n      <td>04/01/15</td>\n      <td>shot</td>\n      <td>nail gun</td>\n      <td>39.0</td>\n      <td>M</td>\n      <td>H</td>\n      <td>Evans</td>\n      <td>CO</td>\n      <td>False</td>\n      <td>attack</td>\n      <td>Not fleeing</td>\n      <td>False</td>\n    </tr>\n    <tr>\n      <th>...</th>\n      <td>...</td>\n      <td>...</td>\n      <td>...</td>\n      <td>...</td>\n      <td>...</td>\n      <td>...</td>\n      <td>...</td>\n      <td>...</td>\n      <td>...</td>\n      <td>...</td>\n      <td>...</td>\n      <td>...</td>\n      <td>...</td>\n      <td>...</td>\n    </tr>\n    <tr>\n      <th>2023</th>\n      <td>2256</td>\n      <td>Jeremy Lopez-Robledo</td>\n      <td>24/01/17</td>\n      <td>shot</td>\n      <td>knife</td>\n      <td>29.0</td>\n      <td>M</td>\n      <td>H</td>\n      <td>Las Cruces</td>\n      <td>NM</td>\n      <td>True</td>\n      <td>attack</td>\n      <td>Foot</td>\n      <td>True</td>\n    </tr>\n    <tr>\n      <th>2024</th>\n      <td>2257</td>\n      <td>Jonathan David Sper</td>\n      <td>24/01/17</td>\n      <td>shot</td>\n      <td>unarmed</td>\n      <td>30.0</td>\n      <td>M</td>\n      <td>W</td>\n      <td>Algoma Township</td>\n      <td>MI</td>\n      <td>True</td>\n      <td>attack</td>\n      <td>Not fleeing</td>\n      <td>False</td>\n    </tr>\n    <tr>\n      <th>2025</th>\n      <td>2258</td>\n      <td>Jose Efrain Rodriguez</td>\n      <td>24/01/17</td>\n      <td>shot and Tasered</td>\n      <td>gun</td>\n      <td>18.0</td>\n      <td>M</td>\n      <td>H</td>\n      <td>Lancaster City</td>\n      <td>PA</td>\n      <td>False</td>\n      <td>attack</td>\n      <td>Not fleeing</td>\n      <td>False</td>\n    </tr>\n    <tr>\n      <th>2026</th>\n      <td>2259</td>\n      <td>Ramon Milanez</td>\n      <td>24/01/17</td>\n      <td>shot</td>\n      <td>gun</td>\n      <td>32.0</td>\n      <td>M</td>\n      <td>H</td>\n      <td>Kuna</td>\n      <td>ID</td>\n      <td>False</td>\n      <td>attack</td>\n      <td>Car</td>\n      <td>False</td>\n    </tr>\n    <tr>\n      <th>2027</th>\n      <td>2260</td>\n      <td>Micah R. Lambert</td>\n      <td>25/01/17</td>\n      <td>shot</td>\n      <td>vehicle</td>\n      <td>37.0</td>\n      <td>M</td>\n      <td>W</td>\n      <td>Oxford</td>\n      <td>AL</td>\n      <td>True</td>\n      <td>attack</td>\n      <td>Car</td>\n      <td>False</td>\n    </tr>\n  </tbody>\n</table>\n<p>2028 rows × 14 columns</p>\n</div>"
     },
     "execution_count": 31,
     "metadata": {},
     "output_type": "execute_result"
    }
   ],
   "source": [
    "df_training = pd.read_csv('police_killings_train.csv')\n",
    "df_test = pd.read_csv('police_killings_test.csv')\n",
    "df_race_city = pd.read_csv('share_race_by_city.csv')\n",
    "df_income = pd.read_csv('income.csv', encoding=\"ANSI\")\n",
    "df_poverty = pd.read_csv('poverty.csv', encoding=\"ANSI\")\n",
    "df_education = pd.read_csv('education.csv', encoding=\"ANSI\")\n",
    "\n",
    "df_test.info()\n",
    "df_training"
   ],
   "metadata": {
    "collapsed": false,
    "pycharm": {
     "name": "#%%\n"
    }
   }
  },
  {
   "cell_type": "code",
   "execution_count": 33,
   "outputs": [
    {
     "data": {
      "text/plain": "        id                      name      date   manner_of_death  \\\n59     110          William Campbell  25/01/15              shot   \n241    244        John Marcell Allen  30/03/15              shot   \n266    534                Mark Smith  09/04/15  shot and Tasered   \n340    433                Joseph Roy  07/05/15              shot   \n398    503      James Anthony Morris  31/05/15              shot   \n...    ...                       ...       ...               ...   \n1942  2169               Dustin Kirk  27/12/16              shot   \n1946  2175  Christopher Blake Tucker  28/12/16              shot   \n1947  2173             James L. Rich  29/12/16              shot   \n1949  2182                     TK TK  30/12/16              shot   \n1950  2186              Dustin Selby  30/12/16  shot and Tasered   \n\n             armed   age gender race           city state  \\\n59             gun  59.0      M  NaN        Winslow    NJ   \n241            gun  54.0      M  NaN   Boulder City    NV   \n266        vehicle  54.0      M  NaN     Kellyville    OK   \n340          knife  72.0      M  NaN  Lawrenceville    GA   \n398            gun  40.0      M  NaN        Medford    OR   \n...            ...   ...    ...  ...            ...   ...   \n1942           gun  35.0      M  NaN   Grass Valley    CA   \n1946  undetermined  28.0      M  NaN    Spring Hill    TN   \n1947           gun  52.0      M  NaN    Chestertown    MD   \n1949           gun   NaN      M  NaN      Pensacola    FL   \n1950         knife  31.0      M  NaN        Phoenix    AZ   \n\n      signs_of_mental_illness  threat_level         flee  body_camera  \n59                      False        attack  Not fleeing        False  \n241                     False        attack  Not fleeing        False  \n266                     False        attack        Other        False  \n340                      True         other  Not fleeing        False  \n398                      True        attack  Not fleeing        False  \n...                       ...           ...          ...          ...  \n1942                    False        attack  Not fleeing        False  \n1946                    False  undetermined  Not fleeing        False  \n1947                    False  undetermined  Not fleeing         True  \n1949                    False        attack  Not fleeing        False  \n1950                    False         other         Foot        False  \n\n[91 rows x 14 columns]",
      "text/html": "<div>\n<style scoped>\n    .dataframe tbody tr th:only-of-type {\n        vertical-align: middle;\n    }\n\n    .dataframe tbody tr th {\n        vertical-align: top;\n    }\n\n    .dataframe thead th {\n        text-align: right;\n    }\n</style>\n<table border=\"1\" class=\"dataframe\">\n  <thead>\n    <tr style=\"text-align: right;\">\n      <th></th>\n      <th>id</th>\n      <th>name</th>\n      <th>date</th>\n      <th>manner_of_death</th>\n      <th>armed</th>\n      <th>age</th>\n      <th>gender</th>\n      <th>race</th>\n      <th>city</th>\n      <th>state</th>\n      <th>signs_of_mental_illness</th>\n      <th>threat_level</th>\n      <th>flee</th>\n      <th>body_camera</th>\n    </tr>\n  </thead>\n  <tbody>\n    <tr>\n      <th>59</th>\n      <td>110</td>\n      <td>William Campbell</td>\n      <td>25/01/15</td>\n      <td>shot</td>\n      <td>gun</td>\n      <td>59.0</td>\n      <td>M</td>\n      <td>NaN</td>\n      <td>Winslow</td>\n      <td>NJ</td>\n      <td>False</td>\n      <td>attack</td>\n      <td>Not fleeing</td>\n      <td>False</td>\n    </tr>\n    <tr>\n      <th>241</th>\n      <td>244</td>\n      <td>John Marcell Allen</td>\n      <td>30/03/15</td>\n      <td>shot</td>\n      <td>gun</td>\n      <td>54.0</td>\n      <td>M</td>\n      <td>NaN</td>\n      <td>Boulder City</td>\n      <td>NV</td>\n      <td>False</td>\n      <td>attack</td>\n      <td>Not fleeing</td>\n      <td>False</td>\n    </tr>\n    <tr>\n      <th>266</th>\n      <td>534</td>\n      <td>Mark Smith</td>\n      <td>09/04/15</td>\n      <td>shot and Tasered</td>\n      <td>vehicle</td>\n      <td>54.0</td>\n      <td>M</td>\n      <td>NaN</td>\n      <td>Kellyville</td>\n      <td>OK</td>\n      <td>False</td>\n      <td>attack</td>\n      <td>Other</td>\n      <td>False</td>\n    </tr>\n    <tr>\n      <th>340</th>\n      <td>433</td>\n      <td>Joseph Roy</td>\n      <td>07/05/15</td>\n      <td>shot</td>\n      <td>knife</td>\n      <td>72.0</td>\n      <td>M</td>\n      <td>NaN</td>\n      <td>Lawrenceville</td>\n      <td>GA</td>\n      <td>True</td>\n      <td>other</td>\n      <td>Not fleeing</td>\n      <td>False</td>\n    </tr>\n    <tr>\n      <th>398</th>\n      <td>503</td>\n      <td>James Anthony Morris</td>\n      <td>31/05/15</td>\n      <td>shot</td>\n      <td>gun</td>\n      <td>40.0</td>\n      <td>M</td>\n      <td>NaN</td>\n      <td>Medford</td>\n      <td>OR</td>\n      <td>True</td>\n      <td>attack</td>\n      <td>Not fleeing</td>\n      <td>False</td>\n    </tr>\n    <tr>\n      <th>...</th>\n      <td>...</td>\n      <td>...</td>\n      <td>...</td>\n      <td>...</td>\n      <td>...</td>\n      <td>...</td>\n      <td>...</td>\n      <td>...</td>\n      <td>...</td>\n      <td>...</td>\n      <td>...</td>\n      <td>...</td>\n      <td>...</td>\n      <td>...</td>\n    </tr>\n    <tr>\n      <th>1942</th>\n      <td>2169</td>\n      <td>Dustin Kirk</td>\n      <td>27/12/16</td>\n      <td>shot</td>\n      <td>gun</td>\n      <td>35.0</td>\n      <td>M</td>\n      <td>NaN</td>\n      <td>Grass Valley</td>\n      <td>CA</td>\n      <td>False</td>\n      <td>attack</td>\n      <td>Not fleeing</td>\n      <td>False</td>\n    </tr>\n    <tr>\n      <th>1946</th>\n      <td>2175</td>\n      <td>Christopher Blake Tucker</td>\n      <td>28/12/16</td>\n      <td>shot</td>\n      <td>undetermined</td>\n      <td>28.0</td>\n      <td>M</td>\n      <td>NaN</td>\n      <td>Spring Hill</td>\n      <td>TN</td>\n      <td>False</td>\n      <td>undetermined</td>\n      <td>Not fleeing</td>\n      <td>False</td>\n    </tr>\n    <tr>\n      <th>1947</th>\n      <td>2173</td>\n      <td>James L. Rich</td>\n      <td>29/12/16</td>\n      <td>shot</td>\n      <td>gun</td>\n      <td>52.0</td>\n      <td>M</td>\n      <td>NaN</td>\n      <td>Chestertown</td>\n      <td>MD</td>\n      <td>False</td>\n      <td>undetermined</td>\n      <td>Not fleeing</td>\n      <td>True</td>\n    </tr>\n    <tr>\n      <th>1949</th>\n      <td>2182</td>\n      <td>TK TK</td>\n      <td>30/12/16</td>\n      <td>shot</td>\n      <td>gun</td>\n      <td>NaN</td>\n      <td>M</td>\n      <td>NaN</td>\n      <td>Pensacola</td>\n      <td>FL</td>\n      <td>False</td>\n      <td>attack</td>\n      <td>Not fleeing</td>\n      <td>False</td>\n    </tr>\n    <tr>\n      <th>1950</th>\n      <td>2186</td>\n      <td>Dustin Selby</td>\n      <td>30/12/16</td>\n      <td>shot and Tasered</td>\n      <td>knife</td>\n      <td>31.0</td>\n      <td>M</td>\n      <td>NaN</td>\n      <td>Phoenix</td>\n      <td>AZ</td>\n      <td>False</td>\n      <td>other</td>\n      <td>Foot</td>\n      <td>False</td>\n    </tr>\n  </tbody>\n</table>\n<p>91 rows × 14 columns</p>\n</div>"
     },
     "execution_count": 33,
     "metadata": {},
     "output_type": "execute_result"
    }
   ],
   "source": [
    " # removed all data wiht NaN in race Column...df_training[df_training['race'].isnull()]"
   ],
   "metadata": {
    "collapsed": false,
    "pycharm": {
     "name": "#%%\n"
    }
   }
  },
  {
   "cell_type": "code",
   "execution_count": 47,
   "outputs": [
    {
     "data": {
      "text/plain": "        id                   name      date   manner_of_death       armed  \\\n0        3             Tim Elliot  02/01/15              shot         gun   \n1        4       Lewis Lee Lembke  02/01/15              shot         gun   \n2        5     John Paul Quintero  03/01/15  shot and Tasered     unarmed   \n3        8        Matthew Hoffman  04/01/15              shot  toy weapon   \n4        9      Michael Rodriguez  04/01/15              shot    nail gun   \n...    ...                    ...       ...               ...         ...   \n2023  2256   Jeremy Lopez-Robledo  24/01/17              shot       knife   \n2024  2257    Jonathan David Sper  24/01/17              shot     unarmed   \n2025  2258  Jose Efrain Rodriguez  24/01/17  shot and Tasered         gun   \n2026  2259          Ramon Milanez  24/01/17              shot         gun   \n2027  2260       Micah R. Lambert  25/01/17              shot     vehicle   \n\n       age gender race             city state  signs_of_mental_illness  \\\n0     53.0      M    A          Shelton    WA                     True   \n1     47.0      M    W            Aloha    OR                    False   \n2     23.0      M    H          Wichita    KS                    False   \n3     32.0      M    W    San Francisco    CA                     True   \n4     39.0      M    H            Evans    CO                    False   \n...    ...    ...  ...              ...   ...                      ...   \n2023  29.0      M    H       Las Cruces    NM                     True   \n2024  30.0      M    W  Algoma Township    MI                     True   \n2025  18.0      M    H   Lancaster City    PA                    False   \n2026  32.0      M    H             Kuna    ID                    False   \n2027  37.0      M    W           Oxford    AL                     True   \n\n     threat_level         flee  body_camera  \n0          attack  Not fleeing        False  \n1          attack  Not fleeing        False  \n2           other  Not fleeing        False  \n3          attack  Not fleeing        False  \n4          attack  Not fleeing        False  \n...           ...          ...          ...  \n2023       attack         Foot         True  \n2024       attack  Not fleeing        False  \n2025       attack  Not fleeing        False  \n2026       attack          Car        False  \n2027       attack          Car        False  \n\n[1937 rows x 14 columns]",
      "text/html": "<div>\n<style scoped>\n    .dataframe tbody tr th:only-of-type {\n        vertical-align: middle;\n    }\n\n    .dataframe tbody tr th {\n        vertical-align: top;\n    }\n\n    .dataframe thead th {\n        text-align: right;\n    }\n</style>\n<table border=\"1\" class=\"dataframe\">\n  <thead>\n    <tr style=\"text-align: right;\">\n      <th></th>\n      <th>id</th>\n      <th>name</th>\n      <th>date</th>\n      <th>manner_of_death</th>\n      <th>armed</th>\n      <th>age</th>\n      <th>gender</th>\n      <th>race</th>\n      <th>city</th>\n      <th>state</th>\n      <th>signs_of_mental_illness</th>\n      <th>threat_level</th>\n      <th>flee</th>\n      <th>body_camera</th>\n    </tr>\n  </thead>\n  <tbody>\n    <tr>\n      <th>0</th>\n      <td>3</td>\n      <td>Tim Elliot</td>\n      <td>02/01/15</td>\n      <td>shot</td>\n      <td>gun</td>\n      <td>53.0</td>\n      <td>M</td>\n      <td>A</td>\n      <td>Shelton</td>\n      <td>WA</td>\n      <td>True</td>\n      <td>attack</td>\n      <td>Not fleeing</td>\n      <td>False</td>\n    </tr>\n    <tr>\n      <th>1</th>\n      <td>4</td>\n      <td>Lewis Lee Lembke</td>\n      <td>02/01/15</td>\n      <td>shot</td>\n      <td>gun</td>\n      <td>47.0</td>\n      <td>M</td>\n      <td>W</td>\n      <td>Aloha</td>\n      <td>OR</td>\n      <td>False</td>\n      <td>attack</td>\n      <td>Not fleeing</td>\n      <td>False</td>\n    </tr>\n    <tr>\n      <th>2</th>\n      <td>5</td>\n      <td>John Paul Quintero</td>\n      <td>03/01/15</td>\n      <td>shot and Tasered</td>\n      <td>unarmed</td>\n      <td>23.0</td>\n      <td>M</td>\n      <td>H</td>\n      <td>Wichita</td>\n      <td>KS</td>\n      <td>False</td>\n      <td>other</td>\n      <td>Not fleeing</td>\n      <td>False</td>\n    </tr>\n    <tr>\n      <th>3</th>\n      <td>8</td>\n      <td>Matthew Hoffman</td>\n      <td>04/01/15</td>\n      <td>shot</td>\n      <td>toy weapon</td>\n      <td>32.0</td>\n      <td>M</td>\n      <td>W</td>\n      <td>San Francisco</td>\n      <td>CA</td>\n      <td>True</td>\n      <td>attack</td>\n      <td>Not fleeing</td>\n      <td>False</td>\n    </tr>\n    <tr>\n      <th>4</th>\n      <td>9</td>\n      <td>Michael Rodriguez</td>\n      <td>04/01/15</td>\n      <td>shot</td>\n      <td>nail gun</td>\n      <td>39.0</td>\n      <td>M</td>\n      <td>H</td>\n      <td>Evans</td>\n      <td>CO</td>\n      <td>False</td>\n      <td>attack</td>\n      <td>Not fleeing</td>\n      <td>False</td>\n    </tr>\n    <tr>\n      <th>...</th>\n      <td>...</td>\n      <td>...</td>\n      <td>...</td>\n      <td>...</td>\n      <td>...</td>\n      <td>...</td>\n      <td>...</td>\n      <td>...</td>\n      <td>...</td>\n      <td>...</td>\n      <td>...</td>\n      <td>...</td>\n      <td>...</td>\n      <td>...</td>\n    </tr>\n    <tr>\n      <th>2023</th>\n      <td>2256</td>\n      <td>Jeremy Lopez-Robledo</td>\n      <td>24/01/17</td>\n      <td>shot</td>\n      <td>knife</td>\n      <td>29.0</td>\n      <td>M</td>\n      <td>H</td>\n      <td>Las Cruces</td>\n      <td>NM</td>\n      <td>True</td>\n      <td>attack</td>\n      <td>Foot</td>\n      <td>True</td>\n    </tr>\n    <tr>\n      <th>2024</th>\n      <td>2257</td>\n      <td>Jonathan David Sper</td>\n      <td>24/01/17</td>\n      <td>shot</td>\n      <td>unarmed</td>\n      <td>30.0</td>\n      <td>M</td>\n      <td>W</td>\n      <td>Algoma Township</td>\n      <td>MI</td>\n      <td>True</td>\n      <td>attack</td>\n      <td>Not fleeing</td>\n      <td>False</td>\n    </tr>\n    <tr>\n      <th>2025</th>\n      <td>2258</td>\n      <td>Jose Efrain Rodriguez</td>\n      <td>24/01/17</td>\n      <td>shot and Tasered</td>\n      <td>gun</td>\n      <td>18.0</td>\n      <td>M</td>\n      <td>H</td>\n      <td>Lancaster City</td>\n      <td>PA</td>\n      <td>False</td>\n      <td>attack</td>\n      <td>Not fleeing</td>\n      <td>False</td>\n    </tr>\n    <tr>\n      <th>2026</th>\n      <td>2259</td>\n      <td>Ramon Milanez</td>\n      <td>24/01/17</td>\n      <td>shot</td>\n      <td>gun</td>\n      <td>32.0</td>\n      <td>M</td>\n      <td>H</td>\n      <td>Kuna</td>\n      <td>ID</td>\n      <td>False</td>\n      <td>attack</td>\n      <td>Car</td>\n      <td>False</td>\n    </tr>\n    <tr>\n      <th>2027</th>\n      <td>2260</td>\n      <td>Micah R. Lambert</td>\n      <td>25/01/17</td>\n      <td>shot</td>\n      <td>vehicle</td>\n      <td>37.0</td>\n      <td>M</td>\n      <td>W</td>\n      <td>Oxford</td>\n      <td>AL</td>\n      <td>True</td>\n      <td>attack</td>\n      <td>Car</td>\n      <td>False</td>\n    </tr>\n  </tbody>\n</table>\n<p>1937 rows × 14 columns</p>\n</div>"
     },
     "execution_count": 47,
     "metadata": {},
     "output_type": "execute_result"
    }
   ],
   "source": [
    "\"\"\"\n",
    "Fix the 'race' column\n",
    "We want to impute the NaN in the 'race' column with the most frequent race that is reported in the same city.\n",
    "First get a list of cities,\n",
    "second, get the mode for each city.\n",
    "\"\"\"\n",
    "training_race_noNaN = df_training[df_training['race'].notnull()].copy()\n",
    "\n",
    "training_cities = training_race_noNaN['city'].unique()\n",
    "\n",
    "training_race_noNaN"
   ],
   "metadata": {
    "collapsed": false,
    "pycharm": {
     "name": "#%%\n"
    }
   }
  },
  {
   "cell_type": "code",
   "execution_count": 48,
   "outputs": [
    {
     "data": {
      "text/plain": "               race\ncity               \nAbingdon          W\nAcworth           W\nAddison           H\nAiken             W\nAitkin            W\n...             ...\nYork              W\nYork County       B\nYuma              H\nZanesville        W\nZion         [B, W]\n\n[1140 rows x 1 columns]",
      "text/html": "<div>\n<style scoped>\n    .dataframe tbody tr th:only-of-type {\n        vertical-align: middle;\n    }\n\n    .dataframe tbody tr th {\n        vertical-align: top;\n    }\n\n    .dataframe thead th {\n        text-align: right;\n    }\n</style>\n<table border=\"1\" class=\"dataframe\">\n  <thead>\n    <tr style=\"text-align: right;\">\n      <th></th>\n      <th>race</th>\n    </tr>\n    <tr>\n      <th>city</th>\n      <th></th>\n    </tr>\n  </thead>\n  <tbody>\n    <tr>\n      <th>Abingdon</th>\n      <td>W</td>\n    </tr>\n    <tr>\n      <th>Acworth</th>\n      <td>W</td>\n    </tr>\n    <tr>\n      <th>Addison</th>\n      <td>H</td>\n    </tr>\n    <tr>\n      <th>Aiken</th>\n      <td>W</td>\n    </tr>\n    <tr>\n      <th>Aitkin</th>\n      <td>W</td>\n    </tr>\n    <tr>\n      <th>...</th>\n      <td>...</td>\n    </tr>\n    <tr>\n      <th>York</th>\n      <td>W</td>\n    </tr>\n    <tr>\n      <th>York County</th>\n      <td>B</td>\n    </tr>\n    <tr>\n      <th>Yuma</th>\n      <td>H</td>\n    </tr>\n    <tr>\n      <th>Zanesville</th>\n      <td>W</td>\n    </tr>\n    <tr>\n      <th>Zion</th>\n      <td>[B, W]</td>\n    </tr>\n  </tbody>\n</table>\n<p>1140 rows × 1 columns</p>\n</div>"
     },
     "execution_count": 48,
     "metadata": {},
     "output_type": "execute_result"
    }
   ],
   "source": [
    "training_race_noNaN.groupby('city')['race'].agg(pd.Series.mode).to_frame()"
   ],
   "metadata": {
    "collapsed": false,
    "pycharm": {
     "name": "#%%\n"
    }
   }
  },
  {
   "cell_type": "code",
   "execution_count": null,
   "outputs": [],
   "source": [],
   "metadata": {
    "collapsed": false,
    "pycharm": {
     "name": "#%%\n"
    }
   }
  }
 ],
 "metadata": {
  "kernelspec": {
   "display_name": "Python 3",
   "language": "python",
   "name": "python3"
  },
  "language_info": {
   "codemirror_mode": {
    "name": "ipython",
    "version": 2
   },
   "file_extension": ".py",
   "mimetype": "text/x-python",
   "name": "python",
   "nbconvert_exporter": "python",
   "pygments_lexer": "ipython2",
   "version": "2.7.6"
  }
 },
 "nbformat": 4,
 "nbformat_minor": 0
}