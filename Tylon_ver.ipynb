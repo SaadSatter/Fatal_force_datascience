{
 "cells": [
  {
   "cell_type": "code",
   "execution_count": 261,
   "metadata": {
    "collapsed": true
   },
   "outputs": [],
   "source": [
    "import itertools\n",
    "import pandas as pd\n",
    "import sklearn\n",
    "from sklearn.model_selection import train_test_split\n",
    "import datetime\n",
    "from sklearn import metrics\n",
    "from sklearn.linear_model import LinearRegression\n",
    "from sklearn.linear_model import LogisticRegression\n",
    "import matplotlib.pyplot as plt\n",
    "import numpy as np\n",
    "import seaborn as sb"
   ]
  },
  {
   "cell_type": "code",
   "execution_count": 262,
   "outputs": [
    {
     "name": "stdout",
     "output_type": "stream",
     "text": [
      "<class 'pandas.core.frame.DataFrame'>\n",
      "RangeIndex: 507 entries, 0 to 506\n",
      "Data columns (total 14 columns):\n",
      " #   Column                   Non-Null Count  Dtype  \n",
      "---  ------                   --------------  -----  \n",
      " 0   id                       507 non-null    int64  \n",
      " 1   name                     507 non-null    object \n",
      " 2   date                     507 non-null    object \n",
      " 3   manner_of_death          507 non-null    object \n",
      " 4   armed                    504 non-null    object \n",
      " 5   age                      467 non-null    float64\n",
      " 6   gender                   507 non-null    object \n",
      " 7   race                     403 non-null    object \n",
      " 8   city                     507 non-null    object \n",
      " 9   state                    507 non-null    object \n",
      " 10  signs_of_mental_illness  507 non-null    bool   \n",
      " 11  threat_level             507 non-null    object \n",
      " 12  flee                     469 non-null    object \n",
      " 13  body_camera              507 non-null    bool   \n",
      "dtypes: bool(2), float64(1), int64(1), object(10)\n",
      "memory usage: 48.6+ KB\n"
     ]
    },
    {
     "data": {
      "text/plain": "        id                   name      date   manner_of_death       armed  \\\n0        3             Tim Elliot  02/01/15              shot         gun   \n1        4       Lewis Lee Lembke  02/01/15              shot         gun   \n2        5     John Paul Quintero  03/01/15  shot and Tasered     unarmed   \n3        8        Matthew Hoffman  04/01/15              shot  toy weapon   \n4        9      Michael Rodriguez  04/01/15              shot    nail gun   \n...    ...                    ...       ...               ...         ...   \n2023  2256   Jeremy Lopez-Robledo  24/01/17              shot       knife   \n2024  2257    Jonathan David Sper  24/01/17              shot     unarmed   \n2025  2258  Jose Efrain Rodriguez  24/01/17  shot and Tasered         gun   \n2026  2259          Ramon Milanez  24/01/17              shot         gun   \n2027  2260       Micah R. Lambert  25/01/17              shot     vehicle   \n\n       age gender race             city state  signs_of_mental_illness  \\\n0     53.0      M    A          Shelton    WA                     True   \n1     47.0      M    W            Aloha    OR                    False   \n2     23.0      M    H          Wichita    KS                    False   \n3     32.0      M    W    San Francisco    CA                     True   \n4     39.0      M    H            Evans    CO                    False   \n...    ...    ...  ...              ...   ...                      ...   \n2023  29.0      M    H       Las Cruces    NM                     True   \n2024  30.0      M    W  Algoma Township    MI                     True   \n2025  18.0      M    H   Lancaster City    PA                    False   \n2026  32.0      M    H             Kuna    ID                    False   \n2027  37.0      M    W           Oxford    AL                     True   \n\n     threat_level         flee  body_camera  \n0          attack  Not fleeing        False  \n1          attack  Not fleeing        False  \n2           other  Not fleeing        False  \n3          attack  Not fleeing        False  \n4          attack  Not fleeing        False  \n...           ...          ...          ...  \n2023       attack         Foot         True  \n2024       attack  Not fleeing        False  \n2025       attack  Not fleeing        False  \n2026       attack          Car        False  \n2027       attack          Car        False  \n\n[2028 rows x 14 columns]",
      "text/html": "<div>\n<style scoped>\n    .dataframe tbody tr th:only-of-type {\n        vertical-align: middle;\n    }\n\n    .dataframe tbody tr th {\n        vertical-align: top;\n    }\n\n    .dataframe thead th {\n        text-align: right;\n    }\n</style>\n<table border=\"1\" class=\"dataframe\">\n  <thead>\n    <tr style=\"text-align: right;\">\n      <th></th>\n      <th>id</th>\n      <th>name</th>\n      <th>date</th>\n      <th>manner_of_death</th>\n      <th>armed</th>\n      <th>age</th>\n      <th>gender</th>\n      <th>race</th>\n      <th>city</th>\n      <th>state</th>\n      <th>signs_of_mental_illness</th>\n      <th>threat_level</th>\n      <th>flee</th>\n      <th>body_camera</th>\n    </tr>\n  </thead>\n  <tbody>\n    <tr>\n      <th>0</th>\n      <td>3</td>\n      <td>Tim Elliot</td>\n      <td>02/01/15</td>\n      <td>shot</td>\n      <td>gun</td>\n      <td>53.0</td>\n      <td>M</td>\n      <td>A</td>\n      <td>Shelton</td>\n      <td>WA</td>\n      <td>True</td>\n      <td>attack</td>\n      <td>Not fleeing</td>\n      <td>False</td>\n    </tr>\n    <tr>\n      <th>1</th>\n      <td>4</td>\n      <td>Lewis Lee Lembke</td>\n      <td>02/01/15</td>\n      <td>shot</td>\n      <td>gun</td>\n      <td>47.0</td>\n      <td>M</td>\n      <td>W</td>\n      <td>Aloha</td>\n      <td>OR</td>\n      <td>False</td>\n      <td>attack</td>\n      <td>Not fleeing</td>\n      <td>False</td>\n    </tr>\n    <tr>\n      <th>2</th>\n      <td>5</td>\n      <td>John Paul Quintero</td>\n      <td>03/01/15</td>\n      <td>shot and Tasered</td>\n      <td>unarmed</td>\n      <td>23.0</td>\n      <td>M</td>\n      <td>H</td>\n      <td>Wichita</td>\n      <td>KS</td>\n      <td>False</td>\n      <td>other</td>\n      <td>Not fleeing</td>\n      <td>False</td>\n    </tr>\n    <tr>\n      <th>3</th>\n      <td>8</td>\n      <td>Matthew Hoffman</td>\n      <td>04/01/15</td>\n      <td>shot</td>\n      <td>toy weapon</td>\n      <td>32.0</td>\n      <td>M</td>\n      <td>W</td>\n      <td>San Francisco</td>\n      <td>CA</td>\n      <td>True</td>\n      <td>attack</td>\n      <td>Not fleeing</td>\n      <td>False</td>\n    </tr>\n    <tr>\n      <th>4</th>\n      <td>9</td>\n      <td>Michael Rodriguez</td>\n      <td>04/01/15</td>\n      <td>shot</td>\n      <td>nail gun</td>\n      <td>39.0</td>\n      <td>M</td>\n      <td>H</td>\n      <td>Evans</td>\n      <td>CO</td>\n      <td>False</td>\n      <td>attack</td>\n      <td>Not fleeing</td>\n      <td>False</td>\n    </tr>\n    <tr>\n      <th>...</th>\n      <td>...</td>\n      <td>...</td>\n      <td>...</td>\n      <td>...</td>\n      <td>...</td>\n      <td>...</td>\n      <td>...</td>\n      <td>...</td>\n      <td>...</td>\n      <td>...</td>\n      <td>...</td>\n      <td>...</td>\n      <td>...</td>\n      <td>...</td>\n    </tr>\n    <tr>\n      <th>2023</th>\n      <td>2256</td>\n      <td>Jeremy Lopez-Robledo</td>\n      <td>24/01/17</td>\n      <td>shot</td>\n      <td>knife</td>\n      <td>29.0</td>\n      <td>M</td>\n      <td>H</td>\n      <td>Las Cruces</td>\n      <td>NM</td>\n      <td>True</td>\n      <td>attack</td>\n      <td>Foot</td>\n      <td>True</td>\n    </tr>\n    <tr>\n      <th>2024</th>\n      <td>2257</td>\n      <td>Jonathan David Sper</td>\n      <td>24/01/17</td>\n      <td>shot</td>\n      <td>unarmed</td>\n      <td>30.0</td>\n      <td>M</td>\n      <td>W</td>\n      <td>Algoma Township</td>\n      <td>MI</td>\n      <td>True</td>\n      <td>attack</td>\n      <td>Not fleeing</td>\n      <td>False</td>\n    </tr>\n    <tr>\n      <th>2025</th>\n      <td>2258</td>\n      <td>Jose Efrain Rodriguez</td>\n      <td>24/01/17</td>\n      <td>shot and Tasered</td>\n      <td>gun</td>\n      <td>18.0</td>\n      <td>M</td>\n      <td>H</td>\n      <td>Lancaster City</td>\n      <td>PA</td>\n      <td>False</td>\n      <td>attack</td>\n      <td>Not fleeing</td>\n      <td>False</td>\n    </tr>\n    <tr>\n      <th>2026</th>\n      <td>2259</td>\n      <td>Ramon Milanez</td>\n      <td>24/01/17</td>\n      <td>shot</td>\n      <td>gun</td>\n      <td>32.0</td>\n      <td>M</td>\n      <td>H</td>\n      <td>Kuna</td>\n      <td>ID</td>\n      <td>False</td>\n      <td>attack</td>\n      <td>Car</td>\n      <td>False</td>\n    </tr>\n    <tr>\n      <th>2027</th>\n      <td>2260</td>\n      <td>Micah R. Lambert</td>\n      <td>25/01/17</td>\n      <td>shot</td>\n      <td>vehicle</td>\n      <td>37.0</td>\n      <td>M</td>\n      <td>W</td>\n      <td>Oxford</td>\n      <td>AL</td>\n      <td>True</td>\n      <td>attack</td>\n      <td>Car</td>\n      <td>False</td>\n    </tr>\n  </tbody>\n</table>\n<p>2028 rows × 14 columns</p>\n</div>"
     },
     "execution_count": 262,
     "metadata": {},
     "output_type": "execute_result"
    }
   ],
   "source": [
    "df_training = pd.read_csv('police_killings_train.csv')\n",
    "df_test = pd.read_csv('police_killings_test.csv')\n",
    "df_race_city = pd.read_csv('share_race_by_city.csv')\n",
    "df_income = pd.read_csv('income.csv', encoding=\"ANSI\")\n",
    "df_poverty = pd.read_csv('poverty.csv', encoding=\"ANSI\")\n",
    "df_education = pd.read_csv('education.csv', encoding=\"ANSI\")\n",
    "\n",
    "df_test.info()\n",
    "df_training"
   ],
   "metadata": {
    "collapsed": false,
    "pycharm": {
     "name": "#%%\n"
    }
   }
  },
  {
   "cell_type": "code",
   "execution_count": 263,
   "outputs": [
    {
     "name": "stderr",
     "output_type": "stream",
     "text": [
      "C:\\Users\\long9\\AppData\\Local\\Temp\\ipykernel_8360\\516350680.py:1: FutureWarning: The frame.append method is deprecated and will be removed from pandas in a future version. Use pandas.concat instead.\n",
      "  df_total = df_training.append(df_test, ignore_index=True)\n"
     ]
    },
    {
     "data": {
      "text/plain": "        id                name      date   manner_of_death       armed   age  \\\n0        3          Tim Elliot  02/01/15              shot         gun  53.0   \n1        4    Lewis Lee Lembke  02/01/15              shot         gun  47.0   \n2        5  John Paul Quintero  03/01/15  shot and Tasered     unarmed  23.0   \n3        8     Matthew Hoffman  04/01/15              shot  toy weapon  32.0   \n4        9   Michael Rodriguez  04/01/15              shot    nail gun  39.0   \n...    ...                 ...       ...               ...         ...   ...   \n2530  2822    Rodney E. Jacobs  28/07/17              shot         gun  31.0   \n2531  2813               TK TK  28/07/17              shot     vehicle   NaN   \n2532  2818  Dennis W. Robinson  29/07/17              shot         gun  48.0   \n2533  2817       Isaiah Tucker  31/07/17              shot     vehicle  28.0   \n2534  2815        Dwayne Jeune  31/07/17              shot       knife  32.0   \n\n     gender race           city state  signs_of_mental_illness threat_level  \\\n0         M    A        Shelton    WA                     True       attack   \n1         M    W          Aloha    OR                    False       attack   \n2         M    H        Wichita    KS                    False        other   \n3         M    W  San Francisco    CA                     True       attack   \n4         M    H          Evans    CO                    False       attack   \n...     ...  ...            ...   ...                      ...          ...   \n2530      M  NaN    Kansas City    MO                    False       attack   \n2531      M  NaN    Albuquerque    NM                    False       attack   \n2532      M  NaN          Melba    ID                    False       attack   \n2533      M    B        Oshkosh    WI                    False       attack   \n2534      M    B       Brooklyn    NY                     True       attack   \n\n             flee  body_camera  \n0     Not fleeing        False  \n1     Not fleeing        False  \n2     Not fleeing        False  \n3     Not fleeing        False  \n4     Not fleeing        False  \n...           ...          ...  \n2530  Not fleeing        False  \n2531          Car        False  \n2532          Car        False  \n2533          Car         True  \n2534  Not fleeing        False  \n\n[2535 rows x 14 columns]",
      "text/html": "<div>\n<style scoped>\n    .dataframe tbody tr th:only-of-type {\n        vertical-align: middle;\n    }\n\n    .dataframe tbody tr th {\n        vertical-align: top;\n    }\n\n    .dataframe thead th {\n        text-align: right;\n    }\n</style>\n<table border=\"1\" class=\"dataframe\">\n  <thead>\n    <tr style=\"text-align: right;\">\n      <th></th>\n      <th>id</th>\n      <th>name</th>\n      <th>date</th>\n      <th>manner_of_death</th>\n      <th>armed</th>\n      <th>age</th>\n      <th>gender</th>\n      <th>race</th>\n      <th>city</th>\n      <th>state</th>\n      <th>signs_of_mental_illness</th>\n      <th>threat_level</th>\n      <th>flee</th>\n      <th>body_camera</th>\n    </tr>\n  </thead>\n  <tbody>\n    <tr>\n      <th>0</th>\n      <td>3</td>\n      <td>Tim Elliot</td>\n      <td>02/01/15</td>\n      <td>shot</td>\n      <td>gun</td>\n      <td>53.0</td>\n      <td>M</td>\n      <td>A</td>\n      <td>Shelton</td>\n      <td>WA</td>\n      <td>True</td>\n      <td>attack</td>\n      <td>Not fleeing</td>\n      <td>False</td>\n    </tr>\n    <tr>\n      <th>1</th>\n      <td>4</td>\n      <td>Lewis Lee Lembke</td>\n      <td>02/01/15</td>\n      <td>shot</td>\n      <td>gun</td>\n      <td>47.0</td>\n      <td>M</td>\n      <td>W</td>\n      <td>Aloha</td>\n      <td>OR</td>\n      <td>False</td>\n      <td>attack</td>\n      <td>Not fleeing</td>\n      <td>False</td>\n    </tr>\n    <tr>\n      <th>2</th>\n      <td>5</td>\n      <td>John Paul Quintero</td>\n      <td>03/01/15</td>\n      <td>shot and Tasered</td>\n      <td>unarmed</td>\n      <td>23.0</td>\n      <td>M</td>\n      <td>H</td>\n      <td>Wichita</td>\n      <td>KS</td>\n      <td>False</td>\n      <td>other</td>\n      <td>Not fleeing</td>\n      <td>False</td>\n    </tr>\n    <tr>\n      <th>3</th>\n      <td>8</td>\n      <td>Matthew Hoffman</td>\n      <td>04/01/15</td>\n      <td>shot</td>\n      <td>toy weapon</td>\n      <td>32.0</td>\n      <td>M</td>\n      <td>W</td>\n      <td>San Francisco</td>\n      <td>CA</td>\n      <td>True</td>\n      <td>attack</td>\n      <td>Not fleeing</td>\n      <td>False</td>\n    </tr>\n    <tr>\n      <th>4</th>\n      <td>9</td>\n      <td>Michael Rodriguez</td>\n      <td>04/01/15</td>\n      <td>shot</td>\n      <td>nail gun</td>\n      <td>39.0</td>\n      <td>M</td>\n      <td>H</td>\n      <td>Evans</td>\n      <td>CO</td>\n      <td>False</td>\n      <td>attack</td>\n      <td>Not fleeing</td>\n      <td>False</td>\n    </tr>\n    <tr>\n      <th>...</th>\n      <td>...</td>\n      <td>...</td>\n      <td>...</td>\n      <td>...</td>\n      <td>...</td>\n      <td>...</td>\n      <td>...</td>\n      <td>...</td>\n      <td>...</td>\n      <td>...</td>\n      <td>...</td>\n      <td>...</td>\n      <td>...</td>\n      <td>...</td>\n    </tr>\n    <tr>\n      <th>2530</th>\n      <td>2822</td>\n      <td>Rodney E. Jacobs</td>\n      <td>28/07/17</td>\n      <td>shot</td>\n      <td>gun</td>\n      <td>31.0</td>\n      <td>M</td>\n      <td>NaN</td>\n      <td>Kansas City</td>\n      <td>MO</td>\n      <td>False</td>\n      <td>attack</td>\n      <td>Not fleeing</td>\n      <td>False</td>\n    </tr>\n    <tr>\n      <th>2531</th>\n      <td>2813</td>\n      <td>TK TK</td>\n      <td>28/07/17</td>\n      <td>shot</td>\n      <td>vehicle</td>\n      <td>NaN</td>\n      <td>M</td>\n      <td>NaN</td>\n      <td>Albuquerque</td>\n      <td>NM</td>\n      <td>False</td>\n      <td>attack</td>\n      <td>Car</td>\n      <td>False</td>\n    </tr>\n    <tr>\n      <th>2532</th>\n      <td>2818</td>\n      <td>Dennis W. Robinson</td>\n      <td>29/07/17</td>\n      <td>shot</td>\n      <td>gun</td>\n      <td>48.0</td>\n      <td>M</td>\n      <td>NaN</td>\n      <td>Melba</td>\n      <td>ID</td>\n      <td>False</td>\n      <td>attack</td>\n      <td>Car</td>\n      <td>False</td>\n    </tr>\n    <tr>\n      <th>2533</th>\n      <td>2817</td>\n      <td>Isaiah Tucker</td>\n      <td>31/07/17</td>\n      <td>shot</td>\n      <td>vehicle</td>\n      <td>28.0</td>\n      <td>M</td>\n      <td>B</td>\n      <td>Oshkosh</td>\n      <td>WI</td>\n      <td>False</td>\n      <td>attack</td>\n      <td>Car</td>\n      <td>True</td>\n    </tr>\n    <tr>\n      <th>2534</th>\n      <td>2815</td>\n      <td>Dwayne Jeune</td>\n      <td>31/07/17</td>\n      <td>shot</td>\n      <td>knife</td>\n      <td>32.0</td>\n      <td>M</td>\n      <td>B</td>\n      <td>Brooklyn</td>\n      <td>NY</td>\n      <td>True</td>\n      <td>attack</td>\n      <td>Not fleeing</td>\n      <td>False</td>\n    </tr>\n  </tbody>\n</table>\n<p>2535 rows × 14 columns</p>\n</div>"
     },
     "execution_count": 263,
     "metadata": {},
     "output_type": "execute_result"
    }
   ],
   "source": [
    "df_total = df_training.append(df_test, ignore_index=True)\n",
    "df_total"
   ],
   "metadata": {
    "collapsed": false,
    "pycharm": {
     "name": "#%%\n"
    }
   }
  },
  {
   "cell_type": "code",
   "execution_count": 264,
   "outputs": [
    {
     "name": "stderr",
     "output_type": "stream",
     "text": [
      "C:\\Users\\long9\\AppData\\Local\\Temp\\ipykernel_8360\\3415830568.py:20: SettingWithCopyWarning: \n",
      "A value is trying to be set on a copy of a slice from a DataFrame\n",
      "\n",
      "See the caveats in the documentation: https://pandas.pydata.org/pandas-docs/stable/user_guide/indexing.html#returning-a-view-versus-a-copy\n",
      "  age_fix['age'][i] = city_mean_ages[city]\n",
      "C:\\Users\\long9\\AppData\\Local\\Temp\\ipykernel_8360\\3415830568.py:22: SettingWithCopyWarning: \n",
      "A value is trying to be set on a copy of a slice from a DataFrame\n",
      "\n",
      "See the caveats in the documentation: https://pandas.pydata.org/pandas-docs/stable/user_guide/indexing.html#returning-a-view-versus-a-copy\n",
      "  age_fix['age'][i] = total_mean_age\n"
     ]
    },
    {
     "data": {
      "text/plain": "          id                name      date   manner_of_death       armed  \\\n0        3.0          Tim Elliot  02/01/15              shot         gun   \n1        4.0    Lewis Lee Lembke  02/01/15              shot         gun   \n2        5.0  John Paul Quintero  03/01/15  shot and Tasered     unarmed   \n3        8.0     Matthew Hoffman  04/01/15              shot  toy weapon   \n4        9.0   Michael Rodriguez  04/01/15              shot    nail gun   \n...      ...                 ...       ...               ...         ...   \n2530  2822.0    Rodney E. Jacobs  28/07/17              shot         gun   \n2531  2813.0               TK TK  28/07/17              shot     vehicle   \n2532  2818.0  Dennis W. Robinson  29/07/17              shot         gun   \n2533  2817.0       Isaiah Tucker  31/07/17              shot     vehicle   \n2534  2815.0        Dwayne Jeune  31/07/17              shot       knife   \n\n            age gender race           city state  signs_of_mental_illness  \\\n0     53.000000      M    A        Shelton    WA                     True   \n1     47.000000      M    W          Aloha    OR                    False   \n2     23.000000      M    H        Wichita    KS                    False   \n3     32.000000      M    W  San Francisco    CA                     True   \n4     39.000000      M    H          Evans    CO                    False   \n...         ...    ...  ...            ...   ...                      ...   \n2530  31.000000      M  NaN    Kansas City    MO                    False   \n2531  31.153846      M  NaN    Albuquerque    NM                    False   \n2532  48.000000      M  NaN          Melba    ID                    False   \n2533  28.000000      M    B        Oshkosh    WI                    False   \n2534  32.000000      M    B       Brooklyn    NY                     True   \n\n     threat_level         flee  body_camera  \n0          attack  Not fleeing        False  \n1          attack  Not fleeing        False  \n2           other  Not fleeing        False  \n3          attack  Not fleeing        False  \n4          attack  Not fleeing        False  \n...           ...          ...          ...  \n2530       attack  Not fleeing        False  \n2531       attack          Car        False  \n2532       attack          Car        False  \n2533       attack          Car         True  \n2534       attack  Not fleeing        False  \n\n[2535 rows x 14 columns]",
      "text/html": "<div>\n<style scoped>\n    .dataframe tbody tr th:only-of-type {\n        vertical-align: middle;\n    }\n\n    .dataframe tbody tr th {\n        vertical-align: top;\n    }\n\n    .dataframe thead th {\n        text-align: right;\n    }\n</style>\n<table border=\"1\" class=\"dataframe\">\n  <thead>\n    <tr style=\"text-align: right;\">\n      <th></th>\n      <th>id</th>\n      <th>name</th>\n      <th>date</th>\n      <th>manner_of_death</th>\n      <th>armed</th>\n      <th>age</th>\n      <th>gender</th>\n      <th>race</th>\n      <th>city</th>\n      <th>state</th>\n      <th>signs_of_mental_illness</th>\n      <th>threat_level</th>\n      <th>flee</th>\n      <th>body_camera</th>\n    </tr>\n  </thead>\n  <tbody>\n    <tr>\n      <th>0</th>\n      <td>3.0</td>\n      <td>Tim Elliot</td>\n      <td>02/01/15</td>\n      <td>shot</td>\n      <td>gun</td>\n      <td>53.000000</td>\n      <td>M</td>\n      <td>A</td>\n      <td>Shelton</td>\n      <td>WA</td>\n      <td>True</td>\n      <td>attack</td>\n      <td>Not fleeing</td>\n      <td>False</td>\n    </tr>\n    <tr>\n      <th>1</th>\n      <td>4.0</td>\n      <td>Lewis Lee Lembke</td>\n      <td>02/01/15</td>\n      <td>shot</td>\n      <td>gun</td>\n      <td>47.000000</td>\n      <td>M</td>\n      <td>W</td>\n      <td>Aloha</td>\n      <td>OR</td>\n      <td>False</td>\n      <td>attack</td>\n      <td>Not fleeing</td>\n      <td>False</td>\n    </tr>\n    <tr>\n      <th>2</th>\n      <td>5.0</td>\n      <td>John Paul Quintero</td>\n      <td>03/01/15</td>\n      <td>shot and Tasered</td>\n      <td>unarmed</td>\n      <td>23.000000</td>\n      <td>M</td>\n      <td>H</td>\n      <td>Wichita</td>\n      <td>KS</td>\n      <td>False</td>\n      <td>other</td>\n      <td>Not fleeing</td>\n      <td>False</td>\n    </tr>\n    <tr>\n      <th>3</th>\n      <td>8.0</td>\n      <td>Matthew Hoffman</td>\n      <td>04/01/15</td>\n      <td>shot</td>\n      <td>toy weapon</td>\n      <td>32.000000</td>\n      <td>M</td>\n      <td>W</td>\n      <td>San Francisco</td>\n      <td>CA</td>\n      <td>True</td>\n      <td>attack</td>\n      <td>Not fleeing</td>\n      <td>False</td>\n    </tr>\n    <tr>\n      <th>4</th>\n      <td>9.0</td>\n      <td>Michael Rodriguez</td>\n      <td>04/01/15</td>\n      <td>shot</td>\n      <td>nail gun</td>\n      <td>39.000000</td>\n      <td>M</td>\n      <td>H</td>\n      <td>Evans</td>\n      <td>CO</td>\n      <td>False</td>\n      <td>attack</td>\n      <td>Not fleeing</td>\n      <td>False</td>\n    </tr>\n    <tr>\n      <th>...</th>\n      <td>...</td>\n      <td>...</td>\n      <td>...</td>\n      <td>...</td>\n      <td>...</td>\n      <td>...</td>\n      <td>...</td>\n      <td>...</td>\n      <td>...</td>\n      <td>...</td>\n      <td>...</td>\n      <td>...</td>\n      <td>...</td>\n      <td>...</td>\n    </tr>\n    <tr>\n      <th>2530</th>\n      <td>2822.0</td>\n      <td>Rodney E. Jacobs</td>\n      <td>28/07/17</td>\n      <td>shot</td>\n      <td>gun</td>\n      <td>31.000000</td>\n      <td>M</td>\n      <td>NaN</td>\n      <td>Kansas City</td>\n      <td>MO</td>\n      <td>False</td>\n      <td>attack</td>\n      <td>Not fleeing</td>\n      <td>False</td>\n    </tr>\n    <tr>\n      <th>2531</th>\n      <td>2813.0</td>\n      <td>TK TK</td>\n      <td>28/07/17</td>\n      <td>shot</td>\n      <td>vehicle</td>\n      <td>31.153846</td>\n      <td>M</td>\n      <td>NaN</td>\n      <td>Albuquerque</td>\n      <td>NM</td>\n      <td>False</td>\n      <td>attack</td>\n      <td>Car</td>\n      <td>False</td>\n    </tr>\n    <tr>\n      <th>2532</th>\n      <td>2818.0</td>\n      <td>Dennis W. Robinson</td>\n      <td>29/07/17</td>\n      <td>shot</td>\n      <td>gun</td>\n      <td>48.000000</td>\n      <td>M</td>\n      <td>NaN</td>\n      <td>Melba</td>\n      <td>ID</td>\n      <td>False</td>\n      <td>attack</td>\n      <td>Car</td>\n      <td>False</td>\n    </tr>\n    <tr>\n      <th>2533</th>\n      <td>2817.0</td>\n      <td>Isaiah Tucker</td>\n      <td>31/07/17</td>\n      <td>shot</td>\n      <td>vehicle</td>\n      <td>28.000000</td>\n      <td>M</td>\n      <td>B</td>\n      <td>Oshkosh</td>\n      <td>WI</td>\n      <td>False</td>\n      <td>attack</td>\n      <td>Car</td>\n      <td>True</td>\n    </tr>\n    <tr>\n      <th>2534</th>\n      <td>2815.0</td>\n      <td>Dwayne Jeune</td>\n      <td>31/07/17</td>\n      <td>shot</td>\n      <td>knife</td>\n      <td>32.000000</td>\n      <td>M</td>\n      <td>B</td>\n      <td>Brooklyn</td>\n      <td>NY</td>\n      <td>True</td>\n      <td>attack</td>\n      <td>Not fleeing</td>\n      <td>False</td>\n    </tr>\n  </tbody>\n</table>\n<p>2535 rows × 14 columns</p>\n</div>"
     },
     "execution_count": 264,
     "metadata": {},
     "output_type": "execute_result"
    }
   ],
   "source": [
    "\"\"\"\n",
    "We noticed that some of the 'age' data is missing.\n",
    "So we imputed the average age of the people in each city and imputed the average age for the missing ages based on their city.\n",
    "1. We calculate the total mean age of our total data sample.\n",
    "2. We group by city, then calculate the mean Age at each city.\n",
    "3. For each NaN age, we impute the mean age of that city. If that city was not calcuated (meaning this data is the only one from that city), we will use the total mean age.\n",
    "\"\"\"\n",
    "age_fix = df_total[['id','age','city']].copy()\n",
    "age_fix = age_fix[age_fix['age'].isnull()].copy()\n",
    "# 1. Calculate Total Mean Age\n",
    "total_mean_age = df_total['age'].mean()\n",
    "\n",
    "# 2. Calculate Mean of Each City\n",
    "city_mean_ages = df_total.groupby('city')['age'].mean()\n",
    "\n",
    "#3. Impute Age by the city. If City data does not exist, use Total Mean Age.\n",
    "for i in age_fix.index:\n",
    "    city = age_fix['city'][i]\n",
    "    if city in city_mean_ages and not np.isnan(city_mean_ages[city]):\n",
    "        age_fix['age'][i] = city_mean_ages[city]\n",
    "    else:\n",
    "        age_fix['age'][i] = total_mean_age\n",
    "\n",
    "\n",
    "# update total list\n",
    "df_total.update(age_fix)\n",
    "\n",
    "df_total"
   ],
   "metadata": {
    "collapsed": false,
    "pycharm": {
     "name": "#%%\n"
    }
   }
  },
  {
   "cell_type": "code",
   "execution_count": 265,
   "outputs": [
    {
     "data": {
      "text/plain": "          id                name      date   manner_of_death       armed  \\\n0        3.0          Tim Elliot  02/01/15              shot         gun   \n1        4.0    Lewis Lee Lembke  02/01/15              shot         gun   \n2        5.0  John Paul Quintero  03/01/15  shot and Tasered     unarmed   \n3        8.0     Matthew Hoffman  04/01/15              shot  toy weapon   \n4        9.0   Michael Rodriguez  04/01/15              shot    nail gun   \n...      ...                 ...       ...               ...         ...   \n2530  2822.0    Rodney E. Jacobs  28/07/17              shot         gun   \n2531  2813.0               TK TK  28/07/17              shot     vehicle   \n2532  2818.0  Dennis W. Robinson  29/07/17              shot         gun   \n2533  2817.0       Isaiah Tucker  31/07/17              shot     vehicle   \n2534  2815.0        Dwayne Jeune  31/07/17              shot       knife   \n\n            age gender race           city state  signs_of_mental_illness  \\\n0     53.000000      M    A        Shelton    WA                     True   \n1     47.000000      M    W          Aloha    OR                    False   \n2     23.000000      M    H        Wichita    KS                    False   \n3     32.000000      M    W  San Francisco    CA                     True   \n4     39.000000      M    H          Evans    CO                    False   \n...         ...    ...  ...            ...   ...                      ...   \n2530  31.000000      M  NaN    Kansas City    MO                    False   \n2531  31.153846      M  NaN    Albuquerque    NM                    False   \n2532  48.000000      M  NaN          Melba    ID                    False   \n2533  28.000000      M    B        Oshkosh    WI                    False   \n2534  32.000000      M    B       Brooklyn    NY                     True   \n\n     threat_level         flee  body_camera  \n0          attack  Not fleeing        False  \n1          attack  Not fleeing        False  \n2           other  Not fleeing        False  \n3          attack  Not fleeing        False  \n4          attack  Not fleeing        False  \n...           ...          ...          ...  \n2530       attack  Not fleeing        False  \n2531       attack          Car        False  \n2532       attack          Car        False  \n2533       attack          Car         True  \n2534       attack  Not fleeing        False  \n\n[2535 rows x 14 columns]",
      "text/html": "<div>\n<style scoped>\n    .dataframe tbody tr th:only-of-type {\n        vertical-align: middle;\n    }\n\n    .dataframe tbody tr th {\n        vertical-align: top;\n    }\n\n    .dataframe thead th {\n        text-align: right;\n    }\n</style>\n<table border=\"1\" class=\"dataframe\">\n  <thead>\n    <tr style=\"text-align: right;\">\n      <th></th>\n      <th>id</th>\n      <th>name</th>\n      <th>date</th>\n      <th>manner_of_death</th>\n      <th>armed</th>\n      <th>age</th>\n      <th>gender</th>\n      <th>race</th>\n      <th>city</th>\n      <th>state</th>\n      <th>signs_of_mental_illness</th>\n      <th>threat_level</th>\n      <th>flee</th>\n      <th>body_camera</th>\n    </tr>\n  </thead>\n  <tbody>\n    <tr>\n      <th>0</th>\n      <td>3.0</td>\n      <td>Tim Elliot</td>\n      <td>02/01/15</td>\n      <td>shot</td>\n      <td>gun</td>\n      <td>53.000000</td>\n      <td>M</td>\n      <td>A</td>\n      <td>Shelton</td>\n      <td>WA</td>\n      <td>True</td>\n      <td>attack</td>\n      <td>Not fleeing</td>\n      <td>False</td>\n    </tr>\n    <tr>\n      <th>1</th>\n      <td>4.0</td>\n      <td>Lewis Lee Lembke</td>\n      <td>02/01/15</td>\n      <td>shot</td>\n      <td>gun</td>\n      <td>47.000000</td>\n      <td>M</td>\n      <td>W</td>\n      <td>Aloha</td>\n      <td>OR</td>\n      <td>False</td>\n      <td>attack</td>\n      <td>Not fleeing</td>\n      <td>False</td>\n    </tr>\n    <tr>\n      <th>2</th>\n      <td>5.0</td>\n      <td>John Paul Quintero</td>\n      <td>03/01/15</td>\n      <td>shot and Tasered</td>\n      <td>unarmed</td>\n      <td>23.000000</td>\n      <td>M</td>\n      <td>H</td>\n      <td>Wichita</td>\n      <td>KS</td>\n      <td>False</td>\n      <td>other</td>\n      <td>Not fleeing</td>\n      <td>False</td>\n    </tr>\n    <tr>\n      <th>3</th>\n      <td>8.0</td>\n      <td>Matthew Hoffman</td>\n      <td>04/01/15</td>\n      <td>shot</td>\n      <td>toy weapon</td>\n      <td>32.000000</td>\n      <td>M</td>\n      <td>W</td>\n      <td>San Francisco</td>\n      <td>CA</td>\n      <td>True</td>\n      <td>attack</td>\n      <td>Not fleeing</td>\n      <td>False</td>\n    </tr>\n    <tr>\n      <th>4</th>\n      <td>9.0</td>\n      <td>Michael Rodriguez</td>\n      <td>04/01/15</td>\n      <td>shot</td>\n      <td>nail gun</td>\n      <td>39.000000</td>\n      <td>M</td>\n      <td>H</td>\n      <td>Evans</td>\n      <td>CO</td>\n      <td>False</td>\n      <td>attack</td>\n      <td>Not fleeing</td>\n      <td>False</td>\n    </tr>\n    <tr>\n      <th>...</th>\n      <td>...</td>\n      <td>...</td>\n      <td>...</td>\n      <td>...</td>\n      <td>...</td>\n      <td>...</td>\n      <td>...</td>\n      <td>...</td>\n      <td>...</td>\n      <td>...</td>\n      <td>...</td>\n      <td>...</td>\n      <td>...</td>\n      <td>...</td>\n    </tr>\n    <tr>\n      <th>2530</th>\n      <td>2822.0</td>\n      <td>Rodney E. Jacobs</td>\n      <td>28/07/17</td>\n      <td>shot</td>\n      <td>gun</td>\n      <td>31.000000</td>\n      <td>M</td>\n      <td>NaN</td>\n      <td>Kansas City</td>\n      <td>MO</td>\n      <td>False</td>\n      <td>attack</td>\n      <td>Not fleeing</td>\n      <td>False</td>\n    </tr>\n    <tr>\n      <th>2531</th>\n      <td>2813.0</td>\n      <td>TK TK</td>\n      <td>28/07/17</td>\n      <td>shot</td>\n      <td>vehicle</td>\n      <td>31.153846</td>\n      <td>M</td>\n      <td>NaN</td>\n      <td>Albuquerque</td>\n      <td>NM</td>\n      <td>False</td>\n      <td>attack</td>\n      <td>Car</td>\n      <td>False</td>\n    </tr>\n    <tr>\n      <th>2532</th>\n      <td>2818.0</td>\n      <td>Dennis W. Robinson</td>\n      <td>29/07/17</td>\n      <td>shot</td>\n      <td>gun</td>\n      <td>48.000000</td>\n      <td>M</td>\n      <td>NaN</td>\n      <td>Melba</td>\n      <td>ID</td>\n      <td>False</td>\n      <td>attack</td>\n      <td>Car</td>\n      <td>False</td>\n    </tr>\n    <tr>\n      <th>2533</th>\n      <td>2817.0</td>\n      <td>Isaiah Tucker</td>\n      <td>31/07/17</td>\n      <td>shot</td>\n      <td>vehicle</td>\n      <td>28.000000</td>\n      <td>M</td>\n      <td>B</td>\n      <td>Oshkosh</td>\n      <td>WI</td>\n      <td>False</td>\n      <td>attack</td>\n      <td>Car</td>\n      <td>True</td>\n    </tr>\n    <tr>\n      <th>2534</th>\n      <td>2815.0</td>\n      <td>Dwayne Jeune</td>\n      <td>31/07/17</td>\n      <td>shot</td>\n      <td>knife</td>\n      <td>32.000000</td>\n      <td>M</td>\n      <td>B</td>\n      <td>Brooklyn</td>\n      <td>NY</td>\n      <td>True</td>\n      <td>attack</td>\n      <td>Not fleeing</td>\n      <td>False</td>\n    </tr>\n  </tbody>\n</table>\n<p>2535 rows × 14 columns</p>\n</div>"
     },
     "execution_count": 265,
     "metadata": {},
     "output_type": "execute_result"
    }
   ],
   "source": [
    "\"\"\"\n",
    "We noticed there were missing values for 'armed' and 'flee'. For these, we imputed the most frequent data that appeared.\n",
    "These are listed in the variables flee_mode and armed_mode\n",
    "\"\"\"\n",
    "flee_mode = df_total['flee'].agg(pd.Series.mode).values.tolist()[0]\n",
    "armed_mode = df_total['armed'].agg(pd.Series.mode).values.tolist()[0]\n",
    "df_total['flee'].fillna(flee_mode, inplace=True)\n",
    "df_total['armed'].fillna(armed_mode, inplace=True)\n",
    "df_total"
   ],
   "metadata": {
    "collapsed": false,
    "pycharm": {
     "name": "#%%\n"
    }
   }
  }
 ],
 "metadata": {
  "kernelspec": {
   "display_name": "Python 3",
   "language": "python",
   "name": "python3"
  },
  "language_info": {
   "codemirror_mode": {
    "name": "ipython",
    "version": 2
   },
   "file_extension": ".py",
   "mimetype": "text/x-python",
   "name": "python",
   "nbconvert_exporter": "python",
   "pygments_lexer": "ipython2",
   "version": "2.7.6"
  }
 },
 "nbformat": 4,
 "nbformat_minor": 0
}